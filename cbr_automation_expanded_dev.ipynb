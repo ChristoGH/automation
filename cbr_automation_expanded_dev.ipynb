{
 "cells": [
  {
   "cell_type": "markdown",
   "metadata": {},
   "source": [
    "C:\\Users\\christo.strydom\\github_repos\\automation\\CBR\\Copy of 20210104_Master_Gap_CBR_LE_CS.xlsx"
   ]
  },
  {
   "cell_type": "code",
   "execution_count": 1,
   "metadata": {},
   "outputs": [],
   "source": [
    "import glob"
   ]
  },
  {
   "cell_type": "code",
   "execution_count": 2,
   "metadata": {},
   "outputs": [],
   "source": [
    "import os, os.path\n",
    "from os import listdir\n",
    "from os.path import isfile, join"
   ]
  },
  {
   "cell_type": "code",
   "execution_count": 3,
   "metadata": {},
   "outputs": [],
   "source": [
    "import pandas as pd\n",
    "import openpyxl\n",
    "import win32com.client"
   ]
  },
  {
   "cell_type": "code",
   "execution_count": 4,
   "metadata": {},
   "outputs": [],
   "source": [
    "from datetime import datetime, timedelta\n",
    "from dateutil.relativedelta import *"
   ]
  },
  {
   "cell_type": "code",
   "execution_count": 5,
   "metadata": {},
   "outputs": [],
   "source": [
    "import calendar\n",
    "import dateutil.parser"
   ]
  },
  {
   "cell_type": "code",
   "execution_count": 6,
   "metadata": {},
   "outputs": [],
   "source": [
    "def add_months(sourcedate, months):\n",
    "    month = sourcedate.month - 1 + months\n",
    "    year = sourcedate.year + month // 12\n",
    "    month = month % 12 + 1\n",
    "    day = min(sourcedate.day, calendar.monthrange(year,month)[1])\n",
    "    return datetime.date(year, month, day)\n",
    "\n",
    "def last_day_of_month_fn(any_day):\n",
    "    # this will never fail\n",
    "    # get close to the end of the month for any day, and add 4 days 'over'\n",
    "    next_month = any_day.replace(day=28) + timedelta(days=4)\n",
    "    # subtract the number of remaining 'overage' days to get last day of current month, or said programattically said, the previous day of the first of next month\n",
    "    return next_month - timedelta(days=next_month.day)"
   ]
  },
  {
   "cell_type": "code",
   "execution_count": 7,
   "metadata": {},
   "outputs": [],
   "source": [
    "# path=\"C:\\\\Users\\\\christo.strydom\\\\github_repos\\\\automation\\\\OWLS_data\\\\\"\n",
    "# owls_claims='Claim_Raw_new.csv' # fixed dates.\n",
    "# owls_members='Active_Listing_Raw.csv' # \n",
    "# owls_terminations='terminations_raw.csv'\n",
    "# owls_received_claims='received_claims.csv'"
   ]
  },
  {
   "cell_type": "code",
   "execution_count": 8,
   "metadata": {},
   "outputs": [],
   "source": [
    "data_path=\"C:\\\\Users\\\\christo.strydom\\\\github_repos\\\\automation\\\\CBR\\\\data\\\\\"\n",
    "report_path=\"C:\\\\Users\\\\christo.strydom\\\\github_repos\\\\automation\\\\CBR\\\\reports\\\\\"\n",
    "path, dirs, files = next(os.walk(data_path))\n",
    "file_count = len(files)"
   ]
  },
  {
   "cell_type": "code",
   "execution_count": 9,
   "metadata": {},
   "outputs": [
    {
     "data": {
      "text/plain": [
       "15"
      ]
     },
     "execution_count": 9,
     "metadata": {},
     "output_type": "execute_result"
    }
   ],
   "source": [
    "file_count"
   ]
  },
  {
   "cell_type": "code",
   "execution_count": 10,
   "metadata": {},
   "outputs": [],
   "source": [
    "onlyfiles = [f for f in listdir(data_path) if isfile(join(data_path, f))]"
   ]
  },
  {
   "cell_type": "code",
   "execution_count": 11,
   "metadata": {},
   "outputs": [],
   "source": [
    "# path=\"C:\\\\Users\\\\christo.strydom\\\\github_repos\\\\automation\\\\CBR\\\\\""
   ]
  },
  {
   "cell_type": "code",
   "execution_count": 12,
   "metadata": {},
   "outputs": [],
   "source": [
    "# mip_claims='mip_claims.csv'\n",
    "# mip_members='mip_members.csv'"
   ]
  },
  {
   "cell_type": "code",
   "execution_count": 13,
   "metadata": {},
   "outputs": [],
   "source": [
    "# owls_claims='Claim_Raw_new.csv' # fixed dates.\n",
    "owls_members='members_3FEB2021.csv' # \n",
    "owls_terminations='terminations_3FEB2021.csv'\n",
    "owls_received_claims='received_claims_3FEB2021.csv'"
   ]
  },
  {
   "cell_type": "code",
   "execution_count": 14,
   "metadata": {},
   "outputs": [],
   "source": [
    "# owls_claims='Claim_Raw_new.csv' # fixed dates.\n"
   ]
  },
  {
   "cell_type": "code",
   "execution_count": 15,
   "metadata": {},
   "outputs": [],
   "source": [
    "# owls_members='OWLS MEMBERS of 20210104_Master_Gap_CBR_LE_CS.csv'\n",
    "# owls_members_df=pd.read_csv(filepath_or_buffer=path+owls_members)"
   ]
  },
  {
   "cell_type": "code",
   "execution_count": 16,
   "metadata": {},
   "outputs": [],
   "source": [
    "# owls_members_df.to_csv(path_or_buf=path+\"owls_members.csv\",index=False)"
   ]
  },
  {
   "cell_type": "code",
   "execution_count": 17,
   "metadata": {},
   "outputs": [],
   "source": [
    "# mip_members_df=pd.read_csv(filepath_or_buffer=path+mip_members)"
   ]
  },
  {
   "cell_type": "code",
   "execution_count": 18,
   "metadata": {},
   "outputs": [],
   "source": [
    "# mip_claims_df=pd.read_csv(filepath_or_buffer=path+mip_claims)\n",
    "# mip_members_df=pd.read_csv(filepath_or_buffer=path+mip_members)"
   ]
  },
  {
   "cell_type": "code",
   "execution_count": 19,
   "metadata": {},
   "outputs": [
    {
     "name": "stderr",
     "output_type": "stream",
     "text": [
      "C:\\Users\\christo.strydom\\Anaconda3\\envs\\automation\\lib\\site-packages\\IPython\\core\\interactiveshell.py:3147: DtypeWarning: Columns (1,12,21) have mixed types.Specify dtype option on import or set low_memory=False.\n",
      "  interactivity=interactivity, compiler=compiler, result=result)\n"
     ]
    }
   ],
   "source": [
    "# owls_claims_df=pd.read_csv(filepath_or_buffer=path+owls_claims)\n",
    "owls_members_df=pd.read_csv(filepath_or_buffer=data_path+owls_members)\n",
    "owls_terminations_df=pd.read_csv(filepath_or_buffer=data_path+owls_terminations)\n",
    "owls_received_claims_df=pd.read_csv(filepath_or_buffer=data_path+owls_received_claims)\n",
    "# owls_terminations='terminations_raw.csv'\n",
    "# owls_received_claims='received_claims.csv'"
   ]
  },
  {
   "cell_type": "markdown",
   "metadata": {},
   "source": [
    "#### Date conversions"
   ]
  },
  {
   "cell_type": "markdown",
   "metadata": {},
   "source": [
    "owls_claims_df"
   ]
  },
  {
   "cell_type": "code",
   "execution_count": 20,
   "metadata": {},
   "outputs": [],
   "source": [
    "# owls_claims_df['fiscalperiod']=pd.to_datetime(owls_claims_df['fiscalperiod'], format='%Y/%m/%d', errors='ignore')\n",
    "# owls_claims_df['notificationdate']=pd.to_datetime(owls_claims_df['notificationdate'], format='%Y/%m/%d', errors='ignore')\n",
    "# owls_claims_df['incidentdate']=pd.to_datetime(owls_claims_df['incidentdate'], format='%Y/%m/%d', errors='ignore')\n",
    "# owls_claims_df['claimcreateddate']=pd.to_datetime(owls_claims_df['claimcreateddate'], format='%Y/%m/%d', errors='ignore')\n",
    "# owls_claims_df['inceptiondate']=pd.to_datetime(owls_claims_df['inceptiondate'], format='%m/%d/%Y', errors='ignore')\n",
    "# owls_claims_df['createddate']=pd.to_datetime(owls_claims_df['createddate'], format='%Y-%m-%d', errors='ignore')"
   ]
  },
  {
   "cell_type": "markdown",
   "metadata": {},
   "source": [
    "owls_members_df"
   ]
  },
  {
   "cell_type": "code",
   "execution_count": 21,
   "metadata": {},
   "outputs": [],
   "source": [
    "owls_members_df['policy_inceptiondate']=pd.to_datetime(owls_members_df['policy_inceptiondate'], format='%Y/%m/%d', errors='ignore')\n",
    "owls_members_df['policy_createddate']=pd.to_datetime(owls_members_df['policy_createddate'], format='%Y/%m/%d', errors='ignore')"
   ]
  },
  {
   "cell_type": "markdown",
   "metadata": {},
   "source": [
    "owls_terminations_df"
   ]
  },
  {
   "cell_type": "code",
   "execution_count": 22,
   "metadata": {},
   "outputs": [],
   "source": [
    "owls_terminations_df['policy_createddate']=pd.to_datetime(owls_terminations_df['policy_createddate'], format='%Y/%m/%d', errors='ignore')\n",
    "owls_terminations_df['policy_inceptiondate']=pd.to_datetime(owls_terminations_df['policy_inceptiondate'], format='%Y/%m/%d', errors='ignore')\n",
    "owls_terminations_df['policy_cancellationdate']=pd.to_datetime(owls_terminations_df['policy_cancellationdate'], format='%Y/%m/%d', errors='ignore')"
   ]
  },
  {
   "cell_type": "code",
   "execution_count": 23,
   "metadata": {},
   "outputs": [
    {
     "data": {
      "text/plain": [
       "0       2019-11-30\n",
       "1       2020-02-29\n",
       "2       2020-11-30\n",
       "3       2020-06-30\n",
       "4       2020-08-31\n",
       "           ...    \n",
       "60519   2020-10-31\n",
       "60520   2020-08-31\n",
       "60521   2020-09-30\n",
       "60522   2020-12-31\n",
       "60523   2020-12-31\n",
       "Name: policy_cancellationdate, Length: 60524, dtype: datetime64[ns]"
      ]
     },
     "execution_count": 23,
     "metadata": {},
     "output_type": "execute_result"
    }
   ],
   "source": [
    "owls_terminations_df['policy_cancellationdate']"
   ]
  },
  {
   "cell_type": "markdown",
   "metadata": {},
   "source": [
    "owls_received_claims_df"
   ]
  },
  {
   "cell_type": "markdown",
   "metadata": {},
   "source": [
    "Clean the Notification Date columns by removing nans and dates that are not recognised as dates.  Normalize all dates to a single format."
   ]
  },
  {
   "cell_type": "code",
   "execution_count": null,
   "metadata": {},
   "outputs": [],
   "source": []
  },
  {
   "cell_type": "code",
   "execution_count": 24,
   "metadata": {},
   "outputs": [],
   "source": [
    "# owls_received_claims_df['Created Date']=pd.to_datetime(owls_received_claims_df['Created Date'], format='%Y/%m/%d', errors='ignore')\n",
    "owls_received_claims_df['Notification Date']=pd.to_datetime(owls_received_claims_df['Notification Date'], format='%m/%d/%Y', errors='ignore')\n",
    "owls_received_claims_df['Policy Inception Date']=pd.to_datetime(owls_received_claims_df['Policy Inception Date'], format='%m/%d/%Y', errors='ignore')\n",
    "# owls_received_claims_df['Received Date']=pd.to_datetime(owls_received_claims_df['Received Date'], format='%m/%d/%Y', errors='ignore')"
   ]
  },
  {
   "cell_type": "code",
   "execution_count": 25,
   "metadata": {},
   "outputs": [],
   "source": [
    "# received_claims=owls_received_claims_df['Notification Date'].max()"
   ]
  },
  {
   "cell_type": "code",
   "execution_count": 26,
   "metadata": {},
   "outputs": [],
   "source": [
    "owls_received_claims_df['Notification Date']=pd.to_datetime(owls_received_claims_df['Notification Date'], format='%m/%d/%Y', errors='ignore')"
   ]
  },
  {
   "cell_type": "code",
   "execution_count": 27,
   "metadata": {},
   "outputs": [],
   "source": [
    "# remove nans:\n",
    "owls_received_claims_df=owls_received_claims_df[~owls_received_claims_df['Notification Date'].isna()].copy()"
   ]
  },
  {
   "cell_type": "code",
   "execution_count": 28,
   "metadata": {},
   "outputs": [],
   "source": [
    "owls_received_claims_df[['notification_date_1','notification_date_2', 'notification_date_3']]=owls_received_claims_df['Notification Date'].str.split('/',expand=True,)"
   ]
  },
  {
   "cell_type": "code",
   "execution_count": 29,
   "metadata": {},
   "outputs": [],
   "source": [
    "owls_received_claims_df=owls_received_claims_df[~pd.to_numeric(owls_received_claims_df['notification_date_1'],errors='coerce').isna()].copy()\n",
    "owls_received_claims_df=owls_received_claims_df[~pd.to_numeric(owls_received_claims_df['notification_date_2'],errors='coerce').isna()].copy()\n",
    "owls_received_claims_df=owls_received_claims_df[~pd.to_numeric(owls_received_claims_df['notification_date_3'],errors='coerce').isna()].copy()"
   ]
  },
  {
   "cell_type": "code",
   "execution_count": 30,
   "metadata": {},
   "outputs": [],
   "source": [
    "owls_received_claims_df.loc[owls_received_claims_df['notification_date_1'].str.len()==4,'notification_date_year']=owls_received_claims_df['notification_date_1']\n",
    "owls_received_claims_df.loc[owls_received_claims_df['notification_date_3'].str.len()==4,'notification_date_year']=owls_received_claims_df['notification_date_3']"
   ]
  },
  {
   "cell_type": "code",
   "execution_count": 31,
   "metadata": {},
   "outputs": [],
   "source": [
    "datestring=owls_received_claims_df['Notification Date'].iloc[-1]"
   ]
  },
  {
   "cell_type": "code",
   "execution_count": 32,
   "metadata": {},
   "outputs": [],
   "source": [
    "owls_received_claims_df['notification_date']=owls_received_claims_df.apply(lambda x: dateutil.parser.parse(x['Notification Date']), axis=1)"
   ]
  },
  {
   "cell_type": "code",
   "execution_count": 33,
   "metadata": {},
   "outputs": [],
   "source": [
    "owls_received_claims_df['som_notification_date']=owls_received_claims_df.apply(lambda x: datetime(x['notification_date'].year,x['notification_date'].month,1), axis=1)"
   ]
  },
  {
   "cell_type": "markdown",
   "metadata": {},
   "source": [
    "#### Create Date List and iterate_months"
   ]
  },
  {
   "cell_type": "code",
   "execution_count": 34,
   "metadata": {},
   "outputs": [],
   "source": [
    "today = datetime.today()\n",
    "months_ago = today + relativedelta(months=-12)\n",
    "som_months_ago = datetime(months_ago.year,months_ago.month,1)\n",
    "iterate_months=[som_months_ago+relativedelta(months=n) for n in range(12)]"
   ]
  },
  {
   "cell_type": "code",
   "execution_count": 35,
   "metadata": {},
   "outputs": [
    {
     "data": {
      "text/plain": [
       "[datetime.datetime(2020, 1, 1, 0, 0),\n",
       " datetime.datetime(2020, 2, 1, 0, 0),\n",
       " datetime.datetime(2020, 3, 1, 0, 0),\n",
       " datetime.datetime(2020, 4, 1, 0, 0),\n",
       " datetime.datetime(2020, 5, 1, 0, 0),\n",
       " datetime.datetime(2020, 6, 1, 0, 0),\n",
       " datetime.datetime(2020, 7, 1, 0, 0),\n",
       " datetime.datetime(2020, 8, 1, 0, 0),\n",
       " datetime.datetime(2020, 9, 1, 0, 0),\n",
       " datetime.datetime(2020, 10, 1, 0, 0),\n",
       " datetime.datetime(2020, 11, 1, 0, 0),\n",
       " datetime.datetime(2020, 12, 1, 0, 0),\n",
       " datetime.datetime(2021, 1, 1, 0, 0),\n",
       " datetime.datetime(2021, 2, 1, 0, 0)]"
      ]
     },
     "execution_count": 35,
     "metadata": {},
     "output_type": "execute_result"
    }
   ],
   "source": [
    "nmonths=13\n",
    "today = datetime.today()\n",
    "months_ago = today + relativedelta(months=-nmonths)\n",
    "som_months_ago = datetime(months_ago.year,months_ago.month,1)\n",
    "iterate_months=[som_months_ago+relativedelta(months=n) for n in range(nmonths+1)]\n",
    "iterate_months"
   ]
  },
  {
   "cell_type": "code",
   "execution_count": 36,
   "metadata": {},
   "outputs": [
    {
     "name": "stdout",
     "output_type": "stream",
     "text": [
      "1 2020-02-01 00:00:00\n",
      "2 2020-03-01 00:00:00\n",
      "3 2020-04-01 00:00:00\n",
      "4 2020-05-01 00:00:00\n",
      "5 2020-06-01 00:00:00\n",
      "6 2020-07-01 00:00:00\n",
      "7 2020-08-01 00:00:00\n",
      "8 2020-09-01 00:00:00\n",
      "9 2020-10-01 00:00:00\n",
      "10 2020-11-01 00:00:00\n",
      "11 2020-12-01 00:00:00\n",
      "12 2021-01-01 00:00:00\n"
     ]
    }
   ],
   "source": [
    "for i in range(1,len(iterate_months)-1):\n",
    "    print(i,iterate_months[i])"
   ]
  },
  {
   "cell_type": "code",
   "execution_count": 37,
   "metadata": {},
   "outputs": [],
   "source": [
    "datelist=list(set(owls_terminations_df['policy_inceptiondate']))\n",
    "datelist.sort()\n",
    "# datelist.append(add_months(max(datelist),1))\n",
    "# dates=pd.date_range(min(datelist),add_months(max(datelist),1), freq='1M')-pd.offsets.MonthBegin(1)"
   ]
  },
  {
   "cell_type": "code",
   "execution_count": 38,
   "metadata": {},
   "outputs": [],
   "source": [
    "# dates=pd.date_range(min(dates),add_months(max(dates),1), freq='1M')-pd.offsets.MonthBegin(1)"
   ]
  },
  {
   "cell_type": "markdown",
   "metadata": {},
   "source": [
    "#### Create Product List"
   ]
  },
  {
   "cell_type": "code",
   "execution_count": 39,
   "metadata": {},
   "outputs": [],
   "source": [
    "f=~owls_terminations_df['productsetup_productsetupname'].isna()\n",
    "product_list=list(set(owls_terminations_df[f]['productsetup_productsetupname']))"
   ]
  },
  {
   "cell_type": "code",
   "execution_count": 40,
   "metadata": {},
   "outputs": [
    {
     "data": {
      "text/plain": [
       "['Sanlam Gap',\n",
       " 'Centriq Cancer',\n",
       " 'MedExpense',\n",
       " 'Western Gap',\n",
       " 'Western Gap Care',\n",
       " 'Kaelo Gap']"
      ]
     },
     "execution_count": 40,
     "metadata": {},
     "output_type": "execute_result"
    }
   ],
   "source": [
    "product_list"
   ]
  },
  {
   "cell_type": "code",
   "execution_count": 41,
   "metadata": {},
   "outputs": [],
   "source": [
    "members_live_filter=(owls_members_df['policy_status']=='Live')\n",
    "ntu_filter=owls_terminations_df['policy_status']=='Not Taken Up'\n",
    "cancelations_filter=owls_terminations_df['policy_status']=='Cancelled'\n",
    "pay_now_filter=owls_received_claims_df['Progress']=='Approve, Pay Now'\n",
    "reject_claims_filter=owls_received_claims_df['Progress']=='Reject'\n",
    "outstanding_claims_filter=owls_received_claims_df['Status']=='Outstanding docs received - sent to processing'\n",
    "\n",
    "# owls_members_live_filter=owls_members_df['policy_status']=='Live'\n",
    "# Received_Claims! 𝐾: K,\"Reject\"\n",
    "# Received_Claims!$K:$K,\"Approve, Pay now\")"
   ]
  },
  {
   "cell_type": "code",
   "execution_count": 42,
   "metadata": {},
   "outputs": [],
   "source": [
    "# owls_received_claims_df[outstanding_claims_filter]"
   ]
  },
  {
   "cell_type": "markdown",
   "metadata": {},
   "source": [
    "### Sanlam Split"
   ]
  },
  {
   "cell_type": "code",
   "execution_count": 43,
   "metadata": {},
   "outputs": [],
   "source": [
    "# owls_members_df['policy_paymentmethod']\n",
    "owls_members_df=owls_members_df[['policy_policynumber','policygroup_policygroupname','policy_paymentmethod','policy_grosspremium','policy_status','policy_totalpremium','productsetup_productsetupname','policy_inceptiondate']].copy()\n",
    "owls_terminations_df=owls_terminations_df[['policy_policynumber','policy_paymentmethod','policy_totalpremium','productsetup_productsetupname','policy_inceptiondate','policy_cancellationdate']].copy()\n",
    "owls_received_claims_df=owls_received_claims_df[['Claim Number','Total Payments','Notification Date','productsetupname','som_notification_date','Original Reserve','notification_date']].copy()"
   ]
  },
  {
   "cell_type": "code",
   "execution_count": 44,
   "metadata": {},
   "outputs": [],
   "source": [
    "owls_members_df['sanlam_split']=''\n",
    "f=owls_members_df['policy_paymentmethod']=='Debit'\n",
    "g=(owls_members_df['policy_paymentmethod']!='Debit')&(owls_members_df['policy_paymentmethod']!='')\n",
    "owls_members_df.loc[f, 'sanlam_split']=owls_members_df['productsetup_productsetupname'] + ' - Individual'\n",
    "owls_members_df.loc[g, 'sanlam_split']=owls_members_df['productsetup_productsetupname'] + ' - Corporate'"
   ]
  },
  {
   "cell_type": "code",
   "execution_count": 45,
   "metadata": {},
   "outputs": [],
   "source": [
    "owls_terminations_df['sanlam_split']=''\n",
    "f=owls_terminations_df['policy_paymentmethod']=='Debit'\n",
    "g=(owls_terminations_df['policy_paymentmethod']!='Debit')&(owls_terminations_df['policy_paymentmethod']!='')\n",
    "owls_terminations_df.loc[f, 'sanlam_split']=owls_terminations_df['productsetup_productsetupname'] + ' - Individual'\n",
    "owls_terminations_df.loc[g, 'sanlam_split']=owls_terminations_df['productsetup_productsetupname'] + ' - Corporate'"
   ]
  },
  {
   "cell_type": "code",
   "execution_count": 46,
   "metadata": {},
   "outputs": [],
   "source": [
    "owls_received_claims_df[['policy_policynumber_a','policy_policynumber_b']]=owls_received_claims_df['Claim Number'].str.split(\"/\",expand = True)"
   ]
  },
  {
   "cell_type": "code",
   "execution_count": 47,
   "metadata": {},
   "outputs": [],
   "source": [
    "# owls_received_claims_df[['policy_policynumber_a','policy_policynumber_b']]\n",
    "owls_received_claims_df.policy_policynumber_a = owls_received_claims_df.policy_policynumber_a.str.strip()"
   ]
  },
  {
   "cell_type": "code",
   "execution_count": 48,
   "metadata": {},
   "outputs": [],
   "source": [
    "df1=owls_received_claims_df.merge(owls_members_df[['policy_policynumber','sanlam_split']], left_on= 'policy_policynumber_a', right_on='policy_policynumber', how='left')"
   ]
  },
  {
   "cell_type": "code",
   "execution_count": 49,
   "metadata": {},
   "outputs": [
    {
     "data": {
      "text/plain": [
       "(61528, 11)"
      ]
     },
     "execution_count": 49,
     "metadata": {},
     "output_type": "execute_result"
    }
   ],
   "source": [
    "df1[~df1['sanlam_split'].isna()].shape"
   ]
  },
  {
   "cell_type": "code",
   "execution_count": 50,
   "metadata": {},
   "outputs": [],
   "source": [
    "df2=owls_received_claims_df.merge(owls_terminations_df[['policy_policynumber','sanlam_split']], left_on= 'policy_policynumber_a', right_on='policy_policynumber', how='left')"
   ]
  },
  {
   "cell_type": "code",
   "execution_count": 51,
   "metadata": {},
   "outputs": [
    {
     "data": {
      "text/plain": [
       "(17965, 11)"
      ]
     },
     "execution_count": 51,
     "metadata": {},
     "output_type": "execute_result"
    }
   ],
   "source": [
    "df2[~df2['sanlam_split'].isna()].shape"
   ]
  },
  {
   "cell_type": "code",
   "execution_count": 52,
   "metadata": {},
   "outputs": [
    {
     "data": {
      "text/plain": [
       "(80606, 11)"
      ]
     },
     "execution_count": 52,
     "metadata": {},
     "output_type": "execute_result"
    }
   ],
   "source": [
    "df1.shape"
   ]
  },
  {
   "cell_type": "code",
   "execution_count": 53,
   "metadata": {},
   "outputs": [
    {
     "data": {
      "text/plain": [
       "79493"
      ]
     },
     "execution_count": 53,
     "metadata": {},
     "output_type": "execute_result"
    }
   ],
   "source": [
    "df1[~df1.sanlam_split.isna()].shape[0]+df2[~df2.sanlam_split.isna()].shape[0]"
   ]
  },
  {
   "cell_type": "code",
   "execution_count": 54,
   "metadata": {},
   "outputs": [
    {
     "data": {
      "text/plain": [
       "(17965, 11)"
      ]
     },
     "execution_count": 54,
     "metadata": {},
     "output_type": "execute_result"
    }
   ],
   "source": [
    "df2[~df2.sanlam_split.isna()].shape"
   ]
  },
  {
   "cell_type": "code",
   "execution_count": 55,
   "metadata": {},
   "outputs": [],
   "source": [
    "gf=df1.append(df2, ignore_index = True) "
   ]
  },
  {
   "cell_type": "code",
   "execution_count": 56,
   "metadata": {},
   "outputs": [
    {
     "data": {
      "text/plain": [
       "{'Kaelo Gap - Corporate',\n",
       " 'Kaelo Gap - Individual',\n",
       " 'MedExpense - Corporate',\n",
       " 'MedExpense - Individual',\n",
       " 'Sanlam Gap - Corporate',\n",
       " 'Sanlam Gap - Individual',\n",
       " 'Western Gap - Corporate',\n",
       " 'Western Gap - Individual',\n",
       " 'Western Gap Care - Corporate',\n",
       " 'Western Gap Care - Individual',\n",
       " nan}"
      ]
     },
     "execution_count": 56,
     "metadata": {},
     "output_type": "execute_result"
    }
   ],
   "source": [
    "set(gf['sanlam_split'])"
   ]
  },
  {
   "cell_type": "code",
   "execution_count": 57,
   "metadata": {},
   "outputs": [
    {
     "data": {
      "text/plain": [
       "(79493, 11)"
      ]
     },
     "execution_count": 57,
     "metadata": {},
     "output_type": "execute_result"
    }
   ],
   "source": [
    "gf[~gf['sanlam_split'].isna()].shape"
   ]
  },
  {
   "cell_type": "code",
   "execution_count": 58,
   "metadata": {},
   "outputs": [
    {
     "data": {
      "text/plain": [
       "[datetime.datetime(2020, 1, 1, 0, 0),\n",
       " datetime.datetime(2020, 2, 1, 0, 0),\n",
       " datetime.datetime(2020, 3, 1, 0, 0),\n",
       " datetime.datetime(2020, 4, 1, 0, 0),\n",
       " datetime.datetime(2020, 5, 1, 0, 0),\n",
       " datetime.datetime(2020, 6, 1, 0, 0),\n",
       " datetime.datetime(2020, 7, 1, 0, 0),\n",
       " datetime.datetime(2020, 8, 1, 0, 0),\n",
       " datetime.datetime(2020, 9, 1, 0, 0),\n",
       " datetime.datetime(2020, 10, 1, 0, 0),\n",
       " datetime.datetime(2020, 11, 1, 0, 0),\n",
       " datetime.datetime(2020, 12, 1, 0, 0),\n",
       " datetime.datetime(2021, 1, 1, 0, 0)]"
      ]
     },
     "execution_count": 58,
     "metadata": {},
     "output_type": "execute_result"
    }
   ],
   "source": [
    "iterate_months[0:-1]"
   ]
  },
  {
   "cell_type": "markdown",
   "metadata": {},
   "source": [
    "***"
   ]
  },
  {
   "cell_type": "markdown",
   "metadata": {},
   "source": [
    "### Kaelo Gap"
   ]
  },
  {
   "cell_type": "code",
   "execution_count": 59,
   "metadata": {},
   "outputs": [],
   "source": [
    "owls_terminations_temp_df=owls_terminations_df.copy()"
   ]
  },
  {
   "cell_type": "code",
   "execution_count": 60,
   "metadata": {},
   "outputs": [],
   "source": [
    "product='Kaelo Gap'"
   ]
  },
  {
   "cell_type": "code",
   "execution_count": 61,
   "metadata": {},
   "outputs": [],
   "source": [
    "max_date=max([owls_members_df['policy_inceptiondate'].max(),owls_terminations_df['policy_inceptiondate'].max(),owls_terminations_df['policy_cancellationdate'].max()])\n",
    "# policy_inceptiondate,policy_cancellationdate"
   ]
  },
  {
   "cell_type": "code",
   "execution_count": 62,
   "metadata": {},
   "outputs": [],
   "source": [
    "owls_members_df=owls_members_df[['policy_grosspremium','policy_status','policy_totalpremium','productsetup_productsetupname','policy_inceptiondate']].copy()\n",
    "owls_terminations_df=owls_terminations_df[['policy_totalpremium','productsetup_productsetupname','policy_inceptiondate','policy_cancellationdate']].copy()\n",
    "owls_received_claims_df=owls_received_claims_df[['Total Payments','Notification Date','productsetupname','som_notification_date','Original Reserve','notification_date']].copy()"
   ]
  },
  {
   "cell_type": "code",
   "execution_count": 63,
   "metadata": {},
   "outputs": [],
   "source": [
    "terminations_product_filter=owls_terminations_df['productsetup_productsetupname']==product\n",
    "members_product_filter=(owls_members_df['productsetup_productsetupname']==product)\n",
    "claims_received_product_filter=(owls_received_claims_df['productsetupname']==product)\n",
    "# product_filter=(owls_members_df['productsetup_productsetupname']==product)\n",
    "# live_filter=(owls_members_df['policy_status']=='Live')"
   ]
  },
  {
   "cell_type": "markdown",
   "metadata": {},
   "source": [
    "Count live policies and calculate gross premium:"
   ]
  },
  {
   "cell_type": "code",
   "execution_count": 64,
   "metadata": {},
   "outputs": [],
   "source": [
    "live_df=owls_members_df[members_live_filter&members_product_filter]\n",
    "live_policies=live_df.shape[0]\n",
    "live_df=owls_members_df[members_live_filter&members_product_filter]\n",
    "live_policies_grosspremium=live_df['policy_totalpremium'].sum()"
   ]
  },
  {
   "cell_type": "markdown",
   "metadata": {},
   "source": [
    "Active Policies"
   ]
  },
  {
   "cell_type": "markdown",
   "metadata": {},
   "source": [
    "There are three components to counting policies.\n",
    " - count only active policies\n",
    " \n"
   ]
  },
  {
   "cell_type": "markdown",
   "metadata": {},
   "source": [
    " - COUNTIFS(Active_Listing_Raw!$I:$I,\"Live\",Active_Listing_Raw!$D:$D,Summary!$C$2)- \n",
    " - COUNTIFS(Active_Listing_Raw!$G:$G,\">\"&Summary!AC5,Active_Listing_Raw!$D:$D,Summary!$C$2)+\n",
    " - COUNTIFS(Terminations_Raw!$AF:$AF,\">\"&Summary!AD5, #\n",
    " - Terminations_Raw!$AG:$AG,\">\"&Summary!AB5,Terminations_Raw!$D:$D,Summary!$C$2)"
   ]
  },
  {
   "cell_type": "code",
   "execution_count": 65,
   "metadata": {},
   "outputs": [
    {
     "name": "stdout",
     "output_type": "stream",
     "text": [
      "COUNTIFS(Terminations_Raw!$AF:$AF,\"<\"&Summary!AD5,Terminations_Raw!$AG:$AG,\">\"&Summary!AB5,Active_Listing_Raw!$D:$D,Summary!$C$2)\n"
     ]
    }
   ],
   "source": [
    "print('COUNTIFS(Terminations_Raw!$AF:$AF,\"<\"&Summary!AD5,Terminations_Raw!$AG:$AG,\">\"&Summary!AB5,Active_Listing_Raw!$D:$D,Summary!$C$2)')"
   ]
  },
  {
   "cell_type": "markdown",
   "metadata": {},
   "source": [
    " - Terminations_Raw!$AF:$AF,\"<\"&Summary!AD5 : all policies with inception date () __BEFORE__ the start of the next month __and__\n",
    " - Terminations_Raw!$AG:$AG,\">\"&Summary!AB5 : all policies with termination date __AFTER__ the start of the previous month __and__\n",
    " - Active_Listing_Raw!$D:$D,Summary!$C$2 : policies of this product"
   ]
  },
  {
   "cell_type": "markdown",
   "metadata": {},
   "source": [
    "### Active Policies"
   ]
  },
  {
   "cell_type": "markdown",
   "metadata": {},
   "source": [
    "***\n",
    "The number of __Active policies__ contain three items. For those policies of the specified product:\n",
    " - __Live Policies__: Count \"live\" policies only, that is where policy_status='live', this covers all data. This number is constant for all periods as it is only calculated on the latest complete data set and is not done on a by period basis.  To calculate for a particular period the dataset adjusted by doing the following:\n",
    " - __New Inactive Policies__: (Subtract) all policies that have inception date from the next period onwards.\n",
    " - __Active Terminated Policies__: (Add back) all __terminated__ policies that had inception date (policy_inceptiondate) __BEFORE__ the start of the next period and where the termination date (policy_cancellationdate) is __AFTER__ the start of the previous period\n",
    " - The previous period __New Inactive Policies__ MINUS the currrent period __New Inactive Policies__ yield the current period __New Policies__."
   ]
  },
  {
   "cell_type": "code",
   "execution_count": 66,
   "metadata": {},
   "outputs": [],
   "source": [
    "\n",
    "# date_filter=owls_members_df['policy_inceptiondate']>datelist[-3]"
   ]
  },
  {
   "cell_type": "code",
   "execution_count": 67,
   "metadata": {},
   "outputs": [],
   "source": [
    "# terminations_policy_inceptiondate_filter=owls_terminations_df['policy_inceptiondate']<iterate_months[i+1]"
   ]
  },
  {
   "cell_type": "code",
   "execution_count": 68,
   "metadata": {},
   "outputs": [
    {
     "name": "stdout",
     "output_type": "stream",
     "text": [
      "1 2020-02-01 00:00:00\n",
      "i =  1 ; month:  2020-02-01 00:00:00 23153 ; active_policies:  54670 ; live_policies:  51479 ; new_policies:  4707  valid_terminations:  7898\n",
      "2 2020-03-01 00:00:00\n",
      "i =  2 ; month:  2020-03-01 00:00:00 21032 ; active_policies:  53963 ; live_policies:  51479 ; new_policies:  4270  valid_terminations:  6754\n",
      "3 2020-04-01 00:00:00\n",
      "i =  3 ; month:  2020-04-01 00:00:00 18835 ; active_policies:  53577 ; live_policies:  51479 ; new_policies:  3905  valid_terminations:  6003\n",
      "4 2020-05-01 00:00:00\n",
      "i =  4 ; month:  2020-05-01 00:00:00 16851 ; active_policies:  53183 ; live_policies:  51479 ; new_policies:  3647  valid_terminations:  5351\n",
      "5 2020-06-01 00:00:00\n",
      "i =  5 ; month:  2020-06-01 00:00:00 15205 ; active_policies:  52833 ; live_policies:  51479 ; new_policies:  3450  valid_terminations:  4804\n",
      "6 2020-07-01 00:00:00\n",
      "i =  6 ; month:  2020-07-01 00:00:00 13629 ; active_policies:  53113 ; live_policies:  51479 ; new_policies:  2570  valid_terminations:  4204\n",
      "7 2020-08-01 00:00:00\n",
      "i =  7 ; month:  2020-08-01 00:00:00 12020 ; active_policies:  52687 ; live_policies:  51479 ; new_policies:  2310  valid_terminations:  3518\n",
      "8 2020-09-01 00:00:00\n",
      "i =  8 ; month:  2020-09-01 00:00:00 10359 ; active_policies:  52799 ; live_policies:  51479 ; new_policies:  1653  valid_terminations:  2973\n",
      "9 2020-10-01 00:00:00\n",
      "i =  9 ; month:  2020-10-01 00:00:00 8733 ; active_policies:  52546 ; live_policies:  51479 ; new_policies:  1313  valid_terminations:  2380\n",
      "10 2020-11-01 00:00:00\n",
      "i =  10 ; month:  2020-11-01 00:00:00 7417 ; active_policies:  52261 ; live_policies:  51479 ; new_policies:  1060  valid_terminations:  1842\n",
      "11 2020-12-01 00:00:00\n",
      "i =  11 ; month:  2020-12-01 00:00:00 6106 ; active_policies:  52153 ; live_policies:  51479 ; new_policies:  778  valid_terminations:  1452\n",
      "12 2021-01-01 00:00:00\n",
      "i =  12 ; month:  2021-01-01 00:00:00 4899 ; active_policies:  52423 ; live_policies:  51479 ; new_policies:  170  valid_terminations:  1114\n"
     ]
    }
   ],
   "source": [
    "# terminations_product_filter=owls_terminations_df['productsetup_productsetupname']==product\n",
    "live_policies_list=[]\n",
    "new_policies_list=[]\n",
    "active_policies_list=[]\n",
    "valid_terminations_list=[]\n",
    "for i in range(1,len(iterate_months)-1):\n",
    "    print(i,iterate_months[i])\n",
    "\n",
    "    members_date_filter=owls_members_df['policy_inceptiondate']>iterate_months[i]\n",
    "    new_policies_df=owls_members_df[members_date_filter&members_product_filter]\n",
    "    new_policies=new_policies_df.shape[0]\n",
    "    terminations_policy_inceptiondate_filter=owls_terminations_df['policy_inceptiondate']<=max_date #iterate_months[i+1]\n",
    "    terminations_policy_cancellationdate_filter=owls_terminations_df['policy_cancellationdate']>iterate_months[i-1]\n",
    "    valid_terminations_filter=(terminations_policy_inceptiondate_filter&terminations_policy_cancellationdate_filter&terminations_product_filter)\n",
    "    valid_terminations_df=owls_terminations_df[valid_terminations_filter]\n",
    "    valid_terminations=valid_terminations_df.shape[0]\n",
    "    active_policies=live_policies-new_policies+valid_terminations    \n",
    "    print('i = ',i,'; month: ', iterate_months[i],owls_terminations_df[terminations_policy_cancellationdate_filter].shape[0],'; active_policies: ',active_policies,'; live_policies: ',live_policies,'; new_policies: ',new_policies, ' valid_terminations: ',valid_terminations)\n",
    "    live_policies_list.append(live_policies)\n",
    "    new_policies_list.append(new_policies)\n",
    "    valid_terminations_list.append(valid_terminations)\n",
    "    active_policies_list.append(active_policies)"
   ]
  },
  {
   "cell_type": "markdown",
   "metadata": {},
   "source": [
    "### Gross Premium"
   ]
  },
  {
   "cell_type": "markdown",
   "metadata": {},
   "source": [
    " - COUNTIFS(Active_Listing_Raw!$I:$I,\"Live\",Active_Listing_Raw!$D:$D,Summary!$C$2)- \n",
    " - COUNTIFS(Active_Listing_Raw!$G:$G,\">\"&Summary!AC5,Active_Listing_Raw!$D:$D,Summary!$C$2)+\n",
    " - COUNTIFS(Terminations_Raw!$AF:$AF,\">\"&Summary!AD5, #\n",
    " - Terminations_Raw!$AG:$AG,\">\"&Summary!AB5,Terminations_Raw!$D:$D,Summary!$C$2)"
   ]
  },
  {
   "cell_type": "markdown",
   "metadata": {},
   "source": [
    " - SUMIFS(Active_Listing_Raw!$AE:$AE,Active_Listing_Raw!$I:$I,\"Live\",Active_Listing_Raw!$D:$D,Summary!$C$2)\n",
    " - SUMIFS(Active_Listing_Raw!$AE:$AE,Active_Listing_Raw!$G:$G,\">\"&Summary!X5,Active_Listing_Raw!$D:$D,Summary!$C$2)\n",
    " - SUMIFS(Terminations_Raw!$AD:$AD,Terminations_Raw!$AF:$AF,\"<\"&Summary!Z5,Terminations_Raw!$AG:$AG,\">\"&Summary!W5,Terminations_Raw!$D:$D,Summary!$C$2)"
   ]
  },
  {
   "cell_type": "markdown",
   "metadata": {},
   "source": [
    "__ Notice the descrepancy here.  In calculating the number of valid terminated policies the excel spreadsheet conditions on AF  being later than "
   ]
  },
  {
   "cell_type": "code",
   "execution_count": 69,
   "metadata": {},
   "outputs": [
    {
     "name": "stdout",
     "output_type": "stream",
     "text": [
      "1 2020-02-01 00:00:00\n",
      "i =  1 ; month:  2020-02-01 00:00:00 ; iterate_months[i-1]:  2020-01-01 00:00:00 ; active_policies_grosspremium:  12078245.19 ; live_policies_grosspremium:  11313632.0 ; new_policies_grosspremium:  1031206.0  valid_policies_grosspremium:  1795819.19\n",
      "2 2020-03-01 00:00:00\n",
      "i =  2 ; month:  2020-03-01 00:00:00 ; iterate_months[i-1]:  2020-02-01 00:00:00 ; active_policies_grosspremium:  11905439.969999999 ; live_policies_grosspremium:  11313632.0 ; new_policies_grosspremium:  930259.0  valid_policies_grosspremium:  1522066.9699999997\n",
      "3 2020-04-01 00:00:00\n",
      "i =  3 ; month:  2020-04-01 00:00:00 ; iterate_months[i-1]:  2020-03-01 00:00:00 ; active_policies_grosspremium:  11823870.33 ; live_policies_grosspremium:  11313632.0 ; new_policies_grosspremium:  850119.0  valid_policies_grosspremium:  1360357.3299999998\n",
      "4 2020-05-01 00:00:00\n",
      "i =  4 ; month:  2020-05-01 00:00:00 ; iterate_months[i-1]:  2020-04-01 00:00:00 ; active_policies_grosspremium:  11758113.39 ; live_policies_grosspremium:  11313632.0 ; new_policies_grosspremium:  789141.0  valid_policies_grosspremium:  1233622.39\n",
      "5 2020-06-01 00:00:00\n",
      "i =  5 ; month:  2020-06-01 00:00:00 ; iterate_months[i-1]:  2020-05-01 00:00:00 ; active_policies_grosspremium:  11686824.16 ; live_policies_grosspremium:  11313632.0 ; new_policies_grosspremium:  737212.0  valid_policies_grosspremium:  1110404.16\n",
      "6 2020-07-01 00:00:00\n",
      "i =  6 ; month:  2020-07-01 00:00:00 ; iterate_months[i-1]:  2020-06-01 00:00:00 ; active_policies_grosspremium:  11740444.18 ; live_policies_grosspremium:  11313632.0 ; new_policies_grosspremium:  575721.0  valid_policies_grosspremium:  1002533.1799999999\n",
      "7 2020-08-01 00:00:00\n",
      "i =  7 ; month:  2020-08-01 00:00:00 ; iterate_months[i-1]:  2020-07-01 00:00:00 ; active_policies_grosspremium:  11670394.49 ; live_policies_grosspremium:  11313632.0 ; new_policies_grosspremium:  504860.0  valid_policies_grosspremium:  861622.49\n",
      "8 2020-09-01 00:00:00\n",
      "i =  8 ; month:  2020-09-01 00:00:00 ; iterate_months[i-1]:  2020-08-01 00:00:00 ; active_policies_grosspremium:  11640067.57 ; live_policies_grosspremium:  11313632.0 ; new_policies_grosspremium:  427759.0  valid_policies_grosspremium:  754194.5700000001\n",
      "9 2020-10-01 00:00:00\n",
      "i =  9 ; month:  2020-10-01 00:00:00 ; iterate_months[i-1]:  2020-09-01 00:00:00 ; active_policies_grosspremium:  11602842.04 ; live_policies_grosspremium:  11313632.0 ; new_policies_grosspremium:  336498.0  valid_policies_grosspremium:  625708.04\n",
      "10 2020-11-01 00:00:00\n",
      "i =  10 ; month:  2020-11-01 00:00:00 ; iterate_months[i-1]:  2020-10-01 00:00:00 ; active_policies_grosspremium:  11533802.79 ; live_policies_grosspremium:  11313632.0 ; new_policies_grosspremium:  275324.0  valid_policies_grosspremium:  495494.79000000004\n",
      "11 2020-12-01 00:00:00\n",
      "i =  11 ; month:  2020-12-01 00:00:00 ; iterate_months[i-1]:  2020-11-01 00:00:00 ; active_policies_grosspremium:  11508894.8 ; live_policies_grosspremium:  11313632.0 ; new_policies_grosspremium:  204326.0  valid_policies_grosspremium:  399588.80000000005\n",
      "12 2021-01-01 00:00:00\n",
      "i =  12 ; month:  2021-01-01 00:00:00 ; iterate_months[i-1]:  2020-12-01 00:00:00 ; active_policies_grosspremium:  11580264.55 ; live_policies_grosspremium:  11313632.0 ; new_policies_grosspremium:  48179.0  valid_policies_grosspremium:  314811.55000000005\n"
     ]
    }
   ],
   "source": [
    "live_policies_grosspremium_list=[]\n",
    "new_policies_grosspremium_list=[]\n",
    "active_grosspremium_list=[]\n",
    "valid_policies_grosspremium_list=[]\n",
    "for i in range(1,len(iterate_months)-1):\n",
    "    print(i,iterate_months[i])\n",
    "    member_date_filter=owls_members_df['policy_inceptiondate']>iterate_months[i]\n",
    "#   ----------------------------------------------------------------------------------------------------------------------------\n",
    "    new_policies_df=owls_members_df[member_date_filter&members_product_filter]\n",
    "    new_policies_grosspremium=new_policies_df['policy_totalpremium'].sum()\n",
    "#   ----------------------------------------------------------------------------------------------------------------------------\n",
    "    terminations_policy_inceptiondate_filter=owls_terminations_df['policy_inceptiondate']<=max_date#iterate_months[i+1]\n",
    "    terminations_policy_cancellationdate_filter=owls_terminations_df['policy_cancellationdate']>iterate_months[i-1]\n",
    "    valid_terminations_filter=(terminations_policy_inceptiondate_filter&terminations_policy_cancellationdate_filter&terminations_product_filter)\n",
    "    valid_terminations_df=owls_terminations_df[valid_terminations_filter]\n",
    "    valid_policies_grosspremium=valid_terminations_df['policy_totalpremium'].sum()\n",
    "#   ----------------------------------------------------------------------------------------------------------------------------\n",
    "    active_policies_grosspremium=live_policies_grosspremium-new_policies_grosspremium+valid_policies_grosspremium    \n",
    "    print('i = ',i,'; month: ', iterate_months[i],'; iterate_months[i-1]: ',iterate_months[i-1],'; active_policies_grosspremium: ',active_policies_grosspremium,'; live_policies_grosspremium: ',live_policies_grosspremium,'; new_policies_grosspremium: ',new_policies_grosspremium, ' valid_policies_grosspremium: ',valid_policies_grosspremium)\n",
    "    live_policies_grosspremium_list.append(live_policies_grosspremium)\n",
    "    new_policies_grosspremium_list.append(new_policies_grosspremium)\n",
    "    valid_policies_grosspremium_list.append(valid_policies_grosspremium)\n",
    "    active_grosspremium_list.append(active_policies_grosspremium)"
   ]
  },
  {
   "cell_type": "code",
   "execution_count": 70,
   "metadata": {},
   "outputs": [],
   "source": [
    "# # terminations_product_filter=owls_terminations_df['productsetup_productsetupname']==product\n",
    "# live_policies_list=[]\n",
    "# new_policies_list=[]\n",
    "# active_policies_list=[]\n",
    "# valid_terminations_list=[]\n",
    "\n",
    "# live_policies_grosspremium_list=[]\n",
    "# new_policies_grosspremium_list=[]\n",
    "# active_grosspremium_list=[]\n",
    "# valid_policies_grosspremium_list=[]\n",
    "\n",
    "# for i in range(1,len(iterate_months)-1):\n",
    "#     print(i,iterate_months[i])\n",
    "\n",
    "#     members_date_filter=owls_members_df['policy_inceptiondate']>iterate_months[i]\n",
    "#     new_policies_df=owls_members_df[members_date_filter&members_product_filter]\n",
    "    \n",
    "#     new_policies=new_policies_df.shape[0]\n",
    "#     new_policies_grosspremium=new_policies_df['policy_totalpremium'].sum()\n",
    "    \n",
    "#     terminations_policy_inceptiondate_filter=owls_terminations_df['policy_inceptiondate']<iterate_months[i+1]\n",
    "#     terminations_policy_cancellationdate_filter=owls_terminations_df['policy_cancellationdate']>iterate_months[i-1]\n",
    "    \n",
    "#     valid_terminations_filter=(terminations_policy_inceptiondate_filter&terminations_policy_cancellationdate_filter&terminations_product_filter)\n",
    "#     valid_terminations_df=owls_terminations_df[valid_terminations_filter]\n",
    "    \n",
    "#     valid_terminations=valid_terminations_df.shape[0]\n",
    "#     valid_policies_grosspremium=valid_terminations_df['policy_totalpremium'].sum()\n",
    "    \n",
    "#     active_policies=live_policies-new_policies+valid_terminations \n",
    "#     active_policies_grosspremium=live_policies_grosspremium-new_policies_grosspremium+valid_policies_grosspremium    \n",
    "    \n",
    "#     live_policies_list.append(live_policies)\n",
    "#     new_policies_list.append(new_policies)\n",
    "#     valid_terminations_list.append(valid_terminations)\n",
    "#     active_policies_list.append(active_policies)\n",
    "    \n",
    "#     live_policies_grosspremium_list.append(live_policies_grosspremium)\n",
    "#     new_policies_grosspremium_list.append(new_policies_grosspremium)\n",
    "#     valid_policies_grosspremium_list.append(valid_policies_grosspremium)\n",
    "#     active_grosspremium_list.append(active_policies_grosspremium)    \n",
    "    \n",
    "#     print('i = ',i,'; month: ', iterate_months[i],owls_terminations_df[terminations_policy_cancellationdate_filter].shape[0],'; active_policies: ',active_policies,'; live_policies: ',live_policies,'; new_policies: ',new_policies, ' valid_terminations: ',valid_terminations)\n"
   ]
  },
  {
   "cell_type": "markdown",
   "metadata": {},
   "source": [
    "### New policies"
   ]
  },
  {
   "cell_type": "code",
   "execution_count": 71,
   "metadata": {},
   "outputs": [],
   "source": [
    "# members_product_filter=(owls_members_df['productsetup_productsetupname']==product)\n",
    "# new_policy_filter=owls_members_df['policy_inceptiondate']==\n",
    "# owls_members_df[date_filter&product_filter].shape[0]"
   ]
  },
  {
   "cell_type": "markdown",
   "metadata": {},
   "source": [
    "Add back recent terminations falling in the window still to be deemed valid:\n",
    "- =COUNTIFS(Terminations_Raw!$AF:$AF,\"<\"&Summary!AD5,Terminations_Raw!$AG:$AG,\">\"&Summary!AB5,Active_Listing_Raw!$D:$D,Summary!$C$2)"
   ]
  },
  {
   "cell_type": "markdown",
   "metadata": {},
   "source": [
    " - =COUNTIFS(Active_Listing_Raw!$D:$D,Summary!$C$2,Active_Listing_Raw!$F:$F,Summary!AC5)"
   ]
  },
  {
   "cell_type": "markdown",
   "metadata": {},
   "source": [
    "pd.to_datetime(owls_terminations_df['policy_inceptiondate'], format='%Y/%m/%d', errors='ignore')"
   ]
  },
  {
   "cell_type": "code",
   "execution_count": 72,
   "metadata": {},
   "outputs": [
    {
     "name": "stdout",
     "output_type": "stream",
     "text": [
      "1 2020-02-01 00:00:00\n",
      "2 2020-03-01 00:00:00\n",
      "3 2020-04-01 00:00:00\n",
      "4 2020-05-01 00:00:00\n",
      "5 2020-06-01 00:00:00\n",
      "6 2020-07-01 00:00:00\n",
      "7 2020-08-01 00:00:00\n",
      "8 2020-09-01 00:00:00\n",
      "9 2020-10-01 00:00:00\n",
      "10 2020-11-01 00:00:00\n",
      "11 2020-12-01 00:00:00\n",
      "12 2021-01-01 00:00:00\n"
     ]
    }
   ],
   "source": [
    "# members_product_filter=(owls_members_df['productsetup_productsetupname']==product)\n",
    "new_policies_list=[]\n",
    "for i in range(1,len(iterate_months)-1):\n",
    "    print(i,iterate_months[i])\n",
    "    new_policies_date_filter=owls_members_df['policy_inceptiondate']==iterate_months[i]\n",
    "#   ----------------------------------------------------------------------------------------------------------------------------\n",
    "    new_policies_df=owls_members_df[new_policies_date_filter&members_product_filter]\n",
    "    new_policies=new_policies_df['policy_totalpremium'].shape[0]\n",
    "    new_policies_list.append(new_policies)"
   ]
  },
  {
   "cell_type": "code",
   "execution_count": 73,
   "metadata": {},
   "outputs": [
    {
     "data": {
      "text/plain": [
       "[555, 437, 365, 258, 197, 880, 260, 657, 340, 253, 282, 608]"
      ]
     },
     "execution_count": 73,
     "metadata": {},
     "output_type": "execute_result"
    }
   ],
   "source": [
    "new_policies_list"
   ]
  },
  {
   "cell_type": "markdown",
   "metadata": {},
   "source": [
    "### GWP of New Policies"
   ]
  },
  {
   "cell_type": "markdown",
   "metadata": {},
   "source": [
    "=SUMIFS(Active_Listing_Raw!$AC:$AC,Active_Listing_Raw!$D:$D,Summary!$C$2,Active_Listing_Raw!$F:$F,Summary!X5)"
   ]
  },
  {
   "cell_type": "code",
   "execution_count": 74,
   "metadata": {},
   "outputs": [],
   "source": [
    "# members_product_filter=(owls_members_df['productsetup_productsetupname']==product)\n",
    "# owls_members_df"
   ]
  },
  {
   "cell_type": "code",
   "execution_count": 81,
   "metadata": {},
   "outputs": [
    {
     "data": {
      "text/plain": [
       "'Kaelo Gap'"
      ]
     },
     "execution_count": 81,
     "metadata": {},
     "output_type": "execute_result"
    }
   ],
   "source": [
    "product"
   ]
  },
  {
   "cell_type": "code",
   "execution_count": 76,
   "metadata": {},
   "outputs": [],
   "source": [
    "new_policies_date_filter=owls_members_df['policy_inceptiondate']==iterate_months[i]"
   ]
  },
  {
   "cell_type": "code",
   "execution_count": 78,
   "metadata": {},
   "outputs": [
    {
     "data": {
      "text/html": [
       "<div>\n",
       "<style scoped>\n",
       "    .dataframe tbody tr th:only-of-type {\n",
       "        vertical-align: middle;\n",
       "    }\n",
       "\n",
       "    .dataframe tbody tr th {\n",
       "        vertical-align: top;\n",
       "    }\n",
       "\n",
       "    .dataframe thead th {\n",
       "        text-align: right;\n",
       "    }\n",
       "</style>\n",
       "<table border=\"1\" class=\"dataframe\">\n",
       "  <thead>\n",
       "    <tr style=\"text-align: right;\">\n",
       "      <th></th>\n",
       "      <th>policy_grosspremium</th>\n",
       "      <th>policy_status</th>\n",
       "      <th>policy_totalpremium</th>\n",
       "      <th>productsetup_productsetupname</th>\n",
       "      <th>policy_inceptiondate</th>\n",
       "    </tr>\n",
       "  </thead>\n",
       "  <tbody>\n",
       "    <tr>\n",
       "      <th>45021</th>\n",
       "      <td>182.0</td>\n",
       "      <td>Live</td>\n",
       "      <td>182.0</td>\n",
       "      <td>Kaelo Gap</td>\n",
       "      <td>2021-01-01</td>\n",
       "    </tr>\n",
       "    <tr>\n",
       "      <th>45131</th>\n",
       "      <td>361.0</td>\n",
       "      <td>Live</td>\n",
       "      <td>361.0</td>\n",
       "      <td>Kaelo Gap</td>\n",
       "      <td>2021-01-01</td>\n",
       "    </tr>\n",
       "    <tr>\n",
       "      <th>45142</th>\n",
       "      <td>255.0</td>\n",
       "      <td>Live</td>\n",
       "      <td>255.0</td>\n",
       "      <td>Kaelo Gap</td>\n",
       "      <td>2021-01-01</td>\n",
       "    </tr>\n",
       "    <tr>\n",
       "      <th>45162</th>\n",
       "      <td>389.0</td>\n",
       "      <td>Live</td>\n",
       "      <td>389.0</td>\n",
       "      <td>Kaelo Gap</td>\n",
       "      <td>2021-01-01</td>\n",
       "    </tr>\n",
       "    <tr>\n",
       "      <th>45169</th>\n",
       "      <td>182.0</td>\n",
       "      <td>Live</td>\n",
       "      <td>182.0</td>\n",
       "      <td>Kaelo Gap</td>\n",
       "      <td>2021-01-01</td>\n",
       "    </tr>\n",
       "    <tr>\n",
       "      <th>...</th>\n",
       "      <td>...</td>\n",
       "      <td>...</td>\n",
       "      <td>...</td>\n",
       "      <td>...</td>\n",
       "      <td>...</td>\n",
       "    </tr>\n",
       "    <tr>\n",
       "      <th>46439</th>\n",
       "      <td>182.0</td>\n",
       "      <td>Live</td>\n",
       "      <td>182.0</td>\n",
       "      <td>Kaelo Gap</td>\n",
       "      <td>2021-01-01</td>\n",
       "    </tr>\n",
       "    <tr>\n",
       "      <th>46440</th>\n",
       "      <td>182.0</td>\n",
       "      <td>Live</td>\n",
       "      <td>182.0</td>\n",
       "      <td>Kaelo Gap</td>\n",
       "      <td>2021-01-01</td>\n",
       "    </tr>\n",
       "    <tr>\n",
       "      <th>46466</th>\n",
       "      <td>465.0</td>\n",
       "      <td>Live</td>\n",
       "      <td>465.0</td>\n",
       "      <td>Kaelo Gap</td>\n",
       "      <td>2021-01-01</td>\n",
       "    </tr>\n",
       "    <tr>\n",
       "      <th>46476</th>\n",
       "      <td>250.0</td>\n",
       "      <td>Live</td>\n",
       "      <td>250.0</td>\n",
       "      <td>Kaelo Gap</td>\n",
       "      <td>2021-01-01</td>\n",
       "    </tr>\n",
       "    <tr>\n",
       "      <th>46494</th>\n",
       "      <td>273.0</td>\n",
       "      <td>Live</td>\n",
       "      <td>273.0</td>\n",
       "      <td>Kaelo Gap</td>\n",
       "      <td>2021-01-01</td>\n",
       "    </tr>\n",
       "  </tbody>\n",
       "</table>\n",
       "<p>608 rows × 5 columns</p>\n",
       "</div>"
      ],
      "text/plain": [
       "       policy_grosspremium policy_status  policy_totalpremium  \\\n",
       "45021                182.0          Live                182.0   \n",
       "45131                361.0          Live                361.0   \n",
       "45142                255.0          Live                255.0   \n",
       "45162                389.0          Live                389.0   \n",
       "45169                182.0          Live                182.0   \n",
       "...                    ...           ...                  ...   \n",
       "46439                182.0          Live                182.0   \n",
       "46440                182.0          Live                182.0   \n",
       "46466                465.0          Live                465.0   \n",
       "46476                250.0          Live                250.0   \n",
       "46494                273.0          Live                273.0   \n",
       "\n",
       "      productsetup_productsetupname policy_inceptiondate  \n",
       "45021                     Kaelo Gap           2021-01-01  \n",
       "45131                     Kaelo Gap           2021-01-01  \n",
       "45142                     Kaelo Gap           2021-01-01  \n",
       "45162                     Kaelo Gap           2021-01-01  \n",
       "45169                     Kaelo Gap           2021-01-01  \n",
       "...                             ...                  ...  \n",
       "46439                     Kaelo Gap           2021-01-01  \n",
       "46440                     Kaelo Gap           2021-01-01  \n",
       "46466                     Kaelo Gap           2021-01-01  \n",
       "46476                     Kaelo Gap           2021-01-01  \n",
       "46494                     Kaelo Gap           2021-01-01  \n",
       "\n",
       "[608 rows x 5 columns]"
      ]
     },
     "execution_count": 78,
     "metadata": {},
     "output_type": "execute_result"
    }
   ],
   "source": [
    "owls_members_df[new_policies_date_filter&members_product_filter]"
   ]
  },
  {
   "cell_type": "code",
   "execution_count": 80,
   "metadata": {},
   "outputs": [
    {
     "data": {
      "text/plain": [
       "156147.0"
      ]
     },
     "execution_count": 80,
     "metadata": {},
     "output_type": "execute_result"
    }
   ],
   "source": [
    "new_policies_df['policy_grosspremium'].sum()"
   ]
  },
  {
   "cell_type": "code",
   "execution_count": 82,
   "metadata": {},
   "outputs": [
    {
     "name": "stdout",
     "output_type": "stream",
     "text": [
      "1 2020-02-01 00:00:00 ;  123408.0\n",
      "2 2020-03-01 00:00:00 ;  100947.0\n",
      "3 2020-04-01 00:00:00 ;  80140.0\n",
      "4 2020-05-01 00:00:00 ;  60978.0\n",
      "5 2020-06-01 00:00:00 ;  51929.0\n",
      "6 2020-07-01 00:00:00 ;  161491.0\n",
      "7 2020-08-01 00:00:00 ;  70861.0\n",
      "8 2020-09-01 00:00:00 ;  77101.0\n",
      "9 2020-10-01 00:00:00 ;  91261.0\n",
      "10 2020-11-01 00:00:00 ;  61174.0\n",
      "11 2020-12-01 00:00:00 ;  70998.0\n",
      "12 2021-01-01 00:00:00 ;  156147.0\n"
     ]
    }
   ],
   "source": [
    "# members_product_filter=(owls_members_df['productsetup_productsetupname']==product)\n",
    "gwp_new_policies_list=[]\n",
    "for i in range(1,len(iterate_months)-1):\n",
    "#     print(i,iterate_months[i])\n",
    "    new_policies_date_filter=owls_members_df['policy_inceptiondate']==iterate_months[i]\n",
    "#   ----------------------------------------------------------------------------------------------------------------------------\n",
    "    new_policies_df=owls_members_df[new_policies_date_filter&members_product_filter]\n",
    "    gwp_new_policies=new_policies_df['policy_grosspremium'].sum()\n",
    "    gwp_new_policies_list.append(gwp_new_policies)\n",
    "    print(i,iterate_months[i],'; ', gwp_new_policies)"
   ]
  },
  {
   "cell_type": "markdown",
   "metadata": {},
   "source": [
    "### Average Premium"
   ]
  },
  {
   "cell_type": "code",
   "execution_count": 83,
   "metadata": {},
   "outputs": [
    {
     "name": "stdout",
     "output_type": "stream",
     "text": [
      "12078245.19 54670 220.93003822937624\n",
      "11905439.969999999 53963 220.62227767173803\n",
      "11823870.33 53577 220.68929447337476\n",
      "11758113.39 53183 221.0878173476487\n",
      "11686824.16 52833 221.2031147199667\n",
      "11740444.18 53113 221.04652683900363\n",
      "11670394.49 52687 221.504251333346\n",
      "11640067.57 52799 220.46000056819258\n",
      "11602842.04 52546 220.8130407642827\n",
      "11533802.79 52261 220.69617477660205\n",
      "11508894.8 52153 220.675604471459\n",
      "11580264.55 52423 220.90045495297866\n"
     ]
    }
   ],
   "source": [
    "active_grosspremium_list\n",
    "active_policies_list\n",
    "average_premium_list=[]\n",
    "for f, b in zip(active_grosspremium_list, active_policies_list):\n",
    "    average_premium_list.append(f/b)\n",
    "    print(f,b,f/b)"
   ]
  },
  {
   "cell_type": "markdown",
   "metadata": {},
   "source": [
    "### NTU"
   ]
  },
  {
   "cell_type": "markdown",
   "metadata": {},
   "source": [
    "=COUNTIFS(Terminations_Raw!$AF:$AF,Summary!Y$5,Terminations_Raw!$H:$H,\"Not Taken Up\",Terminations_Raw!$D:$D,Summary!$C$2)"
   ]
  },
  {
   "cell_type": "code",
   "execution_count": 84,
   "metadata": {},
   "outputs": [
    {
     "name": "stdout",
     "output_type": "stream",
     "text": [
      "1 2020-02-01 00:00:00 ;  42\n",
      "2 2020-03-01 00:00:00 ;  18\n",
      "3 2020-04-01 00:00:00 ;  21\n",
      "4 2020-05-01 00:00:00 ;  11\n",
      "5 2020-06-01 00:00:00 ;  5\n",
      "6 2020-07-01 00:00:00 ;  13\n",
      "7 2020-08-01 00:00:00 ;  17\n",
      "8 2020-09-01 00:00:00 ;  20\n",
      "9 2020-10-01 00:00:00 ;  8\n",
      "10 2020-11-01 00:00:00 ;  8\n",
      "11 2020-12-01 00:00:00 ;  6\n",
      "12 2021-01-01 00:00:00 ;  14\n"
     ]
    }
   ],
   "source": [
    "# terminations_product_filter=owls_terminations_df['productsetup_productsetupname']==product\n",
    "ntu_list=[]\n",
    "for i in range(1,len(iterate_months)-1):\n",
    "    terminations_policy_inceptiondate_filter=owls_terminations_df['policy_inceptiondate']==iterate_months[i]\n",
    "    f=terminations_product_filter&ntu_filter&terminations_policy_inceptiondate_filter\n",
    "    valid_terminations_df=owls_terminations_df[f]\n",
    "    ntu=valid_terminations_df.shape[0]\n",
    "    ntu_list.append(ntu)\n",
    "    print(i,iterate_months[i],'; ', ntu)"
   ]
  },
  {
   "cell_type": "markdown",
   "metadata": {},
   "source": [
    "### Gross premium for NTU"
   ]
  },
  {
   "cell_type": "markdown",
   "metadata": {},
   "source": [
    "=SUMIFS(Terminations_Raw!$AD:$AD,Terminations_Raw!$AF:$AF,Summary!X$5,Terminations_Raw!$H:$H,\"Not Taken Up\",Terminations_Raw!$D:$D,Summary!$C$2)"
   ]
  },
  {
   "cell_type": "code",
   "execution_count": 85,
   "metadata": {},
   "outputs": [],
   "source": [
    "# owls_terminations_df\n",
    "# terminations_product_filter\n",
    "# ntu_filter=owls_terminations_df['policy_status']=='Not Taken Up'\n",
    "# terminations_policy_inceptiondate_filter=owls_terminations_df['policy_inceptiondate']==iterate_months[i]\n",
    "# sum over policy_totalpremium\n",
    "# 'policy_inceptiondate'"
   ]
  },
  {
   "cell_type": "code",
   "execution_count": 90,
   "metadata": {},
   "outputs": [],
   "source": [
    "terminations_policy_inceptiondate_filter=owls_terminations_df['policy_inceptiondate']==iterate_months[1]\n",
    "f=terminations_product_filter&ntu_filter&terminations_policy_inceptiondate_filter\n",
    "valid_terminations_df=owls_terminations_df[f]"
   ]
  },
  {
   "cell_type": "code",
   "execution_count": 92,
   "metadata": {},
   "outputs": [
    {
     "data": {
      "text/html": [
       "<div>\n",
       "<style scoped>\n",
       "    .dataframe tbody tr th:only-of-type {\n",
       "        vertical-align: middle;\n",
       "    }\n",
       "\n",
       "    .dataframe tbody tr th {\n",
       "        vertical-align: top;\n",
       "    }\n",
       "\n",
       "    .dataframe thead th {\n",
       "        text-align: right;\n",
       "    }\n",
       "</style>\n",
       "<table border=\"1\" class=\"dataframe\">\n",
       "  <thead>\n",
       "    <tr style=\"text-align: right;\">\n",
       "      <th></th>\n",
       "      <th>policy_totalpremium</th>\n",
       "      <th>productsetup_productsetupname</th>\n",
       "      <th>policy_inceptiondate</th>\n",
       "      <th>policy_cancellationdate</th>\n",
       "    </tr>\n",
       "  </thead>\n",
       "  <tbody>\n",
       "    <tr>\n",
       "      <th>36725</th>\n",
       "      <td>0.0</td>\n",
       "      <td>Kaelo Gap</td>\n",
       "      <td>2020-02-01</td>\n",
       "      <td>2020-01-31</td>\n",
       "    </tr>\n",
       "    <tr>\n",
       "      <th>36908</th>\n",
       "      <td>0.0</td>\n",
       "      <td>Kaelo Gap</td>\n",
       "      <td>2020-02-01</td>\n",
       "      <td>2020-01-31</td>\n",
       "    </tr>\n",
       "    <tr>\n",
       "      <th>36925</th>\n",
       "      <td>0.0</td>\n",
       "      <td>Kaelo Gap</td>\n",
       "      <td>2020-02-01</td>\n",
       "      <td>2020-01-31</td>\n",
       "    </tr>\n",
       "    <tr>\n",
       "      <th>37827</th>\n",
       "      <td>0.0</td>\n",
       "      <td>Kaelo Gap</td>\n",
       "      <td>2020-02-01</td>\n",
       "      <td>2020-01-31</td>\n",
       "    </tr>\n",
       "    <tr>\n",
       "      <th>37935</th>\n",
       "      <td>0.0</td>\n",
       "      <td>Kaelo Gap</td>\n",
       "      <td>2020-02-01</td>\n",
       "      <td>2020-01-31</td>\n",
       "    </tr>\n",
       "    <tr>\n",
       "      <th>39284</th>\n",
       "      <td>0.0</td>\n",
       "      <td>Kaelo Gap</td>\n",
       "      <td>2020-02-01</td>\n",
       "      <td>2020-01-31</td>\n",
       "    </tr>\n",
       "    <tr>\n",
       "      <th>39426</th>\n",
       "      <td>0.0</td>\n",
       "      <td>Kaelo Gap</td>\n",
       "      <td>2020-02-01</td>\n",
       "      <td>2020-01-31</td>\n",
       "    </tr>\n",
       "    <tr>\n",
       "      <th>39579</th>\n",
       "      <td>0.0</td>\n",
       "      <td>Kaelo Gap</td>\n",
       "      <td>2020-02-01</td>\n",
       "      <td>2020-01-31</td>\n",
       "    </tr>\n",
       "    <tr>\n",
       "      <th>39791</th>\n",
       "      <td>0.0</td>\n",
       "      <td>Kaelo Gap</td>\n",
       "      <td>2020-02-01</td>\n",
       "      <td>2020-01-31</td>\n",
       "    </tr>\n",
       "    <tr>\n",
       "      <th>39862</th>\n",
       "      <td>0.0</td>\n",
       "      <td>Kaelo Gap</td>\n",
       "      <td>2020-02-01</td>\n",
       "      <td>2020-01-31</td>\n",
       "    </tr>\n",
       "    <tr>\n",
       "      <th>40946</th>\n",
       "      <td>0.0</td>\n",
       "      <td>Kaelo Gap</td>\n",
       "      <td>2020-02-01</td>\n",
       "      <td>2020-01-31</td>\n",
       "    </tr>\n",
       "    <tr>\n",
       "      <th>42430</th>\n",
       "      <td>0.0</td>\n",
       "      <td>Kaelo Gap</td>\n",
       "      <td>2020-02-01</td>\n",
       "      <td>2020-01-31</td>\n",
       "    </tr>\n",
       "    <tr>\n",
       "      <th>42494</th>\n",
       "      <td>0.0</td>\n",
       "      <td>Kaelo Gap</td>\n",
       "      <td>2020-02-01</td>\n",
       "      <td>2020-01-31</td>\n",
       "    </tr>\n",
       "    <tr>\n",
       "      <th>42617</th>\n",
       "      <td>0.0</td>\n",
       "      <td>Kaelo Gap</td>\n",
       "      <td>2020-02-01</td>\n",
       "      <td>2020-01-31</td>\n",
       "    </tr>\n",
       "    <tr>\n",
       "      <th>42768</th>\n",
       "      <td>0.0</td>\n",
       "      <td>Kaelo Gap</td>\n",
       "      <td>2020-02-01</td>\n",
       "      <td>2020-01-31</td>\n",
       "    </tr>\n",
       "    <tr>\n",
       "      <th>43936</th>\n",
       "      <td>0.0</td>\n",
       "      <td>Kaelo Gap</td>\n",
       "      <td>2020-02-01</td>\n",
       "      <td>2020-01-31</td>\n",
       "    </tr>\n",
       "    <tr>\n",
       "      <th>45093</th>\n",
       "      <td>0.0</td>\n",
       "      <td>Kaelo Gap</td>\n",
       "      <td>2020-02-01</td>\n",
       "      <td>2020-01-31</td>\n",
       "    </tr>\n",
       "    <tr>\n",
       "      <th>45382</th>\n",
       "      <td>0.0</td>\n",
       "      <td>Kaelo Gap</td>\n",
       "      <td>2020-02-01</td>\n",
       "      <td>2020-01-31</td>\n",
       "    </tr>\n",
       "    <tr>\n",
       "      <th>45454</th>\n",
       "      <td>0.0</td>\n",
       "      <td>Kaelo Gap</td>\n",
       "      <td>2020-02-01</td>\n",
       "      <td>2020-01-31</td>\n",
       "    </tr>\n",
       "    <tr>\n",
       "      <th>45600</th>\n",
       "      <td>0.0</td>\n",
       "      <td>Kaelo Gap</td>\n",
       "      <td>2020-02-01</td>\n",
       "      <td>2020-01-31</td>\n",
       "    </tr>\n",
       "    <tr>\n",
       "      <th>45795</th>\n",
       "      <td>0.0</td>\n",
       "      <td>Kaelo Gap</td>\n",
       "      <td>2020-02-01</td>\n",
       "      <td>2020-01-31</td>\n",
       "    </tr>\n",
       "    <tr>\n",
       "      <th>46303</th>\n",
       "      <td>0.0</td>\n",
       "      <td>Kaelo Gap</td>\n",
       "      <td>2020-02-01</td>\n",
       "      <td>2020-01-31</td>\n",
       "    </tr>\n",
       "    <tr>\n",
       "      <th>47143</th>\n",
       "      <td>0.0</td>\n",
       "      <td>Kaelo Gap</td>\n",
       "      <td>2020-02-01</td>\n",
       "      <td>2020-01-31</td>\n",
       "    </tr>\n",
       "    <tr>\n",
       "      <th>47240</th>\n",
       "      <td>0.0</td>\n",
       "      <td>Kaelo Gap</td>\n",
       "      <td>2020-02-01</td>\n",
       "      <td>2020-01-31</td>\n",
       "    </tr>\n",
       "    <tr>\n",
       "      <th>47387</th>\n",
       "      <td>0.0</td>\n",
       "      <td>Kaelo Gap</td>\n",
       "      <td>2020-02-01</td>\n",
       "      <td>2020-01-31</td>\n",
       "    </tr>\n",
       "    <tr>\n",
       "      <th>47509</th>\n",
       "      <td>0.0</td>\n",
       "      <td>Kaelo Gap</td>\n",
       "      <td>2020-02-01</td>\n",
       "      <td>2020-01-31</td>\n",
       "    </tr>\n",
       "    <tr>\n",
       "      <th>47571</th>\n",
       "      <td>0.0</td>\n",
       "      <td>Kaelo Gap</td>\n",
       "      <td>2020-02-01</td>\n",
       "      <td>2020-01-31</td>\n",
       "    </tr>\n",
       "    <tr>\n",
       "      <th>47754</th>\n",
       "      <td>0.0</td>\n",
       "      <td>Kaelo Gap</td>\n",
       "      <td>2020-02-01</td>\n",
       "      <td>2020-01-31</td>\n",
       "    </tr>\n",
       "    <tr>\n",
       "      <th>48157</th>\n",
       "      <td>0.0</td>\n",
       "      <td>Kaelo Gap</td>\n",
       "      <td>2020-02-01</td>\n",
       "      <td>2020-01-31</td>\n",
       "    </tr>\n",
       "    <tr>\n",
       "      <th>48402</th>\n",
       "      <td>0.0</td>\n",
       "      <td>Kaelo Gap</td>\n",
       "      <td>2020-02-01</td>\n",
       "      <td>2020-01-31</td>\n",
       "    </tr>\n",
       "    <tr>\n",
       "      <th>48482</th>\n",
       "      <td>0.0</td>\n",
       "      <td>Kaelo Gap</td>\n",
       "      <td>2020-02-01</td>\n",
       "      <td>2020-01-31</td>\n",
       "    </tr>\n",
       "    <tr>\n",
       "      <th>48551</th>\n",
       "      <td>0.0</td>\n",
       "      <td>Kaelo Gap</td>\n",
       "      <td>2020-02-01</td>\n",
       "      <td>2020-01-31</td>\n",
       "    </tr>\n",
       "    <tr>\n",
       "      <th>48615</th>\n",
       "      <td>296.0</td>\n",
       "      <td>Kaelo Gap</td>\n",
       "      <td>2020-02-01</td>\n",
       "      <td>2020-01-31</td>\n",
       "    </tr>\n",
       "    <tr>\n",
       "      <th>48877</th>\n",
       "      <td>0.0</td>\n",
       "      <td>Kaelo Gap</td>\n",
       "      <td>2020-02-01</td>\n",
       "      <td>2020-01-31</td>\n",
       "    </tr>\n",
       "    <tr>\n",
       "      <th>49259</th>\n",
       "      <td>0.0</td>\n",
       "      <td>Kaelo Gap</td>\n",
       "      <td>2020-02-01</td>\n",
       "      <td>2020-01-31</td>\n",
       "    </tr>\n",
       "    <tr>\n",
       "      <th>49329</th>\n",
       "      <td>0.0</td>\n",
       "      <td>Kaelo Gap</td>\n",
       "      <td>2020-02-01</td>\n",
       "      <td>2020-01-31</td>\n",
       "    </tr>\n",
       "    <tr>\n",
       "      <th>49350</th>\n",
       "      <td>0.0</td>\n",
       "      <td>Kaelo Gap</td>\n",
       "      <td>2020-02-01</td>\n",
       "      <td>2020-01-31</td>\n",
       "    </tr>\n",
       "    <tr>\n",
       "      <th>49745</th>\n",
       "      <td>0.0</td>\n",
       "      <td>Kaelo Gap</td>\n",
       "      <td>2020-02-01</td>\n",
       "      <td>2020-01-31</td>\n",
       "    </tr>\n",
       "    <tr>\n",
       "      <th>50071</th>\n",
       "      <td>0.0</td>\n",
       "      <td>Kaelo Gap</td>\n",
       "      <td>2020-02-01</td>\n",
       "      <td>2020-01-31</td>\n",
       "    </tr>\n",
       "    <tr>\n",
       "      <th>51360</th>\n",
       "      <td>0.0</td>\n",
       "      <td>Kaelo Gap</td>\n",
       "      <td>2020-02-01</td>\n",
       "      <td>2020-01-31</td>\n",
       "    </tr>\n",
       "    <tr>\n",
       "      <th>52384</th>\n",
       "      <td>0.0</td>\n",
       "      <td>Kaelo Gap</td>\n",
       "      <td>2020-02-01</td>\n",
       "      <td>2020-01-31</td>\n",
       "    </tr>\n",
       "    <tr>\n",
       "      <th>52801</th>\n",
       "      <td>0.0</td>\n",
       "      <td>Kaelo Gap</td>\n",
       "      <td>2020-02-01</td>\n",
       "      <td>2020-01-31</td>\n",
       "    </tr>\n",
       "  </tbody>\n",
       "</table>\n",
       "</div>"
      ],
      "text/plain": [
       "       policy_totalpremium productsetup_productsetupname policy_inceptiondate  \\\n",
       "36725                  0.0                     Kaelo Gap           2020-02-01   \n",
       "36908                  0.0                     Kaelo Gap           2020-02-01   \n",
       "36925                  0.0                     Kaelo Gap           2020-02-01   \n",
       "37827                  0.0                     Kaelo Gap           2020-02-01   \n",
       "37935                  0.0                     Kaelo Gap           2020-02-01   \n",
       "39284                  0.0                     Kaelo Gap           2020-02-01   \n",
       "39426                  0.0                     Kaelo Gap           2020-02-01   \n",
       "39579                  0.0                     Kaelo Gap           2020-02-01   \n",
       "39791                  0.0                     Kaelo Gap           2020-02-01   \n",
       "39862                  0.0                     Kaelo Gap           2020-02-01   \n",
       "40946                  0.0                     Kaelo Gap           2020-02-01   \n",
       "42430                  0.0                     Kaelo Gap           2020-02-01   \n",
       "42494                  0.0                     Kaelo Gap           2020-02-01   \n",
       "42617                  0.0                     Kaelo Gap           2020-02-01   \n",
       "42768                  0.0                     Kaelo Gap           2020-02-01   \n",
       "43936                  0.0                     Kaelo Gap           2020-02-01   \n",
       "45093                  0.0                     Kaelo Gap           2020-02-01   \n",
       "45382                  0.0                     Kaelo Gap           2020-02-01   \n",
       "45454                  0.0                     Kaelo Gap           2020-02-01   \n",
       "45600                  0.0                     Kaelo Gap           2020-02-01   \n",
       "45795                  0.0                     Kaelo Gap           2020-02-01   \n",
       "46303                  0.0                     Kaelo Gap           2020-02-01   \n",
       "47143                  0.0                     Kaelo Gap           2020-02-01   \n",
       "47240                  0.0                     Kaelo Gap           2020-02-01   \n",
       "47387                  0.0                     Kaelo Gap           2020-02-01   \n",
       "47509                  0.0                     Kaelo Gap           2020-02-01   \n",
       "47571                  0.0                     Kaelo Gap           2020-02-01   \n",
       "47754                  0.0                     Kaelo Gap           2020-02-01   \n",
       "48157                  0.0                     Kaelo Gap           2020-02-01   \n",
       "48402                  0.0                     Kaelo Gap           2020-02-01   \n",
       "48482                  0.0                     Kaelo Gap           2020-02-01   \n",
       "48551                  0.0                     Kaelo Gap           2020-02-01   \n",
       "48615                296.0                     Kaelo Gap           2020-02-01   \n",
       "48877                  0.0                     Kaelo Gap           2020-02-01   \n",
       "49259                  0.0                     Kaelo Gap           2020-02-01   \n",
       "49329                  0.0                     Kaelo Gap           2020-02-01   \n",
       "49350                  0.0                     Kaelo Gap           2020-02-01   \n",
       "49745                  0.0                     Kaelo Gap           2020-02-01   \n",
       "50071                  0.0                     Kaelo Gap           2020-02-01   \n",
       "51360                  0.0                     Kaelo Gap           2020-02-01   \n",
       "52384                  0.0                     Kaelo Gap           2020-02-01   \n",
       "52801                  0.0                     Kaelo Gap           2020-02-01   \n",
       "\n",
       "      policy_cancellationdate  \n",
       "36725              2020-01-31  \n",
       "36908              2020-01-31  \n",
       "36925              2020-01-31  \n",
       "37827              2020-01-31  \n",
       "37935              2020-01-31  \n",
       "39284              2020-01-31  \n",
       "39426              2020-01-31  \n",
       "39579              2020-01-31  \n",
       "39791              2020-01-31  \n",
       "39862              2020-01-31  \n",
       "40946              2020-01-31  \n",
       "42430              2020-01-31  \n",
       "42494              2020-01-31  \n",
       "42617              2020-01-31  \n",
       "42768              2020-01-31  \n",
       "43936              2020-01-31  \n",
       "45093              2020-01-31  \n",
       "45382              2020-01-31  \n",
       "45454              2020-01-31  \n",
       "45600              2020-01-31  \n",
       "45795              2020-01-31  \n",
       "46303              2020-01-31  \n",
       "47143              2020-01-31  \n",
       "47240              2020-01-31  \n",
       "47387              2020-01-31  \n",
       "47509              2020-01-31  \n",
       "47571              2020-01-31  \n",
       "47754              2020-01-31  \n",
       "48157              2020-01-31  \n",
       "48402              2020-01-31  \n",
       "48482              2020-01-31  \n",
       "48551              2020-01-31  \n",
       "48615              2020-01-31  \n",
       "48877              2020-01-31  \n",
       "49259              2020-01-31  \n",
       "49329              2020-01-31  \n",
       "49350              2020-01-31  \n",
       "49745              2020-01-31  \n",
       "50071              2020-01-31  \n",
       "51360              2020-01-31  \n",
       "52384              2020-01-31  \n",
       "52801              2020-01-31  "
      ]
     },
     "execution_count": 92,
     "metadata": {},
     "output_type": "execute_result"
    }
   ],
   "source": [
    "owls_terminations_df[f]"
   ]
  },
  {
   "cell_type": "code",
   "execution_count": 87,
   "metadata": {},
   "outputs": [
    {
     "name": "stdout",
     "output_type": "stream",
     "text": [
      "1 2020-02-01 00:00:00 ;  296.0 42\n",
      "2 2020-03-01 00:00:00 ;  0.0 18\n",
      "3 2020-04-01 00:00:00 ;  0.0 21\n",
      "4 2020-05-01 00:00:00 ;  0.0 11\n",
      "5 2020-06-01 00:00:00 ;  0.0 5\n",
      "6 2020-07-01 00:00:00 ;  0.0 13\n",
      "7 2020-08-01 00:00:00 ;  2452.0 17\n",
      "8 2020-09-01 00:00:00 ;  2751.75 20\n",
      "9 2020-10-01 00:00:00 ;  2879.0 8\n",
      "10 2020-11-01 00:00:00 ;  2651.0 8\n",
      "11 2020-12-01 00:00:00 ;  1630.0 6\n",
      "12 2021-01-01 00:00:00 ;  4583.0 14\n"
     ]
    }
   ],
   "source": [
    "# ntu_filter=owls_terminations_df['policy_status']=='Not Taken Up'\n",
    "gp_ntu_list=[]\n",
    "for i in range(1,len(iterate_months)-1):\n",
    "    terminations_policy_inceptiondate_filter=owls_terminations_df['policy_inceptiondate']==iterate_months[i]\n",
    "    f=terminations_product_filter&ntu_filter&terminations_policy_inceptiondate_filter\n",
    "    valid_terminations_df=owls_terminations_df[f]\n",
    "    gp_ntu=valid_terminations_df['policy_totalpremium'].sum()\n",
    "    gp_ntu_list.append(gp_ntu)\n",
    "    print(i,iterate_months[i],'; ', gp_ntu,valid_terminations_df['policy_totalpremium'].shape[0])"
   ]
  },
  {
   "cell_type": "markdown",
   "metadata": {},
   "source": [
    "***"
   ]
  },
  {
   "cell_type": "markdown",
   "metadata": {},
   "source": [
    "### Cancellations"
   ]
  },
  {
   "cell_type": "markdown",
   "metadata": {},
   "source": [
    "=COUNTIFS(Terminations_Raw!$AG:$AG,Summary!X$4,Terminations_Raw!$H:$H,\"Cancelled\",Terminations_Raw!$D:$D,Summary!$C$2)  \n",
    "policy_cancellationdate,cancelations_filter,terminations_product_filter\n",
    "'policy_totalpremium'"
   ]
  },
  {
   "cell_type": "code",
   "execution_count": 93,
   "metadata": {},
   "outputs": [
    {
     "name": "stdout",
     "output_type": "stream",
     "text": [
      "1 2020-02-01 00:00:00 ;  733 161709.64\n",
      "2 2020-03-01 00:00:00 ;  631 126734.94\n",
      "3 2020-04-01 00:00:00 ;  536 123218.22999999998\n",
      "4 2020-05-01 00:00:00 ;  595 107870.98\n",
      "5 2020-06-01 00:00:00 ;  673 140910.69\n",
      "6 2020-07-01 00:00:00 ;  528 104975.91999999998\n",
      "7 2020-08-01 00:00:00 ;  573 125734.78\n",
      "8 2020-09-01 00:00:00 ;  530 127334.25\n",
      "9 2020-10-01 00:00:00 ;  382 93254.99\n",
      "10 2020-11-01 00:00:00 ;  332 83147.25\n",
      "11 2020-12-01 00:00:00 ;  923 258737.55\n",
      "12 2021-01-01 00:00:00 ;  173 49391.0\n"
     ]
    }
   ],
   "source": [
    "cancelations_list=[]\n",
    "gp_cancelations_list=[]\n",
    "for i in range(1,len(iterate_months)-1):\n",
    "    last_day_of_month=last_day_of_month_fn(iterate_months[i])\n",
    "    terminations_policy_cancellationdate_filter=owls_terminations_df['policy_cancellationdate']==last_day_of_month\n",
    "    f=terminations_product_filter&cancelations_filter&terminations_policy_cancellationdate_filter\n",
    "    valid_terminations_df=owls_terminations_df[f]\n",
    "    cancelations=valid_terminations_df.shape[0]\n",
    "    cancelations_list.append(cancelations)\n",
    "    gp_cancelations=valid_terminations_df['policy_totalpremium'].sum()\n",
    "    gp_cancelations_list.append(gp_cancelations)    \n",
    "    print(i,iterate_months[i],'; ',cancelations, gp_cancelations)"
   ]
  },
  {
   "cell_type": "markdown",
   "metadata": {},
   "source": [
    "*** "
   ]
  },
  {
   "cell_type": "markdown",
   "metadata": {},
   "source": [
    "### Number of Claims Received (Incl O/Docs Claims)"
   ]
  },
  {
   "cell_type": "markdown",
   "metadata": {},
   "source": [
    "=COUNTIFS(Received_Claims!$H:$H,Summary!$C$2,Received_Claims!$P:$P,Summary!X5)    \n",
    "Received_Claims! 𝑃: P,Summary!X5: Received Date, 'notification_date' compare notification date with period date  \n",
    "Received_Claims! 𝐻: H,Summary! 𝐶 2: product filter=received_claims_product_filter compare productsetupname with product \n"
   ]
  },
  {
   "cell_type": "code",
   "execution_count": 94,
   "metadata": {},
   "outputs": [
    {
     "name": "stdout",
     "output_type": "stream",
     "text": [
      "1 2020-02-01 00:00:00 ;  1038 30825.66\n",
      "2 2020-03-01 00:00:00 ;  1319 51571.0\n",
      "3 2020-04-01 00:00:00 ;  663 0.0\n",
      "4 2020-05-01 00:00:00 ;  635 77431.73\n",
      "5 2020-06-01 00:00:00 ;  787 18424.6\n",
      "6 2020-07-01 00:00:00 ;  686 58673.92\n",
      "7 2020-08-01 00:00:00 ;  774 241794.0\n",
      "8 2020-09-01 00:00:00 ;  813 1306657.61\n",
      "9 2020-10-01 00:00:00 ;  664 4871950.1\n",
      "10 2020-11-01 00:00:00 ;  804 6718585.4799999995\n",
      "11 2020-12-01 00:00:00 ;  721 4775553.74\n",
      "12 2021-01-01 00:00:00 ;  553 5272616.959999999\n"
     ]
    }
   ],
   "source": [
    "claims_received_list=[]\n",
    "value_claims_received_list=[]\n",
    "# gp_cancelations_list=[]\n",
    "for i in range(1,len(iterate_months)-1):\n",
    "#     last_day_of_month=last_day_of_month_fn(iterate_months[i])\n",
    "    claims_received_notification_date_filter=owls_received_claims_df['som_notification_date']==iterate_months[i]\n",
    "    f=claims_received_product_filter&claims_received_notification_date_filter\n",
    "    df=owls_received_claims_df[f].copy()\n",
    "    claims_received=df.shape[0]\n",
    "    claims_received_list.append(claims_received)\n",
    "    value_claims_received=df['Original Reserve'].sum()\n",
    "    value_claims_received_list.append(value_claims_received)    \n",
    "    print(i,iterate_months[i],'; ',claims_received, value_claims_received)"
   ]
  },
  {
   "cell_type": "markdown",
   "metadata": {},
   "source": [
    "***"
   ]
  },
  {
   "cell_type": "markdown",
   "metadata": {},
   "source": [
    "### Highest Claim Paid"
   ]
  },
  {
   "cell_type": "markdown",
   "metadata": {},
   "source": [
    "=MAXIFS(Received_Claims!$L:$L,Received_Claims!$H:$H,Summary!$C$2,Received_Claims!$P:$P,Summary!X5)"
   ]
  },
  {
   "cell_type": "code",
   "execution_count": null,
   "metadata": {},
   "outputs": [],
   "source": [
    "highest_claim_paid_list=[]\n",
    "# value_claims_received_list=[]\n",
    "# gp_cancelations_list=[]\n",
    "for i in range(1,len(iterate_months)-1):\n",
    "#     last_day_of_month=last_day_of_month_fn(iterate_months[i])\n",
    "    claims_paid_date_filter=owls_received_claims_df['som_notification_date']==iterate_months[i]\n",
    "    f=claims_received_product_filter&claims_paid_date_filter    \n",
    "    df=owls_received_claims_df[f].copy()\n",
    "    highest_claim_paid=df['Total Payments'].max()\n",
    "    highest_claim_paid_list.append(highest_claim_paid)    \n",
    "    print(i,iterate_months[i],'; ',highest_claim_paid)\n",
    "highest_claim_paid_list=[0 if x != x else x for x in highest_claim_paid_list]"
   ]
  },
  {
   "cell_type": "code",
   "execution_count": null,
   "metadata": {},
   "outputs": [],
   "source": [
    "highest_claim_paid_list"
   ]
  },
  {
   "cell_type": "markdown",
   "metadata": {},
   "source": [
    "***"
   ]
  },
  {
   "cell_type": "markdown",
   "metadata": {},
   "source": [
    "### Number, Value and Average Value of Claims Paid"
   ]
  },
  {
   "cell_type": "markdown",
   "metadata": {},
   "source": [
    "=COUNTIFS(Received_Claims!$H:$H,Summary!$C$2, : this is the product filter\n",
    "eceived_Claims!$P:$P,Summary!X5, : this is the date filter\n",
    "Received_Claims!$K:$K,\"Approve, Pay now\") : pay_now_filter"
   ]
  },
  {
   "cell_type": "code",
   "execution_count": null,
   "metadata": {},
   "outputs": [],
   "source": [
    "number_of_claims_paid_list=[]\n",
    "value_of_claims_paid_list=[]\n",
    "average_value_of_claims_paid_list=[]\n",
    "# value_claims_received_list=[]\n",
    "# gp_cancelations_list=[]\n",
    "for i in range(1,len(iterate_months)-1):\n",
    "#     last_day_of_month=last_day_of_month_fn(iterate_months[i])\n",
    "    average_value_of_claims_paid=0\n",
    "    claims_paid_date_filter=owls_received_claims_df['som_notification_date']==iterate_months[i]\n",
    "    f=claims_received_product_filter&claims_paid_date_filter&pay_now_filter\n",
    "    df=owls_received_claims_df[f].copy()\n",
    "    number_of_claims_paid=df.shape[0]\n",
    "    value_of_claims_paid=df['Original Reserve'].sum()\n",
    "    number_of_claims_paid_list.append(number_of_claims_paid)\n",
    "    value_of_claims_paid_list.append(value_of_claims_paid)\n",
    "    if number_of_claims_paid!=0:\n",
    "        average_value_of_claims_paid=value_of_claims_paid/number_of_claims_paid\n",
    "#         average_value_of_claims_paid_list.append(average_value_of_claims_paid)     \n",
    "    average_value_of_claims_paid_list.append(average_value_of_claims_paid)\n",
    "    print(i,iterate_months[i],'; ',average_value_of_claims_paid,number_of_claims_paid,value_of_claims_paid)\n",
    "# Average Cost Per Claim\n"
   ]
  },
  {
   "cell_type": "markdown",
   "metadata": {},
   "source": [
    "***"
   ]
  },
  {
   "cell_type": "markdown",
   "metadata": {},
   "source": [
    "### Number, Value and Average Value of Repudiated Claims"
   ]
  },
  {
   "cell_type": "markdown",
   "metadata": {},
   "source": [
    "=COUNTIFS(Received_Claims!$H:$H,Summary!$C$2,Received_Claims!$P:$P,Summary!X5,Received_Claims!$K:$K,\"Reject\")"
   ]
  },
  {
   "cell_type": "code",
   "execution_count": null,
   "metadata": {},
   "outputs": [],
   "source": []
  },
  {
   "cell_type": "code",
   "execution_count": null,
   "metadata": {},
   "outputs": [],
   "source": [
    "# reject_claims_filter\n",
    "reject_claims_list=[]\n",
    "value_of_reject_claims_list=[]\n",
    "average_value_of_reject_claims_list=[]\n",
    "# average_value_of_claims_paid_list=[]\n",
    "# value_claims_received_list=[]\n",
    "# gp_cancelations_list=[]\n",
    "for i in range(1,len(iterate_months)-1):\n",
    "#     last_day_of_month=last_day_of_month_fn(iterate_months[i])\n",
    "    average_value_of_reject_claims=0\n",
    "    claims_paid_date_filter=owls_received_claims_df['som_notification_date']==iterate_months[i]\n",
    "    f=claims_received_product_filter&claims_paid_date_filter&reject_claims_filter\n",
    "    df=owls_received_claims_df[f].copy()\n",
    "    reject_claims=df.shape[0]\n",
    "    value_of_reject_claims=df['Original Reserve'].sum()\n",
    "    reject_claims_list.append(reject_claims)\n",
    "    value_of_reject_claims_list.append(value_of_reject_claims)\n",
    "    if reject_claims!=0:\n",
    "        average_value_of_reject_claims=value_of_reject_claims/reject_claims\n",
    "#         average_value_of_reject_claims_list.append(average_value_of_reject_claims)     \n",
    "    average_value_of_reject_claims_list.append(average_value_of_reject_claims)\n",
    "    print(i,iterate_months[i],'; average_value_of_reject_claims: ',average_value_of_reject_claims,'; reject_claims: ',reject_claims,'; value_of_reject_claims: ',value_of_reject_claims)\n",
    "# Average Cost Per Claim\n"
   ]
  },
  {
   "cell_type": "markdown",
   "metadata": {},
   "source": [
    "***"
   ]
  },
  {
   "cell_type": "markdown",
   "metadata": {},
   "source": [
    "### Number, Value and Average Value of Outstanding Claims"
   ]
  },
  {
   "cell_type": "markdown",
   "metadata": {},
   "source": [
    "=COUNTIFS(Received_Claims!$H:$H,Summary!$C$2,Received_Claims!$P:$P,Summary!X5,Received_Claims!$K:$K,\"\")"
   ]
  },
  {
   "cell_type": "code",
   "execution_count": null,
   "metadata": {},
   "outputs": [],
   "source": [
    "# reject_claims_filter\n",
    "outstanding_claims_list=[]\n",
    "value_of_outstanding_claims_list=[]\n",
    "average_value_of_outstanding_claims_list=[]\n",
    "# average_value_of_claims_paid_list=[]\n",
    "# value_claims_received_list=[]\n",
    "# gp_cancelations_list=[]\n",
    "for i in range(1,len(iterate_months)-1):\n",
    "#     last_day_of_month=last_day_of_month_fn(iterate_months[i])\n",
    "    average_value_of_outstanding_claims=0\n",
    "    outstanding_claims_date_filter=owls_received_claims_df['som_notification_date']==iterate_months[i]\n",
    "    f=claims_received_product_filter&outstanding_claims_date_filter&outstanding_claims_filter\n",
    "    print(owls_received_claims_df[outstanding_claims_filter].shape[0])\n",
    "    df=owls_received_claims_df[f].copy()\n",
    "    outstanding_claims=df.shape[0]\n",
    "    value_of_outstanding_claims=df['Original Reserve'].sum()\n",
    "    outstanding_claims_list.append(outstanding_claims)\n",
    "    value_of_outstanding_claims_list.append(value_of_outstanding_claims)\n",
    "    if outstanding_claims!=0:\n",
    "        average_value_of_outstanding_claims=value_of_outstanding_claims/outstanding_claims\n",
    "#         average_value_of_outstanding_claims_list.append(average_value_of_outstanding_claims)   \n",
    "    average_value_of_outstanding_claims_list.append(average_value_of_outstanding_claims)\n",
    "    print(i,iterate_months[i],'; value_of_outstanding_claims: ',value_of_outstanding_claims,'; outstanding_claims: ',outstanding_claims,'; value_of_reject_claims: ',value_of_reject_claims)\n",
    "# Average Cost Per Claim\n"
   ]
  },
  {
   "cell_type": "markdown",
   "metadata": {},
   "source": [
    "***"
   ]
  },
  {
   "cell_type": "markdown",
   "metadata": {},
   "source": [
    "### Construct the report dataframe"
   ]
  },
  {
   "cell_type": "code",
   "execution_count": null,
   "metadata": {},
   "outputs": [],
   "source": [
    "index_list=['Active Policies',\n",
    "            'Live Policies',\n",
    "            'New Inactive Policies',\n",
    "            'Active Terminated Policies',\n",
    "            'Gross Premium',\n",
    "            'Gross Premium from Live Policies',\n",
    "            'Gross Premium from New Inactive Policies',\n",
    "            'Gross Premium from Active Terminated Policies',\n",
    "            'New Policies',\n",
    "            'GWP of New Policies',\n",
    "            'Average Premium',\n",
    "            'NTU',\n",
    "            'Gross Premium for NTU',\n",
    "            'Cancellations',\n",
    "            'Gross Premium for Cancellations',\n",
    "            'Number of Claims Received (Incl O/Docs Claims)',\n",
    "            'Value of Claims Received',\n",
    "            'Highest Claim Paid',\n",
    "            'Number of Claims Paid',\n",
    "            'Value of Claims Paid',\n",
    "            'Average Cost Per Claim',\n",
    "            'Repudiated Claims',\n",
    "            'Value of Repudiated Claims',\n",
    "            'Average Cost per repudiated claim',\n",
    "            'Number of Oustanding Claims',\n",
    "            'Value of Outstanding Claims',\n",
    "           'Average Value of Outstanding Claims']\n"
   ]
  },
  {
   "cell_type": "code",
   "execution_count": null,
   "metadata": {},
   "outputs": [],
   "source": [
    "data=[]\n",
    "data.append(active_policies_list)\n",
    "data.append(live_policies_list)\n",
    "data.append(new_policies_list)\n",
    "data.append(valid_terminations_list)\n",
    "data.append(active_grosspremium_list)\n",
    "data.append(live_policies_grosspremium_list)\n",
    "data.append(new_policies_grosspremium_list)\n",
    "data.append(valid_policies_grosspremium_list)\n",
    "\n",
    "data.append(new_policies_list)\n",
    "data.append(gwp_new_policies_list)\n",
    "data.append(average_premium_list)\n",
    "data.append(ntu_list)\n",
    "data.append(gp_ntu_list)\n",
    "data.append(cancelations_list)\n",
    "data.append(gp_cancelations_list)\n",
    "data.append(claims_received_list)\n",
    "data.append(value_claims_received_list)\n",
    "data.append(highest_claim_paid_list)\n",
    "data.append(number_of_claims_paid_list)\n",
    "data.append(value_of_claims_paid_list)\n",
    "\n",
    "data.append(average_value_of_claims_paid_list)\n",
    "data.append(reject_claims_list)\n",
    "data.append(value_of_reject_claims_list)\n",
    "data.append(average_value_of_reject_claims_list)\n",
    "data.append(outstanding_claims_list)\n",
    "data.append(value_of_outstanding_claims_list)\n",
    "data.append(average_value_of_outstanding_claims_list)\n"
   ]
  },
  {
   "cell_type": "code",
   "execution_count": null,
   "metadata": {},
   "outputs": [],
   "source": [
    "df = pd.DataFrame(data,index=index_list, columns=iterate_months[1:-1])"
   ]
  },
  {
   "cell_type": "code",
   "execution_count": null,
   "metadata": {},
   "outputs": [],
   "source": [
    "for i in range(1,len(iterate_months)-1):\n",
    "    print(iterate_months[i])"
   ]
  },
  {
   "cell_type": "code",
   "execution_count": null,
   "metadata": {},
   "outputs": [],
   "source": [
    "iterate_months[1:-1]"
   ]
  },
  {
   "cell_type": "code",
   "execution_count": null,
   "metadata": {},
   "outputs": [],
   "source": [
    "s=owls_members.split(\"_\")[1].split(\".\")[0]"
   ]
  },
  {
   "cell_type": "code",
   "execution_count": null,
   "metadata": {},
   "outputs": [],
   "source": [
    "df"
   ]
  },
  {
   "cell_type": "code",
   "execution_count": null,
   "metadata": {},
   "outputs": [],
   "source": [
    "# s=owls_received_claims_df['notification_date'].max()\n",
    "filename=\"cbr\"+'_'+product+\"_\"+s+\".csv\""
   ]
  },
  {
   "cell_type": "code",
   "execution_count": null,
   "metadata": {},
   "outputs": [],
   "source": [
    "filename"
   ]
  },
  {
   "cell_type": "code",
   "execution_count": null,
   "metadata": {},
   "outputs": [],
   "source": [
    "df.to_csv(path_or_buf=report_path+filename, sep=',', index=True)"
   ]
  },
  {
   "cell_type": "code",
   "execution_count": null,
   "metadata": {},
   "outputs": [],
   "source": [
    "\n",
    "# import pandas as pd\n",
    "\n",
    "# Give the filename you wish to save the file to\n",
    "# filename = 'Your_filename.csv'\n",
    "\n",
    "# Use this function to search for any files which match your filename\n",
    "files_present = glob.glob(report_path+filename)\n",
    "\n",
    "\n",
    "# if no matching files, write to csv, if there are matching files, print statement\n",
    "if not files_present:\n",
    "    df.to_csv(path_or_buf=report_path+filename, sep=',', index=True)\n",
    "else:\n",
    "    print('WARNING: This file already exists!')"
   ]
  },
  {
   "cell_type": "code",
   "execution_count": null,
   "metadata": {},
   "outputs": [],
   "source": [
    "iterate_months[0:-1]"
   ]
  },
  {
   "cell_type": "code",
   "execution_count": null,
   "metadata": {},
   "outputs": [],
   "source": []
  }
 ],
 "metadata": {
  "kernelspec": {
   "display_name": "Python 3",
   "language": "python",
   "name": "python3"
  },
  "language_info": {
   "codemirror_mode": {
    "name": "ipython",
    "version": 3
   },
   "file_extension": ".py",
   "mimetype": "text/x-python",
   "name": "python",
   "nbconvert_exporter": "python",
   "pygments_lexer": "ipython3",
   "version": "3.7.9"
  }
 },
 "nbformat": 4,
 "nbformat_minor": 4
}
