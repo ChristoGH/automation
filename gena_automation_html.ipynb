{
 "cells": [
  {
   "cell_type": "code",
   "execution_count": 1,
   "metadata": {},
   "outputs": [],
   "source": [
    "import webbrowser"
   ]
  },
  {
   "cell_type": "code",
   "execution_count": 2,
   "metadata": {},
   "outputs": [],
   "source": [
    "file_path='C:\\\\Users\\\\christo.strydom\\\\github_repos\\\\automation\\\\GenaOosthuizen\\\\'"
   ]
  },
  {
   "cell_type": "code",
   "execution_count": 11,
   "metadata": {},
   "outputs": [],
   "source": [
    "group_name='Overberg Agri'\n",
    "year='2018'"
   ]
  },
  {
   "cell_type": "code",
   "execution_count": 18,
   "metadata": {},
   "outputs": [],
   "source": [
    "template_name='automated_loss_ratio_report_template.xlsx'\n",
    "report_name='{group_name} - care range gap cover - {year} claims experience.pdf'.format(group_name=group_name,year=year)\n",
    "heading_title='{group_name} - care range gap cover - {year} claims experience'.format(group_name=group_name,year=year)\n",
    "file_name='Claims vs Premiums 2018.xlsx'\n",
    "file_path='C:\\\\Users\\\\christo.strydom\\\\github_repos\\\\automation\\\\GenaOosthuizen\\\\'\n",
    "path_to_pdf=file_path+report_name"
   ]
  },
  {
   "cell_type": "code",
   "execution_count": 34,
   "metadata": {},
   "outputs": [],
   "source": [
    "# https://www.tutorialspoint.com/html/html_fonts.htm\n",
    "f = open(file_path+'{report_name}.html'.format(report_name=report_name),'w')\n",
    "\n",
    "# message\n",
    "message = \"\"\"<html>\n",
    "<head></head>\n",
    "<body><p style=\"color:red;font-size:40px;\"><font face = \"arial\" size = \"5\">{heading_title}</font><br /></p></body>\n",
    "</html>\"\"\".format(heading_title=heading_title)\n",
    "\n",
    "f.write(message)\n",
    "\n",
    "f.close()"
   ]
  },
  {
   "cell_type": "code",
   "execution_count": 35,
   "metadata": {},
   "outputs": [
    {
     "data": {
      "text/plain": [
       "True"
      ]
     },
     "execution_count": 35,
     "metadata": {},
     "output_type": "execute_result"
    }
   ],
   "source": [
    "webbrowser.open_new_tab(file_path+'{report_name}.html'.format(report_name=report_name))"
   ]
  },
  {
   "cell_type": "code",
   "execution_count": null,
   "metadata": {},
   "outputs": [],
   "source": []
  }
 ],
 "metadata": {
  "kernelspec": {
   "display_name": "Python 3",
   "language": "python",
   "name": "python3"
  },
  "language_info": {
   "codemirror_mode": {
    "name": "ipython",
    "version": 3
   },
   "file_extension": ".py",
   "mimetype": "text/x-python",
   "name": "python",
   "nbconvert_exporter": "python",
   "pygments_lexer": "ipython3",
   "version": "3.7.9"
  }
 },
 "nbformat": 4,
 "nbformat_minor": 4
}
