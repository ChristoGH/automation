{
 "cells": [
  {
   "cell_type": "markdown",
   "metadata": {},
   "source": [
    "this is spun off cbr_automation_expanded_dev"
   ]
  },
  {
   "cell_type": "markdown",
   "metadata": {},
   "source": [
    "C:\\Users\\christo.strydom\\github_repos\\automation\\CBR\\Copy of 20210104_Master_Gap_CBR_LE_CS.xlsx"
   ]
  },
  {
   "cell_type": "code",
   "execution_count": 1,
   "metadata": {},
   "outputs": [],
   "source": [
    "import glob"
   ]
  },
  {
   "cell_type": "code",
   "execution_count": 2,
   "metadata": {},
   "outputs": [],
   "source": [
    "import os, os.path\n",
    "from os import listdir\n",
    "from os.path import isfile, join"
   ]
  },
  {
   "cell_type": "code",
   "execution_count": 3,
   "metadata": {},
   "outputs": [],
   "source": [
    "import pandas as pd\n",
    "import openpyxl\n",
    "import win32com.client"
   ]
  },
  {
   "cell_type": "code",
   "execution_count": 4,
   "metadata": {},
   "outputs": [],
   "source": [
    "from datetime import datetime, timedelta\n",
    "from dateutil.relativedelta import *"
   ]
  },
  {
   "cell_type": "code",
   "execution_count": 5,
   "metadata": {},
   "outputs": [],
   "source": [
    "import calendar\n",
    "import dateutil.parser"
   ]
  },
  {
   "cell_type": "code",
   "execution_count": 6,
   "metadata": {},
   "outputs": [],
   "source": [
    "def add_months(sourcedate, months):\n",
    "    month = sourcedate.month - 1 + months\n",
    "    year = sourcedate.year + month // 12\n",
    "    month = month % 12 + 1\n",
    "    day = min(sourcedate.day, calendar.monthrange(year,month)[1])\n",
    "    return datetime.date(year, month, day)\n",
    "\n",
    "def last_day_of_month_fn(any_day):\n",
    "    # this will never fail\n",
    "    # get close to the end of the month for any day, and add 4 days 'over'\n",
    "    next_month = any_day.replace(day=28) + timedelta(days=4)\n",
    "    # subtract the number of remaining 'overage' days to get last day of current month, or said programattically said, the previous day of the first of next month\n",
    "    return next_month - timedelta(days=next_month.day)"
   ]
  },
  {
   "cell_type": "code",
   "execution_count": 7,
   "metadata": {},
   "outputs": [],
   "source": [
    "# path=\"C:\\\\Users\\\\christo.strydom\\\\github_repos\\\\automation\\\\OWLS_data\\\\\"\n",
    "# owls_claims='Claim_Raw_new.csv' # fixed dates.\n",
    "# owls_members='Active_Listing_Raw.csv' # \n",
    "# owls_terminations='terminations_raw.csv'\n",
    "# owls_received_claims='received_claims.csv'"
   ]
  },
  {
   "cell_type": "code",
   "execution_count": 8,
   "metadata": {},
   "outputs": [],
   "source": [
    "data_path=\"C:\\\\Users\\\\christo.strydom\\\\github_repos\\\\automation\\\\CBR\\\\data\\\\\"\n",
    "report_path=\"C:\\\\Users\\\\christo.strydom\\\\github_repos\\\\automation\\\\CBR\\\\reports\\\\\"\n",
    "source_path='N:\\\\\\Data Science\\\\ChristoStrydom\\\\\\CBR Audit\\\\'\n",
    "path, dirs, files = next(os.walk(data_path))\n",
    "file_count = len(files)"
   ]
  },
  {
   "cell_type": "code",
   "execution_count": 9,
   "metadata": {},
   "outputs": [
    {
     "data": {
      "text/plain": [
       "15"
      ]
     },
     "execution_count": 9,
     "metadata": {},
     "output_type": "execute_result"
    }
   ],
   "source": [
    "file_count"
   ]
  },
  {
   "cell_type": "code",
   "execution_count": 10,
   "metadata": {},
   "outputs": [],
   "source": [
    "onlyfiles = [f for f in listdir(data_path) if isfile(join(data_path, f))]"
   ]
  },
  {
   "cell_type": "code",
   "execution_count": 11,
   "metadata": {},
   "outputs": [],
   "source": [
    "# path=\"C:\\\\Users\\\\christo.strydom\\\\github_repos\\\\automation\\\\CBR\\\\\""
   ]
  },
  {
   "cell_type": "code",
   "execution_count": 12,
   "metadata": {},
   "outputs": [],
   "source": [
    "# mip_claims='mip_claims.csv'\n",
    "# mip_members='mip_members.csv'"
   ]
  },
  {
   "cell_type": "code",
   "execution_count": 13,
   "metadata": {},
   "outputs": [],
   "source": [
    "# owls_claims='Claim_Raw_new.csv' # fixed dates.\n",
    "owls_members='members_3FEB2021.csv' # \n",
    "owls_terminations='terminations_3FEB2021.csv'\n",
    "owls_received_claims='received_claims_3FEB2021.csv'\n",
    "fname='20210111_Master_Gap_CBR_LE'\n",
    "spreadsheet_name=fname+'.xlsx'\n"
   ]
  },
  {
   "cell_type": "code",
   "execution_count": 14,
   "metadata": {},
   "outputs": [],
   "source": [
    "# owls_claims='Claim_Raw_new.csv' # fixed dates.\n",
    "# 20210111_Master_Gap_CBR_LE"
   ]
  },
  {
   "cell_type": "code",
   "execution_count": 15,
   "metadata": {},
   "outputs": [],
   "source": [
    "# owls_members='OWLS MEMBERS of 20210104_Master_Gap_CBR_LE_CS.csv'\n",
    "# owls_members_df=pd.read_csv(filepath_or_buffer=path+owls_members)"
   ]
  },
  {
   "cell_type": "code",
   "execution_count": 16,
   "metadata": {},
   "outputs": [],
   "source": [
    "# owls_members_df.to_csv(path_or_buf=path+\"owls_members.csv\",index=False)"
   ]
  },
  {
   "cell_type": "code",
   "execution_count": 17,
   "metadata": {},
   "outputs": [],
   "source": [
    "# mip_members_df=pd.read_csv(filepath_or_buffer=path+mip_members)"
   ]
  },
  {
   "cell_type": "code",
   "execution_count": 18,
   "metadata": {},
   "outputs": [],
   "source": [
    "# mip_claims_df=pd.read_csv(filepath_or_buffer=path+mip_claims)\n",
    "# mip_members_df=pd.read_csv(filepath_or_buffer=path+mip_members)"
   ]
  },
  {
   "cell_type": "code",
   "execution_count": 19,
   "metadata": {},
   "outputs": [],
   "source": [
    "# # owls_claims_df=pd.read_csv(filepath_or_buffer=path+owls_claims)\n",
    "owls_members_df=pd.read_excel(io=source_path+spreadsheet_name, sheet_name='Active_Listing_Raw')\n",
    "owls_terminations_df=pd.read_excel(io=source_path+spreadsheet_name, sheet_name='Terminations_Raw')\n",
    "owls_received_claims_df=pd.read_excel(io=source_path+spreadsheet_name, sheet_name='Received_Claims')\n",
    "# # owls_terminations_df=pd.read_csv(filepath_or_buffer=data_path+owls_terminations)\n",
    "# # owls_received_claims_df=pd.read_csv(filepath_or_buffer=data_path+owls_received_claims)\n",
    "# # owls_terminations='terminations_raw.csv'\n",
    "# # owls_received_claims='received_claims.csv'"
   ]
  },
  {
   "cell_type": "code",
   "execution_count": 20,
   "metadata": {},
   "outputs": [],
   "source": [
    "# owls_members_df=pd.read_excel(io=source_path+spreadsheet_name, sheet_name='Active_Listing_Raw')\n",
    "# owls_terminations_df=pd.read_excel(io=source_path+spreadsheet_name, sheet_name='Terminations_Raw')\n",
    "# owls_received_claims_df=pd.read_excel(io=source_path+spreadsheet_name, sheet_name='Received_Claims')"
   ]
  },
  {
   "cell_type": "code",
   "execution_count": 21,
   "metadata": {},
   "outputs": [],
   "source": [
    "# owls_members_df=pd.read_csv(filepath_or_buffer=data_path+owls_members)\n",
    "# owls_terminations_df=pd.read_csv(filepath_or_buffer=data_path+owls_terminations)\n",
    "# owls_received_claims_df=pd.read_csv(filepath_or_buffer=data_path+owls_received_claims)"
   ]
  },
  {
   "cell_type": "markdown",
   "metadata": {},
   "source": [
    "#### Date conversions"
   ]
  },
  {
   "cell_type": "markdown",
   "metadata": {},
   "source": [
    "owls_claims_df"
   ]
  },
  {
   "cell_type": "code",
   "execution_count": 22,
   "metadata": {},
   "outputs": [],
   "source": [
    "# owls_claims_df['fiscalperiod']=pd.to_datetime(owls_claims_df['fiscalperiod'], format='%Y/%m/%d', errors='ignore')\n",
    "# owls_claims_df['notificationdate']=pd.to_datetime(owls_claims_df['notificationdate'], format='%Y/%m/%d', errors='ignore')\n",
    "# owls_claims_df['incidentdate']=pd.to_datetime(owls_claims_df['incidentdate'], format='%Y/%m/%d', errors='ignore')\n",
    "# owls_claims_df['claimcreateddate']=pd.to_datetime(owls_claims_df['claimcreateddate'], format='%Y/%m/%d', errors='ignore')\n",
    "# owls_claims_df['inceptiondate']=pd.to_datetime(owls_claims_df['inceptiondate'], format='%m/%d/%Y', errors='ignore')\n",
    "# owls_claims_df['createddate']=pd.to_datetime(owls_claims_df['createddate'], format='%Y-%m-%d', errors='ignore')"
   ]
  },
  {
   "cell_type": "markdown",
   "metadata": {},
   "source": [
    "owls_members_df"
   ]
  },
  {
   "cell_type": "code",
   "execution_count": 23,
   "metadata": {},
   "outputs": [],
   "source": [
    "owls_members_df['policy_inceptiondate']=pd.to_datetime(owls_members_df['policy_inceptiondate'], format='%Y/%m/%d', errors='ignore')\n",
    "owls_members_df['policy_createddate']=pd.to_datetime(owls_members_df['policy_createddate'], format='%Y/%m/%d', errors='ignore')"
   ]
  },
  {
   "cell_type": "markdown",
   "metadata": {},
   "source": [
    "owls_terminations_df"
   ]
  },
  {
   "cell_type": "code",
   "execution_count": 24,
   "metadata": {},
   "outputs": [],
   "source": [
    "owls_terminations_df['policy_createddate']=pd.to_datetime(owls_terminations_df['policy_createddate'], format='%Y/%m/%d', errors='ignore')\n",
    "owls_terminations_df['policy_inceptiondate']=pd.to_datetime(owls_terminations_df['policy_inceptiondate'], format='%Y/%m/%d', errors='ignore')\n",
    "owls_terminations_df['policy_cancellationdate']=pd.to_datetime(owls_terminations_df['policy_cancellationdate'], format='%Y/%m/%d', errors='ignore')"
   ]
  },
  {
   "cell_type": "code",
   "execution_count": 25,
   "metadata": {},
   "outputs": [
    {
     "data": {
      "text/plain": [
       "0       2019-11-30\n",
       "1       2020-02-29\n",
       "2       2020-11-30\n",
       "3       2020-06-30\n",
       "4       2020-08-31\n",
       "           ...    \n",
       "59068   2020-10-31\n",
       "59069   2020-10-31\n",
       "59070   2020-08-31\n",
       "59071   2020-09-30\n",
       "59072   2020-12-31\n",
       "Name: policy_cancellationdate, Length: 59073, dtype: datetime64[ns]"
      ]
     },
     "execution_count": 25,
     "metadata": {},
     "output_type": "execute_result"
    }
   ],
   "source": [
    "owls_terminations_df['policy_cancellationdate']"
   ]
  },
  {
   "cell_type": "markdown",
   "metadata": {},
   "source": [
    "owls_received_claims_df"
   ]
  },
  {
   "cell_type": "markdown",
   "metadata": {},
   "source": [
    "Clean the Notification Date columns by removing nans and dates that are not recognised as dates.  Normalize all dates to a single format."
   ]
  },
  {
   "cell_type": "code",
   "execution_count": null,
   "metadata": {},
   "outputs": [],
   "source": []
  },
  {
   "cell_type": "code",
   "execution_count": 26,
   "metadata": {},
   "outputs": [],
   "source": [
    "# owls_received_claims_df['Created Date']=pd.to_datetime(owls_received_claims_df['Created Date'], format='%Y/%m/%d', errors='ignore')\n",
    "owls_received_claims_df['Notification Date']=pd.to_datetime(owls_received_claims_df['Notification Date'], format='%m/%d/%Y', errors='ignore')\n",
    "owls_received_claims_df['Policy Inception Date']=pd.to_datetime(owls_received_claims_df['Policy Inception Date'], format='%m/%d/%Y', errors='ignore')\n",
    "# owls_received_claims_df['Received Date']=pd.to_datetime(owls_received_claims_df['Received Date'], format='%m/%d/%Y', errors='ignore')"
   ]
  },
  {
   "cell_type": "code",
   "execution_count": 27,
   "metadata": {},
   "outputs": [],
   "source": [
    "# received_claims=owls_received_claims_df['Notification Date'].max()"
   ]
  },
  {
   "cell_type": "code",
   "execution_count": 28,
   "metadata": {},
   "outputs": [],
   "source": [
    "owls_received_claims_df['Notification Date']=pd.to_datetime(owls_received_claims_df['Notification Date'], format='%m/%d/%Y', errors='ignore')"
   ]
  },
  {
   "cell_type": "code",
   "execution_count": 29,
   "metadata": {},
   "outputs": [],
   "source": [
    "# remove nans:\n",
    "owls_received_claims_df=owls_received_claims_df[~owls_received_claims_df['Notification Date'].isna()].copy()"
   ]
  },
  {
   "cell_type": "code",
   "execution_count": 30,
   "metadata": {},
   "outputs": [],
   "source": [
    "owls_received_claims_df[['notification_date_1','notification_date_2', 'notification_date_3']]=owls_received_claims_df['Notification Date'].str.split('/',expand=True,)"
   ]
  },
  {
   "cell_type": "code",
   "execution_count": 31,
   "metadata": {},
   "outputs": [],
   "source": [
    "owls_received_claims_df=owls_received_claims_df[~pd.to_numeric(owls_received_claims_df['notification_date_1'],errors='coerce').isna()].copy()\n",
    "owls_received_claims_df=owls_received_claims_df[~pd.to_numeric(owls_received_claims_df['notification_date_2'],errors='coerce').isna()].copy()\n",
    "owls_received_claims_df=owls_received_claims_df[~pd.to_numeric(owls_received_claims_df['notification_date_3'],errors='coerce').isna()].copy()"
   ]
  },
  {
   "cell_type": "code",
   "execution_count": 32,
   "metadata": {},
   "outputs": [],
   "source": [
    "owls_received_claims_df.loc[owls_received_claims_df['notification_date_1'].str.len()==4,'notification_date_year']=owls_received_claims_df['notification_date_1']\n",
    "owls_received_claims_df.loc[owls_received_claims_df['notification_date_3'].str.len()==4,'notification_date_year']=owls_received_claims_df['notification_date_3']"
   ]
  },
  {
   "cell_type": "code",
   "execution_count": 33,
   "metadata": {},
   "outputs": [],
   "source": [
    "datestring=owls_received_claims_df['Notification Date'].iloc[-1]"
   ]
  },
  {
   "cell_type": "code",
   "execution_count": 34,
   "metadata": {},
   "outputs": [],
   "source": [
    "owls_received_claims_df['notification_date']=owls_received_claims_df.apply(lambda x: dateutil.parser.parse(x['Notification Date']), axis=1)"
   ]
  },
  {
   "cell_type": "code",
   "execution_count": 35,
   "metadata": {},
   "outputs": [],
   "source": [
    "owls_received_claims_df['som_notification_date']=owls_received_claims_df.apply(lambda x: datetime(x['notification_date'].year,x['notification_date'].month,1), axis=1)"
   ]
  },
  {
   "cell_type": "markdown",
   "metadata": {},
   "source": [
    "#### Create Date List and iterate_months"
   ]
  },
  {
   "cell_type": "code",
   "execution_count": 36,
   "metadata": {},
   "outputs": [],
   "source": [
    "today = datetime.today()\n",
    "months_ago = today + relativedelta(months=-12)\n",
    "som_months_ago = datetime(months_ago.year,months_ago.month,1)\n",
    "iterate_months=[som_months_ago+relativedelta(months=n) for n in range(12)]"
   ]
  },
  {
   "cell_type": "code",
   "execution_count": 37,
   "metadata": {},
   "outputs": [
    {
     "data": {
      "text/plain": [
       "[datetime.datetime(2020, 2, 1, 0, 0),\n",
       " datetime.datetime(2020, 3, 1, 0, 0),\n",
       " datetime.datetime(2020, 4, 1, 0, 0),\n",
       " datetime.datetime(2020, 5, 1, 0, 0),\n",
       " datetime.datetime(2020, 6, 1, 0, 0),\n",
       " datetime.datetime(2020, 7, 1, 0, 0),\n",
       " datetime.datetime(2020, 8, 1, 0, 0),\n",
       " datetime.datetime(2020, 9, 1, 0, 0),\n",
       " datetime.datetime(2020, 10, 1, 0, 0),\n",
       " datetime.datetime(2020, 11, 1, 0, 0),\n",
       " datetime.datetime(2020, 12, 1, 0, 0),\n",
       " datetime.datetime(2021, 1, 1, 0, 0),\n",
       " datetime.datetime(2021, 2, 1, 0, 0)]"
      ]
     },
     "execution_count": 37,
     "metadata": {},
     "output_type": "execute_result"
    }
   ],
   "source": [
    "nmonths=12\n",
    "today = datetime.today()\n",
    "months_ago = today + relativedelta(months=-nmonths)\n",
    "som_months_ago = datetime(months_ago.year,months_ago.month,1)\n",
    "iterate_months=[som_months_ago+relativedelta(months=n) for n in range(nmonths+1)]\n",
    "iterate_months"
   ]
  },
  {
   "cell_type": "code",
   "execution_count": 38,
   "metadata": {},
   "outputs": [
    {
     "name": "stdout",
     "output_type": "stream",
     "text": [
      "0 2020-02-01 00:00:00\n",
      "1 2020-03-01 00:00:00\n",
      "2 2020-04-01 00:00:00\n",
      "3 2020-05-01 00:00:00\n",
      "4 2020-06-01 00:00:00\n",
      "5 2020-07-01 00:00:00\n",
      "6 2020-08-01 00:00:00\n",
      "7 2020-09-01 00:00:00\n",
      "8 2020-10-01 00:00:00\n",
      "9 2020-11-01 00:00:00\n",
      "10 2020-12-01 00:00:00\n",
      "11 2021-01-01 00:00:00\n"
     ]
    }
   ],
   "source": [
    "for i in range(0,len(iterate_months)-1):\n",
    "    print(i,iterate_months[i])"
   ]
  },
  {
   "cell_type": "code",
   "execution_count": 39,
   "metadata": {},
   "outputs": [],
   "source": [
    "datelist=list(set(owls_terminations_df['policy_inceptiondate']))\n",
    "datelist.sort()\n",
    "# datelist.append(add_months(max(datelist),1))\n",
    "# dates=pd.date_range(min(datelist),add_months(max(datelist),1), freq='1M')-pd.offsets.MonthBegin(1)"
   ]
  },
  {
   "cell_type": "code",
   "execution_count": 40,
   "metadata": {},
   "outputs": [],
   "source": [
    "# dates=pd.date_range(min(dates),add_months(max(dates),1), freq='1M')-pd.offsets.MonthBegin(1)"
   ]
  },
  {
   "cell_type": "markdown",
   "metadata": {},
   "source": [
    "#### Create Product List"
   ]
  },
  {
   "cell_type": "code",
   "execution_count": 41,
   "metadata": {},
   "outputs": [],
   "source": [
    "f=~owls_terminations_df['productsetup_productsetupname'].isna()\n",
    "product_list=list(set(owls_terminations_df[f]['productsetup_productsetupname']))"
   ]
  },
  {
   "cell_type": "code",
   "execution_count": 42,
   "metadata": {},
   "outputs": [
    {
     "data": {
      "text/plain": [
       "['Sanlam Gap',\n",
       " 'MedExpense',\n",
       " 'Western Gap Care',\n",
       " 'Western Gap',\n",
       " 'Kaelo Gap',\n",
       " 'Centriq Cancer']"
      ]
     },
     "execution_count": 42,
     "metadata": {},
     "output_type": "execute_result"
    }
   ],
   "source": [
    "product_list"
   ]
  },
  {
   "cell_type": "code",
   "execution_count": 43,
   "metadata": {},
   "outputs": [],
   "source": [
    "members_live_filter=(owls_members_df['policy_status']=='Live')\n",
    "ntu_filter=owls_terminations_df['policy_status']=='Not Taken Up'\n",
    "cancelations_filter=owls_terminations_df['policy_status']=='Cancelled'\n",
    "pay_now_filter=owls_received_claims_df['Progress']=='Approve, Pay Now'\n",
    "reject_claims_filter=owls_received_claims_df['Progress']=='Reject'\n",
    "outstanding_claims_filter=owls_received_claims_df['Status']=='Outstanding docs received - sent to processing'\n",
    "\n",
    "# owls_members_live_filter=owls_members_df['policy_status']=='Live'\n",
    "# Received_Claims! 𝐾: K,\"Reject\"\n",
    "# Received_Claims!$K:$K,\"Approve, Pay now\")"
   ]
  },
  {
   "cell_type": "code",
   "execution_count": 44,
   "metadata": {},
   "outputs": [],
   "source": [
    "# owls_received_claims_df[outstanding_claims_filter]"
   ]
  },
  {
   "cell_type": "markdown",
   "metadata": {},
   "source": [
    "### Sanlam Split"
   ]
  },
  {
   "cell_type": "code",
   "execution_count": 45,
   "metadata": {},
   "outputs": [],
   "source": [
    "# owls_members_df['policy_paymentmethod']\n",
    "owls_members_df=owls_members_df[['policy_policynumber','policygroup_policygroupname','policy_paymentmethod','policy_grosspremium','policy_status','policy_totalpremium','productsetup_productsetupname','policy_inceptiondate']].copy()\n",
    "owls_terminations_df=owls_terminations_df[['policy_policynumber','policy_paymentmethod','policy_totalpremium','productsetup_productsetupname','policy_inceptiondate','policy_cancellationdate']].copy()\n",
    "owls_received_claims_df=owls_received_claims_df[['Claim Number','Total Payments','Notification Date','productsetupname','som_notification_date','Original Reserve','notification_date']].copy()"
   ]
  },
  {
   "cell_type": "code",
   "execution_count": 46,
   "metadata": {},
   "outputs": [],
   "source": [
    "owls_members_df['sanlam_split']=''\n",
    "f=owls_members_df['policy_paymentmethod']=='Debit'\n",
    "g=(owls_members_df['policy_paymentmethod']!='Debit')&(owls_members_df['policy_paymentmethod']!='')\n",
    "owls_members_df.loc[f, 'sanlam_split']=owls_members_df['productsetup_productsetupname'] + ' - Individual'\n",
    "owls_members_df.loc[g, 'sanlam_split']=owls_members_df['productsetup_productsetupname'] + ' - Corporate'"
   ]
  },
  {
   "cell_type": "code",
   "execution_count": 47,
   "metadata": {},
   "outputs": [],
   "source": [
    "owls_terminations_df['sanlam_split']=''\n",
    "f=owls_terminations_df['policy_paymentmethod']=='Debit'\n",
    "g=(owls_terminations_df['policy_paymentmethod']!='Debit')&(owls_terminations_df['policy_paymentmethod']!='')\n",
    "owls_terminations_df.loc[f, 'sanlam_split']=owls_terminations_df['productsetup_productsetupname'] + ' - Individual'\n",
    "owls_terminations_df.loc[g, 'sanlam_split']=owls_terminations_df['productsetup_productsetupname'] + ' - Corporate'"
   ]
  },
  {
   "cell_type": "code",
   "execution_count": 48,
   "metadata": {},
   "outputs": [],
   "source": [
    "owls_received_claims_df[['policy_policynumber_a','policy_policynumber_b']]=owls_received_claims_df['Claim Number'].str.split(\"/\",expand = True)"
   ]
  },
  {
   "cell_type": "code",
   "execution_count": 49,
   "metadata": {},
   "outputs": [],
   "source": [
    "# owls_received_claims_df[['policy_policynumber_a','policy_policynumber_b']]\n",
    "owls_received_claims_df.policy_policynumber_a = owls_received_claims_df.policy_policynumber_a.str.strip()"
   ]
  },
  {
   "cell_type": "code",
   "execution_count": 50,
   "metadata": {},
   "outputs": [],
   "source": [
    "df1=owls_received_claims_df.merge(owls_members_df[['policy_policynumber','sanlam_split']], left_on= 'policy_policynumber_a', right_on='policy_policynumber', how='left')"
   ]
  },
  {
   "cell_type": "code",
   "execution_count": 51,
   "metadata": {},
   "outputs": [
    {
     "data": {
      "text/plain": [
       "(12629, 11)"
      ]
     },
     "execution_count": 51,
     "metadata": {},
     "output_type": "execute_result"
    }
   ],
   "source": [
    "df1[~df1['sanlam_split'].isna()].shape"
   ]
  },
  {
   "cell_type": "code",
   "execution_count": 52,
   "metadata": {},
   "outputs": [],
   "source": [
    "df2=owls_received_claims_df.merge(owls_terminations_df[['policy_policynumber','sanlam_split']], left_on= 'policy_policynumber_a', right_on='policy_policynumber', how='left')"
   ]
  },
  {
   "cell_type": "code",
   "execution_count": 53,
   "metadata": {},
   "outputs": [
    {
     "data": {
      "text/plain": [
       "(1694, 11)"
      ]
     },
     "execution_count": 53,
     "metadata": {},
     "output_type": "execute_result"
    }
   ],
   "source": [
    "df2[~df2['sanlam_split'].isna()].shape"
   ]
  },
  {
   "cell_type": "code",
   "execution_count": 54,
   "metadata": {},
   "outputs": [
    {
     "data": {
      "text/plain": [
       "(14483, 11)"
      ]
     },
     "execution_count": 54,
     "metadata": {},
     "output_type": "execute_result"
    }
   ],
   "source": [
    "df1.shape"
   ]
  },
  {
   "cell_type": "code",
   "execution_count": 55,
   "metadata": {},
   "outputs": [
    {
     "data": {
      "text/plain": [
       "14323"
      ]
     },
     "execution_count": 55,
     "metadata": {},
     "output_type": "execute_result"
    }
   ],
   "source": [
    "df1[~df1.sanlam_split.isna()].shape[0]+df2[~df2.sanlam_split.isna()].shape[0]"
   ]
  },
  {
   "cell_type": "code",
   "execution_count": 56,
   "metadata": {},
   "outputs": [
    {
     "data": {
      "text/plain": [
       "(1694, 11)"
      ]
     },
     "execution_count": 56,
     "metadata": {},
     "output_type": "execute_result"
    }
   ],
   "source": [
    "df2[~df2.sanlam_split.isna()].shape"
   ]
  },
  {
   "cell_type": "code",
   "execution_count": 57,
   "metadata": {},
   "outputs": [],
   "source": [
    "gf=df1.append(df2, ignore_index = True) "
   ]
  },
  {
   "cell_type": "code",
   "execution_count": 58,
   "metadata": {},
   "outputs": [
    {
     "data": {
      "text/plain": [
       "{'Kaelo Gap - Corporate',\n",
       " 'Kaelo Gap - Individual',\n",
       " 'MedExpense - Corporate',\n",
       " 'MedExpense - Individual',\n",
       " 'Sanlam Gap - Corporate',\n",
       " 'Sanlam Gap - Individual',\n",
       " 'Western Gap - Corporate',\n",
       " 'Western Gap - Individual',\n",
       " 'Western Gap Care - Corporate',\n",
       " 'Western Gap Care - Individual',\n",
       " nan}"
      ]
     },
     "execution_count": 58,
     "metadata": {},
     "output_type": "execute_result"
    }
   ],
   "source": [
    "set(gf['sanlam_split'])"
   ]
  },
  {
   "cell_type": "code",
   "execution_count": 59,
   "metadata": {},
   "outputs": [
    {
     "data": {
      "text/plain": [
       "(14323, 11)"
      ]
     },
     "execution_count": 59,
     "metadata": {},
     "output_type": "execute_result"
    }
   ],
   "source": [
    "gf[~gf['sanlam_split'].isna()].shape"
   ]
  },
  {
   "cell_type": "markdown",
   "metadata": {},
   "source": [
    "***"
   ]
  },
  {
   "cell_type": "markdown",
   "metadata": {},
   "source": [
    "### Kaelo Gap"
   ]
  },
  {
   "cell_type": "code",
   "execution_count": 60,
   "metadata": {},
   "outputs": [],
   "source": [
    "owls_terminations_temp_df=owls_terminations_df.copy()"
   ]
  },
  {
   "cell_type": "code",
   "execution_count": 61,
   "metadata": {},
   "outputs": [],
   "source": [
    "product='Kaelo Gap'"
   ]
  },
  {
   "cell_type": "code",
   "execution_count": 62,
   "metadata": {},
   "outputs": [],
   "source": [
    "max_date=max([owls_members_df['policy_inceptiondate'].max(),owls_terminations_df['policy_inceptiondate'].max(),owls_terminations_df['policy_cancellationdate'].max()])\n",
    "# policy_inceptiondate,policy_cancellationdate"
   ]
  },
  {
   "cell_type": "code",
   "execution_count": 63,
   "metadata": {},
   "outputs": [],
   "source": [
    "owls_members_df=owls_members_df[['policy_grosspremium','policy_status','policy_totalpremium','productsetup_productsetupname','policy_inceptiondate']].copy()\n",
    "owls_terminations_df=owls_terminations_df[['policy_totalpremium','productsetup_productsetupname','policy_inceptiondate','policy_cancellationdate']].copy()\n",
    "owls_received_claims_df=owls_received_claims_df[['Total Payments','Notification Date','productsetupname','som_notification_date','Original Reserve','notification_date']].copy()"
   ]
  },
  {
   "cell_type": "code",
   "execution_count": 64,
   "metadata": {},
   "outputs": [],
   "source": [
    "terminations_product_filter=owls_terminations_df['productsetup_productsetupname']==product\n",
    "members_product_filter=(owls_members_df['productsetup_productsetupname']==product)\n",
    "claims_received_product_filter=(owls_received_claims_df['productsetupname']==product)\n",
    "# product_filter=(owls_members_df['productsetup_productsetupname']==product)\n",
    "# live_filter=(owls_members_df['policy_status']=='Live')"
   ]
  },
  {
   "cell_type": "markdown",
   "metadata": {},
   "source": [
    "Count live policies and calculate gross premium:"
   ]
  },
  {
   "cell_type": "code",
   "execution_count": 65,
   "metadata": {},
   "outputs": [],
   "source": [
    "live_df=owls_members_df[members_live_filter&members_product_filter]\n",
    "live_policies=live_df.shape[0]\n",
    "live_df=owls_members_df[members_live_filter&members_product_filter]\n",
    "live_policies_grosspremium=live_df['policy_totalpremium'].sum()"
   ]
  },
  {
   "cell_type": "markdown",
   "metadata": {},
   "source": [
    "Active Policies"
   ]
  },
  {
   "cell_type": "markdown",
   "metadata": {},
   "source": [
    "There are three components to counting policies.\n",
    " - count only active policies\n",
    " \n"
   ]
  },
  {
   "cell_type": "code",
   "execution_count": 66,
   "metadata": {},
   "outputs": [
    {
     "name": "stdout",
     "output_type": "stream",
     "text": [
      "COUNTIFS(Active_Listing_Raw!$I:$I,\"Live\",Active_Listing_Raw!$D:$D,Summary!$C$2)-COUNTIFS(Active_Listing_Raw!$G:$G,\">\"&Summary!AC5,Active_Listing_Raw!$D:$D,Summary!$C$2)+COUNTIFS(Terminations_Raw!$AF:$AF,\"<\"&Summary!AD5,Terminations_Raw!$AG:$AG,\">\"&Summary!AB5,Active_Listing_Raw!$D:$D,Summary!$C$2)\n"
     ]
    }
   ],
   "source": [
    "print('COUNTIFS(Active_Listing_Raw!$I:$I,\"Live\",Active_Listing_Raw!$D:$D,Summary!$C$2)-COUNTIFS(Active_Listing_Raw!$G:$G,\">\"&Summary!AC5,Active_Listing_Raw!$D:$D,Summary!$C$2)+COUNTIFS(Terminations_Raw!$AF:$AF,\"<\"&Summary!AD5,Terminations_Raw!$AG:$AG,\">\"&Summary!AB5,Active_Listing_Raw!$D:$D,Summary!$C$2)')"
   ]
  },
  {
   "cell_type": "markdown",
   "metadata": {},
   "source": [
    " - COUNTIFS(Active_Listing_Raw!$I:$I,\"Live\",Active_Listing_Raw!$D:$D,Summary!$C$2)- \n",
    " - COUNTIFS(Active_Listing_Raw!$G:$G,\">\"&Summary!AC5,Active_Listing_Raw!$D:$D,Summary!$C$2)+\n",
    " - COUNTIFS(Terminations_Raw!$AF:$AF,\">\"&Summary!AD5, #\n",
    " - Terminations_Raw!$AG:$AG,\">\"&Summary!AB5,Terminations_Raw!$D:$D,Summary!$C$2)"
   ]
  },
  {
   "cell_type": "code",
   "execution_count": 67,
   "metadata": {},
   "outputs": [
    {
     "name": "stdout",
     "output_type": "stream",
     "text": [
      "COUNTIFS(Terminations_Raw!$AF:$AF,\"<\"&Summary!AD5,Terminations_Raw!$AG:$AG,\">\"&Summary!AB5,Active_Listing_Raw!$D:$D,Summary!$C$2)\n"
     ]
    }
   ],
   "source": [
    "print('COUNTIFS(Terminations_Raw!$AF:$AF,\"<\"&Summary!AD5,Terminations_Raw!$AG:$AG,\">\"&Summary!AB5,Active_Listing_Raw!$D:$D,Summary!$C$2)')"
   ]
  },
  {
   "cell_type": "markdown",
   "metadata": {},
   "source": [
    " - Terminations_Raw!$AF:$AF,\"<\"&Summary!AD5 : all policies with inception date () __BEFORE__ the start of the next month __and__\n",
    " - Terminations_Raw!$AG:$AG,\">\"&Summary!AB5 : all policies with termination date __AFTER__ the start of the previous month __and__\n",
    " - Active_Listing_Raw!$D:$D,Summary!$C$2 : policies of this product"
   ]
  },
  {
   "cell_type": "markdown",
   "metadata": {},
   "source": [
    "### Active Policies"
   ]
  },
  {
   "cell_type": "markdown",
   "metadata": {},
   "source": [
    "***\n",
    "The number of __Active policies__ contain three items. For those policies of the specified product:\n",
    " - __Live Policies__: Count \"live\" policies only, that is where policy_status='live', this covers all data. This number is constant for all periods as it is only calculated on the latest complete data set and is not done on a by period basis.  To calculate for a particular period the dataset adjusted by doing the following:\n",
    " - __New Inactive Policies__: (Subtract) all policies that have inception date from the next period onwards.\n",
    " - __Active Terminated Policies__: (Add back) all __terminated__ policies that had inception date (policy_inceptiondate) __BEFORE__ the start of the next period and where the termination date (policy_cancellationdate) is __AFTER__ the start of the previous period\n",
    " - The previous period __New Inactive Policies__ MINUS the currrent period __New Inactive Policies__ yield the current period __New Policies__."
   ]
  },
  {
   "cell_type": "code",
   "execution_count": 68,
   "metadata": {},
   "outputs": [],
   "source": [
    "\n",
    "# date_filter=owls_members_df['policy_inceptiondate']>datelist[-3]"
   ]
  },
  {
   "cell_type": "code",
   "execution_count": 69,
   "metadata": {},
   "outputs": [],
   "source": [
    "# terminations_policy_inceptiondate_filter=owls_terminations_df['policy_inceptiondate']<iterate_months[i+1]"
   ]
  },
  {
   "cell_type": "code",
   "execution_count": null,
   "metadata": {},
   "outputs": [],
   "source": []
  },
  {
   "cell_type": "code",
   "execution_count": 70,
   "metadata": {},
   "outputs": [
    {
     "name": "stdout",
     "output_type": "stream",
     "text": [
      "0 2020-02-01 00:00:00\n",
      "i =  0 ; month:  2020-02-01 00:00:00 2 ; active_policies:  47240 ; live_policies:  51661 ; new_policies:  4421  valid_terminations:  0\n",
      "1 2020-03-01 00:00:00\n",
      "i =  1 ; month:  2020-03-01 00:00:00 19536 ; active_policies:  53914 ; live_policies:  51661 ; new_policies:  3975  valid_terminations:  6228\n",
      "2 2020-04-01 00:00:00\n",
      "i =  2 ; month:  2020-04-01 00:00:00 17336 ; active_policies:  53538 ; live_policies:  51661 ; new_policies:  3600  valid_terminations:  5477\n",
      "3 2020-05-01 00:00:00\n",
      "i =  3 ; month:  2020-05-01 00:00:00 15350 ; active_policies:  53146 ; live_policies:  51661 ; new_policies:  3339  valid_terminations:  4824\n",
      "4 2020-06-01 00:00:00\n",
      "i =  4 ; month:  2020-06-01 00:00:00 13711 ; active_policies:  52812 ; live_policies:  51661 ; new_policies:  3133  valid_terminations:  4284\n",
      "5 2020-07-01 00:00:00\n",
      "i =  5 ; month:  2020-07-01 00:00:00 12135 ; active_policies:  53107 ; live_policies:  51661 ; new_policies:  2238  valid_terminations:  3684\n",
      "6 2020-08-01 00:00:00\n",
      "i =  6 ; month:  2020-08-01 00:00:00 10588 ; active_policies:  52688 ; live_policies:  51661 ; new_policies:  1975  valid_terminations:  3002\n",
      "7 2020-09-01 00:00:00\n",
      "i =  7 ; month:  2020-09-01 00:00:00 8966 ; active_policies:  52804 ; live_policies:  51661 ; new_policies:  1310  valid_terminations:  2453\n",
      "8 2020-10-01 00:00:00\n",
      "i =  8 ; month:  2020-10-01 00:00:00 7353 ; active_policies:  52567 ; live_policies:  51661 ; new_policies:  960  valid_terminations:  1866\n",
      "9 2020-11-01 00:00:00\n",
      "i =  9 ; month:  2020-11-01 00:00:00 6044 ; active_policies:  52281 ; live_policies:  51661 ; new_policies:  716  valid_terminations:  1336\n",
      "10 2020-12-01 00:00:00\n",
      "i =  10 ; month:  2020-12-01 00:00:00 4840 ; active_policies:  52171 ; live_policies:  51661 ; new_policies:  462  valid_terminations:  972\n",
      "11 2021-01-01 00:00:00\n",
      "i =  11 ; month:  2021-01-01 00:00:00 3780 ; active_policies:  52319 ; live_policies:  51661 ; new_policies:  9  valid_terminations:  667\n"
     ]
    }
   ],
   "source": [
    "# terminations_product_filter=owls_terminations_df['productsetup_productsetupname']==product\n",
    "live_policies_list=[]\n",
    "new_policies_list=[]\n",
    "active_policies_list=[]\n",
    "valid_terminations_list=[]\n",
    "for i in range(0,len(iterate_months)-1):\n",
    "    print(i,iterate_months[i])\n",
    "\n",
    "    members_date_filter=owls_members_df['policy_inceptiondate']>iterate_months[i]\n",
    "    new_policies_df=owls_members_df[members_date_filter&members_product_filter]\n",
    "    new_policies=new_policies_df.shape[0]\n",
    "    terminations_policy_inceptiondate_filter=owls_terminations_df['policy_inceptiondate']<=max_date #iterate_months[i+1]\n",
    "    terminations_policy_cancellationdate_filter=owls_terminations_df['policy_cancellationdate']>iterate_months[i-1]\n",
    "    valid_terminations_filter=(terminations_policy_inceptiondate_filter&terminations_policy_cancellationdate_filter&terminations_product_filter)\n",
    "    valid_terminations_df=owls_terminations_df[valid_terminations_filter]\n",
    "    valid_terminations=valid_terminations_df.shape[0]\n",
    "    active_policies=live_policies-new_policies+valid_terminations    \n",
    "    print('i = ',i,'; month: ', iterate_months[i],owls_terminations_df[terminations_policy_cancellationdate_filter].shape[0],'; active_policies: ',active_policies,'; live_policies: ',live_policies,'; new_policies: ',new_policies, ' valid_terminations: ',valid_terminations)\n",
    "    live_policies_list.append(live_policies)\n",
    "    new_policies_list.append(new_policies)\n",
    "    valid_terminations_list.append(valid_terminations)\n",
    "    active_policies_list.append(active_policies)"
   ]
  },
  {
   "cell_type": "markdown",
   "metadata": {},
   "source": [
    "### Gross Premium"
   ]
  },
  {
   "cell_type": "markdown",
   "metadata": {},
   "source": [
    " - COUNTIFS(Active_Listing_Raw!$I:$I,\"Live\",Active_Listing_Raw!$D:$D,Summary!$C$2)- \n",
    " - COUNTIFS(Active_Listing_Raw!$G:$G,\">\"&Summary!AC5,Active_Listing_Raw!$D:$D,Summary!$C$2)+\n",
    " - COUNTIFS(Terminations_Raw!$AF:$AF,\">\"&Summary!AD5, #\n",
    " - Terminations_Raw!$AG:$AG,\">\"&Summary!AB5,Terminations_Raw!$D:$D,Summary!$C$2)"
   ]
  },
  {
   "cell_type": "markdown",
   "metadata": {},
   "source": [
    " - SUMIFS(Active_Listing_Raw!$AE:$AE,Active_Listing_Raw!$I:$I,\"Live\",Active_Listing_Raw!$D:$D,Summary!$C$2)\n",
    " - SUMIFS(Active_Listing_Raw!$AE:$AE,Active_Listing_Raw!$G:$G,\">\"&Summary!X5,Active_Listing_Raw!$D:$D,Summary!$C$2)\n",
    " - SUMIFS(Terminations_Raw!$AD:$AD,Terminations_Raw!$AF:$AF,\"<\"&Summary!Z5,Terminations_Raw!$AG:$AG,\">\"&Summary!W5,Terminations_Raw!$D:$D,Summary!$C$2)"
   ]
  },
  {
   "cell_type": "markdown",
   "metadata": {},
   "source": [
    "__ Notice the descrepancy here.  In calculating the number of valid terminated policies the excel spreadsheet conditions on AF  being later than "
   ]
  },
  {
   "cell_type": "code",
   "execution_count": 71,
   "metadata": {},
   "outputs": [
    {
     "name": "stdout",
     "output_type": "stream",
     "text": [
      "0 2020-02-01 00:00:00\n",
      "i =  0 ; month:  2020-02-01 00:00:00 ; active_policies_grosspremium:  10431487.0 ; live_policies_grosspremium:  11400668.0 ; new_policies_grosspremium:  969181.0  valid_policies_grosspremium:  0.0\n",
      "1 2020-03-01 00:00:00\n",
      "i =  1 ; month:  2020-03-01 00:00:00 ; active_policies_grosspremium:  11907270.47 ; live_policies_grosspremium:  11400668.0 ; new_policies_grosspremium:  865311.0  valid_policies_grosspremium:  1371913.47\n",
      "2 2020-04-01 00:00:00\n",
      "i =  2 ; month:  2020-04-01 00:00:00 ; active_policies_grosspremium:  11828968.83 ; live_policies_grosspremium:  11400668.0 ; new_policies_grosspremium:  781903.0  valid_policies_grosspremium:  1210203.83\n",
      "3 2020-05-01 00:00:00\n",
      "i =  3 ; month:  2020-05-01 00:00:00 ; active_policies_grosspremium:  11765752.89 ; live_policies_grosspremium:  11400668.0 ; new_policies_grosspremium:  718384.0  valid_policies_grosspremium:  1083468.89\n",
      "4 2020-06-01 00:00:00\n",
      "i =  4 ; month:  2020-06-01 00:00:00 ; active_policies_grosspremium:  11699123.66 ; live_policies_grosspremium:  11400668.0 ; new_policies_grosspremium:  663562.0  valid_policies_grosspremium:  962017.6599999999\n",
      "5 2020-07-01 00:00:00\n",
      "i =  5 ; month:  2020-07-01 00:00:00 ; active_policies_grosspremium:  11756165.68 ; live_policies_grosspremium:  11400668.0 ; new_policies_grosspremium:  498649.0  valid_policies_grosspremium:  854146.6799999999\n",
      "6 2020-08-01 00:00:00\n",
      "i =  6 ; month:  2020-08-01 00:00:00 ; active_policies_grosspremium:  11687561.99 ; live_policies_grosspremium:  11400668.0 ; new_policies_grosspremium:  426700.0  valid_policies_grosspremium:  713593.99\n",
      "7 2020-09-01 00:00:00\n",
      "i =  7 ; month:  2020-09-01 00:00:00 ; active_policies_grosspremium:  11658627.07 ; live_policies_grosspremium:  11400668.0 ; new_policies_grosspremium:  347853.0  valid_policies_grosspremium:  605812.0700000001\n",
      "8 2020-10-01 00:00:00\n",
      "i =  8 ; month:  2020-10-01 00:00:00 ; active_policies_grosspremium:  11626337.04 ; live_policies_grosspremium:  11400668.0 ; new_policies_grosspremium:  252842.0  valid_policies_grosspremium:  478511.04000000004\n",
      "9 2020-11-01 00:00:00\n",
      "i =  9 ; month:  2020-11-01 00:00:00 ; active_policies_grosspremium:  11558589.79 ; live_policies_grosspremium:  11400668.0 ; new_policies_grosspremium:  192283.0  valid_policies_grosspremium:  350204.79000000004\n",
      "10 2020-12-01 00:00:00\n",
      "i =  10 ; month:  2020-12-01 00:00:00 ; active_policies_grosspremium:  11539278.8 ; live_policies_grosspremium:  11400668.0 ; new_policies_grosspremium:  124486.0  valid_policies_grosspremium:  263096.8\n",
      "11 2021-01-01 00:00:00\n",
      "i =  11 ; month:  2021-01-01 00:00:00 ; active_policies_grosspremium:  11583671.55 ; live_policies_grosspremium:  11400668.0 ; new_policies_grosspremium:  3003.0  valid_policies_grosspremium:  186006.55\n"
     ]
    }
   ],
   "source": [
    "live_policies_grosspremium_list=[]\n",
    "new_policies_grosspremium_list=[]\n",
    "active_grosspremium_list=[]\n",
    "valid_policies_grosspremium_list=[]\n",
    "for i in range(0,len(iterate_months)-1):\n",
    "    print(i,iterate_months[i])\n",
    "    member_date_filter=owls_members_df['policy_inceptiondate']>iterate_months[i]\n",
    "#   ----------------------------------------------------------------------------------------------------------------------------\n",
    "    new_policies_df=owls_members_df[member_date_filter&members_product_filter]\n",
    "    new_policies_grosspremium=new_policies_df['policy_totalpremium'].sum()\n",
    "#   ----------------------------------------------------------------------------------------------------------------------------\n",
    "    terminations_policy_inceptiondate_filter=owls_terminations_df['policy_inceptiondate']<=max_date#iterate_months[i+1]\n",
    "    terminations_policy_cancellationdate_filter=owls_terminations_df['policy_cancellationdate']>iterate_months[i-1]\n",
    "    valid_terminations_filter=(terminations_policy_inceptiondate_filter&terminations_policy_cancellationdate_filter&terminations_product_filter)\n",
    "    valid_terminations_df=owls_terminations_df[valid_terminations_filter]\n",
    "    valid_policies_grosspremium=valid_terminations_df['policy_totalpremium'].sum()\n",
    "#   ----------------------------------------------------------------------------------------------------------------------------\n",
    "    active_policies_grosspremium=live_policies_grosspremium-new_policies_grosspremium+valid_policies_grosspremium    \n",
    "    print('i = ',i,'; month: ', iterate_months[i],'; active_policies_grosspremium: ',active_policies_grosspremium,'; live_policies_grosspremium: ',live_policies_grosspremium,'; new_policies_grosspremium: ',new_policies_grosspremium, ' valid_policies_grosspremium: ',valid_policies_grosspremium)\n",
    "    live_policies_grosspremium_list.append(live_policies_grosspremium)\n",
    "    new_policies_grosspremium_list.append(new_policies_grosspremium)\n",
    "    valid_policies_grosspremium_list.append(valid_policies_grosspremium)\n",
    "    active_grosspremium_list.append(active_policies_grosspremium)"
   ]
  },
  {
   "cell_type": "code",
   "execution_count": 72,
   "metadata": {},
   "outputs": [],
   "source": [
    "# # terminations_product_filter=owls_terminations_df['productsetup_productsetupname']==product\n",
    "# live_policies_list=[]\n",
    "# new_policies_list=[]\n",
    "# active_policies_list=[]\n",
    "# valid_terminations_list=[]\n",
    "\n",
    "# live_policies_grosspremium_list=[]\n",
    "# new_policies_grosspremium_list=[]\n",
    "# active_grosspremium_list=[]\n",
    "# valid_policies_grosspremium_list=[]\n",
    "\n",
    "# for i in range(1,len(iterate_months)-1):\n",
    "#     print(i,iterate_months[i])\n",
    "\n",
    "#     members_date_filter=owls_members_df['policy_inceptiondate']>iterate_months[i]\n",
    "#     new_policies_df=owls_members_df[members_date_filter&members_product_filter]\n",
    "    \n",
    "#     new_policies=new_policies_df.shape[0]\n",
    "#     new_policies_grosspremium=new_policies_df['policy_totalpremium'].sum()\n",
    "    \n",
    "#     terminations_policy_inceptiondate_filter=owls_terminations_df['policy_inceptiondate']<iterate_months[i+1]\n",
    "#     terminations_policy_cancellationdate_filter=owls_terminations_df['policy_cancellationdate']>iterate_months[i-1]\n",
    "    \n",
    "#     valid_terminations_filter=(terminations_policy_inceptiondate_filter&terminations_policy_cancellationdate_filter&terminations_product_filter)\n",
    "#     valid_terminations_df=owls_terminations_df[valid_terminations_filter]\n",
    "    \n",
    "#     valid_terminations=valid_terminations_df.shape[0]\n",
    "#     valid_policies_grosspremium=valid_terminations_df['policy_totalpremium'].sum()\n",
    "    \n",
    "#     active_policies=live_policies-new_policies+valid_terminations \n",
    "#     active_policies_grosspremium=live_policies_grosspremium-new_policies_grosspremium+valid_policies_grosspremium    \n",
    "    \n",
    "#     live_policies_list.append(live_policies)\n",
    "#     new_policies_list.append(new_policies)\n",
    "#     valid_terminations_list.append(valid_terminations)\n",
    "#     active_policies_list.append(active_policies)\n",
    "    \n",
    "#     live_policies_grosspremium_list.append(live_policies_grosspremium)\n",
    "#     new_policies_grosspremium_list.append(new_policies_grosspremium)\n",
    "#     valid_policies_grosspremium_list.append(valid_policies_grosspremium)\n",
    "#     active_grosspremium_list.append(active_policies_grosspremium)    \n",
    "    \n",
    "#     print('i = ',i,'; month: ', iterate_months[i],owls_terminations_df[terminations_policy_cancellationdate_filter].shape[0],'; active_policies: ',active_policies,'; live_policies: ',live_policies,'; new_policies: ',new_policies, ' valid_terminations: ',valid_terminations)\n"
   ]
  },
  {
   "cell_type": "markdown",
   "metadata": {},
   "source": [
    "### New policies"
   ]
  },
  {
   "cell_type": "code",
   "execution_count": 73,
   "metadata": {},
   "outputs": [],
   "source": [
    "# members_product_filter=(owls_members_df['productsetup_productsetupname']==product)\n",
    "# new_policy_filter=owls_members_df['policy_inceptiondate']==\n",
    "# owls_members_df[date_filter&product_filter].shape[0]"
   ]
  },
  {
   "cell_type": "markdown",
   "metadata": {},
   "source": [
    "Add back recent terminations falling in the window still to be deemed valid:\n",
    "- =COUNTIFS(Terminations_Raw!$AF:$AF,\"<\"&Summary!AD5,Terminations_Raw!$AG:$AG,\">\"&Summary!AB5,Active_Listing_Raw!$D:$D,Summary!$C$2)"
   ]
  },
  {
   "cell_type": "markdown",
   "metadata": {},
   "source": [
    " - =COUNTIFS(Active_Listing_Raw!$D:$D,Summary!$C$2,Active_Listing_Raw!$F:$F,Summary!AC5)"
   ]
  },
  {
   "cell_type": "markdown",
   "metadata": {},
   "source": [
    "pd.to_datetime(owls_terminations_df['policy_inceptiondate'], format='%Y/%m/%d', errors='ignore')"
   ]
  },
  {
   "cell_type": "code",
   "execution_count": 74,
   "metadata": {},
   "outputs": [
    {
     "name": "stdout",
     "output_type": "stream",
     "text": [
      "0 2020-02-01 00:00:00\n",
      "1 2020-03-01 00:00:00\n",
      "2 2020-04-01 00:00:00\n",
      "3 2020-05-01 00:00:00\n",
      "4 2020-06-01 00:00:00\n",
      "5 2020-07-01 00:00:00\n",
      "6 2020-08-01 00:00:00\n",
      "7 2020-09-01 00:00:00\n",
      "8 2020-10-01 00:00:00\n",
      "9 2020-11-01 00:00:00\n",
      "10 2020-12-01 00:00:00\n",
      "11 2021-01-01 00:00:00\n"
     ]
    }
   ],
   "source": [
    "# members_product_filter=(owls_members_df['productsetup_productsetupname']==product)\n",
    "new_policies_list=[]\n",
    "for i in range(0,len(iterate_months)-1):\n",
    "    print(i,iterate_months[i])\n",
    "    new_policies_date_filter=owls_members_df['policy_inceptiondate']==iterate_months[i]\n",
    "#   ----------------------------------------------------------------------------------------------------------------------------\n",
    "    new_policies_df=owls_members_df[new_policies_date_filter&members_product_filter]\n",
    "    new_policies=new_policies_df['policy_totalpremium'].shape[0]\n",
    "    new_policies_list.append(new_policies)"
   ]
  },
  {
   "cell_type": "code",
   "execution_count": 75,
   "metadata": {},
   "outputs": [
    {
     "data": {
      "text/plain": [
       "[562, 446, 375, 261, 206, 895, 263, 665, 350, 244, 254, 453]"
      ]
     },
     "execution_count": 75,
     "metadata": {},
     "output_type": "execute_result"
    }
   ],
   "source": [
    "new_policies_list"
   ]
  },
  {
   "cell_type": "markdown",
   "metadata": {},
   "source": [
    "### GWP of New Policies"
   ]
  },
  {
   "cell_type": "markdown",
   "metadata": {},
   "source": [
    "=SUMIFS(Active_Listing_Raw!$AC:$AC,Active_Listing_Raw!$D:$D,Summary!$C$2,Active_Listing_Raw!$F:$F,Summary!X5)"
   ]
  },
  {
   "cell_type": "code",
   "execution_count": 76,
   "metadata": {},
   "outputs": [],
   "source": [
    "# members_product_filter=(owls_members_df['productsetup_productsetupname']==product)\n",
    "# owls_members_df"
   ]
  },
  {
   "cell_type": "code",
   "execution_count": 77,
   "metadata": {},
   "outputs": [
    {
     "name": "stdout",
     "output_type": "stream",
     "text": [
      "0 2020-02-01 00:00:00 ;  125404.0\n",
      "1 2020-03-01 00:00:00 ;  103870.0\n",
      "2 2020-04-01 00:00:00 ;  83408.0\n",
      "3 2020-05-01 00:00:00 ;  63519.0\n",
      "4 2020-06-01 00:00:00 ;  54822.0\n",
      "5 2020-07-01 00:00:00 ;  164913.0\n",
      "6 2020-08-01 00:00:00 ;  71949.0\n",
      "7 2020-09-01 00:00:00 ;  78847.0\n",
      "8 2020-10-01 00:00:00 ;  95011.0\n",
      "9 2020-11-01 00:00:00 ;  60559.0\n",
      "10 2020-12-01 00:00:00 ;  67797.0\n",
      "11 2021-01-01 00:00:00 ;  121483.0\n"
     ]
    }
   ],
   "source": [
    "# members_product_filter=(owls_members_df['productsetup_productsetupname']==product)\n",
    "gwp_new_policies_list=[]\n",
    "for i in range(0,len(iterate_months)-1):\n",
    "#     print(i,iterate_months[i])\n",
    "    new_policies_date_filter=owls_members_df['policy_inceptiondate']==iterate_months[i]\n",
    "#   ----------------------------------------------------------------------------------------------------------------------------\n",
    "    new_policies_df=owls_members_df[new_policies_date_filter&members_product_filter]\n",
    "    gwp_new_policies=new_policies_df['policy_grosspremium'].sum()\n",
    "    gwp_new_policies_list.append(gwp_new_policies)\n",
    "    print(i,iterate_months[i],'; ', gwp_new_policies)"
   ]
  },
  {
   "cell_type": "markdown",
   "metadata": {},
   "source": [
    "### Average Premium"
   ]
  },
  {
   "cell_type": "code",
   "execution_count": 78,
   "metadata": {},
   "outputs": [
    {
     "name": "stdout",
     "output_type": "stream",
     "text": [
      "10431487.0 47240 220.81894580863676\n",
      "11907270.47 53914 220.85674351745374\n",
      "11828968.83 53538 220.9452880197243\n",
      "11765752.89 53146 221.3854831972303\n",
      "11699123.66 52812 221.52396538665454\n",
      "11756165.68 53107 221.36753497655675\n",
      "11687561.99 52688 221.8258804661403\n",
      "11658627.07 52804 220.79060431027952\n",
      "11626337.04 52567 221.17178153594458\n",
      "11558589.79 52281 221.08585891624105\n",
      "11539278.8 52171 221.18185965383068\n",
      "11583671.55 52319 221.40468185554008\n"
     ]
    }
   ],
   "source": [
    "active_grosspremium_list\n",
    "active_policies_list\n",
    "average_premium_list=[]\n",
    "for f, b in zip(active_grosspremium_list, active_policies_list):\n",
    "    average_premium_list.append(f/b)\n",
    "    print(f,b,f/b)"
   ]
  },
  {
   "cell_type": "markdown",
   "metadata": {},
   "source": [
    "### NTU"
   ]
  },
  {
   "cell_type": "markdown",
   "metadata": {},
   "source": [
    "=COUNTIFS(Terminations_Raw!$AF:$AF,Summary!Y$5,Terminations_Raw!$H:$H,\"Not Taken Up\",Terminations_Raw!$D:$D,Summary!$C$2)"
   ]
  },
  {
   "cell_type": "code",
   "execution_count": 79,
   "metadata": {},
   "outputs": [
    {
     "name": "stdout",
     "output_type": "stream",
     "text": [
      "0 2020-02-01 00:00:00 ;  42\n",
      "1 2020-03-01 00:00:00 ;  18\n",
      "2 2020-04-01 00:00:00 ;  21\n",
      "3 2020-05-01 00:00:00 ;  11\n",
      "4 2020-06-01 00:00:00 ;  5\n",
      "5 2020-07-01 00:00:00 ;  13\n",
      "6 2020-08-01 00:00:00 ;  18\n",
      "7 2020-09-01 00:00:00 ;  22\n",
      "8 2020-10-01 00:00:00 ;  7\n",
      "9 2020-11-01 00:00:00 ;  11\n",
      "10 2020-12-01 00:00:00 ;  6\n",
      "11 2021-01-01 00:00:00 ;  9\n"
     ]
    }
   ],
   "source": [
    "# terminations_product_filter=owls_terminations_df['productsetup_productsetupname']==product\n",
    "ntu_list=[]\n",
    "for i in range(0,len(iterate_months)-1):\n",
    "    terminations_policy_inceptiondate_filter=owls_terminations_df['policy_inceptiondate']==iterate_months[i]\n",
    "    f=terminations_product_filter&ntu_filter&terminations_policy_inceptiondate_filter\n",
    "    valid_terminations_df=owls_terminations_df[f]\n",
    "    ntu=valid_terminations_df.shape[0]\n",
    "    ntu_list.append(ntu)\n",
    "    print(i,iterate_months[i],'; ', ntu)"
   ]
  },
  {
   "cell_type": "markdown",
   "metadata": {},
   "source": [
    "### Gross premium for NTU"
   ]
  },
  {
   "cell_type": "markdown",
   "metadata": {},
   "source": [
    "=SUMIFS(Terminations_Raw!$AD:$AD,Terminations_Raw!$AF:$AF,Summary!X$5,Terminations_Raw!$H:$H,\"Not Taken Up\",Terminations_Raw!$D:$D,Summary!$C$2)"
   ]
  },
  {
   "cell_type": "code",
   "execution_count": 80,
   "metadata": {},
   "outputs": [],
   "source": [
    "# owls_terminations_df\n",
    "# terminations_product_filter\n",
    "# ntu_filter=owls_terminations_df['policy_status']=='Not Taken Up'\n",
    "# terminations_policy_inceptiondate_filter=owls_terminations_df['policy_inceptiondate']==iterate_months[i]\n",
    "# sum over policy_totalpremium\n",
    "# 'policy_inceptiondate'"
   ]
  },
  {
   "cell_type": "code",
   "execution_count": 81,
   "metadata": {},
   "outputs": [
    {
     "name": "stdout",
     "output_type": "stream",
     "text": [
      "0 2020-02-01 00:00:00 ;  296.0 559\n",
      "1 2020-03-01 00:00:00 ;  0.0 586\n",
      "2 2020-04-01 00:00:00 ;  0.0 633\n",
      "3 2020-05-01 00:00:00 ;  0.0 365\n",
      "4 2020-06-01 00:00:00 ;  0.0 282\n",
      "5 2020-07-01 00:00:00 ;  0.0 371\n",
      "6 2020-08-01 00:00:00 ;  2665.0 369\n",
      "7 2020-09-01 00:00:00 ;  2812.25 265\n",
      "8 2020-10-01 00:00:00 ;  2414.0 250\n",
      "9 2020-11-01 00:00:00 ;  3097.0 228\n",
      "10 2020-12-01 00:00:00 ;  1630.0 133\n",
      "11 2021-01-01 00:00:00 ;  2886.0 71\n"
     ]
    }
   ],
   "source": [
    "# ntu_filter=owls_terminations_df['policy_status']=='Not Taken Up'\n",
    "gp_ntu_list=[]\n",
    "for i in range(0,len(iterate_months)-1):\n",
    "    terminations_policy_inceptiondate_filter=owls_terminations_df['policy_inceptiondate']==iterate_months[i]\n",
    "    f=terminations_product_filter&ntu_filter&terminations_policy_inceptiondate_filter\n",
    "    valid_terminations_df=owls_terminations_df[f]\n",
    "    gp_ntu=valid_terminations_df['policy_totalpremium'].sum()\n",
    "    gp_ntu_list.append(gp_ntu)\n",
    "    print(i,iterate_months[i],'; ', gp_ntu,owls_terminations_df[terminations_policy_inceptiondate_filter].shape[0])"
   ]
  },
  {
   "cell_type": "markdown",
   "metadata": {},
   "source": [
    "***"
   ]
  },
  {
   "cell_type": "markdown",
   "metadata": {},
   "source": [
    "### Cancellations"
   ]
  },
  {
   "cell_type": "markdown",
   "metadata": {},
   "source": [
    "=COUNTIFS(Terminations_Raw!$AG:$AG,Summary!X$4,Terminations_Raw!$H:$H,\"Cancelled\",Terminations_Raw!$D:$D,Summary!$C$2)  \n",
    "policy_cancellationdate,cancelations_filter,terminations_product_filter\n",
    "'policy_totalpremium'"
   ]
  },
  {
   "cell_type": "code",
   "execution_count": 82,
   "metadata": {},
   "outputs": [
    {
     "name": "stdout",
     "output_type": "stream",
     "text": [
      "0 2020-02-01 00:00:00 ;  733 161709.64\n",
      "1 2020-03-01 00:00:00 ;  632 126734.94\n",
      "2 2020-04-01 00:00:00 ;  529 121451.22999999998\n",
      "3 2020-05-01 00:00:00 ;  595 107870.98\n",
      "4 2020-06-01 00:00:00 ;  669 140552.69\n",
      "5 2020-07-01 00:00:00 ;  531 105116.91999999998\n",
      "6 2020-08-01 00:00:00 ;  565 124488.78\n",
      "7 2020-09-01 00:00:00 ;  523 125892.25\n",
      "8 2020-10-01 00:00:00 ;  353 84010.99\n",
      "9 2020-11-01 00:00:00 ;  299 75460.25\n",
      "10 2020-12-01 00:00:00 ;  658 183120.55\n",
      "11 2021-01-01 00:00:00 ;  0 0.0\n"
     ]
    }
   ],
   "source": [
    "cancelations_list=[]\n",
    "gp_cancelations_list=[]\n",
    "for i in range(0,len(iterate_months)-1):\n",
    "    last_day_of_month=last_day_of_month_fn(iterate_months[i])\n",
    "    terminations_policy_cancellationdate_filter=owls_terminations_df['policy_cancellationdate']==last_day_of_month\n",
    "    f=terminations_product_filter&cancelations_filter&terminations_policy_cancellationdate_filter\n",
    "    valid_terminations_df=owls_terminations_df[f]\n",
    "    cancelations=valid_terminations_df.shape[0]\n",
    "    cancelations_list.append(cancelations)\n",
    "    gp_cancelations=valid_terminations_df['policy_totalpremium'].sum()\n",
    "    gp_cancelations_list.append(gp_cancelations)    \n",
    "    print(i,iterate_months[i],'; ',cancelations, gp_cancelations)"
   ]
  },
  {
   "cell_type": "markdown",
   "metadata": {},
   "source": [
    "*** "
   ]
  },
  {
   "cell_type": "markdown",
   "metadata": {},
   "source": [
    "### Number of Claims Received (Incl O/Docs Claims)"
   ]
  },
  {
   "cell_type": "markdown",
   "metadata": {},
   "source": [
    "=COUNTIFS(Received_Claims!$H:$H,Summary!$C$2,Received_Claims!$P:$P,Summary!X5)    \n",
    "Received_Claims! 𝑃: P,Summary!X5: Received Date, 'notification_date' compare notification date with period date  \n",
    "Received_Claims! 𝐻: H,Summary! 𝐶 2: product filter=received_claims_product_filter compare productsetupname with product \n"
   ]
  },
  {
   "cell_type": "code",
   "execution_count": 83,
   "metadata": {},
   "outputs": [
    {
     "name": "stdout",
     "output_type": "stream",
     "text": [
      "0 2020-02-01 00:00:00 ;  3 30825.66\n",
      "1 2020-03-01 00:00:00 ;  7 51571.0\n",
      "2 2020-04-01 00:00:00 ;  2 0.0\n",
      "3 2020-05-01 00:00:00 ;  3 76859.79999999999\n",
      "4 2020-06-01 00:00:00 ;  8 18424.6\n",
      "5 2020-07-01 00:00:00 ;  12 51583.469999999994\n",
      "6 2020-08-01 00:00:00 ;  24 241794.0\n",
      "7 2020-09-01 00:00:00 ;  182 1270835.13\n",
      "8 2020-10-01 00:00:00 ;  663 4852738.08\n",
      "9 2020-11-01 00:00:00 ;  805 6807544.59\n",
      "10 2020-12-01 00:00:00 ;  709 4924797.04\n",
      "11 2021-01-01 00:00:00 ;  68 459329.23000000004\n"
     ]
    }
   ],
   "source": [
    "claims_received_list=[]\n",
    "value_claims_received_list=[]\n",
    "# gp_cancelations_list=[]\n",
    "for i in range(0,len(iterate_months)-1):\n",
    "#     last_day_of_month=last_day_of_month_fn(iterate_months[i])\n",
    "    claims_received_notification_date_filter=owls_received_claims_df['som_notification_date']==iterate_months[i]\n",
    "    f=claims_received_product_filter&claims_received_notification_date_filter\n",
    "    df=owls_received_claims_df[f].copy()\n",
    "    claims_received=df.shape[0]\n",
    "    claims_received_list.append(claims_received)\n",
    "    value_claims_received=df['Original Reserve'].sum()\n",
    "    value_claims_received_list.append(value_claims_received)    \n",
    "    print(i,iterate_months[i],'; ',claims_received, value_claims_received)"
   ]
  },
  {
   "cell_type": "markdown",
   "metadata": {},
   "source": [
    "***"
   ]
  },
  {
   "cell_type": "markdown",
   "metadata": {},
   "source": [
    "### Highest Claim Paid"
   ]
  },
  {
   "cell_type": "markdown",
   "metadata": {},
   "source": [
    "=MAXIFS(Received_Claims!$L:$L,Received_Claims!$H:$H,Summary!$C$2,Received_Claims!$P:$P,Summary!X5)"
   ]
  },
  {
   "cell_type": "code",
   "execution_count": 84,
   "metadata": {},
   "outputs": [
    {
     "name": "stdout",
     "output_type": "stream",
     "text": [
      "0 2020-02-01 00:00:00 ;  1780.2\n",
      "1 2020-03-01 00:00:00 ;  70277.53\n",
      "2 2020-04-01 00:00:00 ;  18663.78\n",
      "3 2020-05-01 00:00:00 ;  17900.0\n",
      "4 2020-06-01 00:00:00 ;  59547.7\n",
      "5 2020-07-01 00:00:00 ;  19792.1\n",
      "6 2020-08-01 00:00:00 ;  72179.7\n",
      "7 2020-09-01 00:00:00 ;  98862.12\n",
      "8 2020-10-01 00:00:00 ;  69575.32\n",
      "9 2020-11-01 00:00:00 ;  58499.42\n",
      "10 2020-12-01 00:00:00 ;  63409.25\n",
      "11 2021-01-01 00:00:00 ;  20178.09\n"
     ]
    }
   ],
   "source": [
    "highest_claim_paid_list=[]\n",
    "# value_claims_received_list=[]\n",
    "# gp_cancelations_list=[]\n",
    "for i in range(0,len(iterate_months)-1):\n",
    "#     last_day_of_month=last_day_of_month_fn(iterate_months[i])\n",
    "    claims_paid_date_filter=owls_received_claims_df['som_notification_date']==iterate_months[i]\n",
    "    f=claims_received_product_filter&claims_paid_date_filter    \n",
    "    df=owls_received_claims_df[f].copy()\n",
    "    highest_claim_paid=df['Total Payments'].max()\n",
    "    highest_claim_paid_list.append(highest_claim_paid)    \n",
    "    print(i,iterate_months[i],'; ',highest_claim_paid)\n",
    "highest_claim_paid_list=[0 if x != x else x for x in highest_claim_paid_list]"
   ]
  },
  {
   "cell_type": "code",
   "execution_count": 85,
   "metadata": {},
   "outputs": [
    {
     "data": {
      "text/plain": [
       "[1780.2,\n",
       " 70277.53,\n",
       " 18663.78,\n",
       " 17900.0,\n",
       " 59547.7,\n",
       " 19792.1,\n",
       " 72179.7,\n",
       " 98862.12,\n",
       " 69575.32,\n",
       " 58499.42,\n",
       " 63409.25,\n",
       " 20178.09]"
      ]
     },
     "execution_count": 85,
     "metadata": {},
     "output_type": "execute_result"
    }
   ],
   "source": [
    "highest_claim_paid_list"
   ]
  },
  {
   "cell_type": "markdown",
   "metadata": {},
   "source": [
    "***"
   ]
  },
  {
   "cell_type": "markdown",
   "metadata": {},
   "source": [
    "### Number, Value and Average Value of Claims Paid"
   ]
  },
  {
   "cell_type": "markdown",
   "metadata": {},
   "source": [
    "=COUNTIFS(Received_Claims!$H:$H,Summary!$C$2, : this is the product filter\n",
    "eceived_Claims!$P:$P,Summary!X5, : this is the date filter\n",
    "Received_Claims!$K:$K,\"Approve, Pay now\") : pay_now_filter"
   ]
  },
  {
   "cell_type": "code",
   "execution_count": 86,
   "metadata": {},
   "outputs": [
    {
     "name": "stdout",
     "output_type": "stream",
     "text": [
      "0 2020-02-01 00:00:00 ;  0.0 1 0.0\n",
      "1 2020-03-01 00:00:00 ;  17000.0 3 51000.0\n",
      "2 2020-04-01 00:00:00 ;  0.0 2 0.0\n",
      "3 2020-05-01 00:00:00 ;  0 0 0.0\n",
      "4 2020-06-01 00:00:00 ;  8125.0 2 16250.0\n",
      "5 2020-07-01 00:00:00 ;  3492.6475 8 27941.18\n",
      "6 2020-08-01 00:00:00 ;  11421.15625 16 182738.5\n",
      "7 2020-09-01 00:00:00 ;  8872.469673913043 92 816267.21\n",
      "8 2020-10-01 00:00:00 ;  9450.63109589041 365 3449480.35\n",
      "9 2020-11-01 00:00:00 ;  11038.10404494382 445 4911956.3\n",
      "10 2020-12-01 00:00:00 ;  9206.711461538462 260 2393744.98\n",
      "11 2021-01-01 00:00:00 ;  9137.044545454546 22 201014.98\n"
     ]
    }
   ],
   "source": [
    "number_of_claims_paid_list=[]\n",
    "value_of_claims_paid_list=[]\n",
    "average_value_of_claims_paid_list=[]\n",
    "# value_claims_received_list=[]\n",
    "# gp_cancelations_list=[]\n",
    "for i in range(0,len(iterate_months)-1):\n",
    "#     last_day_of_month=last_day_of_month_fn(iterate_months[i])\n",
    "    average_value_of_claims_paid=0\n",
    "    claims_paid_date_filter=owls_received_claims_df['som_notification_date']==iterate_months[i]\n",
    "    f=claims_received_product_filter&claims_paid_date_filter&pay_now_filter\n",
    "    df=owls_received_claims_df[f].copy()\n",
    "    number_of_claims_paid=df.shape[0]\n",
    "    value_of_claims_paid=df['Original Reserve'].sum()\n",
    "    number_of_claims_paid_list.append(number_of_claims_paid)\n",
    "    value_of_claims_paid_list.append(value_of_claims_paid)\n",
    "    if number_of_claims_paid!=0:\n",
    "        average_value_of_claims_paid=value_of_claims_paid/number_of_claims_paid\n",
    "#         average_value_of_claims_paid_list.append(average_value_of_claims_paid)     \n",
    "    average_value_of_claims_paid_list.append(average_value_of_claims_paid)\n",
    "    print(i,iterate_months[i],'; ',average_value_of_claims_paid,number_of_claims_paid,value_of_claims_paid)\n",
    "# Average Cost Per Claim\n"
   ]
  },
  {
   "cell_type": "markdown",
   "metadata": {},
   "source": [
    "***"
   ]
  },
  {
   "cell_type": "markdown",
   "metadata": {},
   "source": [
    "### Number, Value and Average Value of Repudiated Claims"
   ]
  },
  {
   "cell_type": "markdown",
   "metadata": {},
   "source": [
    "=COUNTIFS(Received_Claims!$H:$H,Summary!$C$2,Received_Claims!$P:$P,Summary!X5,Received_Claims!$K:$K,\"Reject\")"
   ]
  },
  {
   "cell_type": "code",
   "execution_count": null,
   "metadata": {},
   "outputs": [],
   "source": []
  },
  {
   "cell_type": "code",
   "execution_count": 87,
   "metadata": {},
   "outputs": [
    {
     "name": "stdout",
     "output_type": "stream",
     "text": [
      "0 2020-02-01 00:00:00 ; average_value_of_reject_claims:  0 ; reject_claims:  0 ; value_of_reject_claims:  0.0\n",
      "1 2020-03-01 00:00:00 ; average_value_of_reject_claims:  0.0 ; reject_claims:  1 ; value_of_reject_claims:  0.0\n",
      "2 2020-04-01 00:00:00 ; average_value_of_reject_claims:  0 ; reject_claims:  0 ; value_of_reject_claims:  0.0\n",
      "3 2020-05-01 00:00:00 ; average_value_of_reject_claims:  35392.405 ; reject_claims:  2 ; value_of_reject_claims:  70784.81\n",
      "4 2020-06-01 00:00:00 ; average_value_of_reject_claims:  543.65 ; reject_claims:  4 ; value_of_reject_claims:  2174.6\n",
      "5 2020-07-01 00:00:00 ; average_value_of_reject_claims:  5014.75 ; reject_claims:  2 ; value_of_reject_claims:  10029.5\n",
      "6 2020-08-01 00:00:00 ; average_value_of_reject_claims:  7668.157142857142 ; reject_claims:  7 ; value_of_reject_claims:  53677.1\n",
      "7 2020-09-01 00:00:00 ; average_value_of_reject_claims:  5476.467924528301 ; reject_claims:  53 ; value_of_reject_claims:  290252.8\n",
      "8 2020-10-01 00:00:00 ; average_value_of_reject_claims:  4691.623791208792 ; reject_claims:  182 ; value_of_reject_claims:  853875.53\n",
      "9 2020-11-01 00:00:00 ; average_value_of_reject_claims:  3618.8210126582285 ; reject_claims:  158 ; value_of_reject_claims:  571773.7200000001\n",
      "10 2020-12-01 00:00:00 ; average_value_of_reject_claims:  3932.599083969466 ; reject_claims:  131 ; value_of_reject_claims:  515170.48000000004\n",
      "11 2021-01-01 00:00:00 ; average_value_of_reject_claims:  1668.0814285714284 ; reject_claims:  7 ; value_of_reject_claims:  11676.57\n"
     ]
    }
   ],
   "source": [
    "# reject_claims_filter\n",
    "reject_claims_list=[]\n",
    "value_of_reject_claims_list=[]\n",
    "average_value_of_reject_claims_list=[]\n",
    "# average_value_of_claims_paid_list=[]\n",
    "# value_claims_received_list=[]\n",
    "# gp_cancelations_list=[]\n",
    "for i in range(0,len(iterate_months)-1):\n",
    "#     last_day_of_month=last_day_of_month_fn(iterate_months[i])\n",
    "    average_value_of_reject_claims=0\n",
    "    claims_paid_date_filter=owls_received_claims_df['som_notification_date']==iterate_months[i]\n",
    "    f=claims_received_product_filter&claims_paid_date_filter&reject_claims_filter\n",
    "    df=owls_received_claims_df[f].copy()\n",
    "    reject_claims=df.shape[0]\n",
    "    value_of_reject_claims=df['Original Reserve'].sum()\n",
    "    reject_claims_list.append(reject_claims)\n",
    "    value_of_reject_claims_list.append(value_of_reject_claims)\n",
    "    if reject_claims!=0:\n",
    "        average_value_of_reject_claims=value_of_reject_claims/reject_claims\n",
    "#         average_value_of_reject_claims_list.append(average_value_of_reject_claims)     \n",
    "    average_value_of_reject_claims_list.append(average_value_of_reject_claims)\n",
    "    print(i,iterate_months[i],'; average_value_of_reject_claims: ',average_value_of_reject_claims,'; reject_claims: ',reject_claims,'; value_of_reject_claims: ',value_of_reject_claims)\n",
    "# Average Cost Per Claim\n"
   ]
  },
  {
   "cell_type": "markdown",
   "metadata": {},
   "source": [
    "***"
   ]
  },
  {
   "cell_type": "markdown",
   "metadata": {},
   "source": [
    "### Number, Value and Average Value of Outstanding Claims"
   ]
  },
  {
   "cell_type": "markdown",
   "metadata": {},
   "source": [
    "=COUNTIFS(Received_Claims!$H:$H,Summary!$C$2,Received_Claims!$P:$P,Summary!X5,Received_Claims!$K:$K,\"\")"
   ]
  },
  {
   "cell_type": "code",
   "execution_count": 88,
   "metadata": {},
   "outputs": [
    {
     "name": "stdout",
     "output_type": "stream",
     "text": [
      "309\n",
      "0 2020-02-01 00:00:00 ; value_of_outstanding_claims:  0.0 ; outstanding_claims:  0 ; value_of_reject_claims:  11676.57\n",
      "309\n",
      "1 2020-03-01 00:00:00 ; value_of_outstanding_claims:  0.0 ; outstanding_claims:  0 ; value_of_reject_claims:  11676.57\n",
      "309\n",
      "2 2020-04-01 00:00:00 ; value_of_outstanding_claims:  0.0 ; outstanding_claims:  0 ; value_of_reject_claims:  11676.57\n",
      "309\n",
      "3 2020-05-01 00:00:00 ; value_of_outstanding_claims:  0.0 ; outstanding_claims:  0 ; value_of_reject_claims:  11676.57\n",
      "309\n",
      "4 2020-06-01 00:00:00 ; value_of_outstanding_claims:  0.0 ; outstanding_claims:  0 ; value_of_reject_claims:  11676.57\n",
      "309\n",
      "5 2020-07-01 00:00:00 ; value_of_outstanding_claims:  0.0 ; outstanding_claims:  0 ; value_of_reject_claims:  11676.57\n",
      "309\n",
      "6 2020-08-01 00:00:00 ; value_of_outstanding_claims:  7137.4 ; outstanding_claims:  1 ; value_of_reject_claims:  11676.57\n",
      "309\n",
      "7 2020-09-01 00:00:00 ; value_of_outstanding_claims:  8269.9 ; outstanding_claims:  4 ; value_of_reject_claims:  11676.57\n",
      "309\n",
      "8 2020-10-01 00:00:00 ; value_of_outstanding_claims:  23823.85 ; outstanding_claims:  6 ; value_of_reject_claims:  11676.57\n",
      "309\n",
      "9 2020-11-01 00:00:00 ; value_of_outstanding_claims:  95183.07 ; outstanding_claims:  16 ; value_of_reject_claims:  11676.57\n",
      "309\n",
      "10 2020-12-01 00:00:00 ; value_of_outstanding_claims:  119396.75 ; outstanding_claims:  16 ; value_of_reject_claims:  11676.57\n",
      "309\n",
      "11 2021-01-01 00:00:00 ; value_of_outstanding_claims:  0.0 ; outstanding_claims:  0 ; value_of_reject_claims:  11676.57\n"
     ]
    }
   ],
   "source": [
    "# reject_claims_filter\n",
    "outstanding_claims_list=[]\n",
    "value_of_outstanding_claims_list=[]\n",
    "average_value_of_outstanding_claims_list=[]\n",
    "# average_value_of_claims_paid_list=[]\n",
    "# value_claims_received_list=[]\n",
    "# gp_cancelations_list=[]\n",
    "for i in range(0,len(iterate_months)-1):\n",
    "#     last_day_of_month=last_day_of_month_fn(iterate_months[i])\n",
    "    average_value_of_outstanding_claims=0\n",
    "    outstanding_claims_date_filter=owls_received_claims_df['som_notification_date']==iterate_months[i]\n",
    "    f=claims_received_product_filter&outstanding_claims_date_filter&outstanding_claims_filter\n",
    "    print(owls_received_claims_df[outstanding_claims_filter].shape[0])\n",
    "    df=owls_received_claims_df[f].copy()\n",
    "    outstanding_claims=df.shape[0]\n",
    "    value_of_outstanding_claims=df['Original Reserve'].sum()\n",
    "    outstanding_claims_list.append(outstanding_claims)\n",
    "    value_of_outstanding_claims_list.append(value_of_outstanding_claims)\n",
    "    if outstanding_claims!=0:\n",
    "        average_value_of_outstanding_claims=value_of_outstanding_claims/outstanding_claims\n",
    "#         average_value_of_outstanding_claims_list.append(average_value_of_outstanding_claims)   \n",
    "    average_value_of_outstanding_claims_list.append(average_value_of_outstanding_claims)\n",
    "    print(i,iterate_months[i],'; value_of_outstanding_claims: ',value_of_outstanding_claims,'; outstanding_claims: ',outstanding_claims,'; value_of_reject_claims: ',value_of_reject_claims)\n",
    "# Average Cost Per Claim\n"
   ]
  },
  {
   "cell_type": "markdown",
   "metadata": {},
   "source": [
    "***"
   ]
  },
  {
   "cell_type": "markdown",
   "metadata": {},
   "source": [
    "### Construct the report dataframe"
   ]
  },
  {
   "cell_type": "code",
   "execution_count": 89,
   "metadata": {},
   "outputs": [],
   "source": [
    "index_list=['Active Policies',\n",
    "            'Live Policies',\n",
    "            'New Inactive Policies',\n",
    "            'Active Terminated Policies',\n",
    "            'Gross Premium',\n",
    "            'Gross Premium from Live Policies',\n",
    "            'Gross Premium from New Inactive Policies',\n",
    "            'Gross Premium from Active Terminated Policies',\n",
    "            'New Policies',\n",
    "            'GWP of New Policies',\n",
    "            'Average Premium',\n",
    "            'NTU',\n",
    "            'Gross Premium for NTU',\n",
    "            'Cancellations',\n",
    "            'Gross Premium for Cancellations',\n",
    "            'Number of Claims Received (Incl O/Docs Claims)',\n",
    "            'Value of Claims Received',\n",
    "            'Highest Claim Paid',\n",
    "            'Number of Claims Paid',\n",
    "            'Value of Claims Paid',\n",
    "            'Average Cost Per Claim',\n",
    "            'Repudiated Claims',\n",
    "            'Value of Repudiated Claims',\n",
    "            'Average Cost per repudiated claim',\n",
    "            'Number of Oustanding Claims',\n",
    "            'Value of Outstanding Claims',\n",
    "           'Average Value of Outstanding Claims']\n"
   ]
  },
  {
   "cell_type": "code",
   "execution_count": 90,
   "metadata": {},
   "outputs": [],
   "source": [
    "data=[]\n",
    "data.append(active_policies_list)\n",
    "data.append(live_policies_list)\n",
    "data.append(new_policies_list)\n",
    "data.append(valid_terminations_list)\n",
    "data.append(active_grosspremium_list)\n",
    "data.append(live_policies_grosspremium_list)\n",
    "data.append(new_policies_grosspremium_list)\n",
    "data.append(valid_policies_grosspremium_list)\n",
    "\n",
    "data.append(new_policies_list)\n",
    "data.append(gwp_new_policies_list)\n",
    "data.append(average_premium_list)\n",
    "data.append(ntu_list)\n",
    "data.append(gp_ntu_list)\n",
    "data.append(cancelations_list)\n",
    "data.append(gp_cancelations_list)\n",
    "data.append(claims_received_list)\n",
    "data.append(value_claims_received_list)\n",
    "data.append(highest_claim_paid_list)\n",
    "data.append(number_of_claims_paid_list)\n",
    "data.append(value_of_claims_paid_list)\n",
    "\n",
    "data.append(average_value_of_claims_paid_list)\n",
    "data.append(reject_claims_list)\n",
    "data.append(value_of_reject_claims_list)\n",
    "data.append(average_value_of_reject_claims_list)\n",
    "data.append(outstanding_claims_list)\n",
    "data.append(value_of_outstanding_claims_list)\n",
    "data.append(average_value_of_outstanding_claims_list)\n"
   ]
  },
  {
   "cell_type": "code",
   "execution_count": 91,
   "metadata": {},
   "outputs": [],
   "source": [
    "df = pd.DataFrame(data,index=index_list, columns=iterate_months[0:-1])"
   ]
  },
  {
   "cell_type": "code",
   "execution_count": 92,
   "metadata": {},
   "outputs": [],
   "source": [
    "s=owls_members.split(\"_\")[1].split(\".\")[0]"
   ]
  },
  {
   "cell_type": "code",
   "execution_count": null,
   "metadata": {},
   "outputs": [],
   "source": [
    "df"
   ]
  },
  {
   "cell_type": "code",
   "execution_count": null,
   "metadata": {},
   "outputs": [],
   "source": [
    "# s=owls_received_claims_df['notification_date'].max()\n",
    "filename=fname+\"_cbr\"+'_'+product+\"_\"+s+\".csv\""
   ]
  },
  {
   "cell_type": "code",
   "execution_count": null,
   "metadata": {},
   "outputs": [],
   "source": [
    "filename"
   ]
  },
  {
   "cell_type": "code",
   "execution_count": null,
   "metadata": {},
   "outputs": [],
   "source": [
    "df.to_csv(path_or_buf=report_path+filename, sep=',', index=True)"
   ]
  },
  {
   "cell_type": "code",
   "execution_count": null,
   "metadata": {},
   "outputs": [],
   "source": [
    "\n",
    "# import pandas as pd\n",
    "\n",
    "# Give the filename you wish to save the file to\n",
    "# filename = 'Your_filename.csv'\n",
    "\n",
    "# Use this function to search for any files which match your filename\n",
    "files_present = glob.glob(report_path+filename)\n",
    "\n",
    "\n",
    "# if no matching files, write to csv, if there are matching files, print statement\n",
    "if not files_present:\n",
    "    df.to_csv(path_or_buf=report_path+filename, sep=',', index=True)\n",
    "else:\n",
    "    print('WARNING: This file already exists!')"
   ]
  },
  {
   "cell_type": "code",
   "execution_count": 93,
   "metadata": {},
   "outputs": [
    {
     "data": {
      "text/html": [
       "<div>\n",
       "<style scoped>\n",
       "    .dataframe tbody tr th:only-of-type {\n",
       "        vertical-align: middle;\n",
       "    }\n",
       "\n",
       "    .dataframe tbody tr th {\n",
       "        vertical-align: top;\n",
       "    }\n",
       "\n",
       "    .dataframe thead th {\n",
       "        text-align: right;\n",
       "    }\n",
       "</style>\n",
       "<table border=\"1\" class=\"dataframe\">\n",
       "  <thead>\n",
       "    <tr style=\"text-align: right;\">\n",
       "      <th></th>\n",
       "      <th>2020-02-01</th>\n",
       "      <th>2020-03-01</th>\n",
       "      <th>2020-04-01</th>\n",
       "      <th>2020-05-01</th>\n",
       "      <th>2020-06-01</th>\n",
       "      <th>2020-07-01</th>\n",
       "      <th>2020-08-01</th>\n",
       "      <th>2020-09-01</th>\n",
       "      <th>2020-10-01</th>\n",
       "      <th>2020-11-01</th>\n",
       "      <th>2020-12-01</th>\n",
       "      <th>2021-01-01</th>\n",
       "    </tr>\n",
       "  </thead>\n",
       "  <tbody>\n",
       "    <tr>\n",
       "      <th>Active Policies</th>\n",
       "      <td>4.724000e+04</td>\n",
       "      <td>5.391400e+04</td>\n",
       "      <td>5.353800e+04</td>\n",
       "      <td>5.314600e+04</td>\n",
       "      <td>5.281200e+04</td>\n",
       "      <td>5.310700e+04</td>\n",
       "      <td>5.268800e+04</td>\n",
       "      <td>5.280400e+04</td>\n",
       "      <td>5.256700e+04</td>\n",
       "      <td>5.228100e+04</td>\n",
       "      <td>5.217100e+04</td>\n",
       "      <td>5.231900e+04</td>\n",
       "    </tr>\n",
       "    <tr>\n",
       "      <th>Live Policies</th>\n",
       "      <td>5.166100e+04</td>\n",
       "      <td>5.166100e+04</td>\n",
       "      <td>5.166100e+04</td>\n",
       "      <td>5.166100e+04</td>\n",
       "      <td>5.166100e+04</td>\n",
       "      <td>5.166100e+04</td>\n",
       "      <td>5.166100e+04</td>\n",
       "      <td>5.166100e+04</td>\n",
       "      <td>5.166100e+04</td>\n",
       "      <td>5.166100e+04</td>\n",
       "      <td>5.166100e+04</td>\n",
       "      <td>5.166100e+04</td>\n",
       "    </tr>\n",
       "    <tr>\n",
       "      <th>New Inactive Policies</th>\n",
       "      <td>5.620000e+02</td>\n",
       "      <td>4.460000e+02</td>\n",
       "      <td>3.750000e+02</td>\n",
       "      <td>2.610000e+02</td>\n",
       "      <td>2.060000e+02</td>\n",
       "      <td>8.950000e+02</td>\n",
       "      <td>2.630000e+02</td>\n",
       "      <td>6.650000e+02</td>\n",
       "      <td>3.500000e+02</td>\n",
       "      <td>2.440000e+02</td>\n",
       "      <td>2.540000e+02</td>\n",
       "      <td>4.530000e+02</td>\n",
       "    </tr>\n",
       "    <tr>\n",
       "      <th>Active Terminated Policies</th>\n",
       "      <td>0.000000e+00</td>\n",
       "      <td>6.228000e+03</td>\n",
       "      <td>5.477000e+03</td>\n",
       "      <td>4.824000e+03</td>\n",
       "      <td>4.284000e+03</td>\n",
       "      <td>3.684000e+03</td>\n",
       "      <td>3.002000e+03</td>\n",
       "      <td>2.453000e+03</td>\n",
       "      <td>1.866000e+03</td>\n",
       "      <td>1.336000e+03</td>\n",
       "      <td>9.720000e+02</td>\n",
       "      <td>6.670000e+02</td>\n",
       "    </tr>\n",
       "    <tr>\n",
       "      <th>Gross Premium</th>\n",
       "      <td>1.043149e+07</td>\n",
       "      <td>1.190727e+07</td>\n",
       "      <td>1.182897e+07</td>\n",
       "      <td>1.176575e+07</td>\n",
       "      <td>1.169912e+07</td>\n",
       "      <td>1.175617e+07</td>\n",
       "      <td>1.168756e+07</td>\n",
       "      <td>1.165863e+07</td>\n",
       "      <td>1.162634e+07</td>\n",
       "      <td>1.155859e+07</td>\n",
       "      <td>1.153928e+07</td>\n",
       "      <td>1.158367e+07</td>\n",
       "    </tr>\n",
       "    <tr>\n",
       "      <th>Gross Premium from Live Policies</th>\n",
       "      <td>1.140067e+07</td>\n",
       "      <td>1.140067e+07</td>\n",
       "      <td>1.140067e+07</td>\n",
       "      <td>1.140067e+07</td>\n",
       "      <td>1.140067e+07</td>\n",
       "      <td>1.140067e+07</td>\n",
       "      <td>1.140067e+07</td>\n",
       "      <td>1.140067e+07</td>\n",
       "      <td>1.140067e+07</td>\n",
       "      <td>1.140067e+07</td>\n",
       "      <td>1.140067e+07</td>\n",
       "      <td>1.140067e+07</td>\n",
       "    </tr>\n",
       "    <tr>\n",
       "      <th>Gross Premium from New Inactive Policies</th>\n",
       "      <td>9.691810e+05</td>\n",
       "      <td>8.653110e+05</td>\n",
       "      <td>7.819030e+05</td>\n",
       "      <td>7.183840e+05</td>\n",
       "      <td>6.635620e+05</td>\n",
       "      <td>4.986490e+05</td>\n",
       "      <td>4.267000e+05</td>\n",
       "      <td>3.478530e+05</td>\n",
       "      <td>2.528420e+05</td>\n",
       "      <td>1.922830e+05</td>\n",
       "      <td>1.244860e+05</td>\n",
       "      <td>3.003000e+03</td>\n",
       "    </tr>\n",
       "    <tr>\n",
       "      <th>Gross Premium from Active Terminated Policies</th>\n",
       "      <td>0.000000e+00</td>\n",
       "      <td>1.371913e+06</td>\n",
       "      <td>1.210204e+06</td>\n",
       "      <td>1.083469e+06</td>\n",
       "      <td>9.620177e+05</td>\n",
       "      <td>8.541467e+05</td>\n",
       "      <td>7.135940e+05</td>\n",
       "      <td>6.058121e+05</td>\n",
       "      <td>4.785110e+05</td>\n",
       "      <td>3.502048e+05</td>\n",
       "      <td>2.630968e+05</td>\n",
       "      <td>1.860065e+05</td>\n",
       "    </tr>\n",
       "    <tr>\n",
       "      <th>New Policies</th>\n",
       "      <td>5.620000e+02</td>\n",
       "      <td>4.460000e+02</td>\n",
       "      <td>3.750000e+02</td>\n",
       "      <td>2.610000e+02</td>\n",
       "      <td>2.060000e+02</td>\n",
       "      <td>8.950000e+02</td>\n",
       "      <td>2.630000e+02</td>\n",
       "      <td>6.650000e+02</td>\n",
       "      <td>3.500000e+02</td>\n",
       "      <td>2.440000e+02</td>\n",
       "      <td>2.540000e+02</td>\n",
       "      <td>4.530000e+02</td>\n",
       "    </tr>\n",
       "    <tr>\n",
       "      <th>GWP of New Policies</th>\n",
       "      <td>1.254040e+05</td>\n",
       "      <td>1.038700e+05</td>\n",
       "      <td>8.340800e+04</td>\n",
       "      <td>6.351900e+04</td>\n",
       "      <td>5.482200e+04</td>\n",
       "      <td>1.649130e+05</td>\n",
       "      <td>7.194900e+04</td>\n",
       "      <td>7.884700e+04</td>\n",
       "      <td>9.501100e+04</td>\n",
       "      <td>6.055900e+04</td>\n",
       "      <td>6.779700e+04</td>\n",
       "      <td>1.214830e+05</td>\n",
       "    </tr>\n",
       "    <tr>\n",
       "      <th>Average Premium</th>\n",
       "      <td>2.208189e+02</td>\n",
       "      <td>2.208567e+02</td>\n",
       "      <td>2.209453e+02</td>\n",
       "      <td>2.213855e+02</td>\n",
       "      <td>2.215240e+02</td>\n",
       "      <td>2.213675e+02</td>\n",
       "      <td>2.218259e+02</td>\n",
       "      <td>2.207906e+02</td>\n",
       "      <td>2.211718e+02</td>\n",
       "      <td>2.210859e+02</td>\n",
       "      <td>2.211819e+02</td>\n",
       "      <td>2.214047e+02</td>\n",
       "    </tr>\n",
       "    <tr>\n",
       "      <th>NTU</th>\n",
       "      <td>4.200000e+01</td>\n",
       "      <td>1.800000e+01</td>\n",
       "      <td>2.100000e+01</td>\n",
       "      <td>1.100000e+01</td>\n",
       "      <td>5.000000e+00</td>\n",
       "      <td>1.300000e+01</td>\n",
       "      <td>1.800000e+01</td>\n",
       "      <td>2.200000e+01</td>\n",
       "      <td>7.000000e+00</td>\n",
       "      <td>1.100000e+01</td>\n",
       "      <td>6.000000e+00</td>\n",
       "      <td>9.000000e+00</td>\n",
       "    </tr>\n",
       "    <tr>\n",
       "      <th>Gross Premium for NTU</th>\n",
       "      <td>2.960000e+02</td>\n",
       "      <td>0.000000e+00</td>\n",
       "      <td>0.000000e+00</td>\n",
       "      <td>0.000000e+00</td>\n",
       "      <td>0.000000e+00</td>\n",
       "      <td>0.000000e+00</td>\n",
       "      <td>2.665000e+03</td>\n",
       "      <td>2.812250e+03</td>\n",
       "      <td>2.414000e+03</td>\n",
       "      <td>3.097000e+03</td>\n",
       "      <td>1.630000e+03</td>\n",
       "      <td>2.886000e+03</td>\n",
       "    </tr>\n",
       "    <tr>\n",
       "      <th>Cancellations</th>\n",
       "      <td>7.330000e+02</td>\n",
       "      <td>6.320000e+02</td>\n",
       "      <td>5.290000e+02</td>\n",
       "      <td>5.950000e+02</td>\n",
       "      <td>6.690000e+02</td>\n",
       "      <td>5.310000e+02</td>\n",
       "      <td>5.650000e+02</td>\n",
       "      <td>5.230000e+02</td>\n",
       "      <td>3.530000e+02</td>\n",
       "      <td>2.990000e+02</td>\n",
       "      <td>6.580000e+02</td>\n",
       "      <td>0.000000e+00</td>\n",
       "    </tr>\n",
       "    <tr>\n",
       "      <th>Gross Premium for Cancellations</th>\n",
       "      <td>1.617096e+05</td>\n",
       "      <td>1.267349e+05</td>\n",
       "      <td>1.214512e+05</td>\n",
       "      <td>1.078710e+05</td>\n",
       "      <td>1.405527e+05</td>\n",
       "      <td>1.051169e+05</td>\n",
       "      <td>1.244888e+05</td>\n",
       "      <td>1.258922e+05</td>\n",
       "      <td>8.401099e+04</td>\n",
       "      <td>7.546025e+04</td>\n",
       "      <td>1.831205e+05</td>\n",
       "      <td>0.000000e+00</td>\n",
       "    </tr>\n",
       "    <tr>\n",
       "      <th>Number of Claims Received (Incl O/Docs Claims)</th>\n",
       "      <td>3.000000e+00</td>\n",
       "      <td>7.000000e+00</td>\n",
       "      <td>2.000000e+00</td>\n",
       "      <td>3.000000e+00</td>\n",
       "      <td>8.000000e+00</td>\n",
       "      <td>1.200000e+01</td>\n",
       "      <td>2.400000e+01</td>\n",
       "      <td>1.820000e+02</td>\n",
       "      <td>6.630000e+02</td>\n",
       "      <td>8.050000e+02</td>\n",
       "      <td>7.090000e+02</td>\n",
       "      <td>6.800000e+01</td>\n",
       "    </tr>\n",
       "    <tr>\n",
       "      <th>Value of Claims Received</th>\n",
       "      <td>3.082566e+04</td>\n",
       "      <td>5.157100e+04</td>\n",
       "      <td>0.000000e+00</td>\n",
       "      <td>7.685980e+04</td>\n",
       "      <td>1.842460e+04</td>\n",
       "      <td>5.158347e+04</td>\n",
       "      <td>2.417940e+05</td>\n",
       "      <td>1.270835e+06</td>\n",
       "      <td>4.852738e+06</td>\n",
       "      <td>6.807545e+06</td>\n",
       "      <td>4.924797e+06</td>\n",
       "      <td>4.593292e+05</td>\n",
       "    </tr>\n",
       "    <tr>\n",
       "      <th>Highest Claim Paid</th>\n",
       "      <td>1.780200e+03</td>\n",
       "      <td>7.027753e+04</td>\n",
       "      <td>1.866378e+04</td>\n",
       "      <td>1.790000e+04</td>\n",
       "      <td>5.954770e+04</td>\n",
       "      <td>1.979210e+04</td>\n",
       "      <td>7.217970e+04</td>\n",
       "      <td>9.886212e+04</td>\n",
       "      <td>6.957532e+04</td>\n",
       "      <td>5.849942e+04</td>\n",
       "      <td>6.340925e+04</td>\n",
       "      <td>2.017809e+04</td>\n",
       "    </tr>\n",
       "    <tr>\n",
       "      <th>Number of Claims Paid</th>\n",
       "      <td>1.000000e+00</td>\n",
       "      <td>3.000000e+00</td>\n",
       "      <td>2.000000e+00</td>\n",
       "      <td>0.000000e+00</td>\n",
       "      <td>2.000000e+00</td>\n",
       "      <td>8.000000e+00</td>\n",
       "      <td>1.600000e+01</td>\n",
       "      <td>9.200000e+01</td>\n",
       "      <td>3.650000e+02</td>\n",
       "      <td>4.450000e+02</td>\n",
       "      <td>2.600000e+02</td>\n",
       "      <td>2.200000e+01</td>\n",
       "    </tr>\n",
       "    <tr>\n",
       "      <th>Value of Claims Paid</th>\n",
       "      <td>0.000000e+00</td>\n",
       "      <td>5.100000e+04</td>\n",
       "      <td>0.000000e+00</td>\n",
       "      <td>0.000000e+00</td>\n",
       "      <td>1.625000e+04</td>\n",
       "      <td>2.794118e+04</td>\n",
       "      <td>1.827385e+05</td>\n",
       "      <td>8.162672e+05</td>\n",
       "      <td>3.449480e+06</td>\n",
       "      <td>4.911956e+06</td>\n",
       "      <td>2.393745e+06</td>\n",
       "      <td>2.010150e+05</td>\n",
       "    </tr>\n",
       "    <tr>\n",
       "      <th>Average Cost Per Claim</th>\n",
       "      <td>0.000000e+00</td>\n",
       "      <td>1.700000e+04</td>\n",
       "      <td>0.000000e+00</td>\n",
       "      <td>0.000000e+00</td>\n",
       "      <td>8.125000e+03</td>\n",
       "      <td>3.492648e+03</td>\n",
       "      <td>1.142116e+04</td>\n",
       "      <td>8.872470e+03</td>\n",
       "      <td>9.450631e+03</td>\n",
       "      <td>1.103810e+04</td>\n",
       "      <td>9.206711e+03</td>\n",
       "      <td>9.137045e+03</td>\n",
       "    </tr>\n",
       "    <tr>\n",
       "      <th>Repudiated Claims</th>\n",
       "      <td>0.000000e+00</td>\n",
       "      <td>1.000000e+00</td>\n",
       "      <td>0.000000e+00</td>\n",
       "      <td>2.000000e+00</td>\n",
       "      <td>4.000000e+00</td>\n",
       "      <td>2.000000e+00</td>\n",
       "      <td>7.000000e+00</td>\n",
       "      <td>5.300000e+01</td>\n",
       "      <td>1.820000e+02</td>\n",
       "      <td>1.580000e+02</td>\n",
       "      <td>1.310000e+02</td>\n",
       "      <td>7.000000e+00</td>\n",
       "    </tr>\n",
       "    <tr>\n",
       "      <th>Value of Repudiated Claims</th>\n",
       "      <td>0.000000e+00</td>\n",
       "      <td>0.000000e+00</td>\n",
       "      <td>0.000000e+00</td>\n",
       "      <td>7.078481e+04</td>\n",
       "      <td>2.174600e+03</td>\n",
       "      <td>1.002950e+04</td>\n",
       "      <td>5.367710e+04</td>\n",
       "      <td>2.902528e+05</td>\n",
       "      <td>8.538755e+05</td>\n",
       "      <td>5.717737e+05</td>\n",
       "      <td>5.151705e+05</td>\n",
       "      <td>1.167657e+04</td>\n",
       "    </tr>\n",
       "    <tr>\n",
       "      <th>Average Cost per repudiated claim</th>\n",
       "      <td>0.000000e+00</td>\n",
       "      <td>0.000000e+00</td>\n",
       "      <td>0.000000e+00</td>\n",
       "      <td>3.539240e+04</td>\n",
       "      <td>5.436500e+02</td>\n",
       "      <td>5.014750e+03</td>\n",
       "      <td>7.668157e+03</td>\n",
       "      <td>5.476468e+03</td>\n",
       "      <td>4.691624e+03</td>\n",
       "      <td>3.618821e+03</td>\n",
       "      <td>3.932599e+03</td>\n",
       "      <td>1.668081e+03</td>\n",
       "    </tr>\n",
       "    <tr>\n",
       "      <th>Number of Oustanding Claims</th>\n",
       "      <td>0.000000e+00</td>\n",
       "      <td>0.000000e+00</td>\n",
       "      <td>0.000000e+00</td>\n",
       "      <td>0.000000e+00</td>\n",
       "      <td>0.000000e+00</td>\n",
       "      <td>0.000000e+00</td>\n",
       "      <td>1.000000e+00</td>\n",
       "      <td>4.000000e+00</td>\n",
       "      <td>6.000000e+00</td>\n",
       "      <td>1.600000e+01</td>\n",
       "      <td>1.600000e+01</td>\n",
       "      <td>0.000000e+00</td>\n",
       "    </tr>\n",
       "    <tr>\n",
       "      <th>Value of Outstanding Claims</th>\n",
       "      <td>0.000000e+00</td>\n",
       "      <td>0.000000e+00</td>\n",
       "      <td>0.000000e+00</td>\n",
       "      <td>0.000000e+00</td>\n",
       "      <td>0.000000e+00</td>\n",
       "      <td>0.000000e+00</td>\n",
       "      <td>7.137400e+03</td>\n",
       "      <td>8.269900e+03</td>\n",
       "      <td>2.382385e+04</td>\n",
       "      <td>9.518307e+04</td>\n",
       "      <td>1.193968e+05</td>\n",
       "      <td>0.000000e+00</td>\n",
       "    </tr>\n",
       "    <tr>\n",
       "      <th>Average Value of Outstanding Claims</th>\n",
       "      <td>0.000000e+00</td>\n",
       "      <td>0.000000e+00</td>\n",
       "      <td>0.000000e+00</td>\n",
       "      <td>0.000000e+00</td>\n",
       "      <td>0.000000e+00</td>\n",
       "      <td>0.000000e+00</td>\n",
       "      <td>7.137400e+03</td>\n",
       "      <td>2.067475e+03</td>\n",
       "      <td>3.970642e+03</td>\n",
       "      <td>5.948942e+03</td>\n",
       "      <td>7.462297e+03</td>\n",
       "      <td>0.000000e+00</td>\n",
       "    </tr>\n",
       "  </tbody>\n",
       "</table>\n",
       "</div>"
      ],
      "text/plain": [
       "                                                  2020-02-01    2020-03-01  \\\n",
       "Active Policies                                 4.724000e+04  5.391400e+04   \n",
       "Live Policies                                   5.166100e+04  5.166100e+04   \n",
       "New Inactive Policies                           5.620000e+02  4.460000e+02   \n",
       "Active Terminated Policies                      0.000000e+00  6.228000e+03   \n",
       "Gross Premium                                   1.043149e+07  1.190727e+07   \n",
       "Gross Premium from Live Policies                1.140067e+07  1.140067e+07   \n",
       "Gross Premium from New Inactive Policies        9.691810e+05  8.653110e+05   \n",
       "Gross Premium from Active Terminated Policies   0.000000e+00  1.371913e+06   \n",
       "New Policies                                    5.620000e+02  4.460000e+02   \n",
       "GWP of New Policies                             1.254040e+05  1.038700e+05   \n",
       "Average Premium                                 2.208189e+02  2.208567e+02   \n",
       "NTU                                             4.200000e+01  1.800000e+01   \n",
       "Gross Premium for NTU                           2.960000e+02  0.000000e+00   \n",
       "Cancellations                                   7.330000e+02  6.320000e+02   \n",
       "Gross Premium for Cancellations                 1.617096e+05  1.267349e+05   \n",
       "Number of Claims Received (Incl O/Docs Claims)  3.000000e+00  7.000000e+00   \n",
       "Value of Claims Received                        3.082566e+04  5.157100e+04   \n",
       "Highest Claim Paid                              1.780200e+03  7.027753e+04   \n",
       "Number of Claims Paid                           1.000000e+00  3.000000e+00   \n",
       "Value of Claims Paid                            0.000000e+00  5.100000e+04   \n",
       "Average Cost Per Claim                          0.000000e+00  1.700000e+04   \n",
       "Repudiated Claims                               0.000000e+00  1.000000e+00   \n",
       "Value of Repudiated Claims                      0.000000e+00  0.000000e+00   \n",
       "Average Cost per repudiated claim               0.000000e+00  0.000000e+00   \n",
       "Number of Oustanding Claims                     0.000000e+00  0.000000e+00   \n",
       "Value of Outstanding Claims                     0.000000e+00  0.000000e+00   \n",
       "Average Value of Outstanding Claims             0.000000e+00  0.000000e+00   \n",
       "\n",
       "                                                  2020-04-01    2020-05-01  \\\n",
       "Active Policies                                 5.353800e+04  5.314600e+04   \n",
       "Live Policies                                   5.166100e+04  5.166100e+04   \n",
       "New Inactive Policies                           3.750000e+02  2.610000e+02   \n",
       "Active Terminated Policies                      5.477000e+03  4.824000e+03   \n",
       "Gross Premium                                   1.182897e+07  1.176575e+07   \n",
       "Gross Premium from Live Policies                1.140067e+07  1.140067e+07   \n",
       "Gross Premium from New Inactive Policies        7.819030e+05  7.183840e+05   \n",
       "Gross Premium from Active Terminated Policies   1.210204e+06  1.083469e+06   \n",
       "New Policies                                    3.750000e+02  2.610000e+02   \n",
       "GWP of New Policies                             8.340800e+04  6.351900e+04   \n",
       "Average Premium                                 2.209453e+02  2.213855e+02   \n",
       "NTU                                             2.100000e+01  1.100000e+01   \n",
       "Gross Premium for NTU                           0.000000e+00  0.000000e+00   \n",
       "Cancellations                                   5.290000e+02  5.950000e+02   \n",
       "Gross Premium for Cancellations                 1.214512e+05  1.078710e+05   \n",
       "Number of Claims Received (Incl O/Docs Claims)  2.000000e+00  3.000000e+00   \n",
       "Value of Claims Received                        0.000000e+00  7.685980e+04   \n",
       "Highest Claim Paid                              1.866378e+04  1.790000e+04   \n",
       "Number of Claims Paid                           2.000000e+00  0.000000e+00   \n",
       "Value of Claims Paid                            0.000000e+00  0.000000e+00   \n",
       "Average Cost Per Claim                          0.000000e+00  0.000000e+00   \n",
       "Repudiated Claims                               0.000000e+00  2.000000e+00   \n",
       "Value of Repudiated Claims                      0.000000e+00  7.078481e+04   \n",
       "Average Cost per repudiated claim               0.000000e+00  3.539240e+04   \n",
       "Number of Oustanding Claims                     0.000000e+00  0.000000e+00   \n",
       "Value of Outstanding Claims                     0.000000e+00  0.000000e+00   \n",
       "Average Value of Outstanding Claims             0.000000e+00  0.000000e+00   \n",
       "\n",
       "                                                  2020-06-01    2020-07-01  \\\n",
       "Active Policies                                 5.281200e+04  5.310700e+04   \n",
       "Live Policies                                   5.166100e+04  5.166100e+04   \n",
       "New Inactive Policies                           2.060000e+02  8.950000e+02   \n",
       "Active Terminated Policies                      4.284000e+03  3.684000e+03   \n",
       "Gross Premium                                   1.169912e+07  1.175617e+07   \n",
       "Gross Premium from Live Policies                1.140067e+07  1.140067e+07   \n",
       "Gross Premium from New Inactive Policies        6.635620e+05  4.986490e+05   \n",
       "Gross Premium from Active Terminated Policies   9.620177e+05  8.541467e+05   \n",
       "New Policies                                    2.060000e+02  8.950000e+02   \n",
       "GWP of New Policies                             5.482200e+04  1.649130e+05   \n",
       "Average Premium                                 2.215240e+02  2.213675e+02   \n",
       "NTU                                             5.000000e+00  1.300000e+01   \n",
       "Gross Premium for NTU                           0.000000e+00  0.000000e+00   \n",
       "Cancellations                                   6.690000e+02  5.310000e+02   \n",
       "Gross Premium for Cancellations                 1.405527e+05  1.051169e+05   \n",
       "Number of Claims Received (Incl O/Docs Claims)  8.000000e+00  1.200000e+01   \n",
       "Value of Claims Received                        1.842460e+04  5.158347e+04   \n",
       "Highest Claim Paid                              5.954770e+04  1.979210e+04   \n",
       "Number of Claims Paid                           2.000000e+00  8.000000e+00   \n",
       "Value of Claims Paid                            1.625000e+04  2.794118e+04   \n",
       "Average Cost Per Claim                          8.125000e+03  3.492648e+03   \n",
       "Repudiated Claims                               4.000000e+00  2.000000e+00   \n",
       "Value of Repudiated Claims                      2.174600e+03  1.002950e+04   \n",
       "Average Cost per repudiated claim               5.436500e+02  5.014750e+03   \n",
       "Number of Oustanding Claims                     0.000000e+00  0.000000e+00   \n",
       "Value of Outstanding Claims                     0.000000e+00  0.000000e+00   \n",
       "Average Value of Outstanding Claims             0.000000e+00  0.000000e+00   \n",
       "\n",
       "                                                  2020-08-01    2020-09-01  \\\n",
       "Active Policies                                 5.268800e+04  5.280400e+04   \n",
       "Live Policies                                   5.166100e+04  5.166100e+04   \n",
       "New Inactive Policies                           2.630000e+02  6.650000e+02   \n",
       "Active Terminated Policies                      3.002000e+03  2.453000e+03   \n",
       "Gross Premium                                   1.168756e+07  1.165863e+07   \n",
       "Gross Premium from Live Policies                1.140067e+07  1.140067e+07   \n",
       "Gross Premium from New Inactive Policies        4.267000e+05  3.478530e+05   \n",
       "Gross Premium from Active Terminated Policies   7.135940e+05  6.058121e+05   \n",
       "New Policies                                    2.630000e+02  6.650000e+02   \n",
       "GWP of New Policies                             7.194900e+04  7.884700e+04   \n",
       "Average Premium                                 2.218259e+02  2.207906e+02   \n",
       "NTU                                             1.800000e+01  2.200000e+01   \n",
       "Gross Premium for NTU                           2.665000e+03  2.812250e+03   \n",
       "Cancellations                                   5.650000e+02  5.230000e+02   \n",
       "Gross Premium for Cancellations                 1.244888e+05  1.258922e+05   \n",
       "Number of Claims Received (Incl O/Docs Claims)  2.400000e+01  1.820000e+02   \n",
       "Value of Claims Received                        2.417940e+05  1.270835e+06   \n",
       "Highest Claim Paid                              7.217970e+04  9.886212e+04   \n",
       "Number of Claims Paid                           1.600000e+01  9.200000e+01   \n",
       "Value of Claims Paid                            1.827385e+05  8.162672e+05   \n",
       "Average Cost Per Claim                          1.142116e+04  8.872470e+03   \n",
       "Repudiated Claims                               7.000000e+00  5.300000e+01   \n",
       "Value of Repudiated Claims                      5.367710e+04  2.902528e+05   \n",
       "Average Cost per repudiated claim               7.668157e+03  5.476468e+03   \n",
       "Number of Oustanding Claims                     1.000000e+00  4.000000e+00   \n",
       "Value of Outstanding Claims                     7.137400e+03  8.269900e+03   \n",
       "Average Value of Outstanding Claims             7.137400e+03  2.067475e+03   \n",
       "\n",
       "                                                  2020-10-01    2020-11-01  \\\n",
       "Active Policies                                 5.256700e+04  5.228100e+04   \n",
       "Live Policies                                   5.166100e+04  5.166100e+04   \n",
       "New Inactive Policies                           3.500000e+02  2.440000e+02   \n",
       "Active Terminated Policies                      1.866000e+03  1.336000e+03   \n",
       "Gross Premium                                   1.162634e+07  1.155859e+07   \n",
       "Gross Premium from Live Policies                1.140067e+07  1.140067e+07   \n",
       "Gross Premium from New Inactive Policies        2.528420e+05  1.922830e+05   \n",
       "Gross Premium from Active Terminated Policies   4.785110e+05  3.502048e+05   \n",
       "New Policies                                    3.500000e+02  2.440000e+02   \n",
       "GWP of New Policies                             9.501100e+04  6.055900e+04   \n",
       "Average Premium                                 2.211718e+02  2.210859e+02   \n",
       "NTU                                             7.000000e+00  1.100000e+01   \n",
       "Gross Premium for NTU                           2.414000e+03  3.097000e+03   \n",
       "Cancellations                                   3.530000e+02  2.990000e+02   \n",
       "Gross Premium for Cancellations                 8.401099e+04  7.546025e+04   \n",
       "Number of Claims Received (Incl O/Docs Claims)  6.630000e+02  8.050000e+02   \n",
       "Value of Claims Received                        4.852738e+06  6.807545e+06   \n",
       "Highest Claim Paid                              6.957532e+04  5.849942e+04   \n",
       "Number of Claims Paid                           3.650000e+02  4.450000e+02   \n",
       "Value of Claims Paid                            3.449480e+06  4.911956e+06   \n",
       "Average Cost Per Claim                          9.450631e+03  1.103810e+04   \n",
       "Repudiated Claims                               1.820000e+02  1.580000e+02   \n",
       "Value of Repudiated Claims                      8.538755e+05  5.717737e+05   \n",
       "Average Cost per repudiated claim               4.691624e+03  3.618821e+03   \n",
       "Number of Oustanding Claims                     6.000000e+00  1.600000e+01   \n",
       "Value of Outstanding Claims                     2.382385e+04  9.518307e+04   \n",
       "Average Value of Outstanding Claims             3.970642e+03  5.948942e+03   \n",
       "\n",
       "                                                  2020-12-01    2021-01-01  \n",
       "Active Policies                                 5.217100e+04  5.231900e+04  \n",
       "Live Policies                                   5.166100e+04  5.166100e+04  \n",
       "New Inactive Policies                           2.540000e+02  4.530000e+02  \n",
       "Active Terminated Policies                      9.720000e+02  6.670000e+02  \n",
       "Gross Premium                                   1.153928e+07  1.158367e+07  \n",
       "Gross Premium from Live Policies                1.140067e+07  1.140067e+07  \n",
       "Gross Premium from New Inactive Policies        1.244860e+05  3.003000e+03  \n",
       "Gross Premium from Active Terminated Policies   2.630968e+05  1.860065e+05  \n",
       "New Policies                                    2.540000e+02  4.530000e+02  \n",
       "GWP of New Policies                             6.779700e+04  1.214830e+05  \n",
       "Average Premium                                 2.211819e+02  2.214047e+02  \n",
       "NTU                                             6.000000e+00  9.000000e+00  \n",
       "Gross Premium for NTU                           1.630000e+03  2.886000e+03  \n",
       "Cancellations                                   6.580000e+02  0.000000e+00  \n",
       "Gross Premium for Cancellations                 1.831205e+05  0.000000e+00  \n",
       "Number of Claims Received (Incl O/Docs Claims)  7.090000e+02  6.800000e+01  \n",
       "Value of Claims Received                        4.924797e+06  4.593292e+05  \n",
       "Highest Claim Paid                              6.340925e+04  2.017809e+04  \n",
       "Number of Claims Paid                           2.600000e+02  2.200000e+01  \n",
       "Value of Claims Paid                            2.393745e+06  2.010150e+05  \n",
       "Average Cost Per Claim                          9.206711e+03  9.137045e+03  \n",
       "Repudiated Claims                               1.310000e+02  7.000000e+00  \n",
       "Value of Repudiated Claims                      5.151705e+05  1.167657e+04  \n",
       "Average Cost per repudiated claim               3.932599e+03  1.668081e+03  \n",
       "Number of Oustanding Claims                     1.600000e+01  0.000000e+00  \n",
       "Value of Outstanding Claims                     1.193968e+05  0.000000e+00  \n",
       "Average Value of Outstanding Claims             7.462297e+03  0.000000e+00  "
      ]
     },
     "execution_count": 93,
     "metadata": {},
     "output_type": "execute_result"
    }
   ],
   "source": [
    "df"
   ]
  },
  {
   "cell_type": "code",
   "execution_count": null,
   "metadata": {},
   "outputs": [],
   "source": []
  }
 ],
 "metadata": {
  "kernelspec": {
   "display_name": "Python 3",
   "language": "python",
   "name": "python3"
  },
  "language_info": {
   "codemirror_mode": {
    "name": "ipython",
    "version": 3
   },
   "file_extension": ".py",
   "mimetype": "text/x-python",
   "name": "python",
   "nbconvert_exporter": "python",
   "pygments_lexer": "ipython3",
   "version": "3.7.9"
  }
 },
 "nbformat": 4,
 "nbformat_minor": 4
}
