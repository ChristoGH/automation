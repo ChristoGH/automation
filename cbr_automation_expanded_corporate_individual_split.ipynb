{
 "cells": [
  {
   "cell_type": "markdown",
   "metadata": {},
   "source": [
    "C:\\Users\\christo.strydom\\github_repos\\automation\\CBR\\Copy of 20210104_Master_Gap_CBR_LE_CS.xlsx"
   ]
  },
  {
   "cell_type": "code",
   "execution_count": 1,
   "metadata": {},
   "outputs": [],
   "source": [
    "import glob"
   ]
  },
  {
   "cell_type": "code",
   "execution_count": 2,
   "metadata": {},
   "outputs": [],
   "source": [
    "import os, os.path\n",
    "from os import listdir\n",
    "from os.path import isfile, join"
   ]
  },
  {
   "cell_type": "code",
   "execution_count": 3,
   "metadata": {},
   "outputs": [],
   "source": [
    "import pandas as pd\n",
    "import openpyxl\n",
    "import win32com.client"
   ]
  },
  {
   "cell_type": "code",
   "execution_count": 4,
   "metadata": {},
   "outputs": [],
   "source": [
    "from datetime import datetime, timedelta\n",
    "from dateutil.relativedelta import *"
   ]
  },
  {
   "cell_type": "code",
   "execution_count": 5,
   "metadata": {},
   "outputs": [],
   "source": [
    "import calendar\n",
    "import dateutil.parser"
   ]
  },
  {
   "cell_type": "code",
   "execution_count": 6,
   "metadata": {},
   "outputs": [],
   "source": [
    "def add_months(sourcedate, months):\n",
    "    month = sourcedate.month - 1 + months\n",
    "    year = sourcedate.year + month // 12\n",
    "    month = month % 12 + 1\n",
    "    day = min(sourcedate.day, calendar.monthrange(year,month)[1])\n",
    "    return datetime.date(year, month, day)\n",
    "\n",
    "def last_day_of_month_fn(any_day):\n",
    "    # this will never fail\n",
    "    # get close to the end of the month for any day, and add 4 days 'over'\n",
    "    next_month = any_day.replace(day=28) + timedelta(days=4)\n",
    "    # subtract the number of remaining 'overage' days to get last day of current month, or said programattically said, the previous day of the first of next month\n",
    "    return next_month - timedelta(days=next_month.day)\n",
    "\n",
    "def slice_saver(identifier_name, dataframe, save_path, datafile_name, product_name):\n",
    "    s=datafile_name.split(\"_\")[1].split(\".\")[0]\n",
    "    product_name=product_name.lower().replace(\"-\",\"\").replace(\"  \",\" \").replace(\" \",\"_\")\n",
    "    fname=\"cbr\"+'_'+product_name+\"_\"+s+ \"_\"+identifier_name+\".csv\"\n",
    "    dataframe.to_csv(path_or_buf=save_path+fname, sep=',', index=False)\n",
    "    return fname"
   ]
  },
  {
   "cell_type": "code",
   "execution_count": 7,
   "metadata": {},
   "outputs": [],
   "source": [
    "# path=\"C:\\\\Users\\\\christo.strydom\\\\github_repos\\\\automation\\\\OWLS_data\\\\\"\n",
    "# owls_claims='Claim_Raw_new.csv' # fixed dates.\n",
    "# owls_members='Active_Listing_Raw.csv' # \n",
    "# owls_terminations='terminations_raw.csv'\n",
    "# owls_received_claims='received_claims.csv'"
   ]
  },
  {
   "cell_type": "code",
   "execution_count": 8,
   "metadata": {},
   "outputs": [],
   "source": [
    "data_path=\"C:\\\\Users\\\\christo.strydom\\\\github_repos\\\\automation\\\\CBR\\\\data\\\\\"\n",
    "slices_path=\"C:\\\\Users\\\\christo.strydom\\\\github_repos\\\\automation\\\\CBR\\\\\\cbr_data_slices\\\\\"\n",
    "report_path=\"C:\\\\Users\\\\christo.strydom\\\\github_repos\\\\automation\\\\CBR\\\\reports\\\\\"\n",
    "presentation_path='\\\\klo-jhb-fp01\\\\\\Xelus\\\\\\Data Science\\\\ChristoStrydom\\\\Presentations\\\\'\n",
    "presentation_name='cbr_presentation_template'\n",
    "path, dirs, files = next(os.walk(data_path))\n",
    "file_count = len(files)"
   ]
  },
  {
   "cell_type": "code",
   "execution_count": 9,
   "metadata": {},
   "outputs": [
    {
     "data": {
      "text/plain": [
       "18"
      ]
     },
     "execution_count": 9,
     "metadata": {},
     "output_type": "execute_result"
    }
   ],
   "source": [
    "file_count"
   ]
  },
  {
   "cell_type": "code",
   "execution_count": 10,
   "metadata": {},
   "outputs": [],
   "source": [
    "onlyfiles = [f for f in listdir(data_path) if isfile(join(data_path, f))]"
   ]
  },
  {
   "cell_type": "code",
   "execution_count": 11,
   "metadata": {},
   "outputs": [],
   "source": [
    "# path=\"C:\\\\Users\\\\christo.strydom\\\\github_repos\\\\automation\\\\CBR\\\\\""
   ]
  },
  {
   "cell_type": "code",
   "execution_count": 12,
   "metadata": {},
   "outputs": [],
   "source": [
    "# mip_claims='mip_claims.csv'\n",
    "# mip_members='mip_members.csv'"
   ]
  },
  {
   "cell_type": "code",
   "execution_count": 13,
   "metadata": {},
   "outputs": [],
   "source": [
    "# owls_claims='Claim_Raw_new.csv' # fixed dates.\n",
    "owls_members='cbr_members_02032021.csv' # \n",
    "owls_terminations='cbr_terminations_02032021.csv'\n",
    "owls_received_claims='cbr_received_claims_02032021.csv'"
   ]
  },
  {
   "cell_type": "code",
   "execution_count": 14,
   "metadata": {},
   "outputs": [],
   "source": [
    "# owls_members='OWLS MEMBERS of 20210104_Master_Gap_CBR_LE_CS.csv'\n",
    "# owls_members_df=pd.read_csv(filepath_or_buffer=path+owls_members)"
   ]
  },
  {
   "cell_type": "code",
   "execution_count": 15,
   "metadata": {},
   "outputs": [],
   "source": [
    "# owls_members_df.to_csv(path_or_buf=path+\"owls_members.csv\",index=False)"
   ]
  },
  {
   "cell_type": "code",
   "execution_count": 16,
   "metadata": {},
   "outputs": [],
   "source": [
    "# mip_members_df=pd.read_csv(filepath_or_buffer=path+mip_members)"
   ]
  },
  {
   "cell_type": "code",
   "execution_count": 17,
   "metadata": {},
   "outputs": [],
   "source": [
    "# mip_claims_df=pd.read_csv(filepath_or_buffer=path+mip_claims)\n",
    "# mip_members_df=pd.read_csv(filepath_or_buffer=path+mip_members)"
   ]
  },
  {
   "cell_type": "code",
   "execution_count": 18,
   "metadata": {},
   "outputs": [],
   "source": [
    "# list(owls_received_claims_df)"
   ]
  },
  {
   "cell_type": "code",
   "execution_count": 19,
   "metadata": {},
   "outputs": [
    {
     "name": "stderr",
     "output_type": "stream",
     "text": [
      "C:\\Users\\christo.strydom\\Anaconda3\\envs\\automation\\lib\\site-packages\\IPython\\core\\interactiveshell.py:3147: DtypeWarning: Columns (12,21) have mixed types.Specify dtype option on import or set low_memory=False.\n",
      "  interactivity=interactivity, compiler=compiler, result=result)\n",
      "C:\\Users\\christo.strydom\\Anaconda3\\envs\\automation\\lib\\site-packages\\IPython\\core\\interactiveshell.py:3147: DtypeWarning: Columns (12) have mixed types.Specify dtype option on import or set low_memory=False.\n",
      "  interactivity=interactivity, compiler=compiler, result=result)\n"
     ]
    }
   ],
   "source": [
    "# owls_claims_df=pd.read_csv(filepath_or_buffer=path+owls_claims)\n",
    "owls_members_df=pd.read_csv(filepath_or_buffer=data_path+owls_members)\n",
    "owls_terminations_df=pd.read_csv(filepath_or_buffer=data_path+owls_terminations)\n",
    "owls_received_claims_df=pd.read_csv(filepath_or_buffer=data_path+owls_received_claims)\n",
    "# owls_terminations='terminations_raw.csv'\n",
    "# owls_received_claims='received_claims.csv'"
   ]
  },
  {
   "cell_type": "markdown",
   "metadata": {},
   "source": [
    "#### Date conversions"
   ]
  },
  {
   "cell_type": "markdown",
   "metadata": {},
   "source": [
    "owls_claims_df"
   ]
  },
  {
   "cell_type": "code",
   "execution_count": 20,
   "metadata": {},
   "outputs": [],
   "source": [
    "# owls_claims_df['fiscalperiod']=pd.to_datetime(owls_claims_df['fiscalperiod'], format='%Y/%m/%d', errors='ignore')\n",
    "# owls_claims_df['notificationdate']=pd.to_datetime(owls_claims_df['notificationdate'], format='%Y/%m/%d', errors='ignore')\n",
    "# owls_claims_df['incidentdate']=pd.to_datetime(owls_claims_df['incidentdate'], format='%Y/%m/%d', errors='ignore')\n",
    "# owls_claims_df['claimcreateddate']=pd.to_datetime(owls_claims_df['claimcreateddate'], format='%Y/%m/%d', errors='ignore')\n",
    "# owls_claims_df['inceptiondate']=pd.to_datetime(owls_claims_df['inceptiondate'], format='%m/%d/%Y', errors='ignore')\n",
    "# owls_claims_df['createddate']=pd.to_datetime(owls_claims_df['createddate'], format='%Y-%m-%d', errors='ignore')"
   ]
  },
  {
   "cell_type": "markdown",
   "metadata": {},
   "source": [
    "owls_members_df"
   ]
  },
  {
   "cell_type": "code",
   "execution_count": 21,
   "metadata": {},
   "outputs": [],
   "source": [
    "owls_members_df['policy_inceptiondate']=pd.to_datetime(owls_members_df['policy_inceptiondate'], format='%Y/%m/%d', errors='ignore')\n",
    "owls_members_df['policy_createddate']=pd.to_datetime(owls_members_df['policy_createddate'], format='%Y/%m/%d', errors='ignore')"
   ]
  },
  {
   "cell_type": "markdown",
   "metadata": {},
   "source": [
    "owls_terminations_df"
   ]
  },
  {
   "cell_type": "code",
   "execution_count": 22,
   "metadata": {},
   "outputs": [],
   "source": [
    "owls_terminations_df['policy_createddate']=pd.to_datetime(owls_terminations_df['policy_createddate'], format='%Y/%m/%d', errors='ignore')\n",
    "owls_terminations_df['policy_inceptiondate']=pd.to_datetime(owls_terminations_df['policy_inceptiondate'], format='%Y/%m/%d', errors='ignore')\n",
    "owls_terminations_df['policy_cancellationdate']=pd.to_datetime(owls_terminations_df['policy_cancellationdate'], format='%Y/%m/%d', errors='ignore')"
   ]
  },
  {
   "cell_type": "code",
   "execution_count": 23,
   "metadata": {},
   "outputs": [
    {
     "data": {
      "text/plain": [
       "0       2019-11-30\n",
       "1       2021-01-31\n",
       "2       2020-12-28\n",
       "3       2020-02-29\n",
       "4       2020-11-30\n",
       "           ...    \n",
       "63361   2020-08-31\n",
       "63362   2020-09-30\n",
       "63363   2020-12-31\n",
       "63364   2020-12-31\n",
       "63365   2020-12-31\n",
       "Name: policy_cancellationdate, Length: 63366, dtype: datetime64[ns]"
      ]
     },
     "execution_count": 23,
     "metadata": {},
     "output_type": "execute_result"
    }
   ],
   "source": [
    "owls_terminations_df['policy_cancellationdate']"
   ]
  },
  {
   "cell_type": "markdown",
   "metadata": {},
   "source": [
    "owls_received_claims_df"
   ]
  },
  {
   "cell_type": "markdown",
   "metadata": {},
   "source": [
    "Clean the __Notification Date__ columns by removing nans and dates that are not recognised as dates.  Normalize all dates to a single format."
   ]
  },
  {
   "cell_type": "code",
   "execution_count": 24,
   "metadata": {},
   "outputs": [],
   "source": [
    "# owls_received_claims_df['Created Date']=pd.to_datetime(owls_received_claims_df['Created Date'], format='%Y/%m/%d', errors='ignore')\n",
    "owls_received_claims_df['Notification Date']=pd.to_datetime(owls_received_claims_df['Notification Date'], format='%m/%d/%Y', errors='ignore')\n",
    "owls_received_claims_df['Policy Inception Date']=pd.to_datetime(owls_received_claims_df['Policy Inception Date'], format='%m/%d/%Y', errors='ignore')\n",
    "# owls_received_claims_df['Received Date']=pd.to_datetime(owls_received_claims_df['Received Date'], format='%m/%d/%Y', errors='ignore')"
   ]
  },
  {
   "cell_type": "code",
   "execution_count": 25,
   "metadata": {},
   "outputs": [],
   "source": [
    "# received_claims=owls_received_claims_df['Notification Date'].max()"
   ]
  },
  {
   "cell_type": "code",
   "execution_count": 26,
   "metadata": {},
   "outputs": [],
   "source": [
    "owls_received_claims_df['Notification Date']=pd.to_datetime(owls_received_claims_df['Notification Date'], format='%m/%d/%Y', errors='ignore')"
   ]
  },
  {
   "cell_type": "code",
   "execution_count": 27,
   "metadata": {},
   "outputs": [],
   "source": [
    "# remove nans:\n",
    "owls_received_claims_df=owls_received_claims_df[~owls_received_claims_df['Notification Date'].isna()].copy()"
   ]
  },
  {
   "cell_type": "code",
   "execution_count": 28,
   "metadata": {},
   "outputs": [],
   "source": [
    "owls_received_claims_df[['notification_date_1','notification_date_2', 'notification_date_3']]=owls_received_claims_df['Notification Date'].str.split('/',expand=True,)"
   ]
  },
  {
   "cell_type": "code",
   "execution_count": 29,
   "metadata": {},
   "outputs": [],
   "source": [
    "owls_received_claims_df=owls_received_claims_df[~pd.to_numeric(owls_received_claims_df['notification_date_1'],errors='coerce').isna()].copy()\n",
    "owls_received_claims_df=owls_received_claims_df[~pd.to_numeric(owls_received_claims_df['notification_date_2'],errors='coerce').isna()].copy()\n",
    "owls_received_claims_df=owls_received_claims_df[~pd.to_numeric(owls_received_claims_df['notification_date_3'],errors='coerce').isna()].copy()"
   ]
  },
  {
   "cell_type": "code",
   "execution_count": 30,
   "metadata": {},
   "outputs": [],
   "source": [
    "owls_received_claims_df.loc[owls_received_claims_df['notification_date_1'].str.len()==4,'notification_date_year']=owls_received_claims_df['notification_date_1']\n",
    "owls_received_claims_df.loc[owls_received_claims_df['notification_date_3'].str.len()==4,'notification_date_year']=owls_received_claims_df['notification_date_3']"
   ]
  },
  {
   "cell_type": "code",
   "execution_count": 31,
   "metadata": {},
   "outputs": [],
   "source": [
    "datestring=owls_received_claims_df['Notification Date'].iloc[-1]"
   ]
  },
  {
   "cell_type": "code",
   "execution_count": 32,
   "metadata": {},
   "outputs": [],
   "source": [
    "owls_received_claims_df['notification_date']=owls_received_claims_df.apply(lambda x: dateutil.parser.parse(x['Notification Date']), axis=1)"
   ]
  },
  {
   "cell_type": "code",
   "execution_count": 33,
   "metadata": {},
   "outputs": [],
   "source": [
    "owls_received_claims_df['som_notification_date']=owls_received_claims_df.apply(lambda x: datetime(x['notification_date'].year,x['notification_date'].month,1), axis=1)"
   ]
  },
  {
   "cell_type": "markdown",
   "metadata": {},
   "source": [
    "#### Create Date List and iterate_months"
   ]
  },
  {
   "cell_type": "code",
   "execution_count": 34,
   "metadata": {},
   "outputs": [],
   "source": [
    "today = datetime.today()\n",
    "months_ago = today + relativedelta(months=-12)\n",
    "som_months_ago = datetime(months_ago.year,months_ago.month,1)\n",
    "iterate_months=[som_months_ago+relativedelta(months=n) for n in range(12)]"
   ]
  },
  {
   "cell_type": "code",
   "execution_count": 35,
   "metadata": {},
   "outputs": [
    {
     "data": {
      "text/plain": [
       "[datetime.datetime(2020, 2, 1, 0, 0),\n",
       " datetime.datetime(2020, 3, 1, 0, 0),\n",
       " datetime.datetime(2020, 4, 1, 0, 0),\n",
       " datetime.datetime(2020, 5, 1, 0, 0),\n",
       " datetime.datetime(2020, 6, 1, 0, 0),\n",
       " datetime.datetime(2020, 7, 1, 0, 0),\n",
       " datetime.datetime(2020, 8, 1, 0, 0),\n",
       " datetime.datetime(2020, 9, 1, 0, 0),\n",
       " datetime.datetime(2020, 10, 1, 0, 0),\n",
       " datetime.datetime(2020, 11, 1, 0, 0),\n",
       " datetime.datetime(2020, 12, 1, 0, 0),\n",
       " datetime.datetime(2021, 1, 1, 0, 0),\n",
       " datetime.datetime(2021, 2, 1, 0, 0),\n",
       " datetime.datetime(2021, 3, 1, 0, 0)]"
      ]
     },
     "execution_count": 35,
     "metadata": {},
     "output_type": "execute_result"
    }
   ],
   "source": [
    "nmonths=13\n",
    "today = datetime.today()\n",
    "months_ago = today + relativedelta(months=-nmonths)\n",
    "som_months_ago = datetime(months_ago.year,months_ago.month,1)\n",
    "iterate_months=[som_months_ago+relativedelta(months=n) for n in range(nmonths+1)]\n",
    "iterate_months"
   ]
  },
  {
   "cell_type": "code",
   "execution_count": 36,
   "metadata": {},
   "outputs": [
    {
     "name": "stdout",
     "output_type": "stream",
     "text": [
      "1 2020-03-01 00:00:00\n",
      "2 2020-04-01 00:00:00\n",
      "3 2020-05-01 00:00:00\n",
      "4 2020-06-01 00:00:00\n",
      "5 2020-07-01 00:00:00\n",
      "6 2020-08-01 00:00:00\n",
      "7 2020-09-01 00:00:00\n",
      "8 2020-10-01 00:00:00\n",
      "9 2020-11-01 00:00:00\n",
      "10 2020-12-01 00:00:00\n",
      "11 2021-01-01 00:00:00\n",
      "12 2021-02-01 00:00:00\n"
     ]
    }
   ],
   "source": [
    "for i in range(1,len(iterate_months)-1):\n",
    "    print(i,iterate_months[i])"
   ]
  },
  {
   "cell_type": "code",
   "execution_count": 37,
   "metadata": {},
   "outputs": [],
   "source": [
    "datelist=list(set(owls_terminations_df['policy_inceptiondate']))\n",
    "datelist.sort()\n",
    "# datelist.append(add_months(max(datelist),1))\n",
    "# dates=pd.date_range(min(datelist),add_months(max(datelist),1), freq='1M')-pd.offsets.MonthBegin(1)"
   ]
  },
  {
   "cell_type": "code",
   "execution_count": 38,
   "metadata": {},
   "outputs": [],
   "source": [
    "# dates=pd.date_range(min(dates),add_months(max(dates),1), freq='1M')-pd.offsets.MonthBegin(1)"
   ]
  },
  {
   "cell_type": "markdown",
   "metadata": {},
   "source": [
    "#### Create Product List"
   ]
  },
  {
   "cell_type": "code",
   "execution_count": 39,
   "metadata": {},
   "outputs": [],
   "source": [
    "f=~owls_terminations_df['productsetup_productsetupname'].isna()\n",
    "product_list=list(set(owls_terminations_df[f]['productsetup_productsetupname']))"
   ]
  },
  {
   "cell_type": "code",
   "execution_count": 40,
   "metadata": {},
   "outputs": [],
   "source": [
    "members_live_filter=(owls_members_df['policy_status']=='Live')\n",
    "ntu_filter=owls_terminations_df['policy_status']=='Not Taken Up'\n",
    "cancelations_filter=owls_terminations_df['policy_status']=='Cancelled'\n",
    "# owls_members_live_filter=owls_members_df['policy_status']=='Live'\n",
    "# Received_Claims! 𝐾: K,\"Reject\"\n",
    "# Received_Claims!$K:$K,\"Approve, Pay now\")"
   ]
  },
  {
   "cell_type": "code",
   "execution_count": 41,
   "metadata": {},
   "outputs": [],
   "source": [
    "# owls_received_claims_df[outstanding_claims_filter]"
   ]
  },
  {
   "cell_type": "markdown",
   "metadata": {},
   "source": [
    "### Corporate Individual Split"
   ]
  },
  {
   "cell_type": "code",
   "execution_count": 42,
   "metadata": {},
   "outputs": [],
   "source": [
    "# owls_members_df['policy_paymentmethod']\n",
    "owls_members_df=owls_members_df[['policy_policynumber','policygroup_policygroupname','policy_paymentmethod','policy_grosspremium','policy_status','policy_totalpremium','productsetup_productsetupname','policy_inceptiondate']].copy()\n",
    "owls_terminations_df=owls_terminations_df[['policy_policynumber','policy_paymentmethod','policy_totalpremium','productsetup_productsetupname','policy_inceptiondate','policy_cancellationdate']].copy()\n",
    "owls_received_claims_df=owls_received_claims_df[['Claim Number','Total Payments','Notification Date','productsetupname','som_notification_date','Original Reserve','notification_date','Progress','Status']].copy()"
   ]
  },
  {
   "cell_type": "code",
   "execution_count": 43,
   "metadata": {},
   "outputs": [],
   "source": [
    "owls_members_df['corporate_individual']=''\n",
    "f=owls_members_df['policy_paymentmethod']=='Debit'\n",
    "g=(owls_members_df['policy_paymentmethod']!='Debit')&(owls_members_df['policy_paymentmethod']!='')\n",
    "owls_members_df.loc[f, 'corporate_individual_split']=owls_members_df['productsetup_productsetupname'] + ' - Individual'\n",
    "owls_members_df.loc[g, 'corporate_individual_split']=owls_members_df['productsetup_productsetupname'] + ' - Corporate'"
   ]
  },
  {
   "cell_type": "code",
   "execution_count": 44,
   "metadata": {},
   "outputs": [],
   "source": [
    "owls_terminations_df['corporate_individual']=''\n",
    "f=owls_terminations_df['policy_paymentmethod']=='Debit'\n",
    "g=(owls_terminations_df['policy_paymentmethod']!='Debit')&(owls_terminations_df['policy_paymentmethod']!='')\n",
    "owls_terminations_df.loc[f, 'corporate_individual_split']=owls_terminations_df['productsetup_productsetupname'] + ' - Individual'\n",
    "owls_terminations_df.loc[g, 'corporate_individual_split']=owls_terminations_df['productsetup_productsetupname'] + ' - Corporate'"
   ]
  },
  {
   "cell_type": "code",
   "execution_count": 45,
   "metadata": {},
   "outputs": [],
   "source": [
    "owls_received_claims_df[['policy_policynumber_a','policy_policynumber_b']]=owls_received_claims_df['Claim Number'].str.split(\"/\",expand = True)\n",
    "owls_received_claims_df.policy_policynumber_a = owls_received_claims_df.policy_policynumber_a.str.strip()\n",
    "df1=owls_received_claims_df.merge(owls_members_df[['policy_policynumber','corporate_individual_split']], left_on= 'policy_policynumber_a', right_on='policy_policynumber', how='inner')\n",
    "df2=owls_received_claims_df.merge(owls_terminations_df[['policy_policynumber','corporate_individual_split']], left_on= 'policy_policynumber_a', right_on='policy_policynumber', how='inner')\n",
    "gf=df1.append(df2, ignore_index = True) "
   ]
  },
  {
   "cell_type": "code",
   "execution_count": 46,
   "metadata": {},
   "outputs": [],
   "source": [
    "owls_received_claims_df=gf.copy()\n",
    "pay_now_filter=owls_received_claims_df['Progress']=='Approve, Pay Now'\n",
    "reject_claims_filter=owls_received_claims_df['Progress']=='Reject'\n",
    "outstanding_claims_filter=owls_received_claims_df['Status']=='Outstanding docs received - sent to processing'"
   ]
  },
  {
   "cell_type": "code",
   "execution_count": 47,
   "metadata": {},
   "outputs": [],
   "source": [
    "product_list=list(set(owls_members_df['corporate_individual_split']))"
   ]
  },
  {
   "cell_type": "code",
   "execution_count": 68,
   "metadata": {},
   "outputs": [],
   "source": [
    "product_list = [x for x in product_list if str(x) != 'nan']"
   ]
  },
  {
   "cell_type": "code",
   "execution_count": 69,
   "metadata": {},
   "outputs": [
    {
     "data": {
      "text/plain": [
       "['Kaelo Gap - Individual',\n",
       " 'Sanlam Gap - Corporate',\n",
       " 'Western Gap Care - Corporate',\n",
       " 'Sanlam Gap - Individual',\n",
       " 'MedExpense - Individual',\n",
       " 'MedExpense - Corporate',\n",
       " 'Western Gap - Corporate',\n",
       " 'Kaelo Gap - Corporate',\n",
       " 'Western Gap - Individual',\n",
       " 'Centriq Cancer - Individual',\n",
       " 'Western Gap Care - Individual']"
      ]
     },
     "execution_count": 69,
     "metadata": {},
     "output_type": "execute_result"
    }
   ],
   "source": [
    "product_list"
   ]
  },
  {
   "cell_type": "markdown",
   "metadata": {},
   "source": [
    "### Kaelo Gap"
   ]
  },
  {
   "cell_type": "code",
   "execution_count": 48,
   "metadata": {},
   "outputs": [],
   "source": [
    "owls_terminations_temp_df=owls_terminations_df.copy()"
   ]
  },
  {
   "cell_type": "code",
   "execution_count": 49,
   "metadata": {},
   "outputs": [],
   "source": [
    "product='Sanlam Gap - Individual'"
   ]
  },
  {
   "cell_type": "code",
   "execution_count": 50,
   "metadata": {},
   "outputs": [],
   "source": [
    "max_date=max([owls_members_df['policy_inceptiondate'].max(),owls_terminations_df['policy_inceptiondate'].max(),owls_terminations_df['policy_cancellationdate'].max()])\n",
    "# policy_inceptiondate,policy_cancellationdate"
   ]
  },
  {
   "cell_type": "code",
   "execution_count": 51,
   "metadata": {},
   "outputs": [],
   "source": [
    "owls_members_df=owls_members_df[['policy_policynumber','policy_grosspremium','policy_status','policy_totalpremium','productsetup_productsetupname','policy_inceptiondate','corporate_individual_split']].copy()\n",
    "owls_terminations_df=owls_terminations_df[['policy_totalpremium','productsetup_productsetupname','policy_inceptiondate','policy_cancellationdate','corporate_individual_split']].copy()\n",
    "owls_received_claims_df=owls_received_claims_df[['Total Payments','Notification Date','productsetupname','som_notification_date','Original Reserve','notification_date','corporate_individual_split']].copy()"
   ]
  },
  {
   "cell_type": "code",
   "execution_count": 52,
   "metadata": {},
   "outputs": [],
   "source": [
    "terminations_product_filter=owls_terminations_df['corporate_individual_split']==product\n",
    "members_product_filter=(owls_members_df['corporate_individual_split']==product)\n",
    "claims_received_product_filter=(owls_received_claims_df['corporate_individual_split']==product)\n",
    "# product_filter=(owls_members_df['productsetup_productsetupname']==product)\n",
    "# live_filter=(owls_members_df['policy_status']=='Live')"
   ]
  },
  {
   "cell_type": "markdown",
   "metadata": {},
   "source": [
    "Count live policies and calculate gross premium:"
   ]
  },
  {
   "cell_type": "code",
   "execution_count": 53,
   "metadata": {},
   "outputs": [],
   "source": [
    "live_df=owls_members_df[members_live_filter&members_product_filter]\n",
    "slice_saver(identifier_name=\"live_policies\", dataframe=live_df, save_path=slices_path, datafile_name=owls_members, product_name=product)\n",
    "\n",
    "live_policies=live_df.shape[0]\n",
    "live_df=owls_members_df[members_live_filter&members_product_filter]\n",
    "live_policies_grosspremium=live_df['policy_totalpremium'].sum()"
   ]
  },
  {
   "cell_type": "markdown",
   "metadata": {},
   "source": [
    "Active Policies"
   ]
  },
  {
   "cell_type": "markdown",
   "metadata": {},
   "source": [
    "There are three components to counting policies.\n",
    " - count only active policies\n",
    " \n"
   ]
  },
  {
   "cell_type": "markdown",
   "metadata": {},
   "source": [
    " - COUNTIFS(Active_Listing_Raw!$I:$I,\"Live\",Active_Listing_Raw!$D:$D,Summary!$C$2)- \n",
    " - COUNTIFS(Active_Listing_Raw!$G:$G,\">\"&Summary!AC5,Active_Listing_Raw!$D:$D,Summary!$C$2)+\n",
    " - COUNTIFS(Terminations_Raw!$AF:$AF,\">\"&Summary!AD5, #\n",
    " - Terminations_Raw!$AG:$AG,\">\"&Summary!AB5,Terminations_Raw!$D:$D,Summary!$C$2)"
   ]
  },
  {
   "cell_type": "code",
   "execution_count": 54,
   "metadata": {},
   "outputs": [
    {
     "name": "stdout",
     "output_type": "stream",
     "text": [
      "COUNTIFS(Terminations_Raw!$AF:$AF,\"<\"&Summary!AD5,Terminations_Raw!$AG:$AG,\">\"&Summary!AB5,Active_Listing_Raw!$D:$D,Summary!$C$2)\n"
     ]
    }
   ],
   "source": [
    "print('COUNTIFS(Terminations_Raw!$AF:$AF,\"<\"&Summary!AD5,Terminations_Raw!$AG:$AG,\">\"&Summary!AB5,Active_Listing_Raw!$D:$D,Summary!$C$2)')"
   ]
  },
  {
   "cell_type": "markdown",
   "metadata": {},
   "source": [
    " - Terminations_Raw!$AF:$AF,\"<\"&Summary!AD5 : all policies with inception date () __BEFORE__ the start of the next month __and__\n",
    " - Terminations_Raw!$AG:$AG,\">\"&Summary!AB5 : all policies with termination date __AFTER__ the start of the previous month __and__\n",
    " - Active_Listing_Raw!$D:$D,Summary!$C$2 : policies of this product"
   ]
  },
  {
   "cell_type": "markdown",
   "metadata": {},
   "source": [
    "### Active Policies"
   ]
  },
  {
   "cell_type": "markdown",
   "metadata": {},
   "source": [
    "***\n",
    "The number of __Active policies__ contain three items. For those policies of the specified product:\n",
    " - __Live Policies__: Count \"live\" policies only, that is where policy_status='live', this covers all data. This number is constant for all periods as it is only calculated on the latest complete data set and is not done on a by period basis.  To calculate for a particular period the dataset adjusted by doing the following:\n",
    " - __New Inactive Policies__: (Subtract) all policies that have inception date from the next period onwards.\n",
    " - __Active Terminated Policies__: (Add back) all __terminated__ policies that had inception date (policy_inceptiondate) __BEFORE__ the start of the next period and where the termination date (policy_cancellationdate) is __AFTER__ the start of the previous period\n",
    " - The previous period __New Inactive Policies__ MINUS the currrent period __New Inactive Policies__ yield the current period __New Policies__."
   ]
  },
  {
   "cell_type": "code",
   "execution_count": 55,
   "metadata": {},
   "outputs": [],
   "source": [
    "\n",
    "# date_filter=owls_members_df['policy_inceptiondate']>datelist[-3]"
   ]
  },
  {
   "cell_type": "code",
   "execution_count": 56,
   "metadata": {},
   "outputs": [],
   "source": [
    "# terminations_policy_inceptiondate_filter=owls_terminations_df['policy_inceptiondate']<iterate_months[i+1]"
   ]
  },
  {
   "cell_type": "code",
   "execution_count": null,
   "metadata": {},
   "outputs": [],
   "source": []
  },
  {
   "cell_type": "code",
   "execution_count": 57,
   "metadata": {},
   "outputs": [],
   "source": [
    "# s=owls_members.split(\"_\")[1].split(\".\")[0]\n",
    "# filename=\"cbr\"+'_'+product+\"_\"+s+\".csv\"\n",
    "# df.to_csv(path_or_buf=save_path+datafile_name, sep=',', index=True)"
   ]
  },
  {
   "cell_type": "markdown",
   "metadata": {},
   "source": [
    "s=owls_members.split(\"_\")[1].split(\".\")[0]\n",
    "filename=\"cbr\"+'_'+product+\"_\"+s+\".csv\"\n",
    "df.to_csv(path_or_buf=slices_path+filename, sep=',', index=True)"
   ]
  },
  {
   "cell_type": "code",
   "execution_count": 61,
   "metadata": {},
   "outputs": [
    {
     "data": {
      "text/plain": [
       "[datetime.datetime(2020, 2, 1, 0, 0),\n",
       " datetime.datetime(2020, 3, 1, 0, 0),\n",
       " datetime.datetime(2020, 4, 1, 0, 0),\n",
       " datetime.datetime(2020, 5, 1, 0, 0),\n",
       " datetime.datetime(2020, 6, 1, 0, 0),\n",
       " datetime.datetime(2020, 7, 1, 0, 0),\n",
       " datetime.datetime(2020, 8, 1, 0, 0),\n",
       " datetime.datetime(2020, 9, 1, 0, 0),\n",
       " datetime.datetime(2020, 10, 1, 0, 0),\n",
       " datetime.datetime(2020, 11, 1, 0, 0),\n",
       " datetime.datetime(2020, 12, 1, 0, 0),\n",
       " datetime.datetime(2021, 1, 1, 0, 0),\n",
       " datetime.datetime(2021, 2, 1, 0, 0),\n",
       " datetime.datetime(2021, 3, 1, 0, 0)]"
      ]
     },
     "execution_count": 61,
     "metadata": {},
     "output_type": "execute_result"
    }
   ],
   "source": [
    "iterate_months"
   ]
  },
  {
   "cell_type": "code",
   "execution_count": 65,
   "metadata": {},
   "outputs": [],
   "source": [
    "# set(owls_members_df['policy_inceptiondate'])"
   ]
  },
  {
   "cell_type": "code",
   "execution_count": 63,
   "metadata": {},
   "outputs": [
    {
     "data": {
      "text/html": [
       "<div>\n",
       "<style scoped>\n",
       "    .dataframe tbody tr th:only-of-type {\n",
       "        vertical-align: middle;\n",
       "    }\n",
       "\n",
       "    .dataframe tbody tr th {\n",
       "        vertical-align: top;\n",
       "    }\n",
       "\n",
       "    .dataframe thead th {\n",
       "        text-align: right;\n",
       "    }\n",
       "</style>\n",
       "<table border=\"1\" class=\"dataframe\">\n",
       "  <thead>\n",
       "    <tr style=\"text-align: right;\">\n",
       "      <th></th>\n",
       "      <th>policy_policynumber</th>\n",
       "      <th>policy_grosspremium</th>\n",
       "      <th>policy_status</th>\n",
       "      <th>policy_totalpremium</th>\n",
       "      <th>productsetup_productsetupname</th>\n",
       "      <th>policy_inceptiondate</th>\n",
       "      <th>corporate_individual_split</th>\n",
       "    </tr>\n",
       "  </thead>\n",
       "  <tbody>\n",
       "    <tr>\n",
       "      <th>11160</th>\n",
       "      <td>AUHGAP686528</td>\n",
       "      <td>460</td>\n",
       "      <td>Live</td>\n",
       "      <td>460.0</td>\n",
       "      <td>Western Gap Care</td>\n",
       "      <td>2021-03-01</td>\n",
       "      <td>Western Gap Care - Corporate</td>\n",
       "    </tr>\n",
       "    <tr>\n",
       "      <th>11195</th>\n",
       "      <td>AUHGAP687082</td>\n",
       "      <td>374</td>\n",
       "      <td>Live</td>\n",
       "      <td>374.0</td>\n",
       "      <td>Western Gap Care</td>\n",
       "      <td>2021-03-01</td>\n",
       "      <td>Western Gap Care - Corporate</td>\n",
       "    </tr>\n",
       "    <tr>\n",
       "      <th>11294</th>\n",
       "      <td>AUHGAP688304</td>\n",
       "      <td>460</td>\n",
       "      <td>Live</td>\n",
       "      <td>460.0</td>\n",
       "      <td>Western Gap Care</td>\n",
       "      <td>2021-03-01</td>\n",
       "      <td>Western Gap Care - Corporate</td>\n",
       "    </tr>\n",
       "    <tr>\n",
       "      <th>11389</th>\n",
       "      <td>AUHGAP689804</td>\n",
       "      <td>374</td>\n",
       "      <td>Live</td>\n",
       "      <td>374.0</td>\n",
       "      <td>Western Gap</td>\n",
       "      <td>2021-03-01</td>\n",
       "      <td>Western Gap - Corporate</td>\n",
       "    </tr>\n",
       "    <tr>\n",
       "      <th>11800</th>\n",
       "      <td>AUHGAP720063</td>\n",
       "      <td>425</td>\n",
       "      <td>Live</td>\n",
       "      <td>425.0</td>\n",
       "      <td>Western Gap Care</td>\n",
       "      <td>2021-03-01</td>\n",
       "      <td>Western Gap Care - Corporate</td>\n",
       "    </tr>\n",
       "    <tr>\n",
       "      <th>...</th>\n",
       "      <td>...</td>\n",
       "      <td>...</td>\n",
       "      <td>...</td>\n",
       "      <td>...</td>\n",
       "      <td>...</td>\n",
       "      <td>...</td>\n",
       "      <td>...</td>\n",
       "    </tr>\n",
       "    <tr>\n",
       "      <th>118140</th>\n",
       "      <td>SAN806441</td>\n",
       "      <td>385</td>\n",
       "      <td>Live</td>\n",
       "      <td>385.0</td>\n",
       "      <td>Sanlam Gap</td>\n",
       "      <td>2021-03-01</td>\n",
       "      <td>Sanlam Gap - Individual</td>\n",
       "    </tr>\n",
       "    <tr>\n",
       "      <th>118142</th>\n",
       "      <td>SAN806714</td>\n",
       "      <td>385</td>\n",
       "      <td>Live</td>\n",
       "      <td>385.0</td>\n",
       "      <td>Sanlam Gap</td>\n",
       "      <td>2021-03-01</td>\n",
       "      <td>Sanlam Gap - Individual</td>\n",
       "    </tr>\n",
       "    <tr>\n",
       "      <th>118143</th>\n",
       "      <td>SAN806727</td>\n",
       "      <td>385</td>\n",
       "      <td>Live</td>\n",
       "      <td>385.0</td>\n",
       "      <td>Sanlam Gap</td>\n",
       "      <td>2021-03-01</td>\n",
       "      <td>Sanlam Gap - Individual</td>\n",
       "    </tr>\n",
       "    <tr>\n",
       "      <th>118145</th>\n",
       "      <td>SAN806891</td>\n",
       "      <td>385</td>\n",
       "      <td>Live</td>\n",
       "      <td>385.0</td>\n",
       "      <td>Sanlam Gap</td>\n",
       "      <td>2021-03-01</td>\n",
       "      <td>Sanlam Gap - Individual</td>\n",
       "    </tr>\n",
       "    <tr>\n",
       "      <th>118146</th>\n",
       "      <td>SAN806896</td>\n",
       "      <td>219</td>\n",
       "      <td>Live</td>\n",
       "      <td>219.0</td>\n",
       "      <td>Sanlam Gap</td>\n",
       "      <td>2021-03-01</td>\n",
       "      <td>Sanlam Gap - Individual</td>\n",
       "    </tr>\n",
       "  </tbody>\n",
       "</table>\n",
       "<p>1118 rows × 7 columns</p>\n",
       "</div>"
      ],
      "text/plain": [
       "       policy_policynumber  policy_grosspremium policy_status  \\\n",
       "11160         AUHGAP686528                  460          Live   \n",
       "11195         AUHGAP687082                  374          Live   \n",
       "11294         AUHGAP688304                  460          Live   \n",
       "11389         AUHGAP689804                  374          Live   \n",
       "11800         AUHGAP720063                  425          Live   \n",
       "...                    ...                  ...           ...   \n",
       "118140           SAN806441                  385          Live   \n",
       "118142           SAN806714                  385          Live   \n",
       "118143           SAN806727                  385          Live   \n",
       "118145           SAN806891                  385          Live   \n",
       "118146           SAN806896                  219          Live   \n",
       "\n",
       "        policy_totalpremium productsetup_productsetupname  \\\n",
       "11160                 460.0              Western Gap Care   \n",
       "11195                 374.0              Western Gap Care   \n",
       "11294                 460.0              Western Gap Care   \n",
       "11389                 374.0                   Western Gap   \n",
       "11800                 425.0              Western Gap Care   \n",
       "...                     ...                           ...   \n",
       "118140                385.0                    Sanlam Gap   \n",
       "118142                385.0                    Sanlam Gap   \n",
       "118143                385.0                    Sanlam Gap   \n",
       "118145                385.0                    Sanlam Gap   \n",
       "118146                219.0                    Sanlam Gap   \n",
       "\n",
       "       policy_inceptiondate    corporate_individual_split  \n",
       "11160            2021-03-01  Western Gap Care - Corporate  \n",
       "11195            2021-03-01  Western Gap Care - Corporate  \n",
       "11294            2021-03-01  Western Gap Care - Corporate  \n",
       "11389            2021-03-01       Western Gap - Corporate  \n",
       "11800            2021-03-01  Western Gap Care - Corporate  \n",
       "...                     ...                           ...  \n",
       "118140           2021-03-01       Sanlam Gap - Individual  \n",
       "118142           2021-03-01       Sanlam Gap - Individual  \n",
       "118143           2021-03-01       Sanlam Gap - Individual  \n",
       "118145           2021-03-01       Sanlam Gap - Individual  \n",
       "118146           2021-03-01       Sanlam Gap - Individual  \n",
       "\n",
       "[1118 rows x 7 columns]"
      ]
     },
     "execution_count": 63,
     "metadata": {},
     "output_type": "execute_result"
    }
   ],
   "source": [
    "owls_members_df[owls_members_df['policy_inceptiondate']==iterate_months[-1]]"
   ]
  },
  {
   "cell_type": "code",
   "execution_count": 58,
   "metadata": {},
   "outputs": [
    {
     "name": "stdout",
     "output_type": "stream",
     "text": [
      "1 2020-03-01 00:00:00\n",
      "i =  1 ; month:  2020-03-01 00:00:00 23834 ; active_policies:  12240 ; live_policies:  14394 ; new_inactive_policies:  4536  valid_terminations:  2382\n",
      "2 2020-04-01 00:00:00\n",
      "i =  2 ; month:  2020-04-01 00:00:00 21634 ; active_policies:  12329 ; live_policies:  14394 ; new_inactive_policies:  4252  valid_terminations:  2187\n",
      "3 2020-05-01 00:00:00\n",
      "i =  3 ; month:  2020-05-01 00:00:00 19649 ; active_policies:  12496 ; live_policies:  14394 ; new_inactive_policies:  3869  valid_terminations:  1971\n",
      "4 2020-06-01 00:00:00\n",
      "i =  4 ; month:  2020-06-01 00:00:00 17989 ; active_policies:  12537 ; live_policies:  14394 ; new_inactive_policies:  3489  valid_terminations:  1632\n",
      "5 2020-07-01 00:00:00\n",
      "i =  5 ; month:  2020-07-01 00:00:00 16273 ; active_policies:  12550 ; live_policies:  14394 ; new_inactive_policies:  3152  valid_terminations:  1308\n",
      "6 2020-08-01 00:00:00\n",
      "i =  6 ; month:  2020-08-01 00:00:00 14615 ; active_policies:  12714 ; live_policies:  14394 ; new_inactive_policies:  2783  valid_terminations:  1103\n",
      "7 2020-09-01 00:00:00\n",
      "i =  7 ; month:  2020-09-01 00:00:00 12925 ; active_policies:  12804 ; live_policies:  14394 ; new_inactive_policies:  2456  valid_terminations:  866\n",
      "8 2020-10-01 00:00:00\n",
      "i =  8 ; month:  2020-10-01 00:00:00 11100 ; active_policies:  12954 ; live_policies:  14394 ; new_inactive_policies:  2135  valid_terminations:  695\n",
      "9 2020-11-01 00:00:00\n",
      "i =  9 ; month:  2020-11-01 00:00:00 9742 ; active_policies:  13221 ; live_policies:  14394 ; new_inactive_policies:  1751  valid_terminations:  578\n",
      "10 2020-12-01 00:00:00\n",
      "i =  10 ; month:  2020-12-01 00:00:00 8355 ; active_policies:  13435 ; live_policies:  14394 ; new_inactive_policies:  1372  valid_terminations:  413\n",
      "11 2021-01-01 00:00:00\n",
      "i =  11 ; month:  2021-01-01 00:00:00 6972 ; active_policies:  13883 ; live_policies:  14394 ; new_inactive_policies:  806  valid_terminations:  295\n",
      "12 2021-02-01 00:00:00\n",
      "i =  12 ; month:  2021-02-01 00:00:00 1963 ; active_policies:  14162 ; live_policies:  14394 ; new_inactive_policies:  387  valid_terminations:  155\n"
     ]
    }
   ],
   "source": [
    "# terminations_product_filter=owls_terminations_df['productsetup_productsetupname']==product\n",
    "live_policies_list=[]\n",
    "new_inactive_policies_list=[]\n",
    "active_policies_list=[]\n",
    "valid_terminations_list=[]\n",
    "for i in range(1,len(iterate_months)-1):\n",
    "    print(i,iterate_months[i])\n",
    "\n",
    "    members_date_filter=owls_members_df['policy_inceptiondate']>iterate_months[i]\n",
    "    new_policies_df=owls_members_df[members_date_filter&members_product_filter]\n",
    "    slice_saver(identifier_name=\"subsequent_new_policies\", dataframe=new_policies_df, save_path=slices_path, datafile_name=owls_members, product_name=product)\n",
    "    \n",
    "    new_inactive_policies=new_policies_df.shape[0]\n",
    "    terminations_policy_inceptiondate_filter=owls_terminations_df['policy_inceptiondate']<=max_date #iterate_months[i+1]\n",
    "    terminations_policy_cancellationdate_filter=owls_terminations_df['policy_cancellationdate']>iterate_months[i-1]\n",
    "    valid_terminations_filter=(terminations_policy_inceptiondate_filter&terminations_policy_cancellationdate_filter&terminations_product_filter)\n",
    "    valid_terminations_df=owls_terminations_df[valid_terminations_filter]\n",
    "    slice_saver(identifier_name=\"valid_terminations\", dataframe=valid_terminations_df, save_path=slices_path, datafile_name=owls_members, product_name=product)\n",
    "    \n",
    "    valid_terminations=valid_terminations_df.shape[0]\n",
    "    active_policies=live_policies-new_inactive_policies+valid_terminations    \n",
    "    print('i = ',i,'; month: ', iterate_months[i],owls_terminations_df[terminations_policy_cancellationdate_filter].shape[0],'; active_policies: ',active_policies,'; live_policies: ',live_policies,'; new_inactive_policies: ',new_inactive_policies, ' valid_terminations: ',valid_terminations)\n",
    "    live_policies_list.append(live_policies)\n",
    "    new_inactive_policies_list.append(new_inactive_policies)\n",
    "    valid_terminations_list.append(valid_terminations)\n",
    "    active_policies_list.append(active_policies)"
   ]
  },
  {
   "cell_type": "code",
   "execution_count": 59,
   "metadata": {},
   "outputs": [
    {
     "data": {
      "text/plain": [
       "[12240,\n",
       " 12329,\n",
       " 12496,\n",
       " 12537,\n",
       " 12550,\n",
       " 12714,\n",
       " 12804,\n",
       " 12954,\n",
       " 13221,\n",
       " 13435,\n",
       " 13883,\n",
       " 14162]"
      ]
     },
     "execution_count": 59,
     "metadata": {},
     "output_type": "execute_result"
    }
   ],
   "source": [
    "active_policies_list"
   ]
  },
  {
   "cell_type": "markdown",
   "metadata": {},
   "source": [
    "### Gross Premium"
   ]
  },
  {
   "cell_type": "markdown",
   "metadata": {},
   "source": [
    " - COUNTIFS(Active_Listing_Raw!$I:$I,\"Live\",Active_Listing_Raw!$D:$D,Summary!$C$2)- \n",
    " - COUNTIFS(Active_Listing_Raw!$G:$G,\">\"&Summary!AC5,Active_Listing_Raw!$D:$D,Summary!$C$2)+\n",
    " - COUNTIFS(Terminations_Raw!$AF:$AF,\">\"&Summary!AD5, #\n",
    " - Terminations_Raw!$AG:$AG,\">\"&Summary!AB5,Terminations_Raw!$D:$D,Summary!$C$2)"
   ]
  },
  {
   "cell_type": "markdown",
   "metadata": {},
   "source": [
    " - SUMIFS(Active_Listing_Raw!$AE:$AE,Active_Listing_Raw!$I:$I,\"Live\",Active_Listing_Raw!$D:$D,Summary!$C$2)\n",
    " - SUMIFS(Active_Listing_Raw!$AE:$AE,Active_Listing_Raw!$G:$G,\">\"&Summary!X5,Active_Listing_Raw!$D:$D,Summary!$C$2)\n",
    " - SUMIFS(Terminations_Raw!$AD:$AD,Terminations_Raw!$AF:$AF,\"<\"&Summary!Z5,Terminations_Raw!$AG:$AG,\">\"&Summary!W5,Terminations_Raw!$D:$D,Summary!$C$2)"
   ]
  },
  {
   "cell_type": "markdown",
   "metadata": {},
   "source": [
    "__ Notice the descrepancy here.  In calculating the number of valid terminated policies the excel spreadsheet conditions on AF  being later than "
   ]
  },
  {
   "cell_type": "code",
   "execution_count": null,
   "metadata": {},
   "outputs": [],
   "source": [
    "live_policies_grosspremium_list=[]\n",
    "new_policies_grosspremium_list=[]\n",
    "active_grosspremium_list=[]\n",
    "valid_policies_grosspremium_list=[]\n",
    "for i in range(1,len(iterate_months)-1):\n",
    "    print(i,iterate_months[i])\n",
    "    member_date_filter=owls_members_df['policy_inceptiondate']>iterate_months[i]\n",
    "#   ----------------------------------------------------------------------------------------------------------------------------\n",
    "    new_policies_df=owls_members_df[member_date_filter&members_product_filter]\n",
    "    new_policies_grosspremium=new_policies_df['policy_totalpremium'].sum()\n",
    "#   ----------------------------------------------------------------------------------------------------------------------------\n",
    "    terminations_policy_inceptiondate_filter=owls_terminations_df['policy_inceptiondate']<=max_date#iterate_months[i+1]\n",
    "    terminations_policy_cancellationdate_filter=owls_terminations_df['policy_cancellationdate']>iterate_months[i-1]\n",
    "    valid_terminations_filter=(terminations_policy_inceptiondate_filter&terminations_policy_cancellationdate_filter&terminations_product_filter)\n",
    "    valid_terminations_df=owls_terminations_df[valid_terminations_filter]\n",
    "#     slice_saver(identifier_name=\"valid_terminations\", dataframe=new_policies_df, save_path=slices_path, datafile_name=owls_members, product_name=product)    \n",
    "    valid_policies_grosspremium=valid_terminations_df['policy_totalpremium'].sum()\n",
    "#   ----------------------------------------------------------------------------------------------------------------------------\n",
    "    active_policies_grosspremium=live_policies_grosspremium-new_policies_grosspremium+valid_policies_grosspremium    \n",
    "    print('i = ',i,'; month: ', iterate_months[i],'; iterate_months[i-1]: ',iterate_months[i-1],'; active_policies_grosspremium: ',active_policies_grosspremium,'; live_policies_grosspremium: ',live_policies_grosspremium,'; new_policies_grosspremium: ',new_policies_grosspremium, ' valid_policies_grosspremium: ',valid_policies_grosspremium)\n",
    "    live_policies_grosspremium_list.append(live_policies_grosspremium)\n",
    "    new_policies_grosspremium_list.append(new_policies_grosspremium)\n",
    "    valid_policies_grosspremium_list.append(valid_policies_grosspremium)\n",
    "    active_grosspremium_list.append(active_policies_grosspremium)"
   ]
  },
  {
   "cell_type": "code",
   "execution_count": null,
   "metadata": {},
   "outputs": [],
   "source": [
    "new_policies_df"
   ]
  },
  {
   "cell_type": "code",
   "execution_count": null,
   "metadata": {},
   "outputs": [],
   "source": [
    "product.lower().replace(\"-\",\"\").replace(\"  \",\" \").replace(\" \",\"_\")"
   ]
  },
  {
   "cell_type": "code",
   "execution_count": null,
   "metadata": {},
   "outputs": [],
   "source": [
    "# slice_saver(identifier_name=\"new_policies\", dataframe=new_policies_df, save_path=slices_path, datafile_name=owls_members, product_name=product)"
   ]
  },
  {
   "cell_type": "code",
   "execution_count": null,
   "metadata": {},
   "outputs": [],
   "source": [
    "# # terminations_product_filter=owls_terminations_df['productsetup_productsetupname']==product\n",
    "# live_policies_list=[]\n",
    "# new_policies_list=[]\n",
    "# active_policies_list=[]\n",
    "# valid_terminations_list=[]\n",
    "\n",
    "# live_policies_grosspremium_list=[]\n",
    "# new_policies_grosspremium_list=[]\n",
    "# active_grosspremium_list=[]\n",
    "# valid_policies_grosspremium_list=[]\n",
    "\n",
    "# for i in range(1,len(iterate_months)-1):\n",
    "#     print(i,iterate_months[i])\n",
    "\n",
    "#     members_date_filter=owls_members_df['policy_inceptiondate']>iterate_months[i]\n",
    "#     new_policies_df=owls_members_df[members_date_filter&members_product_filter]\n",
    "    \n",
    "#     new_policies=new_policies_df.shape[0]\n",
    "#     new_policies_grosspremium=new_policies_df['policy_totalpremium'].sum()\n",
    "    \n",
    "#     terminations_policy_inceptiondate_filter=owls_terminations_df['policy_inceptiondate']<iterate_months[i+1]\n",
    "#     terminations_policy_cancellationdate_filter=owls_terminations_df['policy_cancellationdate']>iterate_months[i-1]\n",
    "    \n",
    "#     valid_terminations_filter=(terminations_policy_inceptiondate_filter&terminations_policy_cancellationdate_filter&terminations_product_filter)\n",
    "#     valid_terminations_df=owls_terminations_df[valid_terminations_filter]\n",
    "    \n",
    "#     valid_terminations=valid_terminations_df.shape[0]\n",
    "#     valid_policies_grosspremium=valid_terminations_df['policy_totalpremium'].sum()\n",
    "    \n",
    "#     active_policies=live_policies-new_policies+valid_terminations \n",
    "#     active_policies_grosspremium=live_policies_grosspremium-new_policies_grosspremium+valid_policies_grosspremium    \n",
    "    \n",
    "#     live_policies_list.append(live_policies)\n",
    "#     new_policies_list.append(new_policies)\n",
    "#     valid_terminations_list.append(valid_terminations)\n",
    "#     active_policies_list.append(active_policies)\n",
    "    \n",
    "#     live_policies_grosspremium_list.append(live_policies_grosspremium)\n",
    "#     new_policies_grosspremium_list.append(new_policies_grosspremium)\n",
    "#     valid_policies_grosspremium_list.append(valid_policies_grosspremium)\n",
    "#     active_grosspremium_list.append(active_policies_grosspremium)    \n",
    "    \n",
    "#     print('i = ',i,'; month: ', iterate_months[i],owls_terminations_df[terminations_policy_cancellationdate_filter].shape[0],'; active_policies: ',active_policies,'; live_policies: ',live_policies,'; new_policies: ',new_policies, ' valid_terminations: ',valid_terminations)\n"
   ]
  },
  {
   "cell_type": "markdown",
   "metadata": {},
   "source": [
    "### New policies"
   ]
  },
  {
   "cell_type": "code",
   "execution_count": null,
   "metadata": {},
   "outputs": [],
   "source": [
    "# members_product_filter=(owls_members_df['productsetup_productsetupname']==product)\n",
    "# new_policy_filter=owls_members_df['policy_inceptiondate']==\n",
    "# owls_members_df[date_filter&product_filter].shape[0]"
   ]
  },
  {
   "cell_type": "markdown",
   "metadata": {},
   "source": [
    "Add back recent terminations falling in the window still to be deemed valid:\n",
    "- =COUNTIFS(Terminations_Raw!$AF:$AF,\"<\"&Summary!AD5,Terminations_Raw!$AG:$AG,\">\"&Summary!AB5,Active_Listing_Raw!$D:$D,Summary!$C$2)"
   ]
  },
  {
   "cell_type": "markdown",
   "metadata": {},
   "source": [
    " - =COUNTIFS(Active_Listing_Raw!$D:$D,Summary!$C$2,Active_Listing_Raw!$F:$F,Summary!AC5)"
   ]
  },
  {
   "cell_type": "markdown",
   "metadata": {},
   "source": [
    "pd.to_datetime(owls_terminations_df['policy_inceptiondate'], format='%Y/%m/%d', errors='ignore')"
   ]
  },
  {
   "cell_type": "code",
   "execution_count": null,
   "metadata": {},
   "outputs": [],
   "source": [
    "# members_product_filter=(owls_members_df['productsetup_productsetupname']==product)\n",
    "new_policies_list=[]\n",
    "for i in range(1,len(iterate_months)-1):\n",
    "    print(i,iterate_months[i])\n",
    "# \n",
    "#     member_date_filter=owls_members_df['policy_inceptiondate']>iterate_months[i]\n",
    "#     new_policies_df=owls_members_df[member_date_filter&members_product_filter]\n",
    "# \n",
    "    \n",
    "    new_policies_date_filter=owls_members_df['policy_inceptiondate']==iterate_months[i]\n",
    "#   ----------------------------------------------------------------------------------------------------------------------------\n",
    "    new_policies_df=owls_members_df[new_policies_date_filter&members_product_filter]\n",
    "    slice_saver(identifier_name=\"period_new_policies\", dataframe=new_policies_df, save_path=slices_path, datafile_name=owls_members, product_name=product)\n",
    "    \n",
    "    new_policies=new_policies_df['policy_totalpremium'].shape[0]\n",
    "    new_policies_list.append(new_policies)"
   ]
  },
  {
   "cell_type": "code",
   "execution_count": null,
   "metadata": {},
   "outputs": [],
   "source": [
    "new_policies_list"
   ]
  },
  {
   "cell_type": "markdown",
   "metadata": {},
   "source": [
    "### GWP of New Policies"
   ]
  },
  {
   "cell_type": "markdown",
   "metadata": {},
   "source": [
    "=SUMIFS(Active_Listing_Raw!$AC:$AC,Active_Listing_Raw!$D:$D,Summary!$C$2,Active_Listing_Raw!$F:$F,Summary!X5)"
   ]
  },
  {
   "cell_type": "raw",
   "metadata": {},
   "source": [
    "The gross premium of new policies for a particular month and product is the _sum_ of all policy_grosspremium for that product and that month:"
   ]
  },
  {
   "cell_type": "code",
   "execution_count": null,
   "metadata": {},
   "outputs": [],
   "source": [
    "# members_product_filter=(owls_members_df['productsetup_productsetupname']==product)\n",
    "gwp_new_policies_list=[]\n",
    "for i in range(1,len(iterate_months)-1):\n",
    "#     print(i,iterate_months[i])\n",
    "    new_policies_date_filter=owls_members_df['policy_inceptiondate']==iterate_months[i]\n",
    "#   ----------------------------------------------------------------------------------------------------------------------------\n",
    "    new_policies_df=owls_members_df[new_policies_date_filter&members_product_filter]\n",
    "    \n",
    "    gwp_new_policies=new_policies_df['policy_grosspremium'].sum()\n",
    "    gwp_new_policies_list.append(gwp_new_policies)\n",
    "    print(i,iterate_months[i],'; ', gwp_new_policies)"
   ]
  },
  {
   "cell_type": "markdown",
   "metadata": {},
   "source": [
    "### Average Premium"
   ]
  },
  {
   "cell_type": "markdown",
   "metadata": {},
   "source": [
    "The average premium is the gross premium(from active_grosspremium_list) __divided__ by the number of active policies (from active_policies_list): "
   ]
  },
  {
   "cell_type": "code",
   "execution_count": null,
   "metadata": {},
   "outputs": [],
   "source": [
    "active_grosspremium_list\n",
    "active_policies_list\n",
    "average_premium_list=[]\n",
    "for f, b in zip(active_grosspremium_list, active_policies_list):\n",
    "    average_premium_list.append(f/b)\n",
    "    print(f,b,f/b)"
   ]
  },
  {
   "cell_type": "markdown",
   "metadata": {},
   "source": [
    "### NTU"
   ]
  },
  {
   "cell_type": "markdown",
   "metadata": {},
   "source": [
    "=COUNTIFS(Terminations_Raw!$AF:$AF,Summary!Y$5,Terminations_Raw!$H:$H,\"Not Taken Up\",Terminations_Raw!$D:$D,Summary!$C$2)"
   ]
  },
  {
   "cell_type": "code",
   "execution_count": null,
   "metadata": {},
   "outputs": [],
   "source": [
    "# terminations_product_filter=owls_terminations_df['productsetup_productsetupname']==product\n",
    "ntu_list=[]\n",
    "for i in range(1,len(iterate_months)-1):\n",
    "    terminations_policy_inceptiondate_filter=owls_terminations_df['policy_inceptiondate']==iterate_months[i]\n",
    "    f=terminations_product_filter&ntu_filter&terminations_policy_inceptiondate_filter\n",
    "    valid_terminations_df=owls_terminations_df[f]\n",
    "    ntu=valid_terminations_df.shape[0]\n",
    "    ntu_list.append(ntu)\n",
    "    print(i,iterate_months[i],'; ', ntu)"
   ]
  },
  {
   "cell_type": "markdown",
   "metadata": {},
   "source": [
    "### Gross premium for NTU"
   ]
  },
  {
   "cell_type": "markdown",
   "metadata": {},
   "source": [
    "=SUMIFS(Terminations_Raw!$AD:$AD,Terminations_Raw!$AF:$AF,Summary!X$5,Terminations_Raw!$H:$H,\"Not Taken Up\",Terminations_Raw!$D:$D,Summary!$C$2)"
   ]
  },
  {
   "cell_type": "code",
   "execution_count": null,
   "metadata": {},
   "outputs": [],
   "source": [
    "# owls_terminations_df\n",
    "# terminations_product_filter\n",
    "# ntu_filter=owls_terminations_df['policy_status']=='Not Taken Up'\n",
    "# terminations_policy_inceptiondate_filter=owls_terminations_df['policy_inceptiondate']==iterate_months[i]\n",
    "# sum over policy_totalpremium\n",
    "# 'policy_inceptiondate'"
   ]
  },
  {
   "cell_type": "code",
   "execution_count": null,
   "metadata": {},
   "outputs": [],
   "source": [
    "# ntu_filter=owls_terminations_df['policy_status']=='Not Taken Up'\n",
    "gp_ntu_list=[]\n",
    "for i in range(1,len(iterate_months)-1):\n",
    "    terminations_policy_inceptiondate_filter=owls_terminations_df['policy_inceptiondate']==iterate_months[i]\n",
    "    f=terminations_product_filter&ntu_filter&terminations_policy_inceptiondate_filter\n",
    "    valid_terminations_df=owls_terminations_df[f]\n",
    "    gp_ntu=valid_terminations_df['policy_totalpremium'].sum()\n",
    "    gp_ntu_list.append(gp_ntu)\n",
    "    print(i,iterate_months[i],'; ', gp_ntu,owls_terminations_df[terminations_policy_inceptiondate_filter].shape[0])"
   ]
  },
  {
   "cell_type": "markdown",
   "metadata": {},
   "source": [
    "***"
   ]
  },
  {
   "cell_type": "markdown",
   "metadata": {},
   "source": [
    "### Cancellations"
   ]
  },
  {
   "cell_type": "markdown",
   "metadata": {},
   "source": [
    "=COUNTIFS(Terminations_Raw!$AG:$AG,Summary!X$4,Terminations_Raw!$H:$H,\"Cancelled\",Terminations_Raw!$D:$D,Summary!$C$2)  \n",
    "policy_cancellationdate,cancelations_filter,terminations_product_filter\n",
    "'policy_totalpremium'"
   ]
  },
  {
   "cell_type": "code",
   "execution_count": null,
   "metadata": {},
   "outputs": [],
   "source": [
    "cancelations_list=[]\n",
    "gp_cancelations_list=[]\n",
    "for i in range(1,len(iterate_months)-1):\n",
    "    last_day_of_month=last_day_of_month_fn(iterate_months[i])\n",
    "    terminations_policy_cancellationdate_filter=owls_terminations_df['policy_cancellationdate']==last_day_of_month\n",
    "    f=terminations_product_filter&cancelations_filter&terminations_policy_cancellationdate_filter\n",
    "    valid_terminations_df=owls_terminations_df[f]\n",
    "    cancelations=valid_terminations_df.shape[0]\n",
    "    cancelations_list.append(cancelations)\n",
    "    gp_cancelations=valid_terminations_df['policy_totalpremium'].sum()\n",
    "    gp_cancelations_list.append(gp_cancelations)    \n",
    "    print(i,iterate_months[i],'; ',cancelations, gp_cancelations)"
   ]
  },
  {
   "cell_type": "markdown",
   "metadata": {},
   "source": [
    "*** "
   ]
  },
  {
   "cell_type": "markdown",
   "metadata": {},
   "source": [
    "### Number of Claims Received (Incl O/Docs Claims)"
   ]
  },
  {
   "cell_type": "markdown",
   "metadata": {},
   "source": [
    "=COUNTIFS(Received_Claims!$H:$H,Summary!$C$2,Received_Claims!$P:$P,Summary!X5)    \n",
    "Received_Claims! 𝑃: P,Summary!X5: Received Date, 'notification_date' compare notification date with period date  \n",
    "Received_Claims! 𝐻: H,Summary! 𝐶 2: product filter=received_claims_product_filter compare productsetupname with product \n"
   ]
  },
  {
   "cell_type": "code",
   "execution_count": null,
   "metadata": {},
   "outputs": [],
   "source": [
    "claims_received_list=[]\n",
    "value_claims_received_list=[]\n",
    "# gp_cancelations_list=[]\n",
    "for i in range(1,len(iterate_months)-1):\n",
    "#     last_day_of_month=last_day_of_month_fn(iterate_months[i])\n",
    "    claims_received_notification_date_filter=owls_received_claims_df['som_notification_date']==iterate_months[i]\n",
    "    f=claims_received_product_filter&claims_received_notification_date_filter\n",
    "    df=owls_received_claims_df[f].copy()\n",
    "    claims_received=df.shape[0]\n",
    "    claims_received_list.append(claims_received)\n",
    "    value_claims_received=df['Original Reserve'].sum()\n",
    "    value_claims_received_list.append(value_claims_received)    \n",
    "    print(i,iterate_months[i],'; ',claims_received, value_claims_received)"
   ]
  },
  {
   "cell_type": "markdown",
   "metadata": {},
   "source": [
    "***"
   ]
  },
  {
   "cell_type": "markdown",
   "metadata": {},
   "source": [
    "### Highest Claim Paid"
   ]
  },
  {
   "cell_type": "markdown",
   "metadata": {},
   "source": [
    "=MAXIFS(Received_Claims!$L:$L,Received_Claims!$H:$H,Summary!$C$2,Received_Claims!$P:$P,Summary!X5)"
   ]
  },
  {
   "cell_type": "code",
   "execution_count": null,
   "metadata": {},
   "outputs": [],
   "source": [
    "highest_claim_paid_list=[]\n",
    "# value_claims_received_list=[]\n",
    "# gp_cancelations_list=[]\n",
    "for i in range(1,len(iterate_months)-1):\n",
    "#     last_day_of_month=last_day_of_month_fn(iterate_months[i])\n",
    "    claims_paid_date_filter=owls_received_claims_df['som_notification_date']==iterate_months[i]\n",
    "    f=claims_received_product_filter&claims_paid_date_filter    \n",
    "    df=owls_received_claims_df[f].copy()\n",
    "    highest_claim_paid=df['Total Payments'].max()\n",
    "    highest_claim_paid_list.append(highest_claim_paid)    \n",
    "    print(i,iterate_months[i],'; ',highest_claim_paid)\n",
    "highest_claim_paid_list=[0 if x != x else x for x in highest_claim_paid_list]"
   ]
  },
  {
   "cell_type": "code",
   "execution_count": null,
   "metadata": {},
   "outputs": [],
   "source": [
    "highest_claim_paid_list"
   ]
  },
  {
   "cell_type": "markdown",
   "metadata": {},
   "source": [
    "***"
   ]
  },
  {
   "cell_type": "markdown",
   "metadata": {},
   "source": [
    "### Number, Value and Average Value of Claims Paid"
   ]
  },
  {
   "cell_type": "markdown",
   "metadata": {},
   "source": [
    "=COUNTIFS(Received_Claims!$H:$H,Summary!$C$2, : this is the product filter\n",
    "eceived_Claims!$P:$P,Summary!X5, : this is the date filter\n",
    "Received_Claims!$K:$K,\"Approve, Pay now\") : pay_now_filter"
   ]
  },
  {
   "cell_type": "code",
   "execution_count": null,
   "metadata": {},
   "outputs": [],
   "source": [
    "number_of_claims_paid_list=[]\n",
    "value_of_claims_paid_list=[]\n",
    "average_value_of_claims_paid_list=[]\n",
    "# value_claims_received_list=[]\n",
    "# gp_cancelations_list=[]\n",
    "for i in range(1,len(iterate_months)-1):\n",
    "#     last_day_of_month=last_day_of_month_fn(iterate_months[i])\n",
    "    average_value_of_claims_paid=0\n",
    "    claims_paid_date_filter=owls_received_claims_df['som_notification_date']==iterate_months[i]\n",
    "    f=claims_received_product_filter&claims_paid_date_filter&pay_now_filter\n",
    "    df=owls_received_claims_df[f].copy()\n",
    "    number_of_claims_paid=df.shape[0]\n",
    "    value_of_claims_paid=df['Original Reserve'].sum()\n",
    "    number_of_claims_paid_list.append(number_of_claims_paid)\n",
    "    value_of_claims_paid_list.append(value_of_claims_paid)\n",
    "    if number_of_claims_paid!=0:\n",
    "        average_value_of_claims_paid=value_of_claims_paid/number_of_claims_paid\n",
    "#         average_value_of_claims_paid_list.append(average_value_of_claims_paid)     \n",
    "    average_value_of_claims_paid_list.append(average_value_of_claims_paid)\n",
    "    print(i,iterate_months[i],'; ',average_value_of_claims_paid,number_of_claims_paid,value_of_claims_paid)\n",
    "# Average Cost Per Claim\n"
   ]
  },
  {
   "cell_type": "markdown",
   "metadata": {},
   "source": [
    "***"
   ]
  },
  {
   "cell_type": "markdown",
   "metadata": {},
   "source": [
    "### Number, Value and Average Value of Repudiated Claims"
   ]
  },
  {
   "cell_type": "markdown",
   "metadata": {},
   "source": [
    "=COUNTIFS(Received_Claims!$H:$H,Summary!$C$2,Received_Claims!$P:$P,Summary!X5,Received_Claims!$K:$K,\"Reject\")"
   ]
  },
  {
   "cell_type": "code",
   "execution_count": null,
   "metadata": {},
   "outputs": [],
   "source": []
  },
  {
   "cell_type": "code",
   "execution_count": null,
   "metadata": {},
   "outputs": [],
   "source": [
    "# reject_claims_filter\n",
    "reject_claims_list=[]\n",
    "value_of_reject_claims_list=[]\n",
    "average_value_of_reject_claims_list=[]\n",
    "# average_value_of_claims_paid_list=[]\n",
    "# value_claims_received_list=[]\n",
    "# gp_cancelations_list=[]\n",
    "for i in range(1,len(iterate_months)-1):\n",
    "#     last_day_of_month=last_day_of_month_fn(iterate_months[i])\n",
    "    average_value_of_reject_claims=0\n",
    "    claims_paid_date_filter=owls_received_claims_df['som_notification_date']==iterate_months[i]\n",
    "    f=claims_received_product_filter&claims_paid_date_filter&reject_claims_filter\n",
    "    df=owls_received_claims_df[f].copy()\n",
    "    reject_claims=df.shape[0]\n",
    "    value_of_reject_claims=df['Original Reserve'].sum()\n",
    "    reject_claims_list.append(reject_claims)\n",
    "    value_of_reject_claims_list.append(value_of_reject_claims)\n",
    "    if reject_claims!=0:\n",
    "        average_value_of_reject_claims=value_of_reject_claims/reject_claims\n",
    "#         average_value_of_reject_claims_list.append(average_value_of_reject_claims)     \n",
    "    average_value_of_reject_claims_list.append(average_value_of_reject_claims)\n",
    "    print(i,iterate_months[i],'; average_value_of_reject_claims: ',average_value_of_reject_claims,'; reject_claims: ',reject_claims,'; value_of_reject_claims: ',value_of_reject_claims)\n",
    "# Average Cost Per Claim\n"
   ]
  },
  {
   "cell_type": "markdown",
   "metadata": {},
   "source": [
    "***"
   ]
  },
  {
   "cell_type": "markdown",
   "metadata": {},
   "source": [
    "### Number, Value and Average Value of Outstanding Claims"
   ]
  },
  {
   "cell_type": "markdown",
   "metadata": {},
   "source": [
    "=COUNTIFS(Received_Claims!$H:$H,Summary!$C$2,Received_Claims!$P:$P,Summary!X5,Received_Claims!$K:$K,\"\")"
   ]
  },
  {
   "cell_type": "code",
   "execution_count": null,
   "metadata": {},
   "outputs": [],
   "source": [
    "# reject_claims_filter\n",
    "outstanding_claims_list=[]\n",
    "value_of_outstanding_claims_list=[]\n",
    "average_value_of_outstanding_claims_list=[]\n",
    "# average_value_of_claims_paid_list=[]\n",
    "# value_claims_received_list=[]\n",
    "# gp_cancelations_list=[]\n",
    "for i in range(1,len(iterate_months)-1):\n",
    "#     last_day_of_month=last_day_of_month_fn(iterate_months[i])\n",
    "    average_value_of_outstanding_claims=0\n",
    "    outstanding_claims_date_filter=owls_received_claims_df['som_notification_date']==iterate_months[i]\n",
    "    f=claims_received_product_filter&outstanding_claims_date_filter&outstanding_claims_filter\n",
    "    print(owls_received_claims_df[outstanding_claims_filter].shape[0])\n",
    "    df=owls_received_claims_df[f].copy()\n",
    "    outstanding_claims=df.shape[0]\n",
    "    value_of_outstanding_claims=df['Original Reserve'].sum()\n",
    "    outstanding_claims_list.append(outstanding_claims)\n",
    "    value_of_outstanding_claims_list.append(value_of_outstanding_claims)\n",
    "    if outstanding_claims!=0:\n",
    "        average_value_of_outstanding_claims=value_of_outstanding_claims/outstanding_claims\n",
    "#         average_value_of_outstanding_claims_list.append(average_value_of_outstanding_claims)   \n",
    "    average_value_of_outstanding_claims_list.append(average_value_of_outstanding_claims)\n",
    "    print(i,iterate_months[i],'; value_of_outstanding_claims: ',value_of_outstanding_claims,'; outstanding_claims: ',outstanding_claims,'; value_of_reject_claims: ',value_of_reject_claims)\n",
    "# Average Cost Per Claim\n"
   ]
  },
  {
   "cell_type": "markdown",
   "metadata": {},
   "source": [
    "***"
   ]
  },
  {
   "cell_type": "markdown",
   "metadata": {},
   "source": [
    "### Construct the report dataframe"
   ]
  },
  {
   "cell_type": "code",
   "execution_count": null,
   "metadata": {},
   "outputs": [],
   "source": [
    "index_list=['Active Policies',\n",
    "            'Live Policies',\n",
    "            'New Inactive Policies',\n",
    "            'Active Terminated Policies',\n",
    "            'Gross Premium',\n",
    "            'Gross Premium from Live Policies',\n",
    "            'Gross Premium from New Inactive Policies',\n",
    "            'Gross Premium from Active Terminated Policies',\n",
    "            'New Policies',\n",
    "            'GWP of New Policies',\n",
    "            'Average Premium',\n",
    "            'NTU',\n",
    "            'Gross Premium for NTU',\n",
    "            'Cancellations',\n",
    "            'Gross Premium for Cancellations',\n",
    "            'Number of Claims Received (Incl O/Docs Claims)',\n",
    "            'Value of Claims Received',\n",
    "            'Highest Claim Paid',\n",
    "            'Number of Claims Paid',\n",
    "            'Value of Claims Paid',\n",
    "            'Average Cost Per Claim',\n",
    "            'Repudiated Claims',\n",
    "            'Value of Repudiated Claims',\n",
    "            'Average Cost per repudiated claim',\n",
    "            'Number of Oustanding Claims',\n",
    "            'Value of Outstanding Claims',\n",
    "           'Average Value of Outstanding Claims']\n"
   ]
  },
  {
   "cell_type": "code",
   "execution_count": null,
   "metadata": {},
   "outputs": [],
   "source": [
    "data=[]\n",
    "data.append(active_policies_list)\n",
    "data.append(live_policies_list)\n",
    "data.append(new_inactive_policies_list)\n",
    "data.append(valid_terminations_list)\n",
    "data.append(active_grosspremium_list)\n",
    "data.append(live_policies_grosspremium_list)\n",
    "data.append(new_policies_grosspremium_list)\n",
    "data.append(valid_policies_grosspremium_list)\n",
    "\n",
    "data.append(new_policies_list)\n",
    "data.append(gwp_new_policies_list)\n",
    "data.append(average_premium_list)\n",
    "data.append(ntu_list)\n",
    "data.append(gp_ntu_list)\n",
    "data.append(cancelations_list)\n",
    "data.append(gp_cancelations_list)\n",
    "data.append(claims_received_list)\n",
    "data.append(value_claims_received_list)\n",
    "data.append(highest_claim_paid_list)\n",
    "data.append(number_of_claims_paid_list)\n",
    "data.append(value_of_claims_paid_list)\n",
    "\n",
    "data.append(average_value_of_claims_paid_list)\n",
    "data.append(reject_claims_list)\n",
    "data.append(value_of_reject_claims_list)\n",
    "data.append(average_value_of_reject_claims_list)\n",
    "data.append(outstanding_claims_list)\n",
    "data.append(value_of_outstanding_claims_list)\n",
    "data.append(average_value_of_outstanding_claims_list)\n"
   ]
  },
  {
   "cell_type": "code",
   "execution_count": null,
   "metadata": {},
   "outputs": [],
   "source": [
    "df = pd.DataFrame(data,index=index_list, columns=iterate_months[1:-1])"
   ]
  },
  {
   "cell_type": "code",
   "execution_count": null,
   "metadata": {},
   "outputs": [],
   "source": [
    "for i in range(1,len(iterate_months)-1):\n",
    "    print(iterate_months[i])"
   ]
  },
  {
   "cell_type": "code",
   "execution_count": null,
   "metadata": {},
   "outputs": [],
   "source": [
    "iterate_months[1:-1]"
   ]
  },
  {
   "cell_type": "code",
   "execution_count": null,
   "metadata": {},
   "outputs": [],
   "source": [
    "s=owls_members.split(\"_\")[1].split(\".\")[0]\n",
    "filename=\"cbr\"+'_'+product+\"_\"+s+\".csv\"\n",
    "df.to_csv(path_or_buf=report_path+filename, sep=',', index=True)"
   ]
  },
  {
   "cell_type": "code",
   "execution_count": null,
   "metadata": {},
   "outputs": [],
   "source": [
    "presentation_path='\\\\\\klo-jhb-fp01\\\\Xelus\\\\Data Science\\\\ChristoStrydom\\\\Presentations\\\\'\n",
    "presentation_name='cbr_presentation_template.xlsx'\n",
    "# file_name='cbr_presentation_template.xlsx'\n",
    "cbr_presentation_template = openpyxl.load_workbook(presentation_path+presentation_name) \n",
    "summary_sheet = cbr_presentation_template[\"Sanlam Gap - Individual\"]"
   ]
  },
  {
   "cell_type": "code",
   "execution_count": null,
   "metadata": {},
   "outputs": [],
   "source": [
    "range_dict_mp={'Sanlam Gap - Individual':'SanlamGapIndividual_MP'}\n",
    "# 'SanlamGapIndividual_MP'"
   ]
  },
  {
   "cell_type": "code",
   "execution_count": null,
   "metadata": {},
   "outputs": [],
   "source": [
    "result_address = list(cbr_presentation_template.defined_names['SanlamGapIndividual_MP'].destinations)"
   ]
  },
  {
   "cell_type": "code",
   "execution_count": null,
   "metadata": {},
   "outputs": [],
   "source": [
    "result_address"
   ]
  },
  {
   "cell_type": "code",
   "execution_count": null,
   "metadata": {},
   "outputs": [],
   "source": [
    "df.loc[['Active Policies',\n",
    "            'Live Policies',\n",
    "            'New Inactive Policies',\n",
    "            'Active Terminated Policies',\n",
    "            'Gross Premium',\n",
    "            'Gross Premium from Live Policies',\n",
    "            'Gross Premium from New Inactive Policies',\n",
    "            'Gross Premium from Active Terminated Policies',\n",
    "            'New Policies',\n",
    "            'GWP of New Policies',\n",
    "            'Average Premium',\n",
    "            'NTU',\n",
    "            'Gross Premium for NTU',\n",
    "            'Cancellations',\n",
    "            'Gross Premium for Cancellations']]"
   ]
  },
  {
   "cell_type": "code",
   "execution_count": null,
   "metadata": {},
   "outputs": [],
   "source": [
    "summary_sheet[result_address[0][1].replace('$', '')]"
   ]
  },
  {
   "cell_type": "code",
   "execution_count": null,
   "metadata": {},
   "outputs": [],
   "source": [
    "df.reset_index()"
   ]
  },
  {
   "cell_type": "code",
   "execution_count": null,
   "metadata": {},
   "outputs": [],
   "source": [
    "df.loc[['Active Policies',\n",
    "            'Live Policies',\n",
    "            'New Inactive Policies',\n",
    "            'Active Terminated Policies',\n",
    "            'Gross Premium',\n",
    "            'Gross Premium from Live Policies',\n",
    "            'Gross Premium from New Inactive Policies',\n",
    "            'Gross Premium from Active Terminated Policies',\n",
    "            'New Policies',\n",
    "            'GWP of New Policies',\n",
    "            'Average Premium',\n",
    "            'NTU',\n",
    "            'Gross Premium for NTU',\n",
    "            'Cancellations',\n",
    "            'Gross Premium for Cancellations']].reset_index()"
   ]
  },
  {
   "cell_type": "code",
   "execution_count": null,
   "metadata": {},
   "outputs": [],
   "source": [
    "summary_sheet[result_address[0][1].replace('$', '')] = df.loc[['Active Policies',\n",
    "            'Live Policies',\n",
    "            'New Inactive Policies',\n",
    "            'Active Terminated Policies',\n",
    "            'Gross Premium',\n",
    "            'Gross Premium from Live Policies',\n",
    "            'Gross Premium from New Inactive Policies',\n",
    "            'Gross Premium from Active Terminated Policies',\n",
    "            'New Policies',\n",
    "            'GWP of New Policies',\n",
    "            'Average Premium',\n",
    "            'NTU',\n",
    "            'Gross Premium for NTU',\n",
    "            'Cancellations',\n",
    "            'Gross Premium for Cancellations']].reset_index()"
   ]
  },
  {
   "cell_type": "code",
   "execution_count": null,
   "metadata": {},
   "outputs": [],
   "source": [
    "outstanding_claims_date_filter"
   ]
  },
  {
   "cell_type": "code",
   "execution_count": null,
   "metadata": {},
   "outputs": [],
   "source": [
    "print(owls_received_claims_df[outstanding_claims_filter].shape[0])"
   ]
  },
  {
   "cell_type": "code",
   "execution_count": null,
   "metadata": {},
   "outputs": [],
   "source": [
    "df.shape"
   ]
  },
  {
   "cell_type": "code",
   "execution_count": null,
   "metadata": {},
   "outputs": [],
   "source": []
  }
 ],
 "metadata": {
  "kernelspec": {
   "display_name": "Python 3",
   "language": "python",
   "name": "python3"
  },
  "language_info": {
   "codemirror_mode": {
    "name": "ipython",
    "version": 3
   },
   "file_extension": ".py",
   "mimetype": "text/x-python",
   "name": "python",
   "nbconvert_exporter": "python",
   "pygments_lexer": "ipython3",
   "version": "3.7.9"
  }
 },
 "nbformat": 4,
 "nbformat_minor": 4
}
