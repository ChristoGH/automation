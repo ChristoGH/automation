{
 "cells": [
  {
   "cell_type": "markdown",
   "metadata": {},
   "source": [
    "### This is the automation script for claims experience reports."
   ]
  },
  {
   "cell_type": "code",
   "execution_count": 1,
   "metadata": {},
   "outputs": [],
   "source": [
    "import pandas as pd\n",
    "import openpyxl\n",
    "import win32com.client"
   ]
  },
  {
   "cell_type": "markdown",
   "metadata": {},
   "source": [
    "Create a function to populate a range of cells in an excel spreadsheet. \n",
    "- __address_array__ is the array of cellsthat will be populated,\n",
    "- __xlsx_sheet__ is the name of the sheet and \n",
    "- __values_array__ is the list of values used to populate the cells."
   ]
  },
  {
   "cell_type": "markdown",
   "metadata": {},
   "source": [
    "<font color=blue>__Text__</font>"
   ]
  },
  {
   "cell_type": "code",
   "execution_count": 2,
   "metadata": {},
   "outputs": [],
   "source": [
    "def populate_range_fn(address_array,xlsx_sheet,values_array):\n",
    "    c=0\n",
    "    for i in range(0,len(xlsx_sheet[address_array[0][1].replace('$', '')])):\n",
    "        for item in xlsx_sheet[address_array[0][1].replace('$', '')][i]:\n",
    "    #         print(item.value)\n",
    "            item.value=values_array[c]\n",
    "            c+=1"
   ]
  },
  {
   "cell_type": "markdown",
   "metadata": {},
   "source": [
    "__add_list_fn__ is a __function__ that adds two lists:"
   ]
  },
  {
   "cell_type": "code",
   "execution_count": 3,
   "metadata": {},
   "outputs": [],
   "source": [
    "def add_list_fn(list1,list2):\n",
    "    zip_object = zip(list1, list2)\n",
    "    sumlist=[]\n",
    "    for list1_i, list2_i in zip_object:\n",
    "        sumlist.append(list1_i+list2_i)\n",
    "    return sumlist.copy()"
   ]
  },
  {
   "cell_type": "markdown",
   "metadata": {},
   "source": [
    "Define three variables:"
   ]
  },
  {
   "cell_type": "code",
   "execution_count": 4,
   "metadata": {},
   "outputs": [],
   "source": [
    "group_name='Overberg Agri'\n",
    "year='2018'\n",
    "pgn_list=['Overberg Agri',\n",
    "'Overberg Agri - Pensioners',\n",
    "'Overberg Agri Branch: Boltfast',\n",
    "'Overberg Agri Branch: P & B Limeworks',\n",
    "'Overberg Agri -Moov Fuel',\n",
    "'Overberg Agri -Wealth and Risk Managment']"
   ]
  },
  {
   "cell_type": "code",
   "execution_count": 5,
   "metadata": {},
   "outputs": [],
   "source": [
    "template_name='automated_loss_ratio_report_template.xlsx'\n",
    "report_name='{group_name} - care range gap cover - {year} claims experience.pdf'.format(group_name=group_name,year=year)\n",
    "file_name='Claims vs Premiums {year}.xlsx'.format(year=year)\n",
    "file_path='C:\\\\Users\\\\christo.strydom\\\\github_repos\\\\automation\\\\GenaOosthuizen\\\\'\n",
    "path_to_pdf=file_path+report_name"
   ]
  },
  {
   "cell_type": "code",
   "execution_count": 6,
   "metadata": {},
   "outputs": [],
   "source": [
    "df_premiums=pd.read_excel(io=file_path+file_name,sheet_name='Premiums')\n",
    "df_claims=pd.read_excel(io=file_path+file_name,sheet_name='Claims Per Policy')\n",
    "df_claims_report=pd.read_excel(io=file_path+file_name,sheet_name='Claims Report')"
   ]
  },
  {
   "cell_type": "markdown",
   "metadata": {},
   "source": [
    "Establish the name of the report, using the __group_name__ and __year__ attribute"
   ]
  },
  {
   "cell_type": "code",
   "execution_count": 7,
   "metadata": {},
   "outputs": [],
   "source": [
    "title='{group_name} - CARE RANGE GAP COVER - {year} CLAIMS EXPERIENCE'.format(group_name=group_name,year=year)"
   ]
  },
  {
   "cell_type": "markdown",
   "metadata": {},
   "source": [
    "Slice the premiums dataframe and do some calculations:"
   ]
  },
  {
   "cell_type": "code",
   "execution_count": 8,
   "metadata": {},
   "outputs": [],
   "source": [
    "gf_premiums=df_premiums[df_premiums['Policy Group Name'].isin(pgn_list)].fillna(0).copy()\n",
    "gf_premiums.set_index('Policy Group Name',inplace=True)\n",
    "gf_premiums.loc['Total Premium',:]=gf_premiums.sum(axis=0)\n",
    "gf_premiums.loc['Risk Premium',:]=gf_premiums.loc['Total Premium',:]*0.645\n",
    "risk_premium_values=gf_premiums.loc['Risk Premium',:]\n",
    "total_premium_values=gf_premiums.loc['Total Premium',:]"
   ]
  },
  {
   "cell_type": "markdown",
   "metadata": {},
   "source": [
    "Extract the claims dataframe and perform some calculations:"
   ]
  },
  {
   "cell_type": "code",
   "execution_count": 9,
   "metadata": {},
   "outputs": [],
   "source": [
    "gf_claims=df_claims[df_claims['Policy Group Name'].isin(pgn_list)].fillna(0).copy()\n",
    "gf_claims.set_index('Policy Group Name',inplace=True)\n",
    "gf_claims.loc['Claims Paid',:]=(-1)*gf_claims.sum(axis=0)"
   ]
  },
  {
   "cell_type": "markdown",
   "metadata": {},
   "source": [
    "Calculate the average claim amount:"
   ]
  },
  {
   "cell_type": "code",
   "execution_count": 10,
   "metadata": {},
   "outputs": [],
   "source": [
    "gf_claims_report=df_claims_report[df_claims_report['Policy Group Name'].isin(pgn_list)].fillna(0).copy()\n",
    "average_claim=gf_claims_report['Amount Paid'].mean()"
   ]
  },
  {
   "cell_type": "markdown",
   "metadata": {},
   "source": [
    "Calculate the claims ratio, total claims paid to total risk premium for the year:"
   ]
  },
  {
   "cell_type": "code",
   "execution_count": 11,
   "metadata": {},
   "outputs": [],
   "source": [
    "claims_ratio=-gf_claims.loc['Claims Paid','Grand Total']/gf_premiums.loc['Risk Premium','TOTAL']"
   ]
  },
  {
   "cell_type": "markdown",
   "metadata": {},
   "source": [
    "Calculate claims to total premium, ie claims paid to total premium:"
   ]
  },
  {
   "cell_type": "code",
   "execution_count": 12,
   "metadata": {},
   "outputs": [],
   "source": [
    "claims_vs_total_premium=-gf_claims.loc['Claims Paid','Grand Total']/gf_premiums.loc['Total Premium','TOTAL']"
   ]
  },
  {
   "cell_type": "code",
   "execution_count": 13,
   "metadata": {},
   "outputs": [],
   "source": [
    "table_headings=list(gf_premiums)"
   ]
  },
  {
   "cell_type": "markdown",
   "metadata": {},
   "source": [
    "Open the report template and identify the report sheet:"
   ]
  },
  {
   "cell_type": "code",
   "execution_count": 14,
   "metadata": {},
   "outputs": [],
   "source": [
    "file_name='automated_loss_ratio_report_template.xlsx'\n",
    "automated_loss_ratio_report_template = openpyxl.load_workbook(file_path+file_name) \n",
    "summary_sheet = automated_loss_ratio_report_template[\"Summary\"]"
   ]
  },
  {
   "cell_type": "markdown",
   "metadata": {},
   "source": [
    "Extract all __named ranges__ necessary for the report:"
   ]
  },
  {
   "cell_type": "code",
   "execution_count": 15,
   "metadata": {},
   "outputs": [],
   "source": [
    "claims_vs_total_premium_address = list(automated_loss_ratio_report_template.defined_names['claims_vs_total_premium'].destinations)\n",
    "claims_ratio_address = list(automated_loss_ratio_report_template.defined_names['claims_ratio'].destinations)\n",
    "average_claim_address = list(automated_loss_ratio_report_template.defined_names['average_claim'].destinations)\n",
    "title_cell_address = list(automated_loss_ratio_report_template.defined_names['title_cell'].destinations)\n",
    "table_heading_address = list(automated_loss_ratio_report_template.defined_names['table_heading'].destinations)\n",
    "risk_premium_values_address = list(automated_loss_ratio_report_template.defined_names['risk_premium_values'].destinations)\n",
    "total_premium_values_address = list(automated_loss_ratio_report_template.defined_names['total_premium_values'].destinations)\n",
    "claims_paid_values_address = list(automated_loss_ratio_report_template.defined_names['claims_paid_values'].destinations)\n",
    "total_values_address = list(automated_loss_ratio_report_template.defined_names['total_values'].destinations)"
   ]
  },
  {
   "cell_type": "markdown",
   "metadata": {},
   "source": [
    "Define arrays for insertion into the report:"
   ]
  },
  {
   "cell_type": "code",
   "execution_count": 16,
   "metadata": {},
   "outputs": [],
   "source": [
    "risk_premium_values=list(gf_premiums.loc['Risk Premium',:].values)\n",
    "total_premium_values=list(gf_premiums.loc['Total Premium',:].values)\n",
    "claims_paid_values=list(gf_claims.loc['Claims Paid',:].values)\n",
    "riskpremium_plus_claimspaid=add_list_fn(risk_premium_values,claims_paid_values)"
   ]
  },
  {
   "cell_type": "markdown",
   "metadata": {},
   "source": [
    "Populate __named ranges__ in our template with arrays as defined above:"
   ]
  },
  {
   "cell_type": "code",
   "execution_count": 20,
   "metadata": {},
   "outputs": [
    {
     "data": {
      "text/plain": [
       "[('Summary', '$B$7:$N$7')]"
      ]
     },
     "execution_count": 20,
     "metadata": {},
     "output_type": "execute_result"
    }
   ],
   "source": [
    "table_heading_address"
   ]
  },
  {
   "cell_type": "code",
   "execution_count": 17,
   "metadata": {},
   "outputs": [],
   "source": [
    "populate_range_fn(address_array=table_heading_address, xlsx_sheet=summary_sheet, values_array=table_headings)\n",
    "populate_range_fn(address_array=risk_premium_values_address, xlsx_sheet=summary_sheet, values_array=risk_premium_values)\n",
    "populate_range_fn(address_array=total_premium_values_address, xlsx_sheet=summary_sheet, values_array=total_premium_values)\n",
    "populate_range_fn(address_array=claims_paid_values_address, xlsx_sheet=summary_sheet, values_array=claims_paid_values)\n",
    "populate_range_fn(address_array=total_values_address, xlsx_sheet=summary_sheet, values_array=riskpremium_plus_claimspaid)"
   ]
  },
  {
   "cell_type": "markdown",
   "metadata": {},
   "source": [
    "Insert 4 single values (__title__, __average_claim__, __claims_ratio__ and __claims_vs_total_premium__) onto named ranges:"
   ]
  },
  {
   "cell_type": "code",
   "execution_count": 19,
   "metadata": {},
   "outputs": [
    {
     "data": {
      "text/plain": [
       "1.179340094185728"
      ]
     },
     "execution_count": 19,
     "metadata": {},
     "output_type": "execute_result"
    }
   ],
   "source": [
    "claims_ratio"
   ]
  },
  {
   "cell_type": "code",
   "execution_count": null,
   "metadata": {},
   "outputs": [],
   "source": [
    "summary_sheet[claims_vs_total_premium_address[0][1].replace('$', '')] = claims_vs_total_premium\n",
    "summary_sheet[claims_ratio_address[0][1].replace('$', '')] = claims_ratio\n",
    "summary_sheet[average_claim_address[0][1].replace('$', '')] = average_claim\n",
    "summary_sheet[title_cell_address[0][1].replace('$', '')] = title\n",
    "# summary_sheet[table_heading_address[0][1].replace('$', '')] = table_headings"
   ]
  },
  {
   "cell_type": "markdown",
   "metadata": {},
   "source": [
    "Save the template file:"
   ]
  },
  {
   "cell_type": "code",
   "execution_count": null,
   "metadata": {},
   "outputs": [],
   "source": [
    "automated_loss_ratio_report_template.save(file_path+template_name)"
   ]
  },
  {
   "cell_type": "markdown",
   "metadata": {},
   "source": [
    "### Print the pdf document"
   ]
  },
  {
   "cell_type": "code",
   "execution_count": null,
   "metadata": {},
   "outputs": [],
   "source": [
    "o = win32com.client.Dispatch(\"Excel.Application\")\n",
    "o.Visible = False\n",
    "# open the template file:\n",
    "wb = o.Workbooks.Open(file_path+template_name)\n",
    "# find the summary sheet:\n",
    "ws = wb.Worksheets[\"Summary\"]\n",
    "# set the print area:\n",
    "ws.PageSetup.PrintArea = \"Print_Area\"\n",
    "# print to pdf:\n",
    "wb.ActiveSheet.ExportAsFixedFormat(0, path_to_pdf)\n",
    "# set excel to visible:\n",
    "o.Visible = True"
   ]
  },
  {
   "cell_type": "code",
   "execution_count": null,
   "metadata": {},
   "outputs": [],
   "source": [
    "wb.Close(False)"
   ]
  },
  {
   "cell_type": "code",
   "execution_count": null,
   "metadata": {},
   "outputs": [],
   "source": []
  }
 ],
 "metadata": {
  "kernelspec": {
   "display_name": "Python 3",
   "language": "python",
   "name": "python3"
  },
  "language_info": {
   "codemirror_mode": {
    "name": "ipython",
    "version": 3
   },
   "file_extension": ".py",
   "mimetype": "text/x-python",
   "name": "python",
   "nbconvert_exporter": "python",
   "pygments_lexer": "ipython3",
   "version": "3.7.9"
  }
 },
 "nbformat": 4,
 "nbformat_minor": 4
}
