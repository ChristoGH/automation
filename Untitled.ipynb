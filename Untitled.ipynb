{
 "cells": [
  {
   "cell_type": "code",
   "execution_count": 2,
   "metadata": {},
   "outputs": [],
   "source": [
    "import pandas as pd\n",
    "import pyodbc as p"
   ]
  },
  {
   "cell_type": "code",
   "execution_count": null,
   "metadata": {},
   "outputs": [],
   "source": [
    "conn_str = (\n",
    "    r'Driver={SQL Server};'\n",
    "    r'Server=kx-jhb-sql\\sql01;'\n",
    "    r'Database=master;'\n",
    "    r'Trusted_Connection=yes;'\n",
    "    )\n",
    "cnxn = p.connect(conn_str)"
   ]
  },
  {
   "cell_type": "code",
   "execution_count": null,
   "metadata": {},
   "outputs": [],
   "source": [
    "\n",
    "Server:                 scopserv.kaelo.co.za\n",
    "Port:                      3306\n",
    "Username:         datascience\n",
    "Password:           Kaelo@2021\n"
   ]
  },
  {
   "cell_type": "code",
   "execution_count": null,
   "metadata": {},
   "outputs": [],
   "source": [
    "conn_str = (\n",
    "    r'Driver={SQL Server};'\n",
    "    r'Server=scopserv.kaelo.co.za;'\n",
    "    r'PORT=3306'\n",
    "    r'username = datascience;'\n",
    "    r'password = Kaelo@2021;'\n",
    "    r'Database = AddressBook;'\n",
    "#     r'Trusted_Connection=yes;'\n",
    "    )\n",
    "cnxn = p.connect(conn_str)"
   ]
  },
  {
   "cell_type": "code",
   "execution_count": null,
   "metadata": {},
   "outputs": [],
   "source": []
  }
 ],
 "metadata": {
  "kernelspec": {
   "display_name": "Python 3",
   "language": "python",
   "name": "python3"
  },
  "language_info": {
   "codemirror_mode": {
    "name": "ipython",
    "version": 3
   },
   "file_extension": ".py",
   "mimetype": "text/x-python",
   "name": "python",
   "nbconvert_exporter": "python",
   "pygments_lexer": "ipython3",
   "version": "3.7.9"
  }
 },
 "nbformat": 4,
 "nbformat_minor": 4
}
