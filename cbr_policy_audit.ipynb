{
 "cells": [
  {
   "cell_type": "code",
   "execution_count": 1,
   "metadata": {},
   "outputs": [],
   "source": [
    "%matplotlib inline"
   ]
  },
  {
   "cell_type": "code",
   "execution_count": 2,
   "metadata": {},
   "outputs": [],
   "source": [
    "import matplotlib.pyplot as plt"
   ]
  },
  {
   "cell_type": "markdown",
   "metadata": {},
   "source": [
    "C:\\Users\\christo.strydom\\github_repos\\automation\\CBR\\Copy of 20210104_Master_Gap_CBR_LE_CS.xlsx"
   ]
  },
  {
   "cell_type": "code",
   "execution_count": 3,
   "metadata": {},
   "outputs": [],
   "source": [
    "import pandas as pd\n",
    "import openpyxl\n",
    "import win32com.client"
   ]
  },
  {
   "cell_type": "code",
   "execution_count": 4,
   "metadata": {},
   "outputs": [],
   "source": [
    "from datetime import datetime, timedelta\n",
    "from dateutil.relativedelta import *"
   ]
  },
  {
   "cell_type": "code",
   "execution_count": 5,
   "metadata": {},
   "outputs": [],
   "source": [
    "import calendar\n",
    "import dateutil.parser"
   ]
  },
  {
   "cell_type": "code",
   "execution_count": 6,
   "metadata": {},
   "outputs": [],
   "source": [
    "def add_months(sourcedate, months):\n",
    "    month = sourcedate.month - 1 + months\n",
    "    year = sourcedate.year + month // 12\n",
    "    month = month % 12 + 1\n",
    "    day = min(sourcedate.day, calendar.monthrange(year,month)[1])\n",
    "    return datetime.date(year, month, day)\n",
    "\n",
    "def last_day_of_month_fn(any_day):\n",
    "    # this will never fail\n",
    "    # get close to the end of the month for any day, and add 4 days 'over'\n",
    "    next_month = any_day.replace(day=28) + timedelta(days=4)\n",
    "    # subtract the number of remaining 'overage' days to get last day of current month, or said programattically said, the previous day of the first of next month\n",
    "    return next_month - timedelta(days=next_month.day)"
   ]
  },
  {
   "cell_type": "code",
   "execution_count": 7,
   "metadata": {},
   "outputs": [],
   "source": [
    "# path=\"C:\\\\Users\\\\christo.strydom\\\\github_repos\\\\automation\\\\OWLS_data\\\\\"\n",
    "# owls_claims='Claim_Raw_new.csv' # fixed dates.\n",
    "# owls_members='Active_Listing_Raw.csv' # \n",
    "# owls_terminations='terminations_raw.csv'\n",
    "# owls_received_claims='received_claims.csv'"
   ]
  },
  {
   "cell_type": "markdown",
   "metadata": {},
   "source": [
    "### VS Data"
   ]
  },
  {
   "cell_type": "code",
   "execution_count": 8,
   "metadata": {},
   "outputs": [],
   "source": [
    "path_downloads=\"C:\\\\Users\\\\christo.strydom\\\\Downloads\\\\\""
   ]
  },
  {
   "cell_type": "code",
   "execution_count": null,
   "metadata": {},
   "outputs": [],
   "source": [
    "\"\t(SELECT COUNT(*) FROM policy WHERE ( \n",
    "\t\t\t(cancellationdate IS NULL AND DATE_FORMAT(inceptiondate, '%Y/%m/%d') < DATE_FORMAT(NOW(), '%Y/%m/01'))\n",
    "\t\t\tOR DATE_FORMAT(cancellationdate, '%Y/%m/01')=DATE_FORMAT(NOW() - INTERVAL 1 MONTH, '%Y/%m/01')\n",
    "\t\t) AND currenthistoryflag='CURRENT' \""
   ]
  },
  {
   "cell_type": "code",
   "execution_count": 9,
   "metadata": {},
   "outputs": [],
   "source": [
    "policy_CENSAN_3months_20210317='policy_CENSAN_3months_20210317.csv' # \n",
    "policy_CENSAN_2months_20210317='policy_CENSAN_2months_20210317.csv' # \n",
    "policy_CENSAN_1months_20210317='policy_CENSAN_1months_20210317.csv' # "
   ]
  },
  {
   "cell_type": "code",
   "execution_count": 10,
   "metadata": {},
   "outputs": [],
   "source": [
    "policy_cancelled_CENSAN_3months_20210317='policy_cancelled_CENSAN_3months_20210317.csv' # \n",
    "policy_cancelled_CENSAN_2months_20210317='policy_cancelled_CENSAN_2months_20210317.csv' # \n",
    "policy_cancelled_CENSAN_1months_20210317='policy_cancelled_CENSAN_1months_20210317.csv' # "
   ]
  },
  {
   "cell_type": "code",
   "execution_count": 11,
   "metadata": {},
   "outputs": [],
   "source": [
    "policy_new_CENSAN_3months_20210317='policy_new_CENSAN_3months_20210317.csv' # \n",
    "policy_new_CENSAN_2months_20210317='policy_new_CENSAN_2months_20210317.csv' # \n",
    "policy_new_CENSAN_1months_20210317='policy_new_CENSAN_1months_20210317.csv' # "
   ]
  },
  {
   "cell_type": "code",
   "execution_count": 12,
   "metadata": {},
   "outputs": [
    {
     "name": "stderr",
     "output_type": "stream",
     "text": [
      "C:\\Users\\christo.strydom\\Anaconda3\\envs\\automation\\lib\\site-packages\\IPython\\core\\interactiveshell.py:3147: DtypeWarning: Columns (13,29,49,69,118,194,222,242,243,298) have mixed types.Specify dtype option on import or set low_memory=False.\n",
      "  interactivity=interactivity, compiler=compiler, result=result)\n"
     ]
    }
   ],
   "source": [
    "policy_CENSAN_3months_20210317_df=pd.read_csv(filepath_or_buffer=path_downloads+policy_CENSAN_3months_20210317)\n",
    "policy_CENSAN_2months_20210317_df=pd.read_csv(filepath_or_buffer=path_downloads+policy_CENSAN_2months_20210317)\n",
    "policy_CENSAN_1months_20210317_df=pd.read_csv(filepath_or_buffer=path_downloads+policy_CENSAN_1months_20210317)"
   ]
  },
  {
   "cell_type": "code",
   "execution_count": 13,
   "metadata": {},
   "outputs": [],
   "source": [
    "policy_cancelled_CENSAN_3months_20210317_df=pd.read_csv(filepath_or_buffer=path_downloads+policy_cancelled_CENSAN_3months_20210317)\n",
    "policy_cancelled_CENSAN_2months_20210317_df=pd.read_csv(filepath_or_buffer=path_downloads+policy_cancelled_CENSAN_2months_20210317)\n",
    "policy_cancelled_CENSAN_1months_20210317_df=pd.read_csv(filepath_or_buffer=path_downloads+policy_cancelled_CENSAN_1months_20210317)"
   ]
  },
  {
   "cell_type": "code",
   "execution_count": 14,
   "metadata": {},
   "outputs": [],
   "source": [
    "policy_new_CENSAN_3months_20210317_df=pd.read_csv(filepath_or_buffer=path_downloads+policy_new_CENSAN_3months_20210317)\n",
    "policy_new_CENSAN_2months_20210317_df=pd.read_csv(filepath_or_buffer=path_downloads+policy_new_CENSAN_2months_20210317)\n",
    "policy_new_CENSAN_1months_20210317_df=pd.read_csv(filepath_or_buffer=path_downloads+policy_new_CENSAN_1months_20210317)"
   ]
  },
  {
   "cell_type": "code",
   "execution_count": 114,
   "metadata": {},
   "outputs": [],
   "source": [
    "CENSAN_new_policies_20210201_2021_0318='CENSAN_new_policies_20210201_2021_0318.csv' # \n",
    "OWLS_all_policies_20210101_20210318='OWLS_all_policies_20210101_20210318.csv' # "
   ]
  },
  {
   "cell_type": "code",
   "execution_count": 115,
   "metadata": {},
   "outputs": [],
   "source": [
    "CENSAN_new_policies_20210201_2021_0318_df=pd.read_csv(filepath_or_buffer=path_downloads+CENSAN_new_policies_20210201_2021_0318)\n",
    "OWLS_all_policies_20210101_20210318_df=pd.read_csv(filepath_or_buffer=path_downloads+OWLS_all_policies_20210101_20210318)"
   ]
  },
  {
   "cell_type": "code",
   "execution_count": 118,
   "metadata": {},
   "outputs": [
    {
     "data": {
      "text/html": [
       "<div>\n",
       "<style scoped>\n",
       "    .dataframe tbody tr th:only-of-type {\n",
       "        vertical-align: middle;\n",
       "    }\n",
       "\n",
       "    .dataframe tbody tr th {\n",
       "        vertical-align: top;\n",
       "    }\n",
       "\n",
       "    .dataframe thead th {\n",
       "        text-align: right;\n",
       "    }\n",
       "</style>\n",
       "<table border=\"1\" class=\"dataframe\">\n",
       "  <thead>\n",
       "    <tr style=\"text-align: right;\">\n",
       "      <th></th>\n",
       "      <th>inceptiondate_month</th>\n",
       "      <th>interval_2_month</th>\n",
       "      <th>policynumber</th>\n",
       "    </tr>\n",
       "  </thead>\n",
       "  <tbody>\n",
       "    <tr>\n",
       "      <th>406</th>\n",
       "      <td>2021/02/01</td>\n",
       "      <td>2021/01/01</td>\n",
       "      <td>SAN712932</td>\n",
       "    </tr>\n",
       "    <tr>\n",
       "      <th>910</th>\n",
       "      <td>2021/02/01</td>\n",
       "      <td>2021/01/01</td>\n",
       "      <td>SAN732854</td>\n",
       "    </tr>\n",
       "    <tr>\n",
       "      <th>915</th>\n",
       "      <td>2021/02/01</td>\n",
       "      <td>2021/01/01</td>\n",
       "      <td>SAN733678</td>\n",
       "    </tr>\n",
       "    <tr>\n",
       "      <th>936</th>\n",
       "      <td>2021/02/01</td>\n",
       "      <td>2021/01/01</td>\n",
       "      <td>SAN734229</td>\n",
       "    </tr>\n",
       "    <tr>\n",
       "      <th>970</th>\n",
       "      <td>2021/02/01</td>\n",
       "      <td>2021/01/01</td>\n",
       "      <td>SAN735596</td>\n",
       "    </tr>\n",
       "    <tr>\n",
       "      <th>...</th>\n",
       "      <td>...</td>\n",
       "      <td>...</td>\n",
       "      <td>...</td>\n",
       "    </tr>\n",
       "    <tr>\n",
       "      <th>23834</th>\n",
       "      <td>2021/02/01</td>\n",
       "      <td>2021/01/01</td>\n",
       "      <td>SAN809871</td>\n",
       "    </tr>\n",
       "    <tr>\n",
       "      <th>23865</th>\n",
       "      <td>2021/02/01</td>\n",
       "      <td>2021/01/01</td>\n",
       "      <td>SAN773122</td>\n",
       "    </tr>\n",
       "    <tr>\n",
       "      <th>23872</th>\n",
       "      <td>2021/02/01</td>\n",
       "      <td>2021/01/01</td>\n",
       "      <td>SAN728063</td>\n",
       "    </tr>\n",
       "    <tr>\n",
       "      <th>23874</th>\n",
       "      <td>2021/02/01</td>\n",
       "      <td>2021/01/01</td>\n",
       "      <td>SAN788819</td>\n",
       "    </tr>\n",
       "    <tr>\n",
       "      <th>23882</th>\n",
       "      <td>2021/02/01</td>\n",
       "      <td>2021/01/01</td>\n",
       "      <td>SAN774715</td>\n",
       "    </tr>\n",
       "  </tbody>\n",
       "</table>\n",
       "<p>587 rows × 3 columns</p>\n",
       "</div>"
      ],
      "text/plain": [
       "      inceptiondate_month interval_2_month policynumber\n",
       "406            2021/02/01       2021/01/01    SAN712932\n",
       "910            2021/02/01       2021/01/01    SAN732854\n",
       "915            2021/02/01       2021/01/01    SAN733678\n",
       "936            2021/02/01       2021/01/01    SAN734229\n",
       "970            2021/02/01       2021/01/01    SAN735596\n",
       "...                   ...              ...          ...\n",
       "23834          2021/02/01       2021/01/01    SAN809871\n",
       "23865          2021/02/01       2021/01/01    SAN773122\n",
       "23872          2021/02/01       2021/01/01    SAN728063\n",
       "23874          2021/02/01       2021/01/01    SAN788819\n",
       "23882          2021/02/01       2021/01/01    SAN774715\n",
       "\n",
       "[587 rows x 3 columns]"
      ]
     },
     "execution_count": 118,
     "metadata": {},
     "output_type": "execute_result"
    }
   ],
   "source": [
    "OWLS_all_policies_20210101_20210318_df[OWLS_all_policies_20210101_20210318_df.policynumber.isin(CENSAN_new_policies_20210201_2021_0318_df.policynumber)]"
   ]
  },
  {
   "cell_type": "code",
   "execution_count": 16,
   "metadata": {},
   "outputs": [
    {
     "data": {
      "text/plain": [
       "171"
      ]
     },
     "execution_count": 16,
     "metadata": {},
     "output_type": "execute_result"
    }
   ],
   "source": [
    "len(set(policy_CENSAN_2months_20210317_df.policynumber)-set(policy_CENSAN_1months_20210317_df.policynumber))"
   ]
  },
  {
   "cell_type": "code",
   "execution_count": 17,
   "metadata": {},
   "outputs": [
    {
     "data": {
      "text/plain": [
       "(23948, 304)"
      ]
     },
     "execution_count": 17,
     "metadata": {},
     "output_type": "execute_result"
    }
   ],
   "source": [
    "policy_CENSAN_2months_20210317_df.shape"
   ]
  },
  {
   "cell_type": "code",
   "execution_count": 18,
   "metadata": {},
   "outputs": [
    {
     "data": {
      "text/plain": [
       "(171, 304)"
      ]
     },
     "execution_count": 18,
     "metadata": {},
     "output_type": "execute_result"
    }
   ],
   "source": [
    "policy_cancelled_CENSAN_2months_20210317_df.shape"
   ]
  },
  {
   "cell_type": "code",
   "execution_count": 19,
   "metadata": {},
   "outputs": [
    {
     "data": {
      "text/plain": [
       "(854, 304)"
      ]
     },
     "execution_count": 19,
     "metadata": {},
     "output_type": "execute_result"
    }
   ],
   "source": [
    "policy_new_CENSAN_2months_20210317_df.shape"
   ]
  },
  {
   "cell_type": "code",
   "execution_count": 66,
   "metadata": {},
   "outputs": [],
   "source": [
    "fig_path='C:\\\\Users\\\\christo.strydom\\\\github_repos\\\\automation\\\\img\\\\'"
   ]
  },
  {
   "cell_type": "code",
   "execution_count": 73,
   "metadata": {},
   "outputs": [
    {
     "data": {
      "image/png": "[encoded data removed]",
      "text/plain": [
       "<Figure size 432x288 with 1 Axes>"
      ]
     },
     "metadata": {
      "needs_background": "dark"
     },
     "output_type": "display_data"
    }
   ],
   "source": [
    "fig, ax = plt.subplots(tight_layout=True)\n",
    "hist = policy_CENSAN_1months_20210317_df['grosspremium'].hist(bins=21,ax=ax,alpha=1)\n",
    "# hist = policy_CENSAN_2months_20210317_df['grosspremium'].hist(bins=21,alpha=0.5)\n",
    "# hist = policy_CENSAN_3months_20210317_df['grosspremium'].hist(bins=21,alpha=0.2)\n",
    "fontdict={'fontsize': 12,\n",
    " 'fontweight': 2,\n",
    " 'color': 'grey',\n",
    " 'verticalalignment': 'baseline',\n",
    " 'horizontalalignment': 'left'}\n",
    "ax.set_title(\"Sanlam GAP: Policy counts and gross premium\", weight='bold', size=12, loc='left',color='grey')\n",
    "ax.set_xlabel(\"Gross Premium\", labelpad=20, size=12)\n",
    "ax.set_ylabel(\"Policy Count\", labelpad=20, size=12)\n",
    "ax.spines['right'].set_visible(False)\n",
    "ax.spines['top'].set_visible(False)\n",
    "ax.spines['left'].set_visible(False)\n",
    "ax.spines['bottom'].set_visible(False)\n",
    "ax.xaxis.label.set_color('grey')\n",
    "ax.yaxis.label.set_color('grey')\n",
    "# Hide grid lines\n",
    "ax.grid(False)\n",
    "ax.spines['bottom'].set_color('red')\n",
    "# ax.spines['top'].set_color('red')\n",
    "ax.xaxis.label.set_color('grey')\n",
    "ax.tick_params(axis='x', colors='grey')\n",
    "ax.tick_params(axis='y', colors='grey')\n",
    "ax.set_xlabel(\"Gross Premium\", labelpad=20, size=12)\n",
    "ax.set_ylabel(\"Policy Count\", labelpad=20, size=12)\n",
    "plt.savefig('C:\\\\Users\\\\christo.strydom\\\\github_repos\\\\automation\\\\img\\\\'+'sanlam_policies_gp.png',transparent=True)\n",
    "# Hide axes ticks\n",
    "# ax.set_xticks([])\n",
    "# ax.set_yticks([])\n",
    "# ax.tick_params(axis=\"both\", which=\"both\", bottom=\"off\", top=\"off\", labelbottom=\"on\", left=\"off\", right=\"off\", labelleft=\"on\")\n"
   ]
  },
  {
   "cell_type": "code",
   "execution_count": 25,
   "metadata": {},
   "outputs": [
    {
     "data": {
      "image/png": "[encoded data removed]",
      "text/plain": [
       "<Figure size 432x288 with 1 Axes>"
      ]
     },
     "metadata": {
      "needs_background": "light"
     },
     "output_type": "display_data"
    }
   ],
   "source": [
    "hist = policy_CENSAN_2months_20210317_df['grosspremium'].hist(bins=21)"
   ]
  },
  {
   "cell_type": "code",
   "execution_count": 32,
   "metadata": {},
   "outputs": [
    {
     "data": {
      "text/plain": [
       "<AxesSubplot:>"
      ]
     },
     "execution_count": 32,
     "metadata": {},
     "output_type": "execute_result"
    },
    {
     "data": {
      "image/png": "[encoded data removed]",
      "text/plain": [
       "<Figure size 432x288 with 1 Axes>"
      ]
     },
     "metadata": {
      "needs_background": "light"
     },
     "output_type": "display_data"
    }
   ],
   "source": [
    "policy_CENSAN_2months_20210317_df['grosspremium'].hist(bins=21)\n",
    "policy_cancelled_CENSAN_2months_20210317_df['grosspremium'].hist(bins=21)\n",
    "policy_new_CENSAN_2months_20210317_df['grosspremium'].hist(bins=21)"
   ]
  },
  {
   "cell_type": "code",
   "execution_count": null,
   "metadata": {},
   "outputs": [],
   "source": [
    "ax = policy_CENSAN_2months_20210317_df.hist(column='session_duration_seconds', bins=25, grid=False, figsize=(12,8), color='#86bf91', zorder=2, rwidth=0.9)"
   ]
  },
  {
   "cell_type": "code",
   "execution_count": 39,
   "metadata": {},
   "outputs": [
    {
     "data": {
      "text/plain": [
       "<AxesSubplot:>"
      ]
     },
     "execution_count": 39,
     "metadata": {},
     "output_type": "execute_result"
    },
    {
     "data": {
      "image/png": "[encoded data removed]",
      "text/plain": [
       "<Figure size 864x576 with 1 Axes>"
      ]
     },
     "metadata": {
      "needs_background": "light"
     },
     "output_type": "display_data"
    }
   ],
   "source": [
    "ax=policy_new_CENSAN_1months_20210317_df['grosspremium'].hist(bins=21, grid=False, figsize=(12,8), color='#86bf91')#, zorder=2, rwidth=0.9)\n",
    "policy_cancelled_CENSAN_1months_20210317_df['grosspremium'].hist(bins=21)\n"
   ]
  },
  {
   "cell_type": "code",
   "execution_count": 30,
   "metadata": {},
   "outputs": [
    {
     "data": {
      "image/png": "[encoded data removed]",
      "text/plain": [
       "<Figure size 432x288 with 1 Axes>"
      ]
     },
     "metadata": {
      "needs_background": "light"
     },
     "output_type": "display_data"
    }
   ],
   "source": [
    "hist = policy_new_CENSAN_2months_20210317_df['grosspremium'].hist(bins=21)"
   ]
  },
  {
   "cell_type": "markdown",
   "metadata": {},
   "source": [
    "All policies cancelled in the month still contributes to the active policy count for that month:"
   ]
  },
  {
   "cell_type": "code",
   "execution_count": 74,
   "metadata": {},
   "outputs": [
    {
     "data": {
      "text/plain": [
       "set()"
      ]
     },
     "execution_count": 74,
     "metadata": {},
     "output_type": "execute_result"
    }
   ],
   "source": [
    "set(policy_cancelled_CENSAN_2months_20210317_df.policynumber)-set(policy_CENSAN_2months_20210317_df.policynumber)"
   ]
  },
  {
   "cell_type": "code",
   "execution_count": null,
   "metadata": {},
   "outputs": [],
   "source": [
    "set(policy_cancelled_CENSAN_1months_20210317_df.policynumber)-set(policy_CENSAN_1months_20210317_df.policynumber)"
   ]
  },
  {
   "cell_type": "markdown",
   "metadata": {},
   "source": [
    "All policies cancelled in this month DOES NOT  contribute to the active policy count for the following month:"
   ]
  },
  {
   "cell_type": "code",
   "execution_count": null,
   "metadata": {},
   "outputs": [],
   "source": [
    "len(set(policy_cancelled_CENSAN_2months_20210317_df.policynumber)-set(policy_CENSAN_1months_20210317_df.policynumber))"
   ]
  },
  {
   "cell_type": "markdown",
   "metadata": {},
   "source": [
    "New policies in this month does not contribute to this months active policies:"
   ]
  },
  {
   "cell_type": "code",
   "execution_count": null,
   "metadata": {},
   "outputs": [],
   "source": [
    "len(set(policy_new_CENSAN_2months_20210317_df.policynumber))"
   ]
  },
  {
   "cell_type": "code",
   "execution_count": 76,
   "metadata": {},
   "outputs": [
    {
     "data": {
      "text/plain": [
       "34"
      ]
     },
     "execution_count": 76,
     "metadata": {},
     "output_type": "execute_result"
    }
   ],
   "source": [
    "len(set(policy_new_CENSAN_2months_20210317_df.policynumber)-set(policy_CENSAN_2months_20210317_df.policynumber))"
   ]
  },
  {
   "cell_type": "code",
   "execution_count": 78,
   "metadata": {},
   "outputs": [
    {
     "data": {
      "text/plain": [
       "{'SAN713945',\n",
       " 'SAN717676',\n",
       " 'SAN721086',\n",
       " 'SAN724898',\n",
       " 'SAN737130',\n",
       " 'SAN738327',\n",
       " 'SAN738366',\n",
       " 'SAN738367',\n",
       " 'SAN738897',\n",
       " 'SAN739142',\n",
       " 'SAN742685',\n",
       " 'SAN742781',\n",
       " 'SAN743028',\n",
       " 'SAN744652',\n",
       " 'SAN744744',\n",
       " 'SAN744966',\n",
       " 'SAN745439',\n",
       " 'SAN749516',\n",
       " 'SAN749956',\n",
       " 'SAN750222',\n",
       " 'SAN750778',\n",
       " 'SAN751053',\n",
       " 'SAN752325',\n",
       " 'SAN752371',\n",
       " 'SAN752649',\n",
       " 'SAN753974',\n",
       " 'SAN756067',\n",
       " 'SAN757109',\n",
       " 'SAN757374',\n",
       " 'SAN760251',\n",
       " 'SAN761514',\n",
       " 'SAN762875',\n",
       " 'SAN763470',\n",
       " 'SAN784780'}"
      ]
     },
     "execution_count": 78,
     "metadata": {},
     "output_type": "execute_result"
    }
   ],
   "source": [
    "(set(policy_new_CENSAN_2months_20210317_df.policynumber)-set(policy_CENSAN_2months_20210317_df.policynumber))-set(policy_cancelled_CENSAN_2months_20210317_df.policynumber)"
   ]
  },
  {
   "cell_type": "code",
   "execution_count": 83,
   "metadata": {},
   "outputs": [
    {
     "data": {
      "text/plain": [
       "171"
      ]
     },
     "execution_count": 83,
     "metadata": {},
     "output_type": "execute_result"
    }
   ],
   "source": [
    "len(set(policy_cancelled_CENSAN_2months_20210317_df.policynumber))"
   ]
  },
  {
   "cell_type": "code",
   "execution_count": 82,
   "metadata": {},
   "outputs": [
    {
     "data": {
      "text/plain": [
       "171"
      ]
     },
     "execution_count": 82,
     "metadata": {},
     "output_type": "execute_result"
    }
   ],
   "source": [
    "len(set(policy_cancelled_CENSAN_2months_20210317_df.policynumber)-set(policy_CENSAN_1months_20210317_df.policynumber))"
   ]
  },
  {
   "cell_type": "code",
   "execution_count": 80,
   "metadata": {},
   "outputs": [
    {
     "data": {
      "text/plain": [
       "23777"
      ]
     },
     "execution_count": 80,
     "metadata": {},
     "output_type": "execute_result"
    }
   ],
   "source": [
    "len(set(policy_CENSAN_2months_20210317_df.policynumber)-set(policy_cancelled_CENSAN_2months_20210317_df.policynumber))"
   ]
  },
  {
   "cell_type": "markdown",
   "metadata": {},
   "source": [
    "The following is all policies for the last month excluding new policies for that month.  These policies should then balance with the previous month policies excluding cancelled policies as the are not in the nexth month policies any way:"
   ]
  },
  {
   "cell_type": "code",
   "execution_count": 85,
   "metadata": {},
   "outputs": [
    {
     "data": {
      "text/plain": [
       "{'SAN3015467',\n",
       " 'SAN3009707',\n",
       " 'SAN3020231',\n",
       " 'SAN3014213',\n",
       " 'SAN3021177',\n",
       " 'SAN816572',\n",
       " 'SAN3009457',\n",
       " 'SAN3010265',\n",
       " 'SAN3011765',\n",
       " 'SAN3011467',\n",
       " 'SAN3021838',\n",
       " 'SAN3011001',\n",
       " 'SAN0188803',\n",
       " 'SAN3015614',\n",
       " 'SAN3003356',\n",
       " 'SAN753358',\n",
       " 'SAN3010802',\n",
       " 'SAN3020591',\n",
       " 'SAN0098992',\n",
       " 'SAN3021720',\n",
       " 'SAN0141979',\n",
       " 'SAN0080810',\n",
       " 'SAN3013778',\n",
       " 'SAN727976',\n",
       " 'SAN3006406',\n",
       " 'SAN3016181',\n",
       " 'SAN3021506',\n",
       " 'SAN3018988',\n",
       " 'SAN3022285',\n",
       " 'SAN3023856',\n",
       " 'SAN3024480',\n",
       " 'SAN737977',\n",
       " 'SAN720127',\n",
       " 'SAN722169',\n",
       " 'SAN3023997',\n",
       " 'SAN3017024',\n",
       " 'SAN3012615',\n",
       " 'SAN3021562',\n",
       " 'SAN3010948',\n",
       " 'SAN3014324',\n",
       " 'SAN0042932',\n",
       " 'SAN3030117',\n",
       " 'SAN3004080',\n",
       " 'SAN765493',\n",
       " 'SAN3010482',\n",
       " 'SAN3024058',\n",
       " 'SAN3022620',\n",
       " 'SAN3021216',\n",
       " 'SAN3024225',\n",
       " 'SAN0156972',\n",
       " 'SAN0033049',\n",
       " 'SAN3006663',\n",
       " 'SAN0089975',\n",
       " 'SAN3012181',\n",
       " 'SAN0187635',\n",
       " 'SAN3016048',\n",
       " 'SAN3018822',\n",
       " 'SAN3011582',\n",
       " 'SAN0128608',\n",
       " 'SAN3013401',\n",
       " 'SAN0107282',\n",
       " 'SAN0126109',\n",
       " 'SAN3023345',\n",
       " 'SAN3008114',\n",
       " 'SAN758165',\n",
       " 'SAN0116791',\n",
       " 'SAN0007953',\n",
       " 'SAN0051575',\n",
       " 'SAN0029401',\n",
       " 'SAN3017081',\n",
       " 'SAN0000190',\n",
       " 'SAN0101715',\n",
       " 'SAN730640',\n",
       " 'SAN3030418',\n",
       " 'SAN0029368',\n",
       " 'SAN3022742',\n",
       " 'SAN3016446',\n",
       " 'SAN0558897',\n",
       " 'SAN3017525',\n",
       " 'SAN3010449',\n",
       " 'SAN3023302',\n",
       " 'SAN3023246',\n",
       " 'SAN3011527',\n",
       " 'SAN0163006',\n",
       " 'SAN3013619',\n",
       " 'SAN0010644',\n",
       " 'SAN0005202',\n",
       " 'SAN3017661',\n",
       " 'SAN0043332',\n",
       " 'SAN0005383',\n",
       " 'SAN731081',\n",
       " 'SAN0134762',\n",
       " 'SAN3000392',\n",
       " 'SAN3018555',\n",
       " 'SAN3013023',\n",
       " 'SAN0193350',\n",
       " 'SAN0197295',\n",
       " 'SAN3015277',\n",
       " 'SAN0115264',\n",
       " 'SAN0053143',\n",
       " 'SAN3020597',\n",
       " 'SAN3022853',\n",
       " 'SAN761361',\n",
       " 'SAN3023704',\n",
       " 'SAN3016222',\n",
       " 'SAN3023566',\n",
       " 'SAN3023884',\n",
       " 'SAN3011847',\n",
       " 'SAN3000310',\n",
       " 'SAN3016125',\n",
       " 'SAN3017964',\n",
       " 'SAN3011474',\n",
       " 'SAN0154974',\n",
       " 'SAN0114031',\n",
       " 'SAN3002710',\n",
       " 'SAN3021306',\n",
       " 'SAN3024118',\n",
       " 'SAN3019756',\n",
       " 'SAN0106971',\n",
       " 'SAN0067335',\n",
       " 'SAN0141351',\n",
       " 'SAN3002639',\n",
       " 'SAN3006910',\n",
       " 'SAN3008055',\n",
       " 'SAN3015538',\n",
       " 'SAN3015477',\n",
       " 'SAN3030423',\n",
       " 'SAN3009152',\n",
       " 'SAN0183773',\n",
       " 'SAN3002587',\n",
       " 'SAN3011729',\n",
       " 'SAN3022057',\n",
       " 'SAN3006048',\n",
       " 'SAN0084183',\n",
       " 'SAN3004876',\n",
       " 'SAN3023513',\n",
       " 'SAN3004768',\n",
       " 'SAN3009518',\n",
       " 'SAN735493',\n",
       " 'SAN0193234',\n",
       " 'SAN3018524',\n",
       " 'SAN736730',\n",
       " 'SAN3010682',\n",
       " 'SAN3023303',\n",
       " 'SAN3002437',\n",
       " 'SAN0101751',\n",
       " 'SAN0107059',\n",
       " 'SAN3000625',\n",
       " 'SAN3005342',\n",
       " 'SAN0553550',\n",
       " 'SAN0191263',\n",
       " 'SAN3040414',\n",
       " 'SAN3018726',\n",
       " 'SAN3012193',\n",
       " 'SAN0127574',\n",
       " 'SAN3004501',\n",
       " 'SAN3040130',\n",
       " 'SAN3000330',\n",
       " 'SAN3016398',\n",
       " 'SAN0063114',\n",
       " 'SAN0090040',\n",
       " 'SAN3015168',\n",
       " 'SAN3024310',\n",
       " 'SAN3014118',\n",
       " 'SAN3023899',\n",
       " 'SAN0082158',\n",
       " 'SAN3002496',\n",
       " 'SAN3011036',\n",
       " 'SAN810563',\n",
       " 'SAN3006973',\n",
       " 'SAN0075406',\n",
       " 'SAN0009138',\n",
       " 'SAN0043127',\n",
       " 'SAN719522',\n",
       " 'SAN0107273',\n",
       " 'SAN3013515',\n",
       " 'SAN3020968',\n",
       " 'SAN3011839',\n",
       " 'SAN3007615',\n",
       " 'SAN0068423',\n",
       " 'SAN3009936',\n",
       " 'SAN3018866',\n",
       " 'SAN3000954',\n",
       " 'SAN3040550',\n",
       " 'SAN3010830',\n",
       " 'SAN3007127',\n",
       " 'SAN758526',\n",
       " 'SAN3015320',\n",
       " 'SAN3018920',\n",
       " 'SAN0148293',\n",
       " 'SAN3020663',\n",
       " 'SAN718048',\n",
       " 'SAN3011933',\n",
       " 'SAN0076020',\n",
       " 'SAN0079752',\n",
       " 'SAN3007392',\n",
       " 'SAN3009770',\n",
       " 'SAN3024343',\n",
       " 'SAN0042502',\n",
       " 'SAN3017108',\n",
       " 'SAN3020847',\n",
       " 'SAN3019118',\n",
       " 'SAN0146061',\n",
       " 'SAN0156551',\n",
       " 'SAN0179214',\n",
       " 'SAN3021512',\n",
       " 'SAN3024767',\n",
       " 'SAN3004556',\n",
       " 'SAN3008341',\n",
       " 'SAN767732',\n",
       " 'SAN0136054',\n",
       " 'SAN3013227',\n",
       " 'SAN0169842',\n",
       " 'SAN0078477',\n",
       " 'SAN758889',\n",
       " 'SAN0159441',\n",
       " 'SAN3014738',\n",
       " 'SAN712451',\n",
       " 'SAN756531',\n",
       " 'SAN3012497',\n",
       " 'SAN3021615',\n",
       " 'SAN0169753',\n",
       " 'SAN3011764',\n",
       " 'SAN0163122',\n",
       " 'SAN3002721',\n",
       " 'SAN0154580',\n",
       " 'SAN3005012',\n",
       " 'SAN3017092',\n",
       " 'SAN0102652',\n",
       " 'SAN3003403',\n",
       " 'SAN3019290',\n",
       " 'SAN3001473',\n",
       " 'SAN731441',\n",
       " 'SAN3009940',\n",
       " 'SAN0152143',\n",
       " 'SAN0185234',\n",
       " 'SAN0132423',\n",
       " 'SAN0174326',\n",
       " 'SAN0018478',\n",
       " 'SAN3023150',\n",
       " 'SAN0194690',\n",
       " 'SAN0059353',\n",
       " 'SAN3040514',\n",
       " 'SAN3009186',\n",
       " 'SAN0062895',\n",
       " 'SAN0117324',\n",
       " 'SAN3024214',\n",
       " 'SAN766871',\n",
       " 'SAN3019742',\n",
       " 'SAN3002696',\n",
       " 'SAN721676',\n",
       " 'SAN3004526',\n",
       " 'SAN3003338',\n",
       " 'SAN3025683',\n",
       " 'SAN3023694',\n",
       " 'SAN3020155',\n",
       " 'SAN3021692',\n",
       " 'SAN0018790',\n",
       " 'SAN0004099',\n",
       " 'SAN3030515',\n",
       " 'SAN3015335',\n",
       " 'SAN3011575',\n",
       " 'SAN3040595',\n",
       " 'SAN3010939',\n",
       " 'SAN3020964',\n",
       " 'SAN3030344',\n",
       " 'SAN3016178',\n",
       " 'SAN701056',\n",
       " 'SAN3021693',\n",
       " 'SAN3012315',\n",
       " 'SAN748104',\n",
       " 'SAN0192084',\n",
       " 'SAN3018982',\n",
       " 'SAN3014896',\n",
       " 'SAN3020827',\n",
       " 'SAN0194770',\n",
       " 'SAN759101',\n",
       " 'SAN0116844',\n",
       " 'SAN3007974',\n",
       " 'SAN3009451',\n",
       " 'SAN3000744',\n",
       " 'SAN3012109',\n",
       " 'SAN3016031',\n",
       " 'SAN3013110',\n",
       " 'SAN0058452',\n",
       " 'SAN3017321',\n",
       " 'SAN3003006',\n",
       " 'SAN0083282',\n",
       " 'SAN3002866',\n",
       " 'SAN3005607',\n",
       " 'SAN3000267',\n",
       " 'SAN3018086',\n",
       " 'SAN3002445',\n",
       " 'SAN3015848',\n",
       " 'SAN3019157',\n",
       " 'SAN3020316',\n",
       " 'SAN3030320',\n",
       " 'SAN3030519',\n",
       " 'SAN0201311',\n",
       " 'SAN3018167',\n",
       " 'SAN745131',\n",
       " 'SAN0087135',\n",
       " 'SAN0169000',\n",
       " 'SAN0167479',\n",
       " 'SAN3020132',\n",
       " 'SAN3025012',\n",
       " 'SAN3025800',\n",
       " 'SAN3014816',\n",
       " 'SAN3000899',\n",
       " 'SAN3018853',\n",
       " 'SAN3040475',\n",
       " 'SAN3011681',\n",
       " 'SAN3004286',\n",
       " 'SAN3004419',\n",
       " 'SAN3018495',\n",
       " 'SAN713909',\n",
       " 'SAN0132933',\n",
       " 'SAN3012870',\n",
       " 'SAN3019196',\n",
       " 'SAN3021555',\n",
       " 'SAN3022836',\n",
       " 'SAN0051074',\n",
       " 'SAN3017832',\n",
       " 'SAN0053279',\n",
       " 'SAN0081936',\n",
       " 'SAN768156',\n",
       " 'SAN771297',\n",
       " 'SAN3015963',\n",
       " 'SAN3021194',\n",
       " 'SAN0194171',\n",
       " 'SAN3007905',\n",
       " 'SAN746150',\n",
       " 'SAN3006857',\n",
       " 'SAN699437',\n",
       " 'SAN0080131',\n",
       " 'SAN3022529',\n",
       " 'SAN3003876',\n",
       " 'SAN3021281',\n",
       " 'SAN3019873',\n",
       " 'SAN3022326',\n",
       " 'SAN0019922',\n",
       " 'SAN0081462',\n",
       " 'SAN3022366',\n",
       " 'SAN3003855',\n",
       " 'SAN3011110',\n",
       " 'SAN729046',\n",
       " 'SAN3001476',\n",
       " 'SAN3017082',\n",
       " 'SAN722774',\n",
       " 'SAN3008088',\n",
       " 'SAN3014033',\n",
       " 'SAN3001531',\n",
       " 'SAN765866',\n",
       " 'SAN0154938',\n",
       " 'SAN0187902',\n",
       " 'SAN3006929',\n",
       " 'SAN3017912',\n",
       " 'SAN3006550',\n",
       " 'SAN3023447',\n",
       " 'SAN0174596',\n",
       " 'SAN3016839',\n",
       " 'SAN0067578',\n",
       " 'SAN3012586',\n",
       " 'SAN0143583',\n",
       " 'SAN0088170',\n",
       " 'SAN0165621',\n",
       " 'SAN3019167',\n",
       " 'SAN3020397',\n",
       " 'SAN3022691',\n",
       " 'SAN3021224',\n",
       " 'SAN3018635',\n",
       " 'SAN3018856',\n",
       " 'SAN3007609',\n",
       " 'SAN3017722',\n",
       " 'SAN3008099',\n",
       " 'SAN3018932',\n",
       " 'SAN3040181',\n",
       " 'SAN718216',\n",
       " 'SAN3001723',\n",
       " 'SAN3024690',\n",
       " 'SAN3015435',\n",
       " 'SAN3021982',\n",
       " 'SAN0193753',\n",
       " 'SAN3021086',\n",
       " 'SAN695272',\n",
       " 'SAN3002109',\n",
       " 'SAN3024537',\n",
       " 'SAN3011770',\n",
       " 'SAN0135618',\n",
       " 'SAN3040166',\n",
       " 'SAN3003139',\n",
       " 'SAN3007614',\n",
       " 'SAN3002473',\n",
       " 'SAN3008917',\n",
       " 'SAN3024784',\n",
       " 'SAN3030195',\n",
       " 'SAN0143494',\n",
       " 'SAN0002448',\n",
       " 'SAN3011232',\n",
       " 'SAN3040482',\n",
       " 'SAN3021779',\n",
       " 'SAN3014163',\n",
       " 'SAN3022500',\n",
       " 'SAN3024800',\n",
       " 'SAN3021474',\n",
       " 'SAN3002990',\n",
       " 'SAN3002254',\n",
       " 'SAN0147285',\n",
       " 'SAN3014621',\n",
       " 'SAN0160878',\n",
       " 'SAN3018118',\n",
       " 'SAN3015096',\n",
       " 'SAN745385',\n",
       " 'SAN0000969',\n",
       " 'SAN3007777',\n",
       " 'SAN3024795',\n",
       " 'SAN0159586',\n",
       " 'SAN0090111',\n",
       " 'SAN3016205',\n",
       " 'SAN3020436',\n",
       " 'SAN3010990',\n",
       " 'SAN0174676',\n",
       " 'SAN0180963',\n",
       " 'SAN0075012',\n",
       " 'SAN3015794',\n",
       " 'SAN3006628',\n",
       " 'SAN3009557',\n",
       " 'SAN0135387',\n",
       " 'SAN3003504',\n",
       " 'SAN0173167',\n",
       " 'SAN3006536',\n",
       " 'SAN3019226',\n",
       " 'SAN0006506',\n",
       " 'SAN3012030',\n",
       " 'SAN3012793',\n",
       " 'SAN790324',\n",
       " 'SAN0165256',\n",
       " 'SAN0034558',\n",
       " 'SAN3001612',\n",
       " 'SAN3019410',\n",
       " 'SAN3009641',\n",
       " 'SAN0163347',\n",
       " 'SAN3015133',\n",
       " 'SAN3014773',\n",
       " 'SAN3021984',\n",
       " 'SAN3005505',\n",
       " 'SAN3022310',\n",
       " 'SAN3023498',\n",
       " 'SAN0113293',\n",
       " 'SAN3007716',\n",
       " 'SAN3022843',\n",
       " 'SAN0046868',\n",
       " 'SAN3001677',\n",
       " 'SAN3021427',\n",
       " 'SAN3020027',\n",
       " 'SAN3004168',\n",
       " 'SAN3018033',\n",
       " 'SAN3001196',\n",
       " 'SAN3000616',\n",
       " 'SAN0026834',\n",
       " 'SAN3015868',\n",
       " 'SAN3010622',\n",
       " 'SAN0162867',\n",
       " 'SAN0094074',\n",
       " 'SAN3017581',\n",
       " 'SAN3025878',\n",
       " 'SAN3010775',\n",
       " 'SAN0158264',\n",
       " 'SAN3004591',\n",
       " 'SAN3014874',\n",
       " 'SAN3022638',\n",
       " 'SAN0173953',\n",
       " 'SAN3011064',\n",
       " 'SAN746876',\n",
       " 'SAN3008241',\n",
       " 'SAN3040125',\n",
       " 'SAN3005795',\n",
       " 'SAN3009561',\n",
       " 'SAN0032498',\n",
       " 'SAN3040034',\n",
       " 'SAN3017205',\n",
       " 'SAN3022729',\n",
       " 'SAN3021960',\n",
       " 'SAN3014399',\n",
       " 'SAN3003979',\n",
       " 'SAN0025666',\n",
       " 'SAN3022545',\n",
       " 'SAN3001596',\n",
       " 'SAN3019920',\n",
       " 'SAN3014559',\n",
       " 'SAN0077128',\n",
       " 'SAN3018896',\n",
       " 'SAN0163481',\n",
       " 'SAN0009808',\n",
       " 'SAN3010196',\n",
       " 'SAN3015852',\n",
       " 'SAN0146259',\n",
       " 'SAN0009183',\n",
       " 'SAN3019945',\n",
       " 'SAN3022304',\n",
       " 'SAN3008398',\n",
       " 'SAN3030020',\n",
       " 'SAN3021594',\n",
       " 'SAN0032184',\n",
       " 'SAN3010931',\n",
       " 'SAN3018566',\n",
       " 'SAN3013700',\n",
       " 'SAN770092',\n",
       " 'SAN3007996',\n",
       " 'SAN3017000',\n",
       " 'SAN3018288',\n",
       " 'SAN0146526',\n",
       " 'SAN0023701',\n",
       " 'SAN3013817',\n",
       " 'SAN3010882',\n",
       " 'SAN3021598',\n",
       " 'SAN0115291',\n",
       " 'SAN3003524',\n",
       " 'SAN3021684',\n",
       " 'SAN0164927',\n",
       " 'SAN3000150',\n",
       " 'SAN3002498',\n",
       " 'SAN0040059',\n",
       " 'SAN696624',\n",
       " 'SAN3011705',\n",
       " 'SAN3002856',\n",
       " 'SAN3019626',\n",
       " 'SAN0078056',\n",
       " 'SAN0165111',\n",
       " 'SAN3005413',\n",
       " 'SAN3007568',\n",
       " 'SAN3017730',\n",
       " 'SAN3007534',\n",
       " 'SAN3000995',\n",
       " 'SAN3022143',\n",
       " 'SAN3008297',\n",
       " 'SAN705267',\n",
       " 'SAN3012337',\n",
       " 'SAN0183183',\n",
       " 'SAN3023905',\n",
       " 'SAN0140728',\n",
       " 'SAN3040217',\n",
       " 'SAN3007466',\n",
       " 'SAN3023649',\n",
       " 'SAN3019688',\n",
       " 'SAN3020216',\n",
       " 'SAN3005571',\n",
       " 'SAN0080679',\n",
       " 'SAN3005312',\n",
       " 'SAN3020508',\n",
       " 'SAN3022354',\n",
       " 'SAN731455',\n",
       " 'SAN3023162',\n",
       " 'SAN3002435',\n",
       " 'SAN3015842',\n",
       " 'SAN3010701',\n",
       " 'SAN0201643',\n",
       " 'SAN3023160',\n",
       " 'SAN3022099',\n",
       " 'SAN3012273',\n",
       " 'SAN3010247',\n",
       " 'SAN3018763',\n",
       " 'SAN3020350',\n",
       " 'SAN3013383',\n",
       " 'SAN3013920',\n",
       " 'SAN0068666',\n",
       " 'SAN3007550',\n",
       " 'SAN3000849',\n",
       " 'SAN3017708',\n",
       " 'SAN3007726',\n",
       " 'SAN3017449',\n",
       " 'SAN3011980',\n",
       " 'SAN0166747',\n",
       " 'SAN3010321',\n",
       " 'SAN3013408',\n",
       " 'SAN3040167',\n",
       " 'SAN0015372',\n",
       " 'SAN3006412',\n",
       " 'SAN3000357',\n",
       " 'SAN3007495',\n",
       " 'SAN3014997',\n",
       " 'SAN0169673',\n",
       " 'SAN3022561',\n",
       " 'SAN3024380',\n",
       " 'SAN3020807',\n",
       " 'SAN0143663',\n",
       " 'SAN3022904',\n",
       " 'SAN0162713',\n",
       " 'SAN3003267',\n",
       " 'SAN3023285',\n",
       " 'SAN0005131',\n",
       " 'SAN0018718',\n",
       " 'SAN3012132',\n",
       " 'SAN3018154',\n",
       " 'SAN3013143',\n",
       " 'SAN0179170',\n",
       " 'SAN3014638',\n",
       " 'SAN3020092',\n",
       " 'SAN3000764',\n",
       " 'SAN3020451',\n",
       " 'SAN747071',\n",
       " 'SAN0163276',\n",
       " 'SAN3006173',\n",
       " 'SAN3023234',\n",
       " 'SAN0106784',\n",
       " 'SAN0074686',\n",
       " 'SAN3024490',\n",
       " 'SAN3014788',\n",
       " 'SAN0074087',\n",
       " 'SAN3000773',\n",
       " 'SAN3003341',\n",
       " 'SAN3024005',\n",
       " 'SAN0083246',\n",
       " 'SAN3006094',\n",
       " 'SAN0163131',\n",
       " 'SAN3002967',\n",
       " 'SAN0135313',\n",
       " 'SAN0123442',\n",
       " 'SAN0140209',\n",
       " 'SAN3019553',\n",
       " 'SAN3014644',\n",
       " 'SAN3030085',\n",
       " 'SAN3023143',\n",
       " 'SAN3014605',\n",
       " 'SAN0144528',\n",
       " 'SAN0028420',\n",
       " 'SAN3003846',\n",
       " 'SAN3023604',\n",
       " 'SAN3016503',\n",
       " 'SAN3003252',\n",
       " 'SAN0183370',\n",
       " 'SAN3020314',\n",
       " 'SAN3019103',\n",
       " 'SAN0023630',\n",
       " 'SAN3024144',\n",
       " 'SAN3010051',\n",
       " 'SAN3017595',\n",
       " 'SAN0082855',\n",
       " 'SAN0043092',\n",
       " 'SAN3022408',\n",
       " 'SAN3021236',\n",
       " 'SAN3030206',\n",
       " 'SAN3000483',\n",
       " 'SAN739879',\n",
       " 'SAN0003367',\n",
       " 'SAN0023695',\n",
       " 'SAN0179199',\n",
       " 'SAN722953',\n",
       " 'SAN0192905',\n",
       " 'SAN3025815',\n",
       " 'SAN0092441',\n",
       " 'SAN3023536',\n",
       " 'SAN3012362',\n",
       " 'SAN3023994',\n",
       " 'SAN0170615',\n",
       " 'SAN3000181',\n",
       " 'SAN3024610',\n",
       " 'SAN3023126',\n",
       " 'SAN3020648',\n",
       " 'SAN3014170',\n",
       " 'SAN3011218',\n",
       " 'SAN3002410',\n",
       " 'SAN3025118',\n",
       " 'SAN3012678',\n",
       " 'SAN742020',\n",
       " 'SAN0112356',\n",
       " 'SAN0189722',\n",
       " 'SAN3021305',\n",
       " 'SAN3018652',\n",
       " 'SAN0085128',\n",
       " 'SAN0177717',\n",
       " 'SAN3016817',\n",
       " 'SAN3023381',\n",
       " 'SAN745337',\n",
       " 'SAN0133404',\n",
       " 'SAN3016931',\n",
       " 'SAN3021703',\n",
       " 'SAN3021705',\n",
       " 'SAN3001461',\n",
       " 'SAN758870',\n",
       " 'SAN774252',\n",
       " 'SAN3018087',\n",
       " 'SAN0012025',\n",
       " 'SAN3005866',\n",
       " 'SAN3021629',\n",
       " 'SAN3015257',\n",
       " 'SAN3025095',\n",
       " 'SAN3002868',\n",
       " 'SAN3012604',\n",
       " 'SAN3011696',\n",
       " 'SAN3023596',\n",
       " 'SAN3000671',\n",
       " 'SAN0158881',\n",
       " 'SAN0017174',\n",
       " 'SAN3022008',\n",
       " 'SAN3022806',\n",
       " 'SAN3015802',\n",
       " 'SAN3006811',\n",
       " 'SAN3019991',\n",
       " 'SAN0170070',\n",
       " 'SAN0122621',\n",
       " 'SAN3008824',\n",
       " 'SAN3024287',\n",
       " 'SAN3021872',\n",
       " 'SAN3024176',\n",
       " 'SAN3001800',\n",
       " 'SAN3004993',\n",
       " 'SAN3022784',\n",
       " 'SAN3040552',\n",
       " 'SAN3040088',\n",
       " 'SAN0148551',\n",
       " 'SAN3016533',\n",
       " 'SAN3004197',\n",
       " 'SAN3001555',\n",
       " 'SAN3023662',\n",
       " 'SAN3010734',\n",
       " 'SAN3009638',\n",
       " 'SAN0108405',\n",
       " 'SAN3025653',\n",
       " 'SAN713576',\n",
       " 'SAN0160223',\n",
       " 'SAN0130523',\n",
       " 'SAN3006317',\n",
       " 'SAN3022166',\n",
       " 'SAN3009817',\n",
       " 'SAN3012352',\n",
       " 'SAN3023175',\n",
       " 'SAN3005203',\n",
       " 'SAN753797',\n",
       " 'SAN3023426',\n",
       " 'SAN0105382',\n",
       " 'SAN3002294',\n",
       " 'SAN3008025',\n",
       " 'SAN0172284',\n",
       " 'SAN3012899',\n",
       " 'SAN3009085',\n",
       " 'SAN0025610',\n",
       " 'SAN0159138',\n",
       " 'SAN757719',\n",
       " 'SAN0190881',\n",
       " 'SAN3016078',\n",
       " 'SAN3010841',\n",
       " 'SAN3020146',\n",
       " 'SAN759010',\n",
       " 'SAN3008611',\n",
       " 'SAN3016641',\n",
       " 'SAN3007724',\n",
       " 'SAN3005699',\n",
       " 'SAN0156794',\n",
       " 'SAN0022319',\n",
       " 'SAN3014249',\n",
       " 'SAN3005350',\n",
       " 'SAN0123264',\n",
       " 'SAN3023971',\n",
       " 'SAN3018016',\n",
       " 'SAN0093997',\n",
       " 'SAN3014052',\n",
       " 'SAN0041601',\n",
       " 'SAN3020389',\n",
       " 'SAN3022286',\n",
       " 'SAN0036215',\n",
       " 'SAN3001279',\n",
       " 'SAN0146428',\n",
       " 'SAN713625',\n",
       " 'SAN0159915',\n",
       " 'SAN3008702',\n",
       " 'SAN3004446',\n",
       " 'SAN3002464',\n",
       " 'SAN3016255',\n",
       " 'SAN3002190',\n",
       " 'SAN3019116',\n",
       " 'SAN3024571',\n",
       " 'SAN3005161',\n",
       " 'SAN3006082',\n",
       " 'SAN0099258',\n",
       " 'SAN747234',\n",
       " 'SAN0111286',\n",
       " 'SAN3015528',\n",
       " 'SAN3022440',\n",
       " 'SAN3005452',\n",
       " 'SAN3011109',\n",
       " 'SAN0132906',\n",
       " 'SAN744184',\n",
       " 'SAN731384',\n",
       " 'SAN3007390',\n",
       " 'SAN0147202',\n",
       " 'SAN0181695',\n",
       " 'SAN3016126',\n",
       " 'SAN3019860',\n",
       " 'SAN0186224',\n",
       " 'SAN3009896',\n",
       " 'SAN0090873',\n",
       " 'SAN768082',\n",
       " 'SAN3040312',\n",
       " 'SAN3019170',\n",
       " 'SAN3040121',\n",
       " 'SAN3012316',\n",
       " 'SAN3006004',\n",
       " 'SAN0010967',\n",
       " 'SAN3015287',\n",
       " 'SAN0135242',\n",
       " 'SAN3006209',\n",
       " 'SAN3019632',\n",
       " 'SAN3004667',\n",
       " 'SAN3020354',\n",
       " 'SAN3016799',\n",
       " 'SAN700118',\n",
       " 'SAN3001303',\n",
       " 'SAN3017463',\n",
       " 'SAN3011278',\n",
       " 'SAN3002269',\n",
       " 'SAN3018070',\n",
       " 'SAN3011325',\n",
       " 'SAN3000623',\n",
       " 'SAN0142851',\n",
       " 'SAN3017434',\n",
       " 'SAN3016609',\n",
       " 'SAN3006864',\n",
       " 'SAN3004622',\n",
       " 'SAN3040230',\n",
       " 'SAN3013492',\n",
       " 'SAN3000735',\n",
       " 'SAN3014704',\n",
       " 'SAN3019050',\n",
       " 'SAN696664',\n",
       " 'SAN711579',\n",
       " 'SAN3000863',\n",
       " 'SAN758898',\n",
       " 'SAN0075658',\n",
       " 'SAN740930',\n",
       " 'SAN3014152',\n",
       " 'SAN3012680',\n",
       " 'SAN0145797',\n",
       " 'SAN0150691',\n",
       " 'SAN3019615',\n",
       " 'SAN0164005',\n",
       " 'SAN0132826',\n",
       " 'SAN3018613',\n",
       " 'SAN725665',\n",
       " 'SAN0040747',\n",
       " 'SAN3003499',\n",
       " 'SAN3025865',\n",
       " 'SAN3006088',\n",
       " 'SAN3017542',\n",
       " 'SAN0189491',\n",
       " 'SAN3025486',\n",
       " 'SAN0005409',\n",
       " 'SAN3000259',\n",
       " 'SAN0133950',\n",
       " 'SAN0100986',\n",
       " 'SAN3008525',\n",
       " 'SAN759353',\n",
       " 'SAN3007391',\n",
       " 'SAN0060322',\n",
       " 'SAN0152250',\n",
       " 'SAN3009741',\n",
       " 'SAN3017963',\n",
       " 'SAN0123255',\n",
       " 'SAN3002707',\n",
       " 'SAN0063517',\n",
       " 'SAN746980',\n",
       " 'SAN3017567',\n",
       " 'SAN3011306',\n",
       " 'SAN0037036',\n",
       " 'SAN3007050',\n",
       " 'SAN708228',\n",
       " 'SAN3021948',\n",
       " 'SAN3006966',\n",
       " 'SAN0027486',\n",
       " 'SAN3021386',\n",
       " 'SAN0080570',\n",
       " 'SAN3020237',\n",
       " 'SAN3020710',\n",
       " 'SAN3012622',\n",
       " 'SAN0115237',\n",
       " 'SAN3022168',\n",
       " 'SAN3002665',\n",
       " 'SAN0167862',\n",
       " 'SAN3012825',\n",
       " 'SAN3002167',\n",
       " 'SAN3001498',\n",
       " 'SAN3040247',\n",
       " 'SAN0155445',\n",
       " 'SAN3023592',\n",
       " 'SAN0141496',\n",
       " 'SAN3024644',\n",
       " 'SAN0094771',\n",
       " 'SAN0145886',\n",
       " 'SAN3022516',\n",
       " 'SAN3006915',\n",
       " 'SAN3012646',\n",
       " 'SAN3015886',\n",
       " 'SAN3030431',\n",
       " 'SAN3015683',\n",
       " 'SAN0131649',\n",
       " 'SAN0042511',\n",
       " 'SAN3018050',\n",
       " 'SAN772371',\n",
       " 'SAN0101591',\n",
       " 'SAN0093923',\n",
       " 'SAN730912',\n",
       " 'SAN0022515',\n",
       " 'SAN0197894',\n",
       " 'SAN3020992',\n",
       " 'SAN716368',\n",
       " 'SAN3013378',\n",
       " 'SAN3040457',\n",
       " 'SAN3020974',\n",
       " 'SAN3030321',\n",
       " 'SAN3007967',\n",
       " 'SAN3008003',\n",
       " 'SAN0113014',\n",
       " 'SAN0144911',\n",
       " 'SAN3024890',\n",
       " 'SAN0180883',\n",
       " 'SAN3019937',\n",
       " 'SAN3001502',\n",
       " 'SAN766163',\n",
       " 'SAN0175610',\n",
       " 'SAN3013866',\n",
       " 'SAN3009755',\n",
       " 'SAN3001071',\n",
       " 'SAN0183192',\n",
       " 'SAN0031443',\n",
       " 'SAN3016230',\n",
       " 'SAN3013556',\n",
       " 'SAN3018557',\n",
       " 'SAN3019522',\n",
       " 'SAN3009363',\n",
       " 'SAN3025825',\n",
       " 'SAN3022884',\n",
       " 'SAN3010391',\n",
       " 'SAN3024713',\n",
       " 'SAN3015218',\n",
       " 'SAN3020640',\n",
       " 'SAN3016413',\n",
       " 'SAN3012098',\n",
       " 'SAN3009459',\n",
       " 'SAN0106532',\n",
       " 'SAN3022169',\n",
       " 'SAN3019139',\n",
       " 'SAN0005463',\n",
       " 'SAN3025533',\n",
       " 'SAN3011433',\n",
       " 'SAN3017238',\n",
       " 'SAN3001765',\n",
       " 'SAN3025302',\n",
       " 'SAN3011184',\n",
       " 'SAN0042988',\n",
       " 'SAN3008228',\n",
       " 'SAN0163178',\n",
       " 'SAN3005770',\n",
       " 'SAN0197571',\n",
       " 'SAN3011254',\n",
       " 'SAN3023743',\n",
       " 'SAN0026496',\n",
       " 'SAN3006833',\n",
       " 'SAN3021200',\n",
       " 'SAN3008805',\n",
       " 'SAN0143654',\n",
       " 'SAN0150780',\n",
       " 'SAN705051',\n",
       " 'SAN3001945',\n",
       " 'SAN0157819',\n",
       " 'SAN3004202',\n",
       " 'SAN3016038',\n",
       " 'SAN3020480',\n",
       " 'SAN3006677',\n",
       " 'SAN3015418',\n",
       " 'SAN725721',\n",
       " 'SAN3016717',\n",
       " 'SAN3014348',\n",
       " 'SAN3004875',\n",
       " 'SAN3018859',\n",
       " 'SAN0175960',\n",
       " 'SAN3040178',\n",
       " 'SAN730459',\n",
       " 'SAN0081524',\n",
       " 'SAN3018949',\n",
       " 'SAN0160232',\n",
       " 'SAN706837',\n",
       " 'SAN0182371',\n",
       " 'SAN726795',\n",
       " 'SAN3004405',\n",
       " 'SAN3023702',\n",
       " 'SAN3017076',\n",
       " 'SAN3011194',\n",
       " 'SAN0053161',\n",
       " 'SAN3001557',\n",
       " 'SAN3005535',\n",
       " 'SAN3002664',\n",
       " 'SAN3040324',\n",
       " 'SAN0150664',\n",
       " 'SAN0187134',\n",
       " 'SAN3013129',\n",
       " 'SAN3003090',\n",
       " 'SAN3005230',\n",
       " 'SAN0107237',\n",
       " 'SAN0184244',\n",
       " 'SAN0174415',\n",
       " ...}"
      ]
     },
     "execution_count": 85,
     "metadata": {},
     "output_type": "execute_result"
    }
   ],
   "source": [
    "set(policy_CENSAN_1months_20210317_df.policynumber)-set(policy_new_CENSAN_1months_20210317_df.policynumber)"
   ]
  },
  {
   "cell_type": "code",
   "execution_count": 87,
   "metadata": {},
   "outputs": [
    {
     "data": {
      "text/plain": [
       "584"
      ]
     },
     "execution_count": 87,
     "metadata": {},
     "output_type": "execute_result"
    }
   ],
   "source": [
    "len((set(policy_CENSAN_2months_20210317_df.policynumber)-set(policy_cancelled_CENSAN_2months_20210317_df.policynumber))-(set(policy_CENSAN_1months_20210317_df.policynumber)-set(policy_new_CENSAN_1months_20210317_df.policynumber)))"
   ]
  },
  {
   "cell_type": "markdown",
   "metadata": {},
   "source": [
    "policynumbers below is ALL Jan policy numbers excluding Jan __cancelled__ policies but with __new__ Jan policies, So all valid policies at the end of Jan.\n",
    "Then minus ALL Feb policies excluding new policies for Feb.  \n",
    "This should be an empty set."
   ]
  },
  {
   "cell_type": "code",
   "execution_count": 101,
   "metadata": {},
   "outputs": [],
   "source": [
    "policy_numbers=((set(policy_CENSAN_2months_20210317_df.policynumber)-set(policy_cancelled_CENSAN_2months_20210317_df.policynumber))-(set(policy_CENSAN_1months_20210317_df.policynumber)-set(policy_new_CENSAN_1months_20210317_df.policynumber)))"
   ]
  },
  {
   "cell_type": "code",
   "execution_count": 102,
   "metadata": {},
   "outputs": [
    {
     "data": {
      "text/plain": [
       "0      Live\n",
       "1      Live\n",
       "3      Live\n",
       "4      Live\n",
       "5      Live\n",
       "       ... \n",
       "602    Live\n",
       "603    Live\n",
       "604    Live\n",
       "605    Live\n",
       "606    Live\n",
       "Name: status, Length: 584, dtype: object"
      ]
     },
     "execution_count": 102,
     "metadata": {},
     "output_type": "execute_result"
    }
   ],
   "source": [
    "policy_new_CENSAN_1months_20210317_df[policy_new_CENSAN_1months_20210317_df.policynumber.isin(policy_numbers)]['status']"
   ]
  },
  {
   "cell_type": "code",
   "execution_count": 107,
   "metadata": {},
   "outputs": [
    {
     "data": {
      "text/plain": [
       "584"
      ]
     },
     "execution_count": 107,
     "metadata": {},
     "output_type": "execute_result"
    }
   ],
   "source": [
    "len(policy_numbers)"
   ]
  },
  {
   "cell_type": "code",
   "execution_count": 108,
   "metadata": {},
   "outputs": [
    {
     "data": {
      "text/plain": [
       "(584, 304)"
      ]
     },
     "execution_count": 108,
     "metadata": {},
     "output_type": "execute_result"
    }
   ],
   "source": [
    "policy_CENSAN_1months_20210317_df[policy_CENSAN_1months_20210317_df.policynumber.isin(policy_numbers)].shape"
   ]
  },
  {
   "cell_type": "code",
   "execution_count": 109,
   "metadata": {},
   "outputs": [
    {
     "data": {
      "text/plain": [
       "(584, 304)"
      ]
     },
     "execution_count": 109,
     "metadata": {},
     "output_type": "execute_result"
    }
   ],
   "source": [
    "policy_CENSAN_2months_20210317_df[policy_CENSAN_2months_20210317_df.policynumber.isin(policy_numbers)].shape"
   ]
  },
  {
   "cell_type": "code",
   "execution_count": 110,
   "metadata": {},
   "outputs": [
    {
     "data": {
      "text/plain": [
       "(0, 304)"
      ]
     },
     "execution_count": 110,
     "metadata": {},
     "output_type": "execute_result"
    }
   ],
   "source": [
    "policy_new_CENSAN_2months_20210317_df[policy_new_CENSAN_2months_20210317_df.policynumber.isin(policy_numbers)].shape"
   ]
  },
  {
   "cell_type": "code",
   "execution_count": 111,
   "metadata": {},
   "outputs": [
    {
     "data": {
      "text/plain": [
       "(584, 304)"
      ]
     },
     "execution_count": 111,
     "metadata": {},
     "output_type": "execute_result"
    }
   ],
   "source": [
    "policy_new_CENSAN_1months_20210317_df[policy_new_CENSAN_1months_20210317_df.policynumber.isin(policy_numbers)].shape"
   ]
  },
  {
   "cell_type": "code",
   "execution_count": 112,
   "metadata": {},
   "outputs": [
    {
     "data": {
      "text/plain": [
       "(607, 304)"
      ]
     },
     "execution_count": 112,
     "metadata": {},
     "output_type": "execute_result"
    }
   ],
   "source": [
    "policy_new_CENSAN_1months_20210317_df.shape"
   ]
  },
  {
   "cell_type": "markdown",
   "metadata": {},
   "source": [
    "There are some policies that are new for this month but not added to the current month active policies:"
   ]
  },
  {
   "cell_type": "code",
   "execution_count": null,
   "metadata": {},
   "outputs": [],
   "source": [
    "len(set(policy_new_CENSAN_2months_20210317_df.policynumber)-set(policy_CENSAN_2months_20210317_df.policynumber))"
   ]
  },
  {
   "cell_type": "code",
   "execution_count": null,
   "metadata": {},
   "outputs": [],
   "source": [
    "policy_new_CENSAN_2months_20210317_df[policy_new_CENSAN_2months_20210317_df.policynumber.isin(list(set(policy_new_CENSAN_2months_20210317_df.policynumber)-set(policy_CENSAN_2months_20210317_df.policynumber)))]"
   ]
  },
  {
   "cell_type": "code",
   "execution_count": null,
   "metadata": {},
   "outputs": [],
   "source": [
    "policy_CENSAN_2months_20210317_df[policy_CENSAN_2months_20210317_df.policynumber.isin(list(set(policy_new_CENSAN_3months_20210317_df.policynumber)-set(policy_CENSAN_3months_20210317_df.policynumber)))]"
   ]
  },
  {
   "cell_type": "markdown",
   "metadata": {},
   "source": [
    "There are some new policies that are not taking into account into the current month active policies:"
   ]
  },
  {
   "cell_type": "code",
   "execution_count": null,
   "metadata": {},
   "outputs": [],
   "source": [
    "set(policy_new_CENSAN_3months_20210317_df.policynumber)-set(policy_CENSAN_3months_20210317_df.policynumber)"
   ]
  },
  {
   "cell_type": "code",
   "execution_count": null,
   "metadata": {},
   "outputs": [],
   "source": [
    "set(policy_CENSAN_3months_20210317_df.policynumber)"
   ]
  },
  {
   "cell_type": "code",
   "execution_count": null,
   "metadata": {},
   "outputs": [],
   "source": [
    "len(set(policy_new_CENSAN_3months_20210317_df.policynumber))"
   ]
  },
  {
   "cell_type": "code",
   "execution_count": null,
   "metadata": {},
   "outputs": [],
   "source": [
    "len(set(policy_new_CENSAN_3months_20210317_df.policynumber)-set(policy_CENSAN_2months_20210317_df.policynumber))"
   ]
  },
  {
   "cell_type": "code",
   "execution_count": null,
   "metadata": {},
   "outputs": [],
   "source": [
    "24080-302+552-42"
   ]
  },
  {
   "cell_type": "code",
   "execution_count": null,
   "metadata": {},
   "outputs": [],
   "source": [
    "policy_new_CENSAN_3months_20210317_df[policy_new_CENSAN_3months_20210317_df.policynumber.isin(policy_cancelled_CENSAN_3months_20210317_df.policynumber)]['policynumber']"
   ]
  },
  {
   "cell_type": "markdown",
   "metadata": {},
   "source": [
    "The following confirms that policies that are deemed to be new in this month may also be cancelled in the same month:"
   ]
  },
  {
   "cell_type": "code",
   "execution_count": null,
   "metadata": {},
   "outputs": [],
   "source": [
    "policy_new_CENSAN_3months_20210317_df.shape"
   ]
  },
  {
   "cell_type": "code",
   "execution_count": null,
   "metadata": {},
   "outputs": [],
   "source": [
    "set(policy_new_CENSAN_3months_20210317_df[policy_new_CENSAN_3months_20210317_df.policynumber.isin(policy_cancelled_CENSAN_3months_20210317_df.policynumber)]['policynumber'])-set(policy_CENSAN_2months_20210317_df.policynumber)"
   ]
  },
  {
   "cell_type": "code",
   "execution_count": null,
   "metadata": {},
   "outputs": [],
   "source": [
    "set(policy_cancelled_CENSAN_3months_20210317_df.policynumber)-(set(policy_CENSAN_3months_20210317_df.policynumber)-set(policy_CENSAN_2months_20210317_df.policynumber))"
   ]
  },
  {
   "cell_type": "code",
   "execution_count": null,
   "metadata": {},
   "outputs": [],
   "source": [
    "policy_CENSAN_3months_20210317_df.shape[0]-policy_CENSAN_2months_20210317_df.shape[0]"
   ]
  },
  {
   "cell_type": "code",
   "execution_count": null,
   "metadata": {},
   "outputs": [],
   "source": [
    "len((set(policy_CENSAN_3months_20210317_df.policynumber)-set(policy_new_CENSAN_3months_20210317_df.policynumber)))"
   ]
  },
  {
   "cell_type": "code",
   "execution_count": null,
   "metadata": {},
   "outputs": [],
   "source": [
    "set(policy_CENSAN_3months_20210317_df.policynumber)"
   ]
  },
  {
   "cell_type": "code",
   "execution_count": null,
   "metadata": {},
   "outputs": [],
   "source": [
    "(set(policy_CENSAN_3months_20210317_df.policynumber)-set(policy_CENSAN_2months_20210317_df.policynumber))-set(policy_cancelled_CENSAN_3months_20210317_df.policynumber)"
   ]
  },
  {
   "cell_type": "code",
   "execution_count": null,
   "metadata": {},
   "outputs": [],
   "source": [
    "A={1,2,3,4,5,6,7,8}"
   ]
  },
  {
   "cell_type": "code",
   "execution_count": null,
   "metadata": {},
   "outputs": [],
   "source": [
    "B={1,2,3}"
   ]
  },
  {
   "cell_type": "code",
   "execution_count": null,
   "metadata": {},
   "outputs": [],
   "source": [
    "C={9,10,11,12,13}"
   ]
  },
  {
   "cell_type": "code",
   "execution_count": null,
   "metadata": {},
   "outputs": [],
   "source": [
    "s=(A-B)\n",
    "s.update(C)"
   ]
  },
  {
   "cell_type": "code",
   "execution_count": null,
   "metadata": {},
   "outputs": [],
   "source": [
    "A0=set(policy_CENSAN_3months_20210317_df.policynumber)-set(policy_new_CENSAN_3months_20210317_df.policynumber)"
   ]
  },
  {
   "cell_type": "code",
   "execution_count": null,
   "metadata": {},
   "outputs": [],
   "source": [
    "A1=(set(policy_CENSAN_2months_20210317_df.policynumber)-set(policy_new_CENSAN_2months_20210317_df.policynumber))-set(policy_new_CENSAN_3months_20210317_df.policynumber)"
   ]
  },
  {
   "cell_type": "code",
   "execution_count": null,
   "metadata": {},
   "outputs": [],
   "source": [
    "s=set(policy_CENSAN_2months_20210317_df.policynumber)-set(policy_cancelled_CENSAN_2months_20210317_df.policynumber)"
   ]
  },
  {
   "cell_type": "code",
   "execution_count": null,
   "metadata": {},
   "outputs": [],
   "source": [
    "s.update(set(policy_new_CENSAN_2months_20210317_df.policynumber))"
   ]
  },
  {
   "cell_type": "code",
   "execution_count": null,
   "metadata": {},
   "outputs": [],
   "source": [
    "len(set(policy_CENSAN_1months_20210317_df.policynumber)-s)"
   ]
  },
  {
   "cell_type": "code",
   "execution_count": null,
   "metadata": {},
   "outputs": [],
   "source": [
    "l=set(policy_CENSAN_1months_20210317_df.policynumber)-s"
   ]
  },
  {
   "cell_type": "code",
   "execution_count": null,
   "metadata": {},
   "outputs": [],
   "source": [
    "23959+854-171-605"
   ]
  },
  {
   "cell_type": "code",
   "execution_count": null,
   "metadata": {},
   "outputs": [],
   "source": [
    "policy_CENSAN_1months_20210317_df[policy_CENSAN_1months_20210317_df.policynumber.isin(l)]"
   ]
  },
  {
   "cell_type": "code",
   "execution_count": null,
   "metadata": {},
   "outputs": [],
   "source": [
    "policy_CENSAN_3months_20210317_df[policy_CENSAN_3months_20210317_df.policynumber.isin(l)].status"
   ]
  },
  {
   "cell_type": "code",
   "execution_count": null,
   "metadata": {},
   "outputs": [],
   "source": [
    "len(set(policy_new_CENSAN_2months_20210317_df.policynumber)-set(policy_cancelled_CENSAN_2months_20210317_df.policynumber))"
   ]
  },
  {
   "cell_type": "code",
   "execution_count": null,
   "metadata": {},
   "outputs": [],
   "source": [
    "set(policy_new_CENSAN_3months_20210317_df.status)"
   ]
  },
  {
   "cell_type": "code",
   "execution_count": null,
   "metadata": {},
   "outputs": [],
   "source": [
    "policy_new_CENSAN_3months_20210317_df[policy_new_CENSAN_3months_20210317_df.status.isin(['Live'])]"
   ]
  },
  {
   "cell_type": "code",
   "execution_count": null,
   "metadata": {},
   "outputs": [],
   "source": [
    "len({1,2,3,4,5}-{3})"
   ]
  },
  {
   "cell_type": "code",
   "execution_count": null,
   "metadata": {},
   "outputs": [],
   "source": []
  }
 ],
 "metadata": {
  "kernelspec": {
   "display_name": "Python 3",
   "language": "python",
   "name": "python3"
  },
  "language_info": {
   "codemirror_mode": {
    "name": "ipython",
    "version": 3
   },
   "file_extension": ".py",
   "mimetype": "text/x-python",
   "name": "python",
   "nbconvert_exporter": "python",
   "pygments_lexer": "ipython3",
   "version": "3.7.9"
  }
 },
 "nbformat": 4,
 "nbformat_minor": 4
}
