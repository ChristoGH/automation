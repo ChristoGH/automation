{
 "cells": [
  {
   "cell_type": "markdown",
   "metadata": {},
   "source": [
    "C:\\Users\\christo.strydom\\github_repos\\automation\\CBR\\Copy of 20210104_Master_Gap_CBR_LE_CS.xlsx"
   ]
  },
  {
   "cell_type": "code",
   "execution_count": 1,
   "metadata": {},
   "outputs": [],
   "source": [
    "import glob"
   ]
  },
  {
   "cell_type": "code",
   "execution_count": 2,
   "metadata": {},
   "outputs": [],
   "source": [
    "import pyperclip\n",
    "pyperclip.copy('The text to be copied to the clipboard.')\n",
    "spam = pyperclip.paste()"
   ]
  },
  {
   "cell_type": "code",
   "execution_count": 3,
   "metadata": {},
   "outputs": [
    {
     "data": {
      "text/plain": [
       "'The text to be copied to the clipboard.'"
      ]
     },
     "execution_count": 3,
     "metadata": {},
     "output_type": "execute_result"
    }
   ],
   "source": [
    "spam"
   ]
  },
  {
   "cell_type": "code",
   "execution_count": 4,
   "metadata": {},
   "outputs": [],
   "source": [
    "import os, os.path\n",
    "from os import listdir\n",
    "from os.path import isfile, join"
   ]
  },
  {
   "cell_type": "code",
   "execution_count": 5,
   "metadata": {},
   "outputs": [],
   "source": [
    "import pandas as pd\n",
    "import openpyxl\n",
    "import win32com.client\n",
    "from openpyxl import load_workbook"
   ]
  },
  {
   "cell_type": "code",
   "execution_count": 6,
   "metadata": {},
   "outputs": [],
   "source": [
    "from datetime import datetime, timedelta\n",
    "from dateutil.relativedelta import *"
   ]
  },
  {
   "cell_type": "code",
   "execution_count": 7,
   "metadata": {},
   "outputs": [],
   "source": [
    "import calendar\n",
    "import dateutil.parser"
   ]
  },
  {
   "cell_type": "code",
   "execution_count": 8,
   "metadata": {},
   "outputs": [
    {
     "data": {
      "text/plain": [
       "'March'"
      ]
     },
     "execution_count": 8,
     "metadata": {},
     "output_type": "execute_result"
    }
   ],
   "source": [
    "calendar.month_name[3]"
   ]
  },
  {
   "cell_type": "code",
   "execution_count": 9,
   "metadata": {},
   "outputs": [],
   "source": [
    "path=\"\"\"c:\\\\Users\\\\christo.strydom\\\\github_repos\\\\automation\\\\CBR\\\\data\\\\\"\"\"\n",
    "active_policies_file='active_policies_20210304.csv'\n",
    "new_policies_file='new_policies_20210304.csv'\n",
    "gwp_new_policies_file='gwp_new_policies_20210304.csv'\n",
    "gross_premium_file='gross_premium_20210307.csv'\n",
    "cancellations_file='cancellations_20210304.csv'\n"
   ]
  },
  {
   "cell_type": "code",
   "execution_count": 10,
   "metadata": {},
   "outputs": [],
   "source": [
    "def add_months(sourcedate, months):\n",
    "    month = sourcedate.month - 1 + months\n",
    "    year = sourcedate.year + month // 12\n",
    "    month = month % 12 + 1\n",
    "    day = min(sourcedate.day, calendar.monthrange(year,month)[1])\n",
    "    return datetime.date(year, month, day)\n",
    "\n",
    "def last_day_of_month_fn(any_day):\n",
    "    # this will never fail\n",
    "    # get close to the end of the month for any day, and add 4 days 'over'\n",
    "    next_month = any_day.replace(day=28) + timedelta(days=4)\n",
    "    # subtract the number of remaining 'overage' days to get last day of current month, or said programattically said, the previous day of the first of next month\n",
    "    return next_month - timedelta(days=next_month.day)\n",
    "\n",
    "def slice_saver(identifier_name, dataframe, save_path, datafile_name, product_name):\n",
    "    s=datafile_name.split(\"_\")[1].split(\".\")[0]\n",
    "    product_name=product_name.lower().replace(\"-\",\"\").replace(\"  \",\" \").replace(\" \",\"_\")\n",
    "    fname=\"cbr\"+'_'+product_name+\"_\"+s+ \"_\"+identifier_name+\".csv\"\n",
    "    dataframe.to_csv(path_or_buf=save_path+fname, sep=',', index=False)\n",
    "    return fname"
   ]
  },
  {
   "cell_type": "code",
   "execution_count": 11,
   "metadata": {},
   "outputs": [
    {
     "data": {
      "text/plain": [
       "[datetime.datetime(2020, 10, 1, 0, 0),\n",
       " datetime.datetime(2020, 11, 1, 0, 0),\n",
       " datetime.datetime(2020, 12, 1, 0, 0),\n",
       " datetime.datetime(2021, 1, 1, 0, 0),\n",
       " datetime.datetime(2021, 2, 1, 0, 0),\n",
       " datetime.datetime(2021, 3, 1, 0, 0)]"
      ]
     },
     "execution_count": 11,
     "metadata": {},
     "output_type": "execute_result"
    }
   ],
   "source": [
    "nmonths=5\n",
    "today = datetime.today()\n",
    "months_ago = today + relativedelta(months=-nmonths)\n",
    "som_months_ago = datetime(months_ago.year,months_ago.month,1)\n",
    "iterate_months=[som_months_ago+relativedelta(months=n) for n in range(nmonths+1)]\n",
    "iterate_months"
   ]
  },
  {
   "cell_type": "markdown",
   "metadata": {},
   "source": [
    "Create mysql scripts for OWLS data extraction:"
   ]
  },
  {
   "cell_type": "markdown",
   "metadata": {},
   "source": [
    "### Active policies\n",
    "#### active_policies_20210304"
   ]
  },
  {
   "cell_type": "code",
   "execution_count": 12,
   "metadata": {},
   "outputs": [],
   "source": [
    "def active_policies_fn(period):\n",
    "    year=period.year\n",
    "    month=str(period.month).zfill(2)\n",
    "    ldm=calendar.monthrange(year, period.month)[1]\n",
    "    today = datetime.today()\n",
    "    d=str(today.day).zfill(2)\n",
    "    m=str(today.month).zfill(2)\n",
    "#     m = calendar.month_name[today.month]\n",
    "    y=today.year   \n",
    "    return \"\"\"SELECT  '{year}/{month}/01' AS `period`\n",
    "    ,'active_policies_{y}{m}{d}' AS `operation`  \n",
    "    ,policy.umaproductsetupid AS `umaproductsetupid`\n",
    "    ,productsetup.productsetupname AS `product`\n",
    "    ,IF (policy.policygroupholdingsid ='' OR \n",
    "        (SELECT policygroupholdings.policygroupholdingsname            \n",
    "        FROM policygroupholdings            \n",
    "        WHERE policygroupholdings.policygroupholdingsid=policy.policygroupholdingsid AND \n",
    "        policygroupholdings.currenthistoryflag=CONCAT('C','URRENT')\n",
    "        ) LIKE '%indiv%' \n",
    "        OR \n",
    "        (SELECT policygroupholdings.policygroupholdingsname \n",
    "        FROM policygroupholdings \n",
    "        WHERE policygroupholdings.policygroupholdingsid=policy.policygroupholdingsid AND \n",
    "        policygroupholdings.currenthistoryflag=CONCAT('C','URRENT')\n",
    "        ) LIKE '%Private%','individual','corporate') as `grouptype`\n",
    "    ,count(distinct policynumber) AS active_policy_count\n",
    "    from policy,productsetup\n",
    "    where (policy.cancellationdate is null OR DATE(policy.cancellationdate)>'{year}/{month}/{ldm}') and \n",
    "    policy.policytransactionid = \n",
    "    (\n",
    "        SELECT p.policytransactionid \n",
    "        FROM policy p WHERE p.policynumber=policy.policynumber AND DATE(p.inceptiondate)<='{year}/{month}/{ldm}' \n",
    "        ORDER by p.updateddate DESC\n",
    "        LIMIT 1) \n",
    "    group by `period`,`umaproductsetupid`,`grouptype`\n",
    "    UNION\n",
    "    select  '{year}/{month}/01' as `period`\n",
    "    ,'active_policies_{y}{m}{d}' AS `operation`     \n",
    "    ,policy.umaproductsetupid AS `umaproductsetupid`\n",
    "    ,productsetup.productsetupname AS `product`\n",
    "    ,'aggregate' as `grouptype`\n",
    "    ,count(distinct policynumber) AS active_policy_count\n",
    "    from policy,productsetup\n",
    "    where (policy.cancellationdate is null OR DATE(policy.cancellationdate)>'{year}/{month}/{ldm}') and \n",
    "    policy.policytransactionid = \n",
    "    (\n",
    "        SELECT p.policytransactionid \n",
    "        FROM policy p WHERE p.policynumber=policy.policynumber AND DATE(p.inceptiondate)<='{year}/{month}/{ldm}' \n",
    "        ORDER by p.updateddate DESC\n",
    "        LIMIT 1) \n",
    "    group by `period`,`umaproductsetupid`,`grouptype`\n",
    "    \"\"\".format(year=year,month=month,ldm=ldm,y=y,m=m,d=d)"
   ]
  },
  {
   "cell_type": "code",
   "execution_count": 13,
   "metadata": {},
   "outputs": [],
   "source": [
    "def active_policies_query_fn(iterate_months):\n",
    "    union_str=' UNION '\n",
    "    sqlquery=''\n",
    "    for iterate_month in iterate_months:\n",
    "#         print(iterate_month)\n",
    "        new_policies_query=active_policies_fn(iterate_month)\n",
    "        if iterate_month!=iterate_months[-1]:\n",
    "            sqlquery=sqlquery+new_policies_query+union_str\n",
    "        else:\n",
    "            sqlquery=sqlquery+new_policies_query\n",
    "    return sqlquery"
   ]
  },
  {
   "cell_type": "code",
   "execution_count": 14,
   "metadata": {},
   "outputs": [],
   "source": [
    "spam=pyperclip.copy(active_policies_query_fn(iterate_months))"
   ]
  },
  {
   "cell_type": "code",
   "execution_count": 15,
   "metadata": {},
   "outputs": [],
   "source": [
    "active_policies_df=pd.read_csv(filepath_or_buffer=path+active_policies_file)\n",
    "gross_premium_df=pd.read_csv(filepath_or_buffer=path+gross_premium_file)\n",
    "new_policies_df=pd.read_csv(filepath_or_buffer=path+new_policies_file)\n",
    "gwp_new_policies_df=pd.read_csv(filepath_or_buffer=path+gwp_new_policies_file)\n",
    "cancellations_df=pd.read_csv(filepath_or_buffer=path+cancellations_file)\n",
    "# gwp_new_policies_file='gwp_new_policies_20210304.csv'\n",
    "# gross_premium_file='gross_premium_20210304.csv'\n",
    "# cancellations_file='cancellations_20210304.csv'"
   ]
  },
  {
   "cell_type": "code",
   "execution_count": 16,
   "metadata": {},
   "outputs": [],
   "source": [
    "product_list=list(set(active_policies_df['product']))"
   ]
  },
  {
   "cell_type": "code",
   "execution_count": 17,
   "metadata": {},
   "outputs": [
    {
     "data": {
      "text/plain": [
       "['Sanlam Gap',\n",
       " 'MedExpense',\n",
       " 'Western Gap',\n",
       " 'Western Gap Care',\n",
       " 'Kaelo Gap',\n",
       " 'Centriq Cancer']"
      ]
     },
     "execution_count": 17,
     "metadata": {},
     "output_type": "execute_result"
    }
   ],
   "source": [
    "product_list "
   ]
  },
  {
   "cell_type": "code",
   "execution_count": 18,
   "metadata": {},
   "outputs": [],
   "source": [
    "file_name='cbr_template.xlsx'\n",
    "file_path='C:\\\\Users\\\\christo.strydom\\\\github_repos\\\\automation\\\\CBR\\\\reports\\\\'\n",
    "fn=file_path+file_name\n",
    "writer = pd.ExcelWriter(fn, engine='openpyxl')\n",
    "book = load_workbook(fn)\n",
    "writer.book = book\n",
    "writer.sheets = dict((ws.title, ws) for ws in book.worksheets)"
   ]
  },
  {
   "cell_type": "code",
   "execution_count": 19,
   "metadata": {},
   "outputs": [],
   "source": [
    "# presentation_path='\\\\\\klo-jhb-fp01\\\\Xelus\\\\Data Science\\\\ChristoStrydom\\\\Presentations\\\\'\n",
    "# presentation_name='cbr_presentation_template.xlsx'\n",
    "# # file_name='cbr_presentation_template.xlsx'\n",
    "# cbr_presentation_template = openpyxl.load_workbook(presentation_path+presentation_name) \n",
    "# summary_sheet = cbr_presentation_template[\"Sanlam Gap - Individual\"]"
   ]
  },
  {
   "cell_type": "code",
   "execution_count": 20,
   "metadata": {},
   "outputs": [],
   "source": [
    "active_policies_df['period']=pd.to_datetime(active_policies_df['period'], format='%Y/%m/%d', errors='ignore')\n",
    "active_policies_df['year']=pd.DatetimeIndex(active_policies_df['period']).year\n",
    "active_policies_df['month']=pd.DatetimeIndex(active_policies_df['period']).month\n",
    "active_policies_df['mperiod']=active_policies_df.apply(lambda x: str(x['month'])+' '+str(x['year']), axis=1)"
   ]
  },
  {
   "cell_type": "code",
   "execution_count": 21,
   "metadata": {},
   "outputs": [
    {
     "data": {
      "text/plain": [
       "0       2020/02/01\n",
       "1       2020/02/01\n",
       "2       2020/02/01\n",
       "3       2020/02/01\n",
       "4       2020/02/01\n",
       "           ...    \n",
       "4106    2021/03/07\n",
       "4107    2021/03/07\n",
       "4108    2021/03/07\n",
       "4109    2021/03/07\n",
       "4110    2021/03/31\n",
       "Name: period, Length: 4111, dtype: object"
      ]
     },
     "execution_count": 21,
     "metadata": {},
     "output_type": "execute_result"
    }
   ],
   "source": [
    "gross_premium_df['period']"
   ]
  },
  {
   "cell_type": "code",
   "execution_count": 22,
   "metadata": {},
   "outputs": [],
   "source": [
    "gf=active_policies_df[(active_policies_df['product']=='Sanlam Gap')&(active_policies_df['grouptype']=='aggregate')].copy()\n"
   ]
  },
  {
   "cell_type": "code",
   "execution_count": 23,
   "metadata": {},
   "outputs": [],
   "source": [
    "index=list()\n",
    "data=list()\n",
    "column_names=list(gf['mperiod'])\n",
    "index.append('Active Policies')\n",
    "data.append(list(gf['policy_count']))\n",
    "df = pd.DataFrame(data, index=index, columns = column_names) "
   ]
  },
  {
   "cell_type": "code",
   "execution_count": 24,
   "metadata": {},
   "outputs": [
    {
     "data": {
      "text/plain": [
       "['Active Policies']"
      ]
     },
     "execution_count": 24,
     "metadata": {},
     "output_type": "execute_result"
    }
   ],
   "source": [
    "index"
   ]
  },
  {
   "cell_type": "code",
   "execution_count": 25,
   "metadata": {},
   "outputs": [],
   "source": [
    "gf=gross_premium_df[(gross_premium_df['product']=='Sanlam Gap')&(gross_premium_df['grouptype']=='aggregate')].copy()"
   ]
  },
  {
   "cell_type": "code",
   "execution_count": 26,
   "metadata": {},
   "outputs": [
    {
     "data": {
      "text/html": [
       "<div>\n",
       "<style scoped>\n",
       "    .dataframe tbody tr th:only-of-type {\n",
       "        vertical-align: middle;\n",
       "    }\n",
       "\n",
       "    .dataframe tbody tr th {\n",
       "        vertical-align: top;\n",
       "    }\n",
       "\n",
       "    .dataframe thead th {\n",
       "        text-align: right;\n",
       "    }\n",
       "</style>\n",
       "<table border=\"1\" class=\"dataframe\">\n",
       "  <thead>\n",
       "    <tr style=\"text-align: right;\">\n",
       "      <th></th>\n",
       "      <th>2 2020</th>\n",
       "      <th>3 2020</th>\n",
       "      <th>4 2020</th>\n",
       "      <th>5 2020</th>\n",
       "      <th>6 2020</th>\n",
       "      <th>7 2020</th>\n",
       "      <th>8 2020</th>\n",
       "      <th>9 2020</th>\n",
       "      <th>10 2020</th>\n",
       "      <th>11 2020</th>\n",
       "      <th>12 2020</th>\n",
       "      <th>1 2021</th>\n",
       "      <th>2 2021</th>\n",
       "      <th>3 2021</th>\n",
       "    </tr>\n",
       "  </thead>\n",
       "  <tbody>\n",
       "    <tr>\n",
       "      <th>Active Policies</th>\n",
       "      <td>20452</td>\n",
       "      <td>20743</td>\n",
       "      <td>20791</td>\n",
       "      <td>21095</td>\n",
       "      <td>21252</td>\n",
       "      <td>21421</td>\n",
       "      <td>21572</td>\n",
       "      <td>21823</td>\n",
       "      <td>21867</td>\n",
       "      <td>22029</td>\n",
       "      <td>22259</td>\n",
       "      <td>22637</td>\n",
       "      <td>23354</td>\n",
       "      <td>23880</td>\n",
       "    </tr>\n",
       "  </tbody>\n",
       "</table>\n",
       "</div>"
      ],
      "text/plain": [
       "                 2 2020  3 2020  4 2020  5 2020  6 2020  7 2020  8 2020  \\\n",
       "Active Policies   20452   20743   20791   21095   21252   21421   21572   \n",
       "\n",
       "                 9 2020  10 2020  11 2020  12 2020  1 2021  2 2021  3 2021  \n",
       "Active Policies   21823    21867    22029    22259   22637   23354   23880  "
      ]
     },
     "execution_count": 26,
     "metadata": {},
     "output_type": "execute_result"
    }
   ],
   "source": [
    "df"
   ]
  },
  {
   "cell_type": "code",
   "execution_count": 27,
   "metadata": {},
   "outputs": [],
   "source": [
    "file_path='N:\\\\Data Science\\\\ChristoStrydom\\\\CBR reports\\\\'\n",
    "dname=': Membership&Premium'\n",
    "cname=': Claims'\n",
    "writer = pd.ExcelWriter(fn, engine='openpyxl')\n",
    "book = load_workbook(fn)\n",
    "writer.book = book\n",
    "writer.sheets = dict((ws.title, ws) for ws in book.worksheets)"
   ]
  },
  {
   "cell_type": "code",
   "execution_count": 28,
   "metadata": {},
   "outputs": [
    {
     "ename": "NameError",
     "evalue": "name 'onlyfiles' is not defined",
     "output_type": "error",
     "traceback": [
      "\u001b[1;31m---------------------------------------------------------------------------\u001b[0m",
      "\u001b[1;31mNameError\u001b[0m                                 Traceback (most recent call last)",
      "\u001b[1;32m<ipython-input-28-5ef5216a941e>\u001b[0m in \u001b[0;36m<module>\u001b[1;34m\u001b[0m\n\u001b[1;32m----> 1\u001b[1;33m \u001b[1;32mfor\u001b[0m \u001b[0mf\u001b[0m \u001b[1;32min\u001b[0m \u001b[0monlyfiles\u001b[0m\u001b[1;33m:\u001b[0m\u001b[1;33m\u001b[0m\u001b[1;33m\u001b[0m\u001b[0m\n\u001b[0m\u001b[0;32m      2\u001b[0m     \u001b[0msheet_name\u001b[0m\u001b[1;33m=\u001b[0m\u001b[0mf\u001b[0m\u001b[1;33m.\u001b[0m\u001b[0msplit\u001b[0m\u001b[1;33m(\u001b[0m\u001b[1;34m'_'\u001b[0m\u001b[1;33m)\u001b[0m\u001b[1;33m[\u001b[0m\u001b[1;36m1\u001b[0m\u001b[1;33m]\u001b[0m\u001b[1;33m\u001b[0m\u001b[1;33m\u001b[0m\u001b[0m\n\u001b[0;32m      3\u001b[0m     \u001b[0mprint\u001b[0m\u001b[1;33m(\u001b[0m\u001b[0mf\u001b[0m\u001b[1;33m.\u001b[0m\u001b[0msplit\u001b[0m\u001b[1;33m(\u001b[0m\u001b[1;34m'_'\u001b[0m\u001b[1;33m)\u001b[0m\u001b[1;33m[\u001b[0m\u001b[1;36m1\u001b[0m\u001b[1;33m]\u001b[0m\u001b[1;33m)\u001b[0m\u001b[1;33m\u001b[0m\u001b[1;33m\u001b[0m\u001b[0m\n\u001b[0;32m      4\u001b[0m     \u001b[0mdf\u001b[0m\u001b[1;33m=\u001b[0m\u001b[0mpd\u001b[0m\u001b[1;33m.\u001b[0m\u001b[0mread_csv\u001b[0m\u001b[1;33m(\u001b[0m\u001b[0mfilepath_or_buffer\u001b[0m\u001b[1;33m=\u001b[0m\u001b[0mfile_path\u001b[0m\u001b[1;33m+\u001b[0m\u001b[0mf\u001b[0m\u001b[1;33m)\u001b[0m\u001b[1;33m\u001b[0m\u001b[1;33m\u001b[0m\u001b[0m\n\u001b[0;32m      5\u001b[0m     \u001b[0mgf\u001b[0m\u001b[1;33m=\u001b[0m\u001b[0mdf\u001b[0m\u001b[1;33m.\u001b[0m\u001b[0mloc\u001b[0m\u001b[1;33m[\u001b[0m\u001b[1;36m0\u001b[0m\u001b[1;33m:\u001b[0m\u001b[1;36m14\u001b[0m\u001b[1;33m]\u001b[0m\u001b[1;33m.\u001b[0m\u001b[0mcopy\u001b[0m\u001b[1;33m(\u001b[0m\u001b[1;33m)\u001b[0m\u001b[1;33m\u001b[0m\u001b[1;33m\u001b[0m\u001b[0m\n",
      "\u001b[1;31mNameError\u001b[0m: name 'onlyfiles' is not defined"
     ]
    }
   ],
   "source": [
    "for f in onlyfiles:\n",
    "    sheet_name=f.split('_')[1]\n",
    "    print(f.split('_')[1])\n",
    "    df=pd.read_csv(filepath_or_buffer=file_path+f)\n",
    "    gf=df.loc[0:14].copy()\n",
    "    gf.rename(columns={'Unnamed: 0': f.split('_')[1]+dname},inplace=True)\n",
    "    hf=df.loc[15:27].copy()\n",
    "    hf.rename(columns={'Unnamed: 0': f.split('_')[1]+cname},inplace=True)    \n",
    "    gf.to_excel(writer, sheet_name=sheet_name, index=False, startcol=0,startrow=1)\n",
    "    hf.to_excel(writer, sheet_name=sheet_name, index=False, startcol=0,startrow=19)\n",
    "    writer.save()"
   ]
  },
  {
   "cell_type": "code",
   "execution_count": null,
   "metadata": {},
   "outputs": [],
   "source": [
    "file_name='cbr_template.xlsx'\n",
    "file_path='C:\\\\Users\\\\christo.strydom\\\\github_repos\\\\automation\\\\CBR\\\\reports\\\\'\n",
    "fn=file_path+file_name\n",
    "writer = pd.ExcelWriter(fn, engine='openpyxl')\n",
    "book = load_workbook(fn)\n",
    "writer.book = book\n",
    "writer.sheets = dict((ws.title, ws) for ws in book.worksheets)"
   ]
  },
  {
   "cell_type": "code",
   "execution_count": null,
   "metadata": {},
   "outputs": [],
   "source": [
    "writer.sheets"
   ]
  },
  {
   "cell_type": "code",
   "execution_count": null,
   "metadata": {},
   "outputs": [],
   "source": [
    "product=product_list[0]"
   ]
  },
  {
   "cell_type": "code",
   "execution_count": null,
   "metadata": {},
   "outputs": [],
   "source": [
    "print(product)\n",
    "df.to_excel(writer, sheet_name=product, index=False, startcol=1,startrow=1)"
   ]
  },
  {
   "cell_type": "code",
   "execution_count": null,
   "metadata": {},
   "outputs": [],
   "source": [
    "for product in product_list:\n",
    "    print(product)\n",
    "    df.to_excel(writer, sheet_name=sheet_name, index=False, startcol=0,startrow=0)"
   ]
  },
  {
   "cell_type": "markdown",
   "metadata": {},
   "source": [
    "### Gross Premium\n",
    "#### gross_premium_20210307"
   ]
  },
  {
   "cell_type": "code",
   "execution_count": 29,
   "metadata": {},
   "outputs": [],
   "source": [
    "def gross_premium_raised_fn(iterate_months):\n",
    "    start_year=iterate_months[0].year\n",
    "    start_month=str(iterate_months[0].month).zfill(2)\n",
    "    end_year=iterate_months[-1].year\n",
    "    end_month=str(iterate_months[-1].month).zfill(2)    \n",
    "    ldm=calendar.monthrange(end_year, iterate_months[-1].month)[1]\n",
    "    today = datetime.today()\n",
    "    d=str(today.day).zfill(2)\n",
    "    m=str(today.month).zfill(2)\n",
    "    y=today.year    \n",
    "    return \"\"\"\n",
    "    SELECT left(fingl.posteddate,7) as `period` \n",
    "    ,policy.umaid AS `umaid`\n",
    "    ,'gross_premium_{y}{m}{d}' AS `operation`      \n",
    "    ,policy.umaproductsetupid AS `umaproductsetupid`\n",
    "        ,productsetup.productsetupname AS `product`\n",
    "    ,SUM(fingl.amount) AS `raised_premium_amount`\n",
    "    ,COUNT(DISTINCT fingl.policynumber) AS `raised_premium_policycount`\n",
    "    ,SUM(fingl.amount) / COUNT(DISTINCT fingl.policynumber) AS `raised_premium_average` \n",
    "    ,IF (policy.policygroupholdingsid ='' OR \n",
    "        (SELECT policygroupholdings.policygroupholdingsname            \n",
    "        FROM policygroupholdings            \n",
    "        WHERE policygroupholdings.policygroupholdingsid=policy.policygroupholdingsid AND \n",
    "        policygroupholdings.currenthistoryflag=CONCAT('C','URRENT')\n",
    "        ) LIKE '%indiv%' \n",
    "        OR \n",
    "        (SELECT policygroupholdings.policygroupholdingsname \n",
    "        FROM policygroupholdings \n",
    "        WHERE policygroupholdings.policygroupholdingsid=policy.policygroupholdingsid AND \n",
    "        policygroupholdings.currenthistoryflag=CONCAT('C','URRENT')\n",
    "        ) LIKE '%Private%','individual','corporate') AS `grouptype`\n",
    "    from fingl,policy,productsetup\n",
    "    where ( policy.policynumber = fingl.policynumber AND  \n",
    "    fingl.currenthistoryflag = 'CURRENT' AND  \n",
    "    policy.currenthistoryflag = 'CURRENT')  AND \n",
    "    (fingl.type='Premium Raised' and \n",
    "    fingl.posteddate BETWEEN '{start_year}/{start_month}/01' AND '{end_year}/{end_month}/{ldm}') \n",
    "    group by `period`,`umaproductsetupid`,`grouptype`\n",
    "UNION\n",
    "    SELECT left(fingl.posteddate,7) as `period`   \n",
    "    ,policy.umaid AS `umaid`\n",
    "    ,'gross_premium_{y}{m}{d}' AS `operation`      \n",
    "    ,policy.umaproductsetupid AS `umaproductsetupid`\n",
    "    ,productsetup.productsetupname AS `product`\n",
    "    ,SUM(fingl.amount) AS `raised_premium_amount`\n",
    "    ,COUNT(DISTINCT fingl.policynumber) AS `raised_premium_policycount`\n",
    "    ,SUM(fingl.amount) / COUNT(DISTINCT fingl.policynumber) AS `raised_premium_average` \n",
    "    ,'aggregate' as `grouptype`\n",
    "    from fingl,policy,productsetup\n",
    "      where ( policy.policynumber = fingl.policynumber AND  \n",
    "      fingl.currenthistoryflag = 'CURRENT' AND  \n",
    "      policy.currenthistoryflag = 'CURRENT')  AND \n",
    "      (fingl.type='Premium Raised' and \n",
    "      fingl.posteddate BETWEEN '{start_year}/{start_month}/01' AND '{end_year}/{end_month}/{ldm}') \n",
    "      group by `period`,`umaproductsetupid`,`grouptype`\n",
    "\"\"\".format(start_year=start_year,start_month=start_month,end_year=end_year,end_month=end_month,ldm=ldm,y=y,m=m,d=d)\n",
    "    "
   ]
  },
  {
   "cell_type": "code",
   "execution_count": 30,
   "metadata": {},
   "outputs": [],
   "source": [
    "# print(gross_premium_raised_fn(iterate_months))\n",
    "spam=pyperclip.copy(gross_premium_raised_fn(iterate_months))"
   ]
  },
  {
   "cell_type": "markdown",
   "metadata": {},
   "source": [
    "### New policies\n",
    "#### new_policies_20210304"
   ]
  },
  {
   "cell_type": "code",
   "execution_count": null,
   "metadata": {},
   "outputs": [],
   "source": [
    "'new_policies_'+str(today.year)+str(today.month).zfill(2)+str(today.day).zfill(2)"
   ]
  },
  {
   "cell_type": "code",
   "execution_count": null,
   "metadata": {},
   "outputs": [],
   "source": [
    "def new_policies_fn(period):\n",
    "    year=period.year\n",
    "    month=str(period.month).zfill(2)\n",
    "    ldm=calendar.monthrange(year, period.month)[1]\n",
    "    today = datetime.today()\n",
    "    d=str(today.day).zfill(2)\n",
    "#     m = calendar.month_name[today.month]\n",
    "    m=str(today.month).zfill(2)\n",
    "    y=today.year   \n",
    "    return \"\"\"\n",
    "    SELECT  '{year}/{month}/01' AS `period`\n",
    "    ,'new_policies_{y}{m}{d}' AS `operation`   \n",
    "    ,policy.umaid AS `umaid`\n",
    "    ,productsetup.productsetupname AS `product`\n",
    "    ,policy.umaproductsetupid AS `umaproductsetupid`\n",
    "    ,IF (policy.policygroupholdingsid ='' OR \n",
    "        (SELECT policygroupholdings.policygroupholdingsname            \n",
    "        FROM policygroupholdings            \n",
    "        WHERE policygroupholdings.policygroupholdingsid=policy.policygroupholdingsid AND \n",
    "        policygroupholdings.currenthistoryflag=CONCAT('C','URRENT')\n",
    "        ) LIKE '%indiv%' \n",
    "        OR \n",
    "        (SELECT policygroupholdings.policygroupholdingsname \n",
    "        FROM policygroupholdings \n",
    "        WHERE policygroupholdings.policygroupholdingsid=policy.policygroupholdingsid AND \n",
    "        policygroupholdings.currenthistoryflag=CONCAT('C','URRENT')\n",
    "        ) LIKE '%Private%','Individual','Corporate') AS `grouptype`\n",
    "    ,sum(policy.grosspremium) as `new_policy_gross_premium`\n",
    "    ,count(distinct policy.policynumber) AS `new_policy_count`\n",
    "    ,sum(policy.grosspremium) / count(distinct policy.policynumber) as `new_policy_average_gross_premium`\n",
    "    from policy, productsetup\n",
    "    where (policy.cancellationdate is null OR DATE(policy.cancellationdate)>'{year}/{month}/{ldm}') AND \n",
    "        (DATE(policy.inceptiondate)>='{year}/{month}/01' AND DATE(policy.inceptiondate)<='{year}/{month}/{ldm}') AND \n",
    "    policy.policytransactionid = \n",
    "    (\n",
    "        SELECT p.policytransactionid \n",
    "        FROM policy p WHERE p.policynumber=policy.policynumber AND \n",
    "        (DATE(p.inceptiondate)>='{year}/{month}/01' AND DATE(p.inceptiondate)<='{year}/{month}/{ldm}') \n",
    "        ORDER by p.updateddate DESC\n",
    "        LIMIT 1) \n",
    "    group by `umaproductsetupid`,`grouptype`\n",
    "UNION\n",
    "select  '{year}/{month}/01' AS `period`\n",
    ",'new_policies_{y}{m}{d}' AS `operation`   \n",
    ",policy.umaid AS `umaid`\n",
    "    ,productsetup.productsetupname AS `product`\n",
    ",policy.umaproductsetupid AS `umaproductsetupid`\n",
    ",'aggregate' as `grouptype`\n",
    ",sum(policy.grosspremium) as `new_policy_gross_premium`\n",
    ",count(distinct policy.policynumber) AS `new_policy_count`\n",
    ",sum(policy.grosspremium) / count(distinct policy.policynumber) as `new_policy_average_gross_premium`\n",
    "from policy, productsetup\n",
    "where (policy.cancellationdate is null OR DATE(policy.cancellationdate)>'{year}/{month}/{ldm}') AND \n",
    "    (DATE(policy.inceptiondate)>='{year}/{month}/01' AND DATE(policy.inceptiondate)<='{year}/{month}/{ldm}') AND \n",
    "policy.policytransactionid = \n",
    "(\n",
    "    SELECT p.policytransactionid \n",
    "    FROM policy p WHERE p.policynumber=policy.policynumber AND \n",
    "    (DATE(p.inceptiondate)>='{year}/{month}/01' AND DATE(p.inceptiondate)<='{year}/{month}/{ldm}') \n",
    "    ORDER by p.updateddate DESC\n",
    "    LIMIT 1) \n",
    "group by `umaproductsetupid`,`grouptype` \n",
    "     \n",
    "    \"\"\".format(year=year,month=str(month).zfill(2),ldm=ldm,y=y,m=m,d=d)"
   ]
  },
  {
   "cell_type": "code",
   "execution_count": null,
   "metadata": {},
   "outputs": [],
   "source": [
    "def new_policies_query_fn(iterate_months):\n",
    "    union_str=' UNION '\n",
    "    sqlquery=''\n",
    "    for iterate_month in iterate_months:\n",
    "#         print(iterate_month)\n",
    "        new_policies_query=new_policies_fn(iterate_month)\n",
    "        if iterate_month!=iterate_months[-1]:\n",
    "            sqlquery=sqlquery+new_policies_query+union_str\n",
    "        else:\n",
    "            sqlquery=sqlquery+new_policies_query\n",
    "    return sqlquery"
   ]
  },
  {
   "cell_type": "code",
   "execution_count": null,
   "metadata": {},
   "outputs": [],
   "source": [
    "# print((iterate_months))\n",
    "spam=pyperclip.copy(new_policies_query_fn(iterate_months))"
   ]
  },
  {
   "cell_type": "code",
   "execution_count": null,
   "metadata": {},
   "outputs": [],
   "source": []
  },
  {
   "cell_type": "markdown",
   "metadata": {},
   "source": [
    "### GWP of new policies\n",
    "#### gwp_new_policies_20210303"
   ]
  },
  {
   "cell_type": "code",
   "execution_count": null,
   "metadata": {},
   "outputs": [],
   "source": [
    "def gwp_new_policies_fn(period):\n",
    "    year=period.year\n",
    "    month=str(period.month).zfill(2)\n",
    "    ldm=calendar.monthrange(year, period.month)[1]\n",
    "    today = datetime.today()\n",
    "    d=str(today.day).zfill(2)\n",
    "#     m = calendar.month_name[today.month]\n",
    "    m=str(today.month).zfill(2)\n",
    "    y=today.year   \n",
    "    return \"\"\"\n",
    "    SELECT  '{year}/{m}/01' AS `period_py`\n",
    "    ,left(fingl.posteddate,7) AS `period`    \n",
    "    ,'gwp_new_policies_{y}{m}{d}' AS `operation`    \n",
    "        ,policy.umaid AS `umaid`\n",
    "        ,productsetup.productsetupname AS `product`\n",
    "        ,policy.umaproductsetupid AS `umaproductsetupid`\n",
    "        ,IF (policy.policygroupholdingsid ='' OR \n",
    "            (SELECT policygroupholdings.policygroupholdingsname            \n",
    "            FROM policygroupholdings            \n",
    "            WHERE policygroupholdings.policygroupholdingsid=policy.policygroupholdingsid AND \n",
    "            policygroupholdings.currenthistoryflag=CONCAT('C','URRENT')\n",
    "            ) LIKE '%indiv%' \n",
    "            OR \n",
    "            (SELECT policygroupholdings.policygroupholdingsname \n",
    "            FROM policygroupholdings \n",
    "            WHERE policygroupholdings.policygroupholdingsid=policy.policygroupholdingsid AND \n",
    "            policygroupholdings.currenthistoryflag=CONCAT('C','URRENT')\n",
    "            ) LIKE '%Private%','Individual','Corporate') as `grouptype`\n",
    "\n",
    "        ,sum(fingl.amount) as `gwp_new_policy_gross_premium`\n",
    "        ,count(distinct policy.policynumber) AS `new_policy_count`\n",
    "        ,sum(fingl.amount) / count(distinct policy.policynumber) as `gwp_new_policy_average_gross_premium`\n",
    "        FROM fingl,policy,productsetup\n",
    "        WHERE ( policy.policynumber = fingl.policynumber AND  \n",
    "        fingl.currenthistoryflag = 'CURRENT' AND  \n",
    "        policy.currenthistoryflag = 'CURRENT')  AND \n",
    "        (policy.cancellationdate is null OR DATE(policy.cancellationdate)>'{year}/{month}/{ldm}') AND \n",
    "        (DATE(policy.inceptiondate)>='{year}/{month}/01' AND DATE(policy.inceptiondate)<='{year}/{month}/{ldm}') AND\n",
    "        (fingl.type='Premium Raised' AND \n",
    "        fingl.posteddate BETWEEN '{year}/{month}/01' AND '{year}/{month}/{ldm}') \n",
    "        group by `umaproductsetupid`,`grouptype`, `period`\n",
    "    UNION\n",
    "    SELECT  '{year}/{m}/01' AS `period_py`\n",
    "        ,left(fingl.posteddate,7) AS `period`    \n",
    "    ,'gwp_new_policies_{y}{m}{d}' AS `operation`    \n",
    "        ,policy.umaid AS `umaid`\n",
    "        ,productsetup.productsetupname AS `product`\n",
    "        ,policy.umaproductsetupid AS `umaproductsetupid`\n",
    "        ,'aggregate' as `grouptype`\n",
    "        ,sum(fingl.amount) as `gwp_new_policy_gross_premium`\n",
    "        ,count(distinct policy.policynumber) AS `new_policy_count`\n",
    "        ,sum(fingl.amount) / count(distinct policy.policynumber) as `gwp_new_policy_average_gross_premium`\n",
    "        FROM fingl,policy,productsetup\n",
    "        WHERE ( policy.policynumber = fingl.policynumber AND  \n",
    "        fingl.currenthistoryflag = 'CURRENT' AND  \n",
    "        policy.currenthistoryflag = 'CURRENT')  AND \n",
    "        (policy.cancellationdate is null OR DATE(policy.cancellationdate)>'{year}/{month}/{ldm}') AND \n",
    "        (DATE(policy.inceptiondate)>='{year}/{month}/01' AND DATE(policy.inceptiondate)<='{year}/{month}/{ldm}') AND\n",
    "        (fingl.type='Premium Raised' AND \n",
    "        fingl.posteddate BETWEEN '{year}/{month}/01' AND '{year}/{month}/{ldm}') \n",
    "        group by `umaproductsetupid`,`grouptype`,`period`    \n",
    "    \"\"\".format(year=year,month=str(month).zfill(2),ldm=ldm,y=y,m=m,d=d)"
   ]
  },
  {
   "cell_type": "code",
   "execution_count": null,
   "metadata": {},
   "outputs": [],
   "source": [
    "def gwp_new_policies_query_fn(iterate_months):\n",
    "    union_str=' UNION '\n",
    "    sqlquery=''\n",
    "    for iterate_month in iterate_months:\n",
    "#         print(iterate_month)\n",
    "        new_policies_query=gwp_new_policies_fn(iterate_month)\n",
    "        if iterate_month!=iterate_months[-1]:\n",
    "            sqlquery=sqlquery+new_policies_query+union_str\n",
    "        else:\n",
    "            sqlquery=sqlquery+new_policies_query\n",
    "    return sqlquery"
   ]
  },
  {
   "cell_type": "code",
   "execution_count": null,
   "metadata": {},
   "outputs": [],
   "source": [
    "# print((iterate_months))\n",
    "spam=pyperclip.copy(gwp_new_policies_query_fn(iterate_months))"
   ]
  },
  {
   "cell_type": "markdown",
   "metadata": {},
   "source": [
    "### Cancellations\n",
    "#### cancellations_20210308"
   ]
  },
  {
   "cell_type": "code",
   "execution_count": null,
   "metadata": {},
   "outputs": [],
   "source": [
    "def cancellations_fn(period):\n",
    "    year=period.year\n",
    "    month=period.month\n",
    "    ldm=calendar.monthrange(year, month)[1]\n",
    "    today = datetime.today()\n",
    "    d=str(today.day).zfill(2)\n",
    "#     m=str(today.month).zfill(2)\n",
    "#     m = calendar.month_name[today.month]\n",
    "    m=str(today.month).zfill(2)\n",
    "    y=today.year   \n",
    "    return \"\"\"SELECT  '{y}/{m}/01' AS `period_py`\n",
    "    ,left(policy.cancellationdate,7) AS `period`\n",
    "    ,'cancellations_{y}{m}{d}' AS `operation`        \n",
    "    ,policy.umaproductsetupid AS `umaproductsetupid`\n",
    "    ,productsetup.productsetupname AS `product`    \n",
    "    ,IF (policy.policygroupholdingsid ='' OR \n",
    "        (SELECT policygroupholdings.policygroupholdingsname            \n",
    "        FROM policygroupholdings            \n",
    "        WHERE policygroupholdings.policygroupholdingsid=policy.policygroupholdingsid AND \n",
    "        policygroupholdings.currenthistoryflag=CONCAT('C','URRENT')\n",
    "        ) LIKE '%indiv%' \n",
    "        OR \n",
    "        (SELECT policygroupholdings.policygroupholdingsname \n",
    "        FROM policygroupholdings \n",
    "        WHERE policygroupholdings.policygroupholdingsid=policy.policygroupholdingsid AND \n",
    "        policygroupholdings.currenthistoryflag=CONCAT('C','URRENT')\n",
    "        ) LIKE '%Private%','Individual','Corporate') as `grouptype`\n",
    ",sum(policy.totalpremium) AS `policies_cancelled_totalpremium`\n",
    ",count(distinct policy.policynumber) as `policies_cancelled_count`\n",
    "from policy,productsetup \n",
    "  where policy.cancellationdate>policy.inceptiondate AND \n",
    "  (DATE(policy.cancellationdate)>='{year}/{month}/01' AND DATE(policy.cancellationdate)<='{year}/{month}/{ldm}') AND\n",
    "  policy.currenthistoryflag = 'CURRENT'\n",
    "  group by `umaproductsetupid`,`grouptype`,`period`\n",
    "    UNION\n",
    "SELECT\n",
    "'{year}/{m}/01' AS `period_py`\n",
    ",left(policy.cancellationdate,7) AS `period`\n",
    ",'cancellations_{y}{m}{d}' AS `operation`        \n",
    ",policy.umaproductsetupid AS `umaproductsetupid`\n",
    ",productsetup.productsetupname AS `product`    \n",
    ",'aggregate' as `grouptype` \n",
    ",sum(policy.totalpremium) AS `policies_cancelled_totalpremium`\n",
    ",count(distinct policy.policynumber) as `policies_cancelled_count`\n",
    "from policy,productsetup \n",
    "  where policy.cancellationdate>policy.inceptiondate AND \n",
    "  (DATE(policy.cancellationdate)>='{year}/{month}/01' AND DATE(policy.cancellationdate)<='{year}/{month}/{ldm}') AND\n",
    "  policy.currenthistoryflag = 'CURRENT'\n",
    "  group by `umaproductsetupid`,`grouptype`,`period`\n",
    "  \"\"\".format(year=year,month=month, ldm=ldm,y=y,m=m,d=d)"
   ]
  },
  {
   "cell_type": "code",
   "execution_count": null,
   "metadata": {},
   "outputs": [],
   "source": [
    "def cancellations_query_fn(iterate_months):\n",
    "    union_str=' UNION '\n",
    "    sqlquery=''\n",
    "    for iterate_month in iterate_months:\n",
    "#         print(iterate_month)\n",
    "        new_policies_query=cancellations_fn(iterate_month)\n",
    "        if iterate_month!=iterate_months[-1]:\n",
    "            sqlquery=sqlquery+new_policies_query+union_str\n",
    "        else:\n",
    "            sqlquery=sqlquery+new_policies_query\n",
    "    return sqlquery"
   ]
  },
  {
   "cell_type": "code",
   "execution_count": null,
   "metadata": {},
   "outputs": [],
   "source": [
    "period=iterate_months[-1]"
   ]
  },
  {
   "cell_type": "code",
   "execution_count": null,
   "metadata": {},
   "outputs": [],
   "source": [
    "year=period.year\n",
    "month=period.month\n",
    "ldm=calendar.monthrange(year, month)[1]\n",
    "today = datetime.today()\n",
    "d=str(today.day).zfill(2)\n",
    "#     m=str(today.month).zfill(2)\n",
    "#     m = calendar.month_name[today.month]\n",
    "m=str(today.month).zfill(2)\n",
    "y=today.year   \n"
   ]
  },
  {
   "cell_type": "code",
   "execution_count": null,
   "metadata": {},
   "outputs": [],
   "source": [
    "# print(cancellations_query_fn(iterate_months))\n",
    "spam=pyperclip.copy(cancellations_query_fn(iterate_months))"
   ]
  },
  {
   "cell_type": "markdown",
   "metadata": {},
   "source": [
    "### NTU\n",
    "#### ntu_20210308"
   ]
  },
  {
   "cell_type": "code",
   "execution_count": null,
   "metadata": {},
   "outputs": [],
   "source": [
    "def ntu_fn(period):\n",
    "    year=period.year\n",
    "    month=period.month\n",
    "    ldm=calendar.monthrange(year, month)[1]\n",
    "    today = datetime.today()\n",
    "    d=str(today.day).zfill(2)\n",
    "#     m=str(today.month).zfill(2)\n",
    "#     m = calendar.month_name[today.month]\n",
    "    m=str(today.month).zfill(2)\n",
    "    y=today.year   \n",
    "    return \"\"\"\n",
    "    SELECT '{year}/{month}/01' as `period_py`\n",
    "    ,'ntu_policies_{y}{m}{d}' AS `operation` \n",
    "    ,left(policy.updateddate,7) AS `period` \n",
    "    ,policy.umaproductsetupid AS `umaproductsetupid`\n",
    "    ,productsetup.productsetupname AS `product`    \n",
    "\t,IF(policy.policygroupholdingsid ='' OR (SELECT policygroupholdings.policygroupholdingsname\n",
    "\t\t\t\t\t\t\t\t\t\t\tFROM policygroupholdings\n",
    "\t\t\t\t\t\t\t\t\t\t\tWHERE policygroupholdings.policygroupholdingsid=policy.policygroupholdingsid\n",
    "\t\t\t\t\t\t\t\t\t\t\tAND policygroupholdings.currenthistoryflag=CONCAT('C','URRENT')) LIKE '%indiv%' \n",
    "\t   \t\t\t\t\t\t\t\t\tOR (SELECT policygroupholdings.policygroupholdingsname\n",
    "\t\t\t\t\t\t\t\t\t\t\tFROM policygroupholdings\n",
    "\t\t\t\t\t\t\t\t\t\t\tWHERE policygroupholdings.policygroupholdingsid=policy.policygroupholdingsid\n",
    "\t\t\t\t\t\t\t\t\t\t\tAND policygroupholdings.currenthistoryflag=CONCAT('C','URRENT')) LIKE '%Private%' \n",
    "\t   ,'individual','corporate') as `grouptype`\n",
    "       ,count(distinct policy.policynumber) AS ntu_policy_count      \n",
    "\t   ,sum(totalpremium) AS ntu_policy_premium\n",
    "       ,sum(totalpremium)/count(distinct policy.policynumber) AS ntu_policy_average_premium\n",
    "from policy,productsetup\n",
    "where policy.status='Not Taken Up'\n",
    "and policy.policytransactionid = (SELECT p.policytransactionid\n",
    "\t\t\t\t\t\t\t\t  FROM policy p\n",
    "\t\t\t\t\t\t\t\t  WHERE p.policynumber=policy.policynumber\n",
    "\t\t\t\t\t\t\t\t  AND DATE(p.updateddate) BETWEEN '{year}/{month}/01' AND '{year}/{month}/{ldm}'\n",
    "\t\t\t\t\t\t\t\t  ORDER by p.updateddate DESC\n",
    "\t\t\t\t\t\t\t\t  LIMIT 1)\n",
    "  group by `umaproductsetupid`,`grouptype`,`period`\n",
    "UNION\n",
    "    SELECT '{year}/{month}/01' as `period_py`\n",
    "    ,'ntu_policies_{y}{m}{d}' AS `operation` \n",
    "    ,left(policy.updateddate,7) AS `period` \n",
    "    ,policy.umaproductsetupid AS `umaproductsetupid`\n",
    "    ,productsetup.productsetupname AS `product`    \n",
    "\t,'aggregate' as `grouptype`\n",
    "       ,count(distinct policy.policynumber) AS ntu_policy_count      \n",
    "\t   ,sum(totalpremium) AS ntu_policy_premium\n",
    "       ,sum(totalpremium)/count(distinct policy.policynumber) AS ntu_policy_average_premium\n",
    "from policy,productsetup\n",
    "where policy.status='Not Taken Up'\n",
    "and policy.policytransactionid = (SELECT p.policytransactionid\n",
    "\t\t\t\t\t\t\t\t  FROM policy p\n",
    "\t\t\t\t\t\t\t\t  WHERE p.policynumber=policy.policynumber\n",
    "\t\t\t\t\t\t\t\t  AND DATE(p.updateddate) BETWEEN '{year}/{month}/01' AND '{year}/{month}/{ldm}'\n",
    "\t\t\t\t\t\t\t\t  ORDER by p.updateddate DESC\n",
    "\t\t\t\t\t\t\t\t  LIMIT 1)\n",
    "  group by `umaproductsetupid`,`grouptype`,`period`\n",
    "  \"\"\".format(year=year,month=month, ldm=ldm,y=y,m=m,d=d)"
   ]
  },
  {
   "cell_type": "code",
   "execution_count": null,
   "metadata": {},
   "outputs": [],
   "source": [
    "def ntu_query_fn(iterate_months):\n",
    "    union_str=' UNION '\n",
    "    sqlquery=''\n",
    "    for iterate_month in iterate_months:\n",
    "#         print(iterate_month)\n",
    "        new_policies_query=ntu_fn(iterate_month)\n",
    "        if iterate_month!=iterate_months[-1]:\n",
    "            sqlquery=sqlquery+new_policies_query+union_str\n",
    "        else:\n",
    "            sqlquery=sqlquery+new_policies_query\n",
    "    return sqlquery"
   ]
  },
  {
   "cell_type": "code",
   "execution_count": null,
   "metadata": {},
   "outputs": [],
   "source": [
    "# print(cancellations_query_fn(iterate_months))\n",
    "spam=pyperclip.copy(ntu_query_fn(iterate_months))"
   ]
  },
  {
   "cell_type": "markdown",
   "metadata": {},
   "source": [
    "## Claims"
   ]
  },
  {
   "cell_type": "markdown",
   "metadata": {},
   "source": [
    "#### under claims, four queries are calculated:\n",
    "1. claims received\n",
    "    - claims_received_count\n",
    "    - claims_received_value\n",
    "    - claims_received_average_value\n",
    "2. repudiated claims\n",
    "3. outstanding claims"
   ]
  },
  {
   "cell_type": "markdown",
   "metadata": {},
   "source": [
    "### claims recieved\n",
    "#### claims_recieved_20210308"
   ]
  },
  {
   "cell_type": "code",
   "execution_count": null,
   "metadata": {},
   "outputs": [],
   "source": [
    "def claims_received_fn(iterate_periods):\n",
    "    start_month=str(min(iterate_periods).month).zfill(2)\n",
    "    start_year=str(min(iterate_periods).year).zfill(4)\n",
    "    end_month=str(max(iterate_periods).month).zfill(2)\n",
    "    end_year=str(max(iterate_periods).year).zfill(4)\n",
    "    end_day=str(calendar.monthrange(max(iterate_periods).year, max(iterate_periods).month)[1]).zfill(2)\n",
    "    today = datetime.today()\n",
    "    today_day=str(today.day).zfill(2)\n",
    "#     m=str(today.month).zfill(2)\n",
    "#     m = calendar.month_name[today.month]\n",
    "    today_month=str(today.month).zfill(2)\n",
    "    today_year=str(today.year).zfill(4) \n",
    "    return \"\"\"SELECT left(DATE_FORMAT(claim.updateddate,'%Y-%m-%d'),7) AS `period`\n",
    "    ,'{today_year}{today_month}{today_day}' AS `operation`\n",
    "    ,policy.umaproductsetupid AS `umaproductsetupid`\n",
    "    ,productsetup.productsetupname AS `product`\n",
    "    ,claim.umaid AS `umaid`\n",
    "    ,IF (policy.policygroupholdingsid ='' OR \n",
    "        (SELECT policygroupholdings.policygroupholdingsname            \n",
    "        FROM policygroupholdings            \n",
    "        WHERE policygroupholdings.policygroupholdingsid=policy.policygroupholdingsid AND \n",
    "        policygroupholdings.currenthistoryflag=CONCAT('C','URRENT')\n",
    "        ) LIKE '%indiv%' \n",
    "        OR \n",
    "        (SELECT policygroupholdings.policygroupholdingsname \n",
    "        FROM policygroupholdings \n",
    "        WHERE policygroupholdings.policygroupholdingsid=policy.policygroupholdingsid AND \n",
    "        policygroupholdings.currenthistoryflag=CONCAT('C','URRENT')\n",
    "        ) LIKE '%Private%','Individual','Corporate') AS `grouptype`\n",
    "    ,COUNT(DISTINCT claim.claimnumber) AS `claims_received_count`\n",
    "    ,SUM(claim.reserve) AS `claims_received_value`\n",
    "    ,SUM(claim.reserve)/COUNT(DISTINCT claim.claimnumber) AS `claims_received_average_value`\n",
    "    from claim,policy,policygroup,client,policygroupholdings,claiminsureditem,productsetup\n",
    "    where 1=1\n",
    "    AND DATE_FORMAT(claim.updateddate,'%Y/%m/%d') BETWEEN '{start_year}/{start_month}/01' AND '{end_year}/{end_month}/{end_day}'\n",
    "    group by `period`,`product`,`umaid`,`grouptype`\n",
    "    UNION\n",
    "    SELECT left(claim.updateddate,7) AS `period` \n",
    "    ,'claims_received_{today_year}{today_month}{today_day}' AS `operation`\n",
    "    ,policy.umaproductsetupid AS `umaproductsetupid`\n",
    "    ,productsetup.productsetupname AS `product`\n",
    "    ,claim.umaid AS `umaid`\n",
    "    ,'Individual plus Corporate' AS `grouptype`\n",
    "    ,COUNT(DISTINCT claim.claimnumber) AS `claims_received_count`\n",
    "    ,SUM(claim.reserve) AS `claims_received_value`\n",
    "    ,SUM(claim.reserve)/COUNT(DISTINCT claim.claimnumber) AS `claims_received_average_value`\n",
    "    from claim,policy,policygroup,client,policygroupholdings,claiminsureditem,productsetup\n",
    "    where 1=1\n",
    "    AND DATE_FORMAT(claim.updateddate,'%Y/%m/%d') BETWEEN '{start_year}/{start_month}/01' AND '{end_year}/{end_month}/{end_day}'\n",
    "    group by `period`,`product`,`umaid`,`grouptype`\n",
    "  \"\"\".format(start_year=start_year,\n",
    "             start_month=start_month, \n",
    "             end_year=end_year,\n",
    "             end_month=end_month,\n",
    "             end_day=end_day,\n",
    "             today_year=today_year,\n",
    "             today_month=today_month,\n",
    "             today_day=today_day)"
   ]
  },
  {
   "cell_type": "code",
   "execution_count": null,
   "metadata": {},
   "outputs": [],
   "source": [
    "spam=pyperclip.copy(claims_received_fn(iterate_months))"
   ]
  },
  {
   "cell_type": "markdown",
   "metadata": {},
   "source": [
    "### repudiated claims"
   ]
  },
  {
   "cell_type": "markdown",
   "metadata": {},
   "source": [
    "repudiated_claims_20210308\n",
    "\n",
    "1. claims_rejected_count\n",
    "2. claims_rejected_value\n",
    "3. claims_rejected_average_value"
   ]
  },
  {
   "cell_type": "code",
   "execution_count": null,
   "metadata": {},
   "outputs": [],
   "source": [
    "def repudiated_cliams_fn(iterate_periods):\n",
    "    start_month=str(min(iterate_periods).month).zfill(2)\n",
    "    start_year=str(min(iterate_periods).year).zfill(4)\n",
    "    end_month=str(max(iterate_periods).month).zfill(2)\n",
    "    end_year=str(max(iterate_periods).year).zfill(4)\n",
    "    end_day=str(calendar.monthrange(max(iterate_periods).year, max(iterate_periods).month)[1]).zfill(2)\n",
    "    today = datetime.today()\n",
    "    today_day=str(today.day).zfill(2)\n",
    "#     m=str(today.month).zfill(2)\n",
    "#     m = calendar.month_name[today.month]\n",
    "    today_month=str(today.month).zfill(2)\n",
    "    today_year=str(today.year).zfill(4) \n",
    "    return \"\"\"\n",
    "            SELECT left(DATE_FORMAT(claim.updateddate,'%Y-%m-%d'),7) AS `period`\n",
    "            ,'{today_year}{today_month}{today_day}' AS `operation`             \n",
    "            ,policy.umaproductsetupid AS `umaproductsetupid`\n",
    "            ,productsetup.productsetupname AS `product`\n",
    "            ,claim.umaid AS `umaid`\n",
    "            ,IF (policy.policygroupholdingsid ='' OR \n",
    "                (SELECT policygroupholdings.policygroupholdingsname            \n",
    "                FROM policygroupholdings            \n",
    "                WHERE policygroupholdings.policygroupholdingsid=policy.policygroupholdingsid AND \n",
    "                policygroupholdings.currenthistoryflag=CONCAT('C','URRENT')\n",
    "                ) LIKE '%indiv%' \n",
    "                OR \n",
    "                (SELECT policygroupholdings.policygroupholdingsname \n",
    "                FROM policygroupholdings \n",
    "                WHERE policygroupholdings.policygroupholdingsid=policy.policygroupholdingsid AND \n",
    "                policygroupholdings.currenthistoryflag=CONCAT('C','URRENT')\n",
    "                ) LIKE '%Private%','Individual','Corporate') AS `grouptype`\n",
    "            ,COUNT(DISTINCT claim.claimnumber) AS `claims_rejected_count`\n",
    "            ,SUM(claim.reserve) AS `claims_rejected_value`\n",
    "            ,SUM(claim.reserve)/COUNT(DISTINCT claim.claimnumber) AS `claims_rejected_average_value`\n",
    "            from claim,policy,policygroup,client,policygroupholdings,claiminsureditem,productsetup\n",
    "            where 1=1 AND\n",
    "            DATE_FORMAT(claim.updateddate,'%Y/%m/%d') BETWEEN '{start_year}/{start_month}/01' AND '{end_year}/{end_month}/{end_day}' AND\n",
    "            claim.decisionstatus='Reject'\n",
    "            group by `period`,`product`,`umaid`,`grouptype`\n",
    "            UNION\n",
    "            SELECT left(claim.updateddate,7) AS `period`\n",
    "            ,'repudiated_claims_{today_year}{today_month}{today_day}' AS `operation`             \n",
    "            ,policy.umaproductsetupid AS `umaproductsetupid`\n",
    "            ,productsetup.productsetupname AS `product`\n",
    "            ,claim.umaid AS `umaid`\n",
    "            ,'Individual plus Corporate' AS `grouptype`\n",
    "            ,COUNT(DISTINCT claim.claimnumber) AS `claims_rejected_count`\n",
    "            ,SUM(claim.reserve) AS `claims_rejected_value`\n",
    "            ,SUM(claim.reserve)/COUNT(DISTINCT claim.claimnumber) AS `claims_rejected_average_value`\n",
    "            from claim,policy,policygroup,client,policygroupholdings,claiminsureditem,productsetup\n",
    "            where 1=1 AND\n",
    "            DATE_FORMAT(claim.updateddate,'%Y/%m/%d') BETWEEN '{start_year}/{start_month}/01' AND '{end_year}/{end_month}/{end_day}' AND\n",
    "            claim.decisionstatus='Reject'\n",
    "            group by `period`,`product`,`umaid`,`grouptype`\n",
    "            \n",
    "  \"\"\".format(start_year=start_year,\n",
    "             start_month=start_month, \n",
    "             end_year=end_year,\n",
    "             end_month=end_month,\n",
    "             end_day=end_day,\n",
    "             today_year=today_year,\n",
    "             today_month=today_month,\n",
    "             today_day=today_day)"
   ]
  },
  {
   "cell_type": "code",
   "execution_count": null,
   "metadata": {},
   "outputs": [],
   "source": [
    "spam=pyperclip.copy(repudiated_cliams_fn(iterate_months))"
   ]
  },
  {
   "cell_type": "markdown",
   "metadata": {},
   "source": [
    "### outstanding claims"
   ]
  },
  {
   "cell_type": "markdown",
   "metadata": {},
   "source": [
    "#### Outstanding_claims_20210308"
   ]
  },
  {
   "cell_type": "code",
   "execution_count": null,
   "metadata": {},
   "outputs": [],
   "source": [
    "def outstanding_claims_fn(iterate_periods):\n",
    "    start_month=str(min(iterate_periods).month).zfill(2)\n",
    "    start_year=str(min(iterate_periods).year).zfill(4)\n",
    "    end_month=str(max(iterate_periods).month).zfill(2)\n",
    "    end_year=str(max(iterate_periods).year).zfill(4)\n",
    "    end_day=str(calendar.monthrange(max(iterate_periods).year, max(iterate_periods).month)[1]).zfill(2)\n",
    "    today = datetime.today()\n",
    "    today_day=str(today.day).zfill(2)\n",
    "#     m=str(today.month).zfill(2)\n",
    "#     m = calendar.month_name[today.month]\n",
    "    today_month=str(today.month).zfill(2)\n",
    "    today_year=str(today.year).zfill(4) \n",
    "    return \"\"\"\n",
    "        SELECT left(claim.updateddate,7) AS `period`\n",
    "        ,'outstanding_claims_{today_year}{today_month}{today_day}' AS `operation`         \n",
    "        ,policy.umaproductsetupid AS `umaproductsetupid`\n",
    "        ,productsetup.productsetupname AS `product`\n",
    "        ,claim.umaid AS `umaid`\n",
    "        ,IF (policy.policygroupholdingsid ='' OR \n",
    "            (SELECT policygroupholdings.policygroupholdingsname            \n",
    "            FROM policygroupholdings            \n",
    "            WHERE policygroupholdings.policygroupholdingsid=policy.policygroupholdingsid AND \n",
    "            policygroupholdings.currenthistoryflag=CONCAT('C','URRENT')\n",
    "            ) LIKE '%indiv%' \n",
    "            OR \n",
    "            (SELECT policygroupholdings.policygroupholdingsname \n",
    "            FROM policygroupholdings \n",
    "            WHERE policygroupholdings.policygroupholdingsid=policy.policygroupholdingsid AND \n",
    "            policygroupholdings.currenthistoryflag=CONCAT('C','URRENT')\n",
    "            ) LIKE '%Private%','Individual','Corporate') AS `grouptype`\n",
    "        ,COUNT(DISTINCT claim.claimnumber) AS `claims_outstanding_count`\n",
    "        ,SUM(claiminsureditem.reserve) AS `claims_outstanding_value`\n",
    "        ,SUM(claiminsureditem.reserve)/COUNT(DISTINCT claim.claimnumber) AS `claims_outstanding_average_value`\n",
    "        from claim,policy,policygroup,client,policygroupholdings,claiminsureditem,productsetup\n",
    "        where 1=1 AND\n",
    "        DATE_FORMAT(claim.updateddate,'%Y/%m/%d') BETWEEN '{start_year}/{start_month}/01' AND '{end_year}/{end_month}/{end_day}' AND\n",
    "        claim.manualstatus='Outstanding docs received - sent to processing'\n",
    "        GROUP BY `period`,`product`,`umaid`,`grouptype`\n",
    "        UNION\n",
    "        SELECT left(claim.updateddate,7) AS `period`\n",
    "        ,'outstanding_claims_{today_year}{today_month}{today_day}' AS `operation`         \n",
    "        ,policy.umaproductsetupid AS `umaproductsetupid`\n",
    "        ,productsetup.productsetupname AS `product`\n",
    "        ,claim.umaid AS `umaid`\n",
    "        ,'Individual plus Corporate' AS `grouptype`\n",
    "        ,COUNT(DISTINCT claim.claimnumber) AS `claims_outstanding_count`\n",
    "        ,SUM(claiminsureditem.reserve) AS `claims_outstanding_value`\n",
    "        ,SUM(claiminsureditem.reserve)/COUNT(DISTINCT claim.claimnumber) AS `claims_outstanding_average_value`\n",
    "        from claim,policy,policygroup,client,policygroupholdings,claiminsureditem,productsetup\n",
    "        where 1=1 AND\n",
    "        DATE_FORMAT(claim.updateddate,'%Y/%m/%d') BETWEEN '{start_year}/{start_month}/01' AND '{end_year}/{end_month}/{end_day}' AND\n",
    "        claim.manualstatus='Outstanding docs received - sent to processing'\n",
    "        GROUP BY `period`,`product`,`umaid`,`grouptype`\n",
    "        \n",
    "  \"\"\".format(start_year=start_year,\n",
    "             start_month=start_month, \n",
    "             end_year=end_year,\n",
    "             end_month=end_month,\n",
    "             end_day=end_day,\n",
    "             today_year=today_year,\n",
    "             today_month=today_month,\n",
    "             today_day=today_day)"
   ]
  },
  {
   "cell_type": "code",
   "execution_count": null,
   "metadata": {},
   "outputs": [],
   "source": [
    "spam=pyperclip.copy(outstanding_claims_fn(iterate_months))"
   ]
  },
  {
   "cell_type": "markdown",
   "metadata": {},
   "source": [
    "### claims paid"
   ]
  },
  {
   "cell_type": "markdown",
   "metadata": {},
   "source": [
    "#### paid_claims_20210308"
   ]
  },
  {
   "cell_type": "code",
   "execution_count": null,
   "metadata": {},
   "outputs": [],
   "source": [
    "def paid_claims_fn(iterate_periods):\n",
    "    start_month=str(min(iterate_periods).month).zfill(2)\n",
    "    start_year=str(min(iterate_periods).year).zfill(4)\n",
    "    end_month=str(max(iterate_periods).month).zfill(2)\n",
    "    end_year=str(max(iterate_periods).year).zfill(4)\n",
    "    end_day=str(calendar.monthrange(max(iterate_periods).year, max(iterate_periods).month)[1]).zfill(2)\n",
    "    today = datetime.today()\n",
    "    today_day=str(today.day).zfill(2)\n",
    "#     m=str(today.month).zfill(2)\n",
    "#     m = calendar.month_name[today.month]\n",
    "    today_month=str(today.month).zfill(2)\n",
    "    today_year=str(today.year).zfill(4) \n",
    "    return \"\"\"\n",
    "        select left(DATE_FORMAT(claim.updateddate,'%Y-%m-%d'),7) AS `period`\n",
    "        ,'{today_year}{today_month}{today_day}' AS `operation`              \n",
    "        ,policy.umaproductsetupid AS `umaproductsetupid`\n",
    "        ,productsetup.productsetupname AS `product`\n",
    "        ,claim.umaid AS `umaid`\n",
    "        ,IF (policy.policygroupholdingsid ='' OR \n",
    "            (SELECT policygroupholdings.policygroupholdingsname            \n",
    "            FROM policygroupholdings            \n",
    "            WHERE policygroupholdings.policygroupholdingsid=policy.policygroupholdingsid AND \n",
    "            policygroupholdings.currenthistoryflag=CONCAT('C','URRENT')\n",
    "            ) LIKE '%indiv%' \n",
    "            OR \n",
    "            (SELECT policygroupholdings.policygroupholdingsname \n",
    "            FROM policygroupholdings \n",
    "            WHERE policygroupholdings.policygroupholdingsid=policy.policygroupholdingsid AND \n",
    "            policygroupholdings.currenthistoryflag=CONCAT('C','URRENT')\n",
    "            ) LIKE '%Private%','Individual','Corporate') AS `grouptype`\n",
    "        ,MAX(claim.payout) AS `claims_paid_maximum`\n",
    "        ,COUNT(DISTINCT claim.claimnumber) AS `claims_paid_count`\n",
    "        ,SUM(claim.payout) AS `claims_paid_amount`        \n",
    "        ,SUM(claim.reserve) AS `claims_paid_reserve`\n",
    "        ,SUM(claiminsureditem.reserve) AS `claims_paid_claiminsureditem_reserve`\n",
    "        from claim,policy,policygroup,client,policygroupholdings,claiminsureditem,productsetup\n",
    "        where 1=1 AND\n",
    "        DATE_FORMAT(claim.updateddate,'%Y/%m/%d') BETWEEN '{start_year}/{start_month}/01' AND '{end_year}/{end_month}/{end_day}' AND\n",
    "        claim.decisionstatus='Approve, Pay Now'\n",
    "        group by `period`,`product`,`umaid`,`grouptype`\n",
    "        \n",
    "  \"\"\".format(start_year=start_year,\n",
    "             start_month=start_month, \n",
    "             end_year=end_year,\n",
    "             end_month=end_month,\n",
    "             end_day=end_day,\n",
    "             today_year=today_year,\n",
    "             today_month=today_month,\n",
    "             today_day=today_day)"
   ]
  },
  {
   "cell_type": "code",
   "execution_count": null,
   "metadata": {},
   "outputs": [],
   "source": [
    "spam=pyperclip.copy(paid_claims_fn(iterate_months))"
   ]
  },
  {
   "cell_type": "markdown",
   "metadata": {},
   "source": [
    "#### Create Product List"
   ]
  },
  {
   "cell_type": "code",
   "execution_count": null,
   "metadata": {},
   "outputs": [],
   "source": [
    "claims_received_query=claims_received_fn(iterate_months)\n",
    "repudiated_cliams_query=repudiated_cliams_fn(iterate_months)"
   ]
  },
  {
   "cell_type": "code",
   "execution_count": null,
   "metadata": {},
   "outputs": [],
   "source": [
    "spam=pyperclip.copy(repudiated_cliams_query)"
   ]
  },
  {
   "cell_type": "code",
   "execution_count": null,
   "metadata": {},
   "outputs": [],
   "source": [
    "# period,\n",
    "# operation\n",
    "# umaproductsetupid\n",
    "# product\n",
    "# umaid"
   ]
  },
  {
   "cell_type": "code",
   "execution_count": null,
   "metadata": {},
   "outputs": [],
   "source": [
    "sqlquery=\"\"\"\n",
    "SELECT claims_received.* FROM \n",
    "    (\n",
    "        {claims_received_query}\n",
    "    ) AS claims_received\n",
    "INNER JOIN \n",
    "    (\n",
    "        {repudiated_cliams_query}\n",
    "    ) AS repudiated_cliams\n",
    "ON \n",
    "claims_received.period = repudiated_cliams.period AND\n",
    "claims_received.umaproductsetupid = repudiated_cliams.umaproductsetupid AND\n",
    "claims_received.product = repudiated_cliams.product AND\n",
    "claims_received.umaid = repudiated_cliams.umaid\n",
    "claims_received.operation = repudiated_cliams.operation\n",
    "\"\"\".format(claims_received_query=claims_received_query,\n",
    "           repudiated_cliams_query=repudiated_cliams_query)"
   ]
  },
  {
   "cell_type": "code",
   "execution_count": null,
   "metadata": {},
   "outputs": [],
   "source": [
    "spam=pyperclip.copy(sqlquery)"
   ]
  },
  {
   "cell_type": "code",
   "execution_count": null,
   "metadata": {},
   "outputs": [],
   "source": [
    "f=~owls_terminations_df['productsetup_productsetupname'].isna()\n",
    "product_list=list(set(owls_terminations_df[f]['productsetup_productsetupname']))"
   ]
  },
  {
   "cell_type": "code",
   "execution_count": null,
   "metadata": {},
   "outputs": [],
   "source": [
    "members_live_filter=(owls_members_df['policy_status']=='Live')\n",
    "ntu_filter=owls_terminations_df['policy_status']=='Not Taken Up'\n",
    "cancelations_filter=owls_terminations_df['policy_status']=='Cancelled'\n",
    "# owls_members_live_filter=owls_members_df['policy_status']=='Live'\n",
    "# Received_Claims! 𝐾: K,\"Reject\"\n",
    "# Received_Claims!$K:$K,\"Approve, Pay now\")"
   ]
  },
  {
   "cell_type": "code",
   "execution_count": null,
   "metadata": {},
   "outputs": [],
   "source": [
    "# owls_received_claims_df[outstanding_claims_filter]"
   ]
  },
  {
   "cell_type": "markdown",
   "metadata": {},
   "source": [
    "### Corporate Individual Split"
   ]
  },
  {
   "cell_type": "code",
   "execution_count": null,
   "metadata": {},
   "outputs": [],
   "source": [
    "# owls_members_df['policy_paymentmethod']\n",
    "owls_members_df=owls_members_df[['policy_policynumber','policygroup_policygroupname','policy_paymentmethod','policy_grosspremium','policy_status','policy_totalpremium','productsetup_productsetupname','policy_inceptiondate']].copy()\n",
    "owls_terminations_df=owls_terminations_df[['policy_policynumber','policy_paymentmethod','policy_totalpremium','productsetup_productsetupname','policy_inceptiondate','policy_cancellationdate']].copy()\n",
    "owls_received_claims_df=owls_received_claims_df[['Claim Number','Total Payments','Notification Date','productsetupname','som_notification_date','Original Reserve','notification_date','Progress','Status']].copy()"
   ]
  },
  {
   "cell_type": "code",
   "execution_count": null,
   "metadata": {},
   "outputs": [],
   "source": [
    "owls_members_df['corporate_individual']=''\n",
    "f=owls_members_df['policy_paymentmethod']=='Debit'\n",
    "g=(owls_members_df['policy_paymentmethod']!='Debit')&(owls_members_df['policy_paymentmethod']!='')\n",
    "owls_members_df.loc[f, 'corporate_individual_split']=owls_members_df['productsetup_productsetupname'] + ' - Individual'\n",
    "owls_members_df.loc[g, 'corporate_individual_split']=owls_members_df['productsetup_productsetupname'] + ' - Corporate'"
   ]
  },
  {
   "cell_type": "code",
   "execution_count": null,
   "metadata": {},
   "outputs": [],
   "source": [
    "owls_terminations_df['corporate_individual']=''\n",
    "f=owls_terminations_df['policy_paymentmethod']=='Debit'\n",
    "g=(owls_terminations_df['policy_paymentmethod']!='Debit')&(owls_terminations_df['policy_paymentmethod']!='')\n",
    "owls_terminations_df.loc[f, 'corporate_individual_split']=owls_terminations_df['productsetup_productsetupname'] + ' - Individual'\n",
    "owls_terminations_df.loc[g, 'corporate_individual_split']=owls_terminations_df['productsetup_productsetupname'] + ' - Corporate'"
   ]
  },
  {
   "cell_type": "code",
   "execution_count": null,
   "metadata": {},
   "outputs": [],
   "source": [
    "owls_received_claims_df[['policy_policynumber_a','policy_policynumber_b']]=owls_received_claims_df['Claim Number'].str.split(\"/\",expand = True)\n",
    "owls_received_claims_df.policy_policynumber_a = owls_received_claims_df.policy_policynumber_a.str.strip()\n",
    "df1=owls_received_claims_df.merge(owls_members_df[['policy_policynumber','corporate_individual_split']], left_on= 'policy_policynumber_a', right_on='policy_policynumber', how='inner')\n",
    "df2=owls_received_claims_df.merge(owls_terminations_df[['policy_policynumber','corporate_individual_split']], left_on= 'policy_policynumber_a', right_on='policy_policynumber', how='inner')\n",
    "gf=df1.append(df2, ignore_index = True) "
   ]
  },
  {
   "cell_type": "code",
   "execution_count": null,
   "metadata": {},
   "outputs": [],
   "source": [
    "owls_received_claims_df=gf.copy()\n",
    "pay_now_filter=owls_received_claims_df['Progress']=='Approve, Pay Now'\n",
    "reject_claims_filter=owls_received_claims_df['Progress']=='Reject'\n",
    "outstanding_claims_filter=owls_received_claims_df['Status']=='Outstanding docs received - sent to processing'"
   ]
  },
  {
   "cell_type": "code",
   "execution_count": null,
   "metadata": {},
   "outputs": [],
   "source": [
    "product_list=list(set(owls_members_df['corporate_individual_split']))"
   ]
  },
  {
   "cell_type": "code",
   "execution_count": null,
   "metadata": {},
   "outputs": [],
   "source": [
    "product_list = [x for x in product_list if str(x) != 'nan']"
   ]
  },
  {
   "cell_type": "code",
   "execution_count": null,
   "metadata": {},
   "outputs": [],
   "source": [
    "product_list"
   ]
  },
  {
   "cell_type": "markdown",
   "metadata": {},
   "source": [
    "### Kaelo Gap"
   ]
  },
  {
   "cell_type": "code",
   "execution_count": null,
   "metadata": {},
   "outputs": [],
   "source": [
    "owls_terminations_temp_df=owls_terminations_df.copy()"
   ]
  },
  {
   "cell_type": "code",
   "execution_count": null,
   "metadata": {},
   "outputs": [],
   "source": [
    "product='Sanlam Gap - Individual'"
   ]
  },
  {
   "cell_type": "code",
   "execution_count": null,
   "metadata": {},
   "outputs": [],
   "source": [
    "max_date=max([owls_members_df['policy_inceptiondate'].max(),owls_terminations_df['policy_inceptiondate'].max(),owls_terminations_df['policy_cancellationdate'].max()])\n",
    "# policy_inceptiondate,policy_cancellationdate"
   ]
  },
  {
   "cell_type": "code",
   "execution_count": null,
   "metadata": {},
   "outputs": [],
   "source": [
    "owls_members_df=owls_members_df[['policy_policynumber','policy_grosspremium','policy_status','policy_totalpremium','productsetup_productsetupname','policy_inceptiondate','corporate_individual_split']].copy()\n",
    "owls_terminations_df=owls_terminations_df[['policy_totalpremium','productsetup_productsetupname','policy_inceptiondate','policy_cancellationdate','corporate_individual_split']].copy()\n",
    "owls_received_claims_df=owls_received_claims_df[['Total Payments','Notification Date','productsetupname','som_notification_date','Original Reserve','notification_date','corporate_individual_split']].copy()"
   ]
  },
  {
   "cell_type": "code",
   "execution_count": null,
   "metadata": {},
   "outputs": [],
   "source": [
    "terminations_product_filter=owls_terminations_df['corporate_individual_split']==product\n",
    "members_product_filter=(owls_members_df['corporate_individual_split']==product)\n",
    "claims_received_product_filter=(owls_received_claims_df['corporate_individual_split']==product)\n",
    "# product_filter=(owls_members_df['productsetup_productsetupname']==product)\n",
    "# live_filter=(owls_members_df['policy_status']=='Live')"
   ]
  },
  {
   "cell_type": "markdown",
   "metadata": {},
   "source": [
    "Count live policies and calculate gross premium:"
   ]
  },
  {
   "cell_type": "code",
   "execution_count": null,
   "metadata": {},
   "outputs": [],
   "source": [
    "live_df=owls_members_df[members_live_filter&members_product_filter]\n",
    "slice_saver(identifier_name=\"live_policies\", dataframe=live_df, save_path=slices_path, datafile_name=owls_members, product_name=product)\n",
    "\n",
    "live_policies=live_df.shape[0]\n",
    "live_df=owls_members_df[members_live_filter&members_product_filter]\n",
    "live_policies_grosspremium=live_df['policy_totalpremium'].sum()"
   ]
  },
  {
   "cell_type": "markdown",
   "metadata": {},
   "source": [
    "Active Policies"
   ]
  },
  {
   "cell_type": "markdown",
   "metadata": {},
   "source": [
    "There are three components to counting policies.\n",
    " - count only active policies\n",
    " \n"
   ]
  },
  {
   "cell_type": "markdown",
   "metadata": {},
   "source": [
    " - COUNTIFS(Active_Listing_Raw!$I:$I,\"Live\",Active_Listing_Raw!$D:$D,Summary!$C$2)- \n",
    " - COUNTIFS(Active_Listing_Raw!$G:$G,\">\"&Summary!AC5,Active_Listing_Raw!$D:$D,Summary!$C$2)+\n",
    " - COUNTIFS(Terminations_Raw!$AF:$AF,\">\"&Summary!AD5, #\n",
    " - Terminations_Raw!$AG:$AG,\">\"&Summary!AB5,Terminations_Raw!$D:$D,Summary!$C$2)"
   ]
  },
  {
   "cell_type": "code",
   "execution_count": null,
   "metadata": {},
   "outputs": [],
   "source": [
    "print('COUNTIFS(Terminations_Raw!$AF:$AF,\"<\"&Summary!AD5,Terminations_Raw!$AG:$AG,\">\"&Summary!AB5,Active_Listing_Raw!$D:$D,Summary!$C$2)')"
   ]
  },
  {
   "cell_type": "markdown",
   "metadata": {},
   "source": [
    " - Terminations_Raw!$AF:$AF,\"<\"&Summary!AD5 : all policies with inception date () __BEFORE__ the start of the next month __and__\n",
    " - Terminations_Raw!$AG:$AG,\">\"&Summary!AB5 : all policies with termination date __AFTER__ the start of the previous month __and__\n",
    " - Active_Listing_Raw!$D:$D,Summary!$C$2 : policies of this product"
   ]
  },
  {
   "cell_type": "markdown",
   "metadata": {},
   "source": [
    "### Active Policies"
   ]
  },
  {
   "cell_type": "markdown",
   "metadata": {},
   "source": [
    "***\n",
    "The number of __Active policies__ contain three items. For those policies of the specified product:\n",
    " - __Live Policies__: Count \"live\" policies only, that is where policy_status='live', this covers all data. This number is constant for all periods as it is only calculated on the latest complete data set and is not done on a by period basis.  To calculate for a particular period the dataset adjusted by doing the following:\n",
    " - __New Inactive Policies__: (Subtract) all policies that have inception date from the next period onwards.\n",
    " - __Active Terminated Policies__: (Add back) all __terminated__ policies that had inception date (policy_inceptiondate) __BEFORE__ the start of the next period and where the termination date (policy_cancellationdate) is __AFTER__ the start of the previous period\n",
    " - The previous period __New Inactive Policies__ MINUS the currrent period __New Inactive Policies__ yield the current period __New Policies__."
   ]
  },
  {
   "cell_type": "code",
   "execution_count": null,
   "metadata": {},
   "outputs": [],
   "source": [
    "\n",
    "# date_filter=owls_members_df['policy_inceptiondate']>datelist[-3]"
   ]
  },
  {
   "cell_type": "code",
   "execution_count": null,
   "metadata": {},
   "outputs": [],
   "source": [
    "# terminations_policy_inceptiondate_filter=owls_terminations_df['policy_inceptiondate']<iterate_months[i+1]"
   ]
  },
  {
   "cell_type": "code",
   "execution_count": null,
   "metadata": {},
   "outputs": [],
   "source": []
  },
  {
   "cell_type": "code",
   "execution_count": null,
   "metadata": {},
   "outputs": [],
   "source": [
    "# s=owls_members.split(\"_\")[1].split(\".\")[0]\n",
    "# filename=\"cbr\"+'_'+product+\"_\"+s+\".csv\"\n",
    "# df.to_csv(path_or_buf=save_path+datafile_name, sep=',', index=True)"
   ]
  },
  {
   "cell_type": "markdown",
   "metadata": {},
   "source": [
    "s=owls_members.split(\"_\")[1].split(\".\")[0]\n",
    "filename=\"cbr\"+'_'+product+\"_\"+s+\".csv\"\n",
    "df.to_csv(path_or_buf=slices_path+filename, sep=',', index=True)"
   ]
  },
  {
   "cell_type": "code",
   "execution_count": null,
   "metadata": {},
   "outputs": [],
   "source": [
    "iterate_months"
   ]
  },
  {
   "cell_type": "code",
   "execution_count": null,
   "metadata": {},
   "outputs": [],
   "source": [
    "# set(owls_members_df['policy_inceptiondate'])"
   ]
  },
  {
   "cell_type": "code",
   "execution_count": null,
   "metadata": {},
   "outputs": [],
   "source": [
    "set(owls_members_df['policy_inceptiondate'])"
   ]
  },
  {
   "cell_type": "code",
   "execution_count": null,
   "metadata": {},
   "outputs": [],
   "source": [
    "owls_members_df[owls_members_df['policy_inceptiondate']==iterate_months[-1]]"
   ]
  },
  {
   "cell_type": "code",
   "execution_count": null,
   "metadata": {},
   "outputs": [],
   "source": [
    "iterate_months"
   ]
  },
  {
   "cell_type": "code",
   "execution_count": null,
   "metadata": {},
   "outputs": [],
   "source": [
    "# terminations_product_filter=owls_terminations_df['productsetup_productsetupname']==product\n",
    "live_policies_list=[]\n",
    "new_inactive_policies_liast=[]\n",
    "active_policies_list=[]\n",
    "valid_terminations_list=[]\n",
    "for i in range(1,len(iterate_months)-1):\n",
    "    print(i,iterate_months[i])\n",
    "\n",
    "    members_date_filter=owls_members_df['policy_inceptiondate']>iterate_months[i]\n",
    "    new_policies_df=owls_members_df[members_date_filter&members_product_filter]\n",
    "    slice_saver(identifier_name=\"subsequent_new_policies\", dataframe=new_policies_df, save_path=slices_path, datafile_name=owls_members, product_name=product)\n",
    "    \n",
    "    new_inactive_policies=new_policies_df.shape[0]\n",
    "    terminations_policy_inceptiondate_filter=owls_terminations_df['policy_inceptiondate']<=max_date #iterate_months[i+1]\n",
    "    terminations_policy_cancellationdate_filter=owls_terminations_df['policy_cancellationdate']>iterate_months[i-1]\n",
    "    valid_terminations_filter=(terminations_policy_inceptiondate_filter&terminations_policy_cancellationdate_filter&terminations_product_filter)\n",
    "    valid_terminations_df=owls_terminations_df[valid_terminations_filter]\n",
    "    slice_saver(identifier_name=\"valid_terminations\", dataframe=valid_terminations_df, save_path=slices_path, datafile_name=owls_members, product_name=product)\n",
    "    \n",
    "    valid_terminations=valid_terminations_df.shape[0]\n",
    "    active_policies=live_policies-new_inactive_policies+valid_terminations    \n",
    "    print('i = ',i,'; month: ', iterate_months[i],owls_terminations_df[terminations_policy_cancellationdate_filter].shape[0],'; active_policies: ',active_policies,'; live_policies: ',live_policies,'; new_inactive_policies: ',new_inactive_policies, ' valid_terminations: ',valid_terminations)\n",
    "    live_policies_list.append(live_policies)\n",
    "    new_inactive_policies_list.append(new_inactive_policies)\n",
    "    valid_terminations_list.append(valid_terminations)\n",
    "    active_policies_list.append(active_policies)"
   ]
  },
  {
   "cell_type": "code",
   "execution_count": null,
   "metadata": {},
   "outputs": [],
   "source": [
    "active_policies_list"
   ]
  },
  {
   "cell_type": "markdown",
   "metadata": {},
   "source": [
    "### Gross Premium"
   ]
  },
  {
   "cell_type": "markdown",
   "metadata": {},
   "source": [
    " - COUNTIFS(Active_Listing_Raw!$I:$I,\"Live\",Active_Listing_Raw!$D:$D,Summary!$C$2)- \n",
    " - COUNTIFS(Active_Listing_Raw!$G:$G,\">\"&Summary!AC5,Active_Listing_Raw!$D:$D,Summary!$C$2)+\n",
    " - COUNTIFS(Terminations_Raw!$AF:$AF,\">\"&Summary!AD5, #\n",
    " - Terminations_Raw!$AG:$AG,\">\"&Summary!AB5,Terminations_Raw!$D:$D,Summary!$C$2)"
   ]
  },
  {
   "cell_type": "markdown",
   "metadata": {},
   "source": [
    " - SUMIFS(Active_Listing_Raw!$AE:$AE,Active_Listing_Raw!$I:$I,\"Live\",Active_Listing_Raw!$D:$D,Summary!$C$2)\n",
    " - SUMIFS(Active_Listing_Raw!$AE:$AE,Active_Listing_Raw!$G:$G,\">\"&Summary!X5,Active_Listing_Raw!$D:$D,Summary!$C$2)\n",
    " - SUMIFS(Terminations_Raw!$AD:$AD,Terminations_Raw!$AF:$AF,\"<\"&Summary!Z5,Terminations_Raw!$AG:$AG,\">\"&Summary!W5,Terminations_Raw!$D:$D,Summary!$C$2)"
   ]
  },
  {
   "cell_type": "markdown",
   "metadata": {},
   "source": [
    "__ Notice the descrepancy here.  In calculating the number of valid terminated policies the excel spreadsheet conditions on AF  being later than "
   ]
  },
  {
   "cell_type": "code",
   "execution_count": null,
   "metadata": {},
   "outputs": [],
   "source": [
    "live_policies_grosspremium_list=[]\n",
    "new_policies_grosspremium_list=[]\n",
    "active_grosspremium_list=[]\n",
    "valid_policies_grosspremium_list=[]\n",
    "for i in range(1,len(iterate_months)-1):\n",
    "    print(i,iterate_months[i])\n",
    "    member_date_filter=owls_members_df['policy_inceptiondate']>iterate_months[i]\n",
    "#   ----------------------------------------------------------------------------------------------------------------------------\n",
    "    new_policies_df=owls_members_df[member_date_filter&members_product_filter]\n",
    "    new_policies_grosspremium=new_policies_df['policy_totalpremium'].sum()\n",
    "#   ----------------------------------------------------------------------------------------------------------------------------\n",
    "    terminations_policy_inceptiondate_filter=owls_terminations_df['policy_inceptiondate']<=max_date#iterate_months[i+1]\n",
    "    terminations_policy_cancellationdate_filter=owls_terminations_df['policy_cancellationdate']>iterate_months[i-1]\n",
    "    valid_terminations_filter=(terminations_policy_inceptiondate_filter&terminations_policy_cancellationdate_filter&terminations_product_filter)\n",
    "    valid_terminations_df=owls_terminations_df[valid_terminations_filter]\n",
    "#     slice_saver(identifier_name=\"valid_terminations\", dataframe=new_policies_df, save_path=slices_path, datafile_name=owls_members, product_name=product)    \n",
    "    valid_policies_grosspremium=valid_terminations_df['policy_totalpremium'].sum()\n",
    "#   ----------------------------------------------------------------------------------------------------------------------------\n",
    "    active_policies_grosspremium=live_policies_grosspremium-new_policies_grosspremium+valid_policies_grosspremium    \n",
    "    print('i = ',i,'; month: ', iterate_months[i],'; iterate_months[i-1]: ',iterate_months[i-1],'; active_policies_grosspremium: ',active_policies_grosspremium,'; live_policies_grosspremium: ',live_policies_grosspremium,'; new_policies_grosspremium: ',new_policies_grosspremium, ' valid_policies_grosspremium: ',valid_policies_grosspremium)\n",
    "    live_policies_grosspremium_list.append(live_policies_grosspremium)\n",
    "    new_policies_grosspremium_list.append(new_policies_grosspremium)\n",
    "    valid_policies_grosspremium_list.append(valid_policies_grosspremium)\n",
    "    active_grosspremium_list.append(active_policies_grosspremium)"
   ]
  },
  {
   "cell_type": "code",
   "execution_count": null,
   "metadata": {},
   "outputs": [],
   "source": [
    "new_policies_df"
   ]
  },
  {
   "cell_type": "code",
   "execution_count": null,
   "metadata": {},
   "outputs": [],
   "source": [
    "product.lower().replace(\"-\",\"\").replace(\"  \",\" \").replace(\" \",\"_\")"
   ]
  },
  {
   "cell_type": "code",
   "execution_count": null,
   "metadata": {},
   "outputs": [],
   "source": [
    "# slice_saver(identifier_name=\"new_policies\", dataframe=new_policies_df, save_path=slices_path, datafile_name=owls_members, product_name=product)"
   ]
  },
  {
   "cell_type": "code",
   "execution_count": null,
   "metadata": {},
   "outputs": [],
   "source": [
    "# # terminations_product_filter=owls_terminations_df['productsetup_productsetupname']==product\n",
    "# live_policies_list=[]\n",
    "# new_policies_list=[]\n",
    "# active_policies_list=[]\n",
    "# valid_terminations_list=[]\n",
    "\n",
    "# live_policies_grosspremium_list=[]\n",
    "# new_policies_grosspremium_list=[]\n",
    "# active_grosspremium_list=[]\n",
    "# valid_policies_grosspremium_list=[]\n",
    "\n",
    "# for i in range(1,len(iterate_months)-1):\n",
    "#     print(i,iterate_months[i])\n",
    "\n",
    "#     members_date_filter=owls_members_df['policy_inceptiondate']>iterate_months[i]\n",
    "#     new_policies_df=owls_members_df[members_date_filter&members_product_filter]\n",
    "    \n",
    "#     new_policies=new_policies_df.shape[0]\n",
    "#     new_policies_grosspremium=new_policies_df['policy_totalpremium'].sum()\n",
    "    \n",
    "#     terminations_policy_inceptiondate_filter=owls_terminations_df['policy_inceptiondate']<iterate_months[i+1]\n",
    "#     terminations_policy_cancellationdate_filter=owls_terminations_df['policy_cancellationdate']>iterate_months[i-1]\n",
    "    \n",
    "#     valid_terminations_filter=(terminations_policy_inceptiondate_filter&terminations_policy_cancellationdate_filter&terminations_product_filter)\n",
    "#     valid_terminations_df=owls_terminations_df[valid_terminations_filter]\n",
    "    \n",
    "#     valid_terminations=valid_terminations_df.shape[0]\n",
    "#     valid_policies_grosspremium=valid_terminations_df['policy_totalpremium'].sum()\n",
    "    \n",
    "#     active_policies=live_policies-new_policies+valid_terminations \n",
    "#     active_policies_grosspremium=live_policies_grosspremium-new_policies_grosspremium+valid_policies_grosspremium    \n",
    "    \n",
    "#     live_policies_list.append(live_policies)\n",
    "#     new_policies_list.append(new_policies)\n",
    "#     valid_terminations_list.append(valid_terminations)\n",
    "#     active_policies_list.append(active_policies)\n",
    "    \n",
    "#     live_policies_grosspremium_list.append(live_policies_grosspremium)\n",
    "#     new_policies_grosspremium_list.append(new_policies_grosspremium)\n",
    "#     valid_policies_grosspremium_list.append(valid_policies_grosspremium)\n",
    "#     active_grosspremium_list.append(active_policies_grosspremium)    \n",
    "    \n",
    "#     print('i = ',i,'; month: ', iterate_months[i],owls_terminations_df[terminations_policy_cancellationdate_filter].shape[0],'; active_policies: ',active_policies,'; live_policies: ',live_policies,'; new_policies: ',new_policies, ' valid_terminations: ',valid_terminations)\n"
   ]
  },
  {
   "cell_type": "markdown",
   "metadata": {},
   "source": [
    "### New policies"
   ]
  },
  {
   "cell_type": "code",
   "execution_count": null,
   "metadata": {},
   "outputs": [],
   "source": [
    "# members_product_filter=(owls_members_df['productsetup_productsetupname']==product)\n",
    "# new_policy_filter=owls_members_df['policy_inceptiondate']==\n",
    "# owls_members_df[date_filter&product_filter].shape[0]"
   ]
  },
  {
   "cell_type": "markdown",
   "metadata": {},
   "source": [
    "Add back recent terminations falling in the window still to be deemed valid:\n",
    "- =COUNTIFS(Terminations_Raw!$AF:$AF,\"<\"&Summary!AD5,Terminations_Raw!$AG:$AG,\">\"&Summary!AB5,Active_Listing_Raw!$D:$D,Summary!$C$2)"
   ]
  },
  {
   "cell_type": "markdown",
   "metadata": {},
   "source": [
    " - =COUNTIFS(Active_Listing_Raw!$D:$D,Summary!$C$2,Active_Listing_Raw!$F:$F,Summary!AC5)"
   ]
  },
  {
   "cell_type": "markdown",
   "metadata": {},
   "source": [
    "pd.to_datetime(owls_terminations_df['policy_inceptiondate'], format='%Y/%m/%d', errors='ignore')"
   ]
  },
  {
   "cell_type": "code",
   "execution_count": null,
   "metadata": {},
   "outputs": [],
   "source": [
    "# members_product_filter=(owls_members_df['productsetup_productsetupname']==product)\n",
    "new_policies_list=[]\n",
    "for i in range(1,len(iterate_months)-1):\n",
    "    print(i,iterate_months[i], iterate_months[i+1])\n",
    "# \n",
    "#     member_date_filter=owls_members_df['policy_inceptiondate']>iterate_months[i]\n",
    "#     new_policies_df=owls_members_df[member_date_filter&members_product_filter]\n",
    "# \n",
    "    \n",
    "    new_policies_date_filter=(owls_members_df['policy_inceptiondate']>=iterate_months[i])&\n",
    "    (owls_members_df['policy_inceptiondate']<iterate_months[i+1])\n",
    "#   ----------------------------------------------------------------------------------------------------------------------------\n",
    "    new_policies_df=owls_members_df[new_policies_date_filter&members_product_filter]\n",
    "    slice_saver(identifier_name=\"period_new_policies\", dataframe=new_policies_df, save_path=slices_path, datafile_name=owls_members, product_name=product)\n",
    "    \n",
    "    new_policies=new_policies_df['policy_totalpremium'].shape[0]\n",
    "    new_policies_list.append(new_policies)"
   ]
  },
  {
   "cell_type": "code",
   "execution_count": null,
   "metadata": {},
   "outputs": [],
   "source": [
    "new_policies_list"
   ]
  },
  {
   "cell_type": "markdown",
   "metadata": {},
   "source": [
    "### GWP of New Policies"
   ]
  },
  {
   "cell_type": "markdown",
   "metadata": {},
   "source": [
    "=SUMIFS(Active_Listing_Raw!$AC:$AC,Active_Listing_Raw!$D:$D,Summary!$C$2,Active_Listing_Raw!$F:$F,Summary!X5)"
   ]
  },
  {
   "cell_type": "raw",
   "metadata": {},
   "source": [
    "The gross premium of new policies for a particular month and product is the _sum_ of all policy_grosspremium for that product and that month:"
   ]
  },
  {
   "cell_type": "code",
   "execution_count": null,
   "metadata": {},
   "outputs": [],
   "source": [
    "# members_product_filter=(owls_members_df['productsetup_productsetupname']==product)\n",
    "gwp_new_policies_list=[]\n",
    "for i in range(1,len(iterate_months)-1):\n",
    "#     print(i,iterate_months[i])\n",
    "    new_policies_date_filter=owls_members_df['policy_inceptiondate']==iterate_months[i]\n",
    "#   ----------------------------------------------------------------------------------------------------------------------------\n",
    "    new_policies_df=owls_members_df[new_policies_date_filter&members_product_filter]\n",
    "    \n",
    "    gwp_new_policies=new_policies_df['policy_grosspremium'].sum()\n",
    "    gwp_new_policies_list.append(gwp_new_policies)\n",
    "    print(i,iterate_months[i],'; ', gwp_new_policies)"
   ]
  },
  {
   "cell_type": "markdown",
   "metadata": {},
   "source": [
    "### Average Premium"
   ]
  },
  {
   "cell_type": "markdown",
   "metadata": {},
   "source": [
    "The average premium is the gross premium(from active_grosspremium_list) __divided__ by the number of active policies (from active_policies_list): "
   ]
  },
  {
   "cell_type": "code",
   "execution_count": null,
   "metadata": {},
   "outputs": [],
   "source": [
    "active_grosspremium_list\n",
    "active_policies_list\n",
    "average_premium_list=[]\n",
    "for f, b in zip(active_grosspremium_list, active_policies_list):\n",
    "    average_premium_list.append(f/b)\n",
    "    print(f,b,f/b)"
   ]
  },
  {
   "cell_type": "markdown",
   "metadata": {},
   "source": [
    "### NTU"
   ]
  },
  {
   "cell_type": "markdown",
   "metadata": {},
   "source": [
    "=COUNTIFS(Terminations_Raw!$AF:$AF,Summary!Y$5,Terminations_Raw!$H:$H,\"Not Taken Up\",Terminations_Raw!$D:$D,Summary!$C$2)"
   ]
  },
  {
   "cell_type": "code",
   "execution_count": null,
   "metadata": {},
   "outputs": [],
   "source": [
    "# terminations_product_filter=owls_terminations_df['productsetup_productsetupname']==product\n",
    "ntu_list=[]\n",
    "for i in range(1,len(iterate_months)-1):\n",
    "    terminations_policy_inceptiondate_filter=owls_terminations_df['policy_inceptiondate']==iterate_months[i]\n",
    "    f=terminations_product_filter&ntu_filter&terminations_policy_inceptiondate_filter\n",
    "    valid_terminations_df=owls_terminations_df[f]\n",
    "    ntu=valid_terminations_df.shape[0]\n",
    "    ntu_list.append(ntu)\n",
    "    print(i,iterate_months[i],'; ', ntu)"
   ]
  },
  {
   "cell_type": "markdown",
   "metadata": {},
   "source": [
    "### Gross premium for NTU"
   ]
  },
  {
   "cell_type": "markdown",
   "metadata": {},
   "source": [
    "=SUMIFS(Terminations_Raw!$AD:$AD,Terminations_Raw!$AF:$AF,Summary!X$5,Terminations_Raw!$H:$H,\"Not Taken Up\",Terminations_Raw!$D:$D,Summary!$C$2)"
   ]
  },
  {
   "cell_type": "code",
   "execution_count": null,
   "metadata": {},
   "outputs": [],
   "source": [
    "# owls_terminations_df\n",
    "# terminations_product_filter\n",
    "# ntu_filter=owls_terminations_df['policy_status']=='Not Taken Up'\n",
    "# terminations_policy_inceptiondate_filter=owls_terminations_df['policy_inceptiondate']==iterate_months[i]\n",
    "# sum over policy_totalpremium\n",
    "# 'policy_inceptiondate'"
   ]
  },
  {
   "cell_type": "code",
   "execution_count": null,
   "metadata": {},
   "outputs": [],
   "source": [
    "# ntu_filter=owls_terminations_df['policy_status']=='Not Taken Up'\n",
    "gp_ntu_list=[]\n",
    "for i in range(1,len(iterate_months)-1):\n",
    "    terminations_policy_inceptiondate_filter=owls_terminations_df['policy_inceptiondate']==iterate_months[i]\n",
    "    f=terminations_product_filter&ntu_filter&terminations_policy_inceptiondate_filter\n",
    "    valid_terminations_df=owls_terminations_df[f]\n",
    "    gp_ntu=valid_terminations_df['policy_totalpremium'].sum()\n",
    "    gp_ntu_list.append(gp_ntu)\n",
    "    print(i,iterate_months[i],'; ', gp_ntu,owls_terminations_df[terminations_policy_inceptiondate_filter].shape[0])"
   ]
  },
  {
   "cell_type": "markdown",
   "metadata": {},
   "source": [
    "***"
   ]
  },
  {
   "cell_type": "markdown",
   "metadata": {},
   "source": [
    "### Cancellations"
   ]
  },
  {
   "cell_type": "markdown",
   "metadata": {},
   "source": [
    "=COUNTIFS(Terminations_Raw!$AG:$AG,Summary!X$4,Terminations_Raw!$H:$H,\"Cancelled\",Terminations_Raw!$D:$D,Summary!$C$2)  \n",
    "policy_cancellationdate,cancelations_filter,terminations_product_filter\n",
    "'policy_totalpremium'"
   ]
  },
  {
   "cell_type": "code",
   "execution_count": null,
   "metadata": {},
   "outputs": [],
   "source": [
    "cancelations_list=[]\n",
    "gp_cancelations_list=[]\n",
    "for i in range(1,len(iterate_months)-1):\n",
    "    last_day_of_month=last_day_of_month_fn(iterate_months[i])\n",
    "    terminations_policy_cancellationdate_filter=owls_terminations_df['policy_cancellationdate']==last_day_of_month\n",
    "    f=terminations_product_filter&cancelations_filter&terminations_policy_cancellationdate_filter\n",
    "    valid_terminations_df=owls_terminations_df[f]\n",
    "    cancelations=valid_terminations_df.shape[0]\n",
    "    cancelations_list.append(cancelations)\n",
    "    gp_cancelations=valid_terminations_df['policy_totalpremium'].sum()\n",
    "    gp_cancelations_list.append(gp_cancelations)    \n",
    "    print(i,iterate_months[i],'; ',cancelations, gp_cancelations)"
   ]
  },
  {
   "cell_type": "markdown",
   "metadata": {},
   "source": [
    "*** "
   ]
  },
  {
   "cell_type": "markdown",
   "metadata": {},
   "source": [
    "### Number of Claims Received (Incl O/Docs Claims)"
   ]
  },
  {
   "cell_type": "markdown",
   "metadata": {},
   "source": [
    "=COUNTIFS(Received_Claims!$H:$H,Summary!$C$2,Received_Claims!$P:$P,Summary!X5)    \n",
    "Received_Claims! 𝑃: P,Summary!X5: Received Date, 'notification_date' compare notification date with period date  \n",
    "Received_Claims! 𝐻: H,Summary! 𝐶 2: product filter=received_claims_product_filter compare productsetupname with product \n"
   ]
  },
  {
   "cell_type": "code",
   "execution_count": null,
   "metadata": {},
   "outputs": [],
   "source": [
    "claims_received_list=[]\n",
    "value_claims_received_list=[]\n",
    "# gp_cancelations_list=[]\n",
    "for i in range(1,len(iterate_months)-1):\n",
    "#     last_day_of_month=last_day_of_month_fn(iterate_months[i])\n",
    "    claims_received_notification_date_filter=owls_received_claims_df['som_notification_date']==iterate_months[i]\n",
    "    f=claims_received_product_filter&claims_received_notification_date_filter\n",
    "    df=owls_received_claims_df[f].copy()\n",
    "    claims_received=df.shape[0]\n",
    "    claims_received_list.append(claims_received)\n",
    "    value_claims_received=df['Original Reserve'].sum()\n",
    "    value_claims_received_list.append(value_claims_received)    \n",
    "    print(i,iterate_months[i],'; ',claims_received, value_claims_received)"
   ]
  },
  {
   "cell_type": "markdown",
   "metadata": {},
   "source": [
    "***"
   ]
  },
  {
   "cell_type": "markdown",
   "metadata": {},
   "source": [
    "### Highest Claim Paid"
   ]
  },
  {
   "cell_type": "markdown",
   "metadata": {},
   "source": [
    "=MAXIFS(Received_Claims!$L:$L,Received_Claims!$H:$H,Summary!$C$2,Received_Claims!$P:$P,Summary!X5)"
   ]
  },
  {
   "cell_type": "code",
   "execution_count": null,
   "metadata": {},
   "outputs": [],
   "source": [
    "highest_claim_paid_list=[]\n",
    "# value_claims_received_list=[]\n",
    "# gp_cancelations_list=[]\n",
    "for i in range(1,len(iterate_months)-1):\n",
    "#     last_day_of_month=last_day_of_month_fn(iterate_months[i])\n",
    "    claims_paid_date_filter=owls_received_claims_df['som_notification_date']==iterate_months[i]\n",
    "    f=claims_received_product_filter&claims_paid_date_filter    \n",
    "    df=owls_received_claims_df[f].copy()\n",
    "    highest_claim_paid=df['Total Payments'].max()\n",
    "    highest_claim_paid_list.append(highest_claim_paid)    \n",
    "    print(i,iterate_months[i],'; ',highest_claim_paid)\n",
    "highest_claim_paid_list=[0 if x != x else x for x in highest_claim_paid_list]"
   ]
  },
  {
   "cell_type": "code",
   "execution_count": null,
   "metadata": {},
   "outputs": [],
   "source": [
    "highest_claim_paid_list"
   ]
  },
  {
   "cell_type": "markdown",
   "metadata": {},
   "source": [
    "***"
   ]
  },
  {
   "cell_type": "markdown",
   "metadata": {},
   "source": [
    "### Number, Value and Average Value of Claims Paid"
   ]
  },
  {
   "cell_type": "markdown",
   "metadata": {},
   "source": [
    "=COUNTIFS(Received_Claims!$H:$H,Summary!$C$2, : this is the product filter\n",
    "eceived_Claims!$P:$P,Summary!X5, : this is the date filter\n",
    "Received_Claims!$K:$K,\"Approve, Pay now\") : pay_now_filter"
   ]
  },
  {
   "cell_type": "code",
   "execution_count": null,
   "metadata": {},
   "outputs": [],
   "source": [
    "number_of_claims_paid_list=[]\n",
    "value_of_claims_paid_list=[]\n",
    "average_value_of_claims_paid_list=[]\n",
    "# value_claims_received_list=[]\n",
    "# gp_cancelations_list=[]\n",
    "for i in range(1,len(iterate_months)-1):\n",
    "#     last_day_of_month=last_day_of_month_fn(iterate_months[i])\n",
    "    average_value_of_claims_paid=0\n",
    "    claims_paid_date_filter=owls_received_claims_df['som_notification_date']==iterate_months[i]\n",
    "    f=claims_received_product_filter&claims_paid_date_filter&pay_now_filter\n",
    "    df=owls_received_claims_df[f].copy()\n",
    "    number_of_claims_paid=df.shape[0]\n",
    "    value_of_claims_paid=df['Original Reserve'].sum()\n",
    "    number_of_claims_paid_list.append(number_of_claims_paid)\n",
    "    value_of_claims_paid_list.append(value_of_claims_paid)\n",
    "    if number_of_claims_paid!=0:\n",
    "        average_value_of_claims_paid=value_of_claims_paid/number_of_claims_paid\n",
    "#         average_value_of_claims_paid_list.append(average_value_of_claims_paid)     \n",
    "    average_value_of_claims_paid_list.append(average_value_of_claims_paid)\n",
    "    print(i,iterate_months[i],'; ',average_value_of_claims_paid,number_of_claims_paid,value_of_claims_paid)\n",
    "# Average Cost Per Claim\n"
   ]
  },
  {
   "cell_type": "markdown",
   "metadata": {},
   "source": [
    "***"
   ]
  },
  {
   "cell_type": "markdown",
   "metadata": {},
   "source": [
    "### Number, Value and Average Value of Repudiated Claims"
   ]
  },
  {
   "cell_type": "markdown",
   "metadata": {},
   "source": [
    "=COUNTIFS(Received_Claims!$H:$H,Summary!$C$2,Received_Claims!$P:$P,Summary!X5,Received_Claims!$K:$K,\"Reject\")"
   ]
  },
  {
   "cell_type": "code",
   "execution_count": null,
   "metadata": {},
   "outputs": [],
   "source": []
  },
  {
   "cell_type": "code",
   "execution_count": null,
   "metadata": {},
   "outputs": [],
   "source": [
    "# reject_claims_filter\n",
    "reject_claims_list=[]\n",
    "value_of_reject_claims_list=[]\n",
    "average_value_of_reject_claims_list=[]\n",
    "# average_value_of_claims_paid_list=[]\n",
    "# value_claims_received_list=[]\n",
    "# gp_cancelations_list=[]\n",
    "for i in range(1,len(iterate_months)-1):\n",
    "#     last_day_of_month=last_day_of_month_fn(iterate_months[i])\n",
    "    average_value_of_reject_claims=0\n",
    "    claims_paid_date_filter=owls_received_claims_df['som_notification_date']==iterate_months[i]\n",
    "    f=claims_received_product_filter&claims_paid_date_filter&reject_claims_filter\n",
    "    df=owls_received_claims_df[f].copy()\n",
    "    reject_claims=df.shape[0]\n",
    "    value_of_reject_claims=df['Original Reserve'].sum()\n",
    "    reject_claims_list.append(reject_claims)\n",
    "    value_of_reject_claims_list.append(value_of_reject_claims)\n",
    "    if reject_claims!=0:\n",
    "        average_value_of_reject_claims=value_of_reject_claims/reject_claims\n",
    "#         average_value_of_reject_claims_list.append(average_value_of_reject_claims)     \n",
    "    average_value_of_reject_claims_list.append(average_value_of_reject_claims)\n",
    "    print(i,iterate_months[i],'; average_value_of_reject_claims: ',average_value_of_reject_claims,'; reject_claims: ',reject_claims,'; value_of_reject_claims: ',value_of_reject_claims)\n",
    "# Average Cost Per Claim\n"
   ]
  },
  {
   "cell_type": "markdown",
   "metadata": {},
   "source": [
    "***"
   ]
  },
  {
   "cell_type": "markdown",
   "metadata": {},
   "source": [
    "### Number, Value and Average Value of Outstanding Claims"
   ]
  },
  {
   "cell_type": "markdown",
   "metadata": {},
   "source": [
    "=COUNTIFS(Received_Claims!$H:$H,Summary!$C$2,Received_Claims!$P:$P,Summary!X5,Received_Claims!$K:$K,\"\")"
   ]
  },
  {
   "cell_type": "code",
   "execution_count": null,
   "metadata": {},
   "outputs": [],
   "source": [
    "# reject_claims_filter\n",
    "outstanding_claims_list=[]\n",
    "value_of_outstanding_claims_list=[]\n",
    "average_value_of_outstanding_claims_list=[]\n",
    "# average_value_of_claims_paid_list=[]\n",
    "# value_claims_received_list=[]\n",
    "# gp_cancelations_list=[]\n",
    "for i in range(1,len(iterate_months)-1):\n",
    "#     last_day_of_month=last_day_of_month_fn(iterate_months[i])\n",
    "    average_value_of_outstanding_claims=0\n",
    "    outstanding_claims_date_filter=owls_received_claims_df['som_notification_date']==iterate_months[i]\n",
    "    f=claims_received_product_filter&outstanding_claims_date_filter&outstanding_claims_filter\n",
    "    print(owls_received_claims_df[outstanding_claims_filter].shape[0])\n",
    "    df=owls_received_claims_df[f].copy()\n",
    "    outstanding_claims=df.shape[0]\n",
    "    value_of_outstanding_claims=df['Original Reserve'].sum()\n",
    "    outstanding_claims_list.append(outstanding_claims)\n",
    "    value_of_outstanding_claims_list.append(value_of_outstanding_claims)\n",
    "    if outstanding_claims!=0:\n",
    "        average_value_of_outstanding_claims=value_of_outstanding_claims/outstanding_claims\n",
    "#         average_value_of_outstanding_claims_list.append(average_value_of_outstanding_claims)   \n",
    "    average_value_of_outstanding_claims_list.append(average_value_of_outstanding_claims)\n",
    "    print(i,iterate_months[i],'; value_of_outstanding_claims: ',value_of_outstanding_claims,'; outstanding_claims: ',outstanding_claims,'; value_of_reject_claims: ',value_of_reject_claims)\n",
    "# Average Cost Per Claim\n"
   ]
  },
  {
   "cell_type": "markdown",
   "metadata": {},
   "source": [
    "***"
   ]
  },
  {
   "cell_type": "markdown",
   "metadata": {},
   "source": [
    "### Construct the report dataframe"
   ]
  },
  {
   "cell_type": "code",
   "execution_count": null,
   "metadata": {},
   "outputs": [],
   "source": [
    "index_list=['Active Policies',\n",
    "            'Live Policies',\n",
    "            'New Inactive Policies',\n",
    "            'Active Terminated Policies',\n",
    "            'Gross Premium',\n",
    "            'Gross Premium from Live Policies',\n",
    "            'Gross Premium from New Inactive Policies',\n",
    "            'Gross Premium from Active Terminated Policies',\n",
    "            'New Policies',\n",
    "            'GWP of New Policies',\n",
    "            'Average Premium',\n",
    "            'NTU',\n",
    "            'Gross Premium for NTU',\n",
    "            'Cancellations',\n",
    "            'Gross Premium for Cancellations',\n",
    "            'Number of Claims Received (Incl O/Docs Claims)',\n",
    "            'Value of Claims Received',\n",
    "            'Highest Claim Paid',\n",
    "            'Number of Claims Paid',\n",
    "            'Value of Claims Paid',\n",
    "            'Average Cost Per Claim',\n",
    "            'Repudiated Claims',\n",
    "            'Value of Repudiated Claims',\n",
    "            'Average Cost per repudiated claim',\n",
    "            'Number of Oustanding Claims',\n",
    "            'Value of Outstanding Claims',\n",
    "           'Average Value of Outstanding Claims']\n"
   ]
  },
  {
   "cell_type": "code",
   "execution_count": null,
   "metadata": {},
   "outputs": [],
   "source": [
    "data=[]\n",
    "data.append(active_policies_list)\n",
    "data.append(live_policies_list)\n",
    "data.append(new_inactive_policies_list)\n",
    "data.append(valid_terminations_list)\n",
    "data.append(active_grosspremium_list)\n",
    "data.append(live_policies_grosspremium_list)\n",
    "data.append(new_policies_grosspremium_list)\n",
    "data.append(valid_policies_grosspremium_list)\n",
    "\n",
    "data.append(new_policies_list)\n",
    "data.append(gwp_new_policies_list)\n",
    "data.append(average_premium_list)\n",
    "data.append(ntu_list)\n",
    "data.append(gp_ntu_list)\n",
    "data.append(cancelations_list)\n",
    "data.append(gp_cancelations_list)\n",
    "data.append(claims_received_list)\n",
    "data.append(value_claims_received_list)\n",
    "data.append(highest_claim_paid_list)\n",
    "data.append(number_of_claims_paid_list)\n",
    "data.append(value_of_claims_paid_list)\n",
    "\n",
    "data.append(average_value_of_claims_paid_list)\n",
    "data.append(reject_claims_list)\n",
    "data.append(value_of_reject_claims_list)\n",
    "data.append(average_value_of_reject_claims_list)\n",
    "data.append(outstanding_claims_list)\n",
    "data.append(value_of_outstanding_claims_list)\n",
    "data.append(average_value_of_outstanding_claims_list)\n"
   ]
  },
  {
   "cell_type": "code",
   "execution_count": null,
   "metadata": {},
   "outputs": [],
   "source": [
    "df = pd.DataFrame(data,index=index_list, columns=iterate_months[1:-1])"
   ]
  },
  {
   "cell_type": "code",
   "execution_count": null,
   "metadata": {},
   "outputs": [],
   "source": [
    "for i in range(1,len(iterate_months)-1):\n",
    "    print(iterate_months[i])"
   ]
  },
  {
   "cell_type": "code",
   "execution_count": null,
   "metadata": {},
   "outputs": [],
   "source": [
    "iterate_months[1:-1]"
   ]
  },
  {
   "cell_type": "code",
   "execution_count": null,
   "metadata": {},
   "outputs": [],
   "source": [
    "s=owls_members.split(\"_\")[1].split(\".\")[0]\n",
    "filename=\"cbr\"+'_'+product+\"_\"+s+\".csv\"\n",
    "df.to_csv(path_or_buf=report_path+filename, sep=',', index=True)"
   ]
  },
  {
   "cell_type": "code",
   "execution_count": null,
   "metadata": {},
   "outputs": [],
   "source": [
    "presentation_path='\\\\\\klo-jhb-fp01\\\\Xelus\\\\Data Science\\\\ChristoStrydom\\\\Presentations\\\\'\n",
    "presentation_name='cbr_presentation_template.xlsx'\n",
    "# file_name='cbr_presentation_template.xlsx'\n",
    "cbr_presentation_template = openpyxl.load_workbook(presentation_path+presentation_name) \n",
    "summary_sheet = cbr_presentation_template[\"Sanlam Gap - Individual\"]"
   ]
  },
  {
   "cell_type": "code",
   "execution_count": null,
   "metadata": {},
   "outputs": [],
   "source": [
    "range_dict_mp={'Sanlam Gap - Individual':'SanlamGapIndividual_MP'}\n",
    "# 'SanlamGapIndividual_MP'"
   ]
  },
  {
   "cell_type": "code",
   "execution_count": null,
   "metadata": {},
   "outputs": [],
   "source": [
    "result_address = list(cbr_presentation_template.defined_names['SanlamGapIndividual_MP'].destinations)"
   ]
  },
  {
   "cell_type": "code",
   "execution_count": null,
   "metadata": {},
   "outputs": [],
   "source": [
    "result_address"
   ]
  },
  {
   "cell_type": "code",
   "execution_count": null,
   "metadata": {},
   "outputs": [],
   "source": [
    "df.loc[['Active Policies',\n",
    "            'Live Policies',\n",
    "            'New Inactive Policies',\n",
    "            'Active Terminated Policies',\n",
    "            'Gross Premium',\n",
    "            'Gross Premium from Live Policies',\n",
    "            'Gross Premium from New Inactive Policies',\n",
    "            'Gross Premium from Active Terminated Policies',\n",
    "            'New Policies',\n",
    "            'GWP of New Policies',\n",
    "            'Average Premium',\n",
    "            'NTU',\n",
    "            'Gross Premium for NTU',\n",
    "            'Cancellations',\n",
    "            'Gross Premium for Cancellations']]"
   ]
  },
  {
   "cell_type": "code",
   "execution_count": null,
   "metadata": {},
   "outputs": [],
   "source": [
    "summary_sheet[result_address[0][1].replace('$', '')]"
   ]
  },
  {
   "cell_type": "code",
   "execution_count": null,
   "metadata": {},
   "outputs": [],
   "source": [
    "df.reset_index()"
   ]
  },
  {
   "cell_type": "code",
   "execution_count": null,
   "metadata": {},
   "outputs": [],
   "source": [
    "df.loc[['Active Policies',\n",
    "            'Live Policies',\n",
    "            'New Inactive Policies',\n",
    "            'Active Terminated Policies',\n",
    "            'Gross Premium',\n",
    "            'Gross Premium from Live Policies',\n",
    "            'Gross Premium from New Inactive Policies',\n",
    "            'Gross Premium from Active Terminated Policies',\n",
    "            'New Policies',\n",
    "            'GWP of New Policies',\n",
    "            'Average Premium',\n",
    "            'NTU',\n",
    "            'Gross Premium for NTU',\n",
    "            'Cancellations',\n",
    "            'Gross Premium for Cancellations']].reset_index()"
   ]
  },
  {
   "cell_type": "code",
   "execution_count": null,
   "metadata": {},
   "outputs": [],
   "source": [
    "summary_sheet[result_address[0][1].replace('$', '')] = df.loc[['Active Policies',\n",
    "            'Live Policies',\n",
    "            'New Inactive Policies',\n",
    "            'Active Terminated Policies',\n",
    "            'Gross Premium',\n",
    "            'Gross Premium from Live Policies',\n",
    "            'Gross Premium from New Inactive Policies',\n",
    "            'Gross Premium from Active Terminated Policies',\n",
    "            'New Policies',\n",
    "            'GWP of New Policies',\n",
    "            'Average Premium',\n",
    "            'NTU',\n",
    "            'Gross Premium for NTU',\n",
    "            'Cancellations',\n",
    "            'Gross Premium for Cancellations']].reset_index()"
   ]
  },
  {
   "cell_type": "code",
   "execution_count": null,
   "metadata": {},
   "outputs": [],
   "source": [
    "outstanding_claims_date_filter"
   ]
  },
  {
   "cell_type": "code",
   "execution_count": null,
   "metadata": {},
   "outputs": [],
   "source": [
    "print(owls_received_claims_df[outstanding_claims_filter].shape[0])"
   ]
  },
  {
   "cell_type": "code",
   "execution_count": null,
   "metadata": {},
   "outputs": [],
   "source": [
    "df.shape"
   ]
  },
  {
   "cell_type": "code",
   "execution_count": null,
   "metadata": {},
   "outputs": [],
   "source": []
  }
 ],
 "metadata": {
  "kernelspec": {
   "display_name": "Python 3",
   "language": "python",
   "name": "python3"
  },
  "language_info": {
   "codemirror_mode": {
    "name": "ipython",
    "version": 3
   },
   "file_extension": ".py",
   "mimetype": "text/x-python",
   "name": "python",
   "nbconvert_exporter": "python",
   "pygments_lexer": "ipython3",
   "version": "3.7.9"
  }
 },
 "nbformat": 4,
 "nbformat_minor": 4
}
