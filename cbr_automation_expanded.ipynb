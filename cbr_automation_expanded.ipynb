{
 "cells": [
  {
   "cell_type": "markdown",
   "metadata": {},
   "source": [
    "C:\\Users\\christo.strydom\\github_repos\\automation\\CBR\\Copy of 20210104_Master_Gap_CBR_LE_CS.xlsx"
   ]
  },
  {
   "cell_type": "code",
   "execution_count": 1,
   "metadata": {},
   "outputs": [],
   "source": [
    "import pandas as pd\n",
    "import openpyxl\n",
    "import win32com.client"
   ]
  },
  {
   "cell_type": "code",
   "execution_count": 2,
   "metadata": {},
   "outputs": [],
   "source": [
    "from datetime import datetime, timedelta\n",
    "from dateutil.relativedelta import *"
   ]
  },
  {
   "cell_type": "code",
   "execution_count": 3,
   "metadata": {},
   "outputs": [],
   "source": [
    "import calendar\n",
    "import dateutil.parser"
   ]
  },
  {
   "cell_type": "code",
   "execution_count": 4,
   "metadata": {},
   "outputs": [],
   "source": [
    "def add_months(sourcedate, months):\n",
    "    month = sourcedate.month - 1 + months\n",
    "    year = sourcedate.year + month // 12\n",
    "    month = month % 12 + 1\n",
    "    day = min(sourcedate.day, calendar.monthrange(year,month)[1])\n",
    "    return datetime.date(year, month, day)\n",
    "\n",
    "def last_day_of_month_fn(any_day):\n",
    "    # this will never fail\n",
    "    # get close to the end of the month for any day, and add 4 days 'over'\n",
    "    next_month = any_day.replace(day=28) + timedelta(days=4)\n",
    "    # subtract the number of remaining 'overage' days to get last day of current month, or said programattically said, the previous day of the first of next month\n",
    "    return next_month - timedelta(days=next_month.day)"
   ]
  },
  {
   "cell_type": "code",
   "execution_count": 5,
   "metadata": {},
   "outputs": [],
   "source": [
    "# path=\"C:\\\\Users\\\\christo.strydom\\\\github_repos\\\\automation\\\\OWLS_data\\\\\"\n",
    "# owls_claims='Claim_Raw_new.csv' # fixed dates.\n",
    "# owls_members='Active_Listing_Raw.csv' # \n",
    "# owls_terminations='terminations_raw.csv'\n",
    "# owls_received_claims='received_claims.csv'"
   ]
  },
  {
   "cell_type": "code",
   "execution_count": 6,
   "metadata": {},
   "outputs": [],
   "source": [
    "path=\"C:\\\\Users\\\\christo.strydom\\\\github_repos\\\\automation\\\\CBR\\\\\""
   ]
  },
  {
   "cell_type": "code",
   "execution_count": 7,
   "metadata": {},
   "outputs": [],
   "source": [
    "mip_claims='mip_claims.csv'\n",
    "mip_members='mip_members.csv'"
   ]
  },
  {
   "cell_type": "code",
   "execution_count": 8,
   "metadata": {},
   "outputs": [],
   "source": [
    "owls_claims='Claim_Raw_new.csv' # fixed dates.\n",
    "owls_members='Active_Listing_Raw.csv' # \n",
    "owls_terminations='terminations_raw.csv'\n",
    "owls_received_claims='received_claims.csv'"
   ]
  },
  {
   "cell_type": "code",
   "execution_count": 9,
   "metadata": {},
   "outputs": [],
   "source": [
    "# owls_members='OWLS MEMBERS of 20210104_Master_Gap_CBR_LE_CS.csv'\n",
    "# owls_members_df=pd.read_csv(filepath_or_buffer=path+owls_members)"
   ]
  },
  {
   "cell_type": "code",
   "execution_count": 10,
   "metadata": {},
   "outputs": [],
   "source": [
    "# owls_members_df.to_csv(path_or_buf=path+\"owls_members.csv\",index=False)"
   ]
  },
  {
   "cell_type": "code",
   "execution_count": 11,
   "metadata": {},
   "outputs": [],
   "source": [
    "# mip_members_df=pd.read_csv(filepath_or_buffer=path+mip_members)"
   ]
  },
  {
   "cell_type": "code",
   "execution_count": 12,
   "metadata": {},
   "outputs": [],
   "source": [
    "# mip_claims_df=pd.read_csv(filepath_or_buffer=path+mip_claims)\n",
    "# mip_members_df=pd.read_csv(filepath_or_buffer=path+mip_members)"
   ]
  },
  {
   "cell_type": "code",
   "execution_count": 13,
   "metadata": {},
   "outputs": [
    {
     "name": "stderr",
     "output_type": "stream",
     "text": [
      "C:\\Users\\christo.strydom\\Anaconda3\\envs\\automation\\lib\\site-packages\\IPython\\core\\interactiveshell.py:3147: DtypeWarning: Columns (1,7,13,22) have mixed types.Specify dtype option on import or set low_memory=False.\n",
      "  interactivity=interactivity, compiler=compiler, result=result)\n",
      "C:\\Users\\christo.strydom\\Anaconda3\\envs\\automation\\lib\\site-packages\\IPython\\core\\interactiveshell.py:3147: DtypeWarning: Columns (21) have mixed types.Specify dtype option on import or set low_memory=False.\n",
      "  interactivity=interactivity, compiler=compiler, result=result)\n"
     ]
    }
   ],
   "source": [
    "owls_claims_df=pd.read_csv(filepath_or_buffer=path+owls_claims)\n",
    "owls_members_df=pd.read_csv(filepath_or_buffer=path+owls_members)\n",
    "owls_terminations_df=pd.read_csv(filepath_or_buffer=path+owls_terminations)\n",
    "owls_received_claims_df=pd.read_csv(filepath_or_buffer=path+owls_received_claims)\n",
    "# owls_terminations='terminations_raw.csv'\n",
    "# owls_received_claims='received_claims.csv'"
   ]
  },
  {
   "cell_type": "markdown",
   "metadata": {},
   "source": [
    "#### Date conversions"
   ]
  },
  {
   "cell_type": "markdown",
   "metadata": {},
   "source": [
    "owls_claims_df"
   ]
  },
  {
   "cell_type": "code",
   "execution_count": 14,
   "metadata": {},
   "outputs": [],
   "source": [
    "owls_claims_df['fiscalperiod']=pd.to_datetime(owls_claims_df['fiscalperiod'], format='%Y/%m/%d', errors='ignore')\n",
    "owls_claims_df['notificationdate']=pd.to_datetime(owls_claims_df['notificationdate'], format='%Y/%m/%d', errors='ignore')\n",
    "owls_claims_df['incidentdate']=pd.to_datetime(owls_claims_df['incidentdate'], format='%Y/%m/%d', errors='ignore')\n",
    "owls_claims_df['claimcreateddate']=pd.to_datetime(owls_claims_df['claimcreateddate'], format='%Y/%m/%d', errors='ignore')\n",
    "owls_claims_df['inceptiondate']=pd.to_datetime(owls_claims_df['inceptiondate'], format='%m/%d/%Y', errors='ignore')\n",
    "owls_claims_df['createddate']=pd.to_datetime(owls_claims_df['createddate'], format='%Y-%m-%d', errors='ignore')"
   ]
  },
  {
   "cell_type": "markdown",
   "metadata": {},
   "source": [
    "owls_members_df"
   ]
  },
  {
   "cell_type": "code",
   "execution_count": 15,
   "metadata": {},
   "outputs": [],
   "source": [
    "owls_members_df['policy_inceptiondate']=pd.to_datetime(owls_members_df['policy_inceptiondate'], format='%Y/%m/%d', errors='ignore')\n",
    "owls_members_df['policy_createddate']=pd.to_datetime(owls_members_df['policy_createddate'], format='%Y/%m/%d', errors='ignore')"
   ]
  },
  {
   "cell_type": "markdown",
   "metadata": {},
   "source": [
    "owls_terminations_df"
   ]
  },
  {
   "cell_type": "code",
   "execution_count": 16,
   "metadata": {},
   "outputs": [],
   "source": [
    "owls_terminations_df['policy_createddate']=pd.to_datetime(owls_terminations_df['policy_createddate'], format='%Y/%m/%d', errors='ignore')\n",
    "owls_terminations_df['policy_inceptiondate']=pd.to_datetime(owls_terminations_df['policy_inceptiondate'], format='%m/%d/%Y', errors='ignore')\n",
    "owls_terminations_df['policy_cancellationdate']=pd.to_datetime(owls_terminations_df['policy_cancellationdate'], format='%m/%d/%Y', errors='ignore')"
   ]
  },
  {
   "cell_type": "markdown",
   "metadata": {},
   "source": [
    "owls_received_claims_df"
   ]
  },
  {
   "cell_type": "markdown",
   "metadata": {},
   "source": [
    "Clean the Notification Date columns by removing nans and dates that are not recognised as dates.  Normalize all dates to a single format."
   ]
  },
  {
   "cell_type": "code",
   "execution_count": 17,
   "metadata": {},
   "outputs": [],
   "source": [
    "# owls_received_claims_df['Created Date']=pd.to_datetime(owls_received_claims_df['Created Date'], format='%Y/%m/%d', errors='ignore')\n",
    "owls_received_claims_df['Notification Date']=pd.to_datetime(owls_received_claims_df['Notification Date'], format='%m/%d/%Y', errors='ignore')\n",
    "owls_received_claims_df['Policy Inception Date']=pd.to_datetime(owls_received_claims_df['Policy Inception Date'], format='%m/%d/%Y', errors='ignore')\n",
    "# owls_received_claims_df['Received Date']=pd.to_datetime(owls_received_claims_df['Received Date'], format='%m/%d/%Y', errors='ignore')"
   ]
  },
  {
   "cell_type": "code",
   "execution_count": 18,
   "metadata": {},
   "outputs": [],
   "source": [
    "owls_received_claims_df['Notification Date']=pd.to_datetime(owls_received_claims_df['Notification Date'], format='%m/%d/%Y', errors='ignore')"
   ]
  },
  {
   "cell_type": "code",
   "execution_count": 19,
   "metadata": {},
   "outputs": [],
   "source": [
    "# remove nans:\n",
    "owls_received_claims_df=owls_received_claims_df[~owls_received_claims_df['Notification Date'].isna()].copy()"
   ]
  },
  {
   "cell_type": "code",
   "execution_count": 20,
   "metadata": {},
   "outputs": [],
   "source": [
    "owls_received_claims_df[['notification_date_1','notification_date_2', 'notification_date_3']]=owls_received_claims_df['Notification Date'].str.split('/',expand=True,)"
   ]
  },
  {
   "cell_type": "code",
   "execution_count": 21,
   "metadata": {},
   "outputs": [],
   "source": [
    "owls_received_claims_df=owls_received_claims_df[~pd.to_numeric(owls_received_claims_df['notification_date_1'],errors='coerce').isna()].copy()\n",
    "owls_received_claims_df=owls_received_claims_df[~pd.to_numeric(owls_received_claims_df['notification_date_2'],errors='coerce').isna()].copy()\n",
    "owls_received_claims_df=owls_received_claims_df[~pd.to_numeric(owls_received_claims_df['notification_date_3'],errors='coerce').isna()].copy()"
   ]
  },
  {
   "cell_type": "code",
   "execution_count": 22,
   "metadata": {},
   "outputs": [],
   "source": [
    "owls_received_claims_df.loc[owls_received_claims_df['notification_date_1'].str.len()==4,'notification_date_year']=owls_received_claims_df['notification_date_1']\n",
    "owls_received_claims_df.loc[owls_received_claims_df['notification_date_3'].str.len()==4,'notification_date_year']=owls_received_claims_df['notification_date_3']"
   ]
  },
  {
   "cell_type": "code",
   "execution_count": 23,
   "metadata": {},
   "outputs": [],
   "source": [
    "datestring=owls_received_claims_df['Notification Date'].iloc[-1]"
   ]
  },
  {
   "cell_type": "code",
   "execution_count": 24,
   "metadata": {},
   "outputs": [],
   "source": [
    "owls_received_claims_df['notification_date']=owls_received_claims_df.apply(lambda x: dateutil.parser.parse(x['Notification Date']), axis=1)"
   ]
  },
  {
   "cell_type": "code",
   "execution_count": 25,
   "metadata": {},
   "outputs": [],
   "source": [
    "owls_received_claims_df['som_notification_date']=owls_received_claims_df.apply(lambda x: datetime(x['notification_date'].year,x['notification_date'].month,1), axis=1)"
   ]
  },
  {
   "cell_type": "markdown",
   "metadata": {},
   "source": [
    "#### Create Date List"
   ]
  },
  {
   "cell_type": "code",
   "execution_count": 26,
   "metadata": {},
   "outputs": [],
   "source": [
    "today = datetime.today()\n",
    "# som_today=datetime(today.year,today.month,1)\n",
    "months_ago = today + relativedelta(months=-6)\n",
    "som_months_ago = datetime(months_ago.year,months_ago.month,1)\n",
    "# next_month = today + relativedelta(months=+1)\n",
    "# som_next_month = datetime(next_month.year,next_month.month,1)"
   ]
  },
  {
   "cell_type": "code",
   "execution_count": 27,
   "metadata": {},
   "outputs": [],
   "source": [
    "iterate_months=[som_months_ago+relativedelta(months=n) for n in range(9)]"
   ]
  },
  {
   "cell_type": "code",
   "execution_count": 28,
   "metadata": {},
   "outputs": [],
   "source": [
    "itermax=len(iterate_months)-2"
   ]
  },
  {
   "cell_type": "code",
   "execution_count": 29,
   "metadata": {},
   "outputs": [],
   "source": [
    "# today = datetime.now()\n",
    "# print(date)\n",
    "# # 2018-09-24 13:24:04.007620\n",
    "\n",
    "# date = date + relativedelta(months=-5)\n",
    "# print(date)\n",
    "# # 2019-03-24 13:24:04.007620"
   ]
  },
  {
   "cell_type": "code",
   "execution_count": 30,
   "metadata": {},
   "outputs": [],
   "source": [
    "# datelist=list(set(owls_terminations_df['policy_inceptiondate']))\n",
    "# datelist.sort()\n",
    "# datelist.append(add_months(max(datelist),1))\n",
    "# # dates=pd.date_range(min(datelist),add_months(max(datelist),1), freq='1M')-pd.offsets.MonthBegin(1)"
   ]
  },
  {
   "cell_type": "code",
   "execution_count": 31,
   "metadata": {},
   "outputs": [],
   "source": [
    "# dates=pd.date_range(min(dates),add_months(max(dates),1), freq='1M')-pd.offsets.MonthBegin(1)"
   ]
  },
  {
   "cell_type": "markdown",
   "metadata": {},
   "source": [
    "#### Create Product List"
   ]
  },
  {
   "cell_type": "code",
   "execution_count": 32,
   "metadata": {},
   "outputs": [],
   "source": [
    "f=~owls_claims_df['productsetupname'].isna()\n",
    "product_list=list(set(owls_claims_df[f]['productsetupname']))"
   ]
  },
  {
   "cell_type": "code",
   "execution_count": 33,
   "metadata": {},
   "outputs": [],
   "source": [
    "members_live_filter=(owls_members_df['policy_status']=='Live')\n",
    "ntu_filter=owls_terminations_df['policy_status']=='Not Taken Up'\n",
    "cancelations_filter=owls_terminations_df['policy_status']=='Cancelled'\n",
    "pay_now_filter=owls_received_claims_df['Progress']=='Approve, Pay Now'\n",
    "reject_claims_filter=owls_received_claims_df['Progress']=='Reject'\n",
    "outstanding_claims_filter=owls_received_claims_df['Status']=='Outstanding docs received - sent to processing'\n",
    "\n",
    "# Received_Claims! 𝐾: K,\"Reject\"\n",
    "# Received_Claims!$K:$K,\"Approve, Pay now\")"
   ]
  },
  {
   "cell_type": "code",
   "execution_count": 34,
   "metadata": {},
   "outputs": [],
   "source": [
    "# owls_received_claims_df[outstanding_claims_filter]"
   ]
  },
  {
   "cell_type": "markdown",
   "metadata": {},
   "source": [
    "### Kaelo Gap"
   ]
  },
  {
   "cell_type": "code",
   "execution_count": 35,
   "metadata": {},
   "outputs": [],
   "source": [
    "product='Kaelo Gap'"
   ]
  },
  {
   "cell_type": "code",
   "execution_count": 36,
   "metadata": {},
   "outputs": [],
   "source": [
    "terminations_product_filter=owls_terminations_df['productsetup_productsetupname']==product\n",
    "members_product_filter=(owls_members_df['productsetup_productsetupname']==product)\n",
    "claims_received_product_filter=(owls_received_claims_df['productsetupname']==product)"
   ]
  },
  {
   "cell_type": "markdown",
   "metadata": {},
   "source": [
    "Count live policies and calculate gross premium:"
   ]
  },
  {
   "cell_type": "markdown",
   "metadata": {},
   "source": [
    "There are three components to counting policies.\n",
    " - count only active policies\n",
    " \n"
   ]
  },
  {
   "cell_type": "code",
   "execution_count": 37,
   "metadata": {},
   "outputs": [],
   "source": [
    "f=(~owls_claims_df['productsetupname'].isna())&(owls_claims_df['productsetupname']==product)\n",
    "owls_claims_gf=owls_claims_df[f].copy()"
   ]
  },
  {
   "cell_type": "code",
   "execution_count": 38,
   "metadata": {},
   "outputs": [
    {
     "name": "stdout",
     "output_type": "stream",
     "text": [
      "COUNTIFS(Active_Listing_Raw!$I:$I,\"Live\",Active_Listing_Raw!$D:$D,Summary!$C$2)-COUNTIFS(Active_Listing_Raw!$G:$G,\">\"&Summary!AC5,Active_Listing_Raw!$D:$D,Summary!$C$2)+COUNTIFS(Terminations_Raw!$AF:$AF,\"<\"&Summary!AD5,Terminations_Raw!$AG:$AG,\">\"&Summary!AB5,Active_Listing_Raw!$D:$D,Summary!$C$2)\n"
     ]
    }
   ],
   "source": [
    "print('COUNTIFS(Active_Listing_Raw!$I:$I,\"Live\",Active_Listing_Raw!$D:$D,Summary!$C$2)-COUNTIFS(Active_Listing_Raw!$G:$G,\">\"&Summary!AC5,Active_Listing_Raw!$D:$D,Summary!$C$2)+COUNTIFS(Terminations_Raw!$AF:$AF,\"<\"&Summary!AD5,Terminations_Raw!$AG:$AG,\">\"&Summary!AB5,Active_Listing_Raw!$D:$D,Summary!$C$2)')"
   ]
  },
  {
   "cell_type": "markdown",
   "metadata": {},
   "source": [
    " - COUNTIFS(Active_Listing_Raw!$I:$I,\"Live\",Active_Listing_Raw!$D:$D,Summary!$C$2)- \n",
    " - COUNTIFS(Active_Listing_Raw!$G:$G,\">\"&Summary!AC5,Active_Listing_Raw!$D:$D,Summary!$C$2)+\n",
    " - COUNTIFS(Terminations_Raw!$AF:$AF,\">\"&Summary!AD5, #\n",
    " - Terminations_Raw!$AG:$AG,\">\"&Summary!AB5,Terminations_Raw!$D:$D,Summary!$C$2)"
   ]
  },
  {
   "cell_type": "code",
   "execution_count": 39,
   "metadata": {},
   "outputs": [
    {
     "name": "stdout",
     "output_type": "stream",
     "text": [
      "COUNTIFS(Terminations_Raw!$AF:$AF,\"<\"&Summary!AD5,Terminations_Raw!$AG:$AG,\">\"&Summary!AB5,Active_Listing_Raw!$D:$D,Summary!$C$2)\n"
     ]
    }
   ],
   "source": [
    "print('COUNTIFS(Terminations_Raw!$AF:$AF,\"<\"&Summary!AD5,Terminations_Raw!$AG:$AG,\">\"&Summary!AB5,Active_Listing_Raw!$D:$D,Summary!$C$2)')"
   ]
  },
  {
   "cell_type": "markdown",
   "metadata": {},
   "source": [
    " - Terminations_Raw!$AF:$AF,\"<\"&Summary!AD5 : all policies with inception date () __BEFORE__ the start of the next month __and__\n",
    " - Terminations_Raw!$AG:$AG,\">\"&Summary!AB5 : all policies with termination date __AFTER__ the start of the previous month __and__\n",
    " - Active_Listing_Raw!$D:$D,Summary!$C$2 : policies of this product"
   ]
  },
  {
   "cell_type": "markdown",
   "metadata": {},
   "source": [
    "### Active Policies"
   ]
  },
  {
   "cell_type": "markdown",
   "metadata": {},
   "source": [
    "***\n",
    "__Active policies__ contain three items: for those policies of the specified product:\n",
    " - __Live Policies__: Count \"live\" policies only, that is where policy_status='live'\n",
    " - __New Inactive Policies__: (Subtract) all policies that have inception date __AFTER__ the start date for the period under consideration.\n",
    " - __Active Terminated Policies__: (Add back) all __terminated__ policies that had inception date (policy_inceptiondate) __BEFORE__ the start of the next period and where the termination date (policy_cancellationdate) is __AFTER__ the start of the previous period"
   ]
  },
  {
   "cell_type": "code",
   "execution_count": 40,
   "metadata": {},
   "outputs": [],
   "source": [
    "product_filter=(owls_members_df['productsetup_productsetupname']==product)\n",
    "live_filter=(owls_members_df['policy_status']=='Live')\n",
    "# date_filter=owls_members_df['policy_inceptiondate']>datelist[-3]"
   ]
  },
  {
   "cell_type": "markdown",
   "metadata": {},
   "source": [
    "live_policies"
   ]
  },
  {
   "cell_type": "code",
   "execution_count": 41,
   "metadata": {},
   "outputs": [],
   "source": [
    "live_policies=owls_members_df[live_filter&product_filter].shape[0]\n",
    "live_policies_grosspremium=owls_members_df[live_filter&product_filter]['policy_totalpremium'].sum()"
   ]
  },
  {
   "cell_type": "code",
   "execution_count": 42,
   "metadata": {},
   "outputs": [
    {
     "name": "stdout",
     "output_type": "stream",
     "text": [
      "1 2020-08-01 00:00:00\n",
      "i =  1 ; month:  2020-08-01 00:00:00 9252 ; active_policies:  52637 ; live_policies:  51549 ; new_policies:  1802  valid_terminations:  2890\n",
      "2 2020-09-01 00:00:00\n",
      "i =  2 ; month:  2020-09-01 00:00:00 7631 ; active_policies:  52791 ; live_policies:  51549 ; new_policies:  1252  valid_terminations:  2494\n",
      "3 2020-10-01 00:00:00\n",
      "i =  3 ; month:  2020-10-01 00:00:00 5901 ; active_policies:  52451 ; live_policies:  51549 ; new_policies:  901  valid_terminations:  1803\n",
      "4 2020-11-01 00:00:00\n",
      "i =  4 ; month:  2020-11-01 00:00:00 4591 ; active_policies:  52168 ; live_policies:  51549 ; new_policies:  670  valid_terminations:  1289\n",
      "5 2020-12-01 00:00:00\n",
      "i =  5 ; month:  2020-12-01 00:00:00 3398 ; active_policies:  52064 ; live_policies:  51549 ; new_policies:  421  valid_terminations:  936\n",
      "6 2021-01-01 00:00:00\n",
      "i =  6 ; month:  2021-01-01 00:00:00 2540 ; active_policies:  52188 ; live_policies:  51549 ; new_policies:  6  valid_terminations:  645\n"
     ]
    }
   ],
   "source": [
    "# terminations_product_filter=owls_terminations_df['productsetup_productsetupname']==product\n",
    "live_policies_list=[]\n",
    "new_inactive_policies_list=[]\n",
    "active_policies_list=[]\n",
    "valid_terminations_list=[]\n",
    "for i in range(1,itermax):\n",
    "    print(i,iterate_months[i])\n",
    "    members_date_filter=owls_members_df['policy_inceptiondate']>iterate_months[i]\n",
    "    new_policies_df=owls_members_df[members_date_filter&members_product_filter]\n",
    "    new_policies=new_policies_df.shape[0]\n",
    "    terminations_policy_inceptiondate_filter=owls_terminations_df['policy_inceptiondate']<iterate_months[i+1]\n",
    "    terminations_policy_cancellationdate_filter=owls_terminations_df['policy_cancellationdate']>iterate_months[i-1]\n",
    "    valid_terminations_filter=(terminations_policy_inceptiondate_filter&terminations_policy_cancellationdate_filter&terminations_product_filter)\n",
    "    valid_terminations_df=owls_terminations_df[valid_terminations_filter]\n",
    "    valid_terminations=valid_terminations_df.shape[0]\n",
    "    active_policies=live_policies-new_policies+valid_terminations    \n",
    "    print('i = ',i,'; month: ', iterate_months[i],owls_terminations_df[terminations_policy_cancellationdate_filter].shape[0],'; active_policies: ',active_policies,'; live_policies: ',live_policies,'; new_policies: ',new_policies, ' valid_terminations: ',valid_terminations)\n",
    "    live_policies_list.append(live_policies)\n",
    "    new_inactive_policies_list.append(new_policies)\n",
    "    valid_terminations_list.append(valid_terminations)\n",
    "    active_policies_list.append(active_policies)"
   ]
  },
  {
   "cell_type": "markdown",
   "metadata": {},
   "source": [
    "### Gross Premium"
   ]
  },
  {
   "cell_type": "markdown",
   "metadata": {},
   "source": [
    " - COUNTIFS(Active_Listing_Raw!$I:$I,\"Live\",Active_Listing_Raw!$D:$D,Summary!$C$2)- \n",
    " - COUNTIFS(Active_Listing_Raw!$G:$G,\">\"&Summary!AC5,Active_Listing_Raw!$D:$D,Summary!$C$2)+\n",
    " - COUNTIFS(Terminations_Raw!$AF:$AF,\">\"&Summary!AD5, #\n",
    " - Terminations_Raw!$AG:$AG,\">\"&Summary!AB5,Terminations_Raw!$D:$D,Summary!$C$2)"
   ]
  },
  {
   "cell_type": "markdown",
   "metadata": {},
   "source": [
    " - SUMIFS(Active_Listing_Raw!$AE:$AE,Active_Listing_Raw!$I:$I,\"Live\",Active_Listing_Raw!$D:$D,Summary!$C$2)\n",
    " - SUMIFS(Active_Listing_Raw!$AE:$AE,Active_Listing_Raw!$G:$G,\">\"&Summary!X5,Active_Listing_Raw!$D:$D,Summary!$C$2)\n",
    " - SUMIFS(Terminations_Raw!$AD:$AD,Terminations_Raw!$AF:$AF,\"<\"&Summary!Z5,Terminations_Raw!$AG:$AG,\">\"&Summary!W5,Terminations_Raw!$D:$D,Summary!$C$2)"
   ]
  },
  {
   "cell_type": "markdown",
   "metadata": {},
   "source": [
    "__ Notice the descrepancy here.  In calculating the number of valid terminated policies the excel spreadsheet conditions on AF  being later than "
   ]
  },
  {
   "cell_type": "code",
   "execution_count": 43,
   "metadata": {},
   "outputs": [],
   "source": [
    "owls_members_product_filter=owls_members_df['productsetup_productsetupname']==product\n",
    "owls_members_live_filter=owls_members_df['policy_status']=='Live'"
   ]
  },
  {
   "cell_type": "code",
   "execution_count": 44,
   "metadata": {},
   "outputs": [],
   "source": [
    "live_filter&product_filter\n",
    "gross_premium_live=owls_members_df[live_filter&product_filter]['policy_totalpremium'].sum()"
   ]
  },
  {
   "cell_type": "code",
   "execution_count": 45,
   "metadata": {},
   "outputs": [],
   "source": [
    "# new_policies_df=owls_members_df[date_filter&product_filter]"
   ]
  },
  {
   "cell_type": "code",
   "execution_count": 46,
   "metadata": {},
   "outputs": [
    {
     "name": "stdout",
     "output_type": "stream",
     "text": [
      "1 2020-08-01 00:00:00\n",
      "i =  1 ; month:  2020-08-01 00:00:00 ; active_policies_grosspremium:  11673640.74 ; live_policies_grosspremium:  11402078.0 ; new_policies_grosspremium:  411376.0  valid_policies_grosspremium:  682938.74\n",
      "2 2020-09-01 00:00:00\n",
      "i =  2 ; month:  2020-09-01 00:00:00 ; active_policies_grosspremium:  11651358.32 ; live_policies_grosspremium:  11402078.0 ; new_policies_grosspremium:  335826.0  valid_policies_grosspremium:  585106.32\n",
      "3 2020-10-01 00:00:00\n",
      "i =  3 ; month:  2020-10-01 00:00:00 ; active_policies_grosspremium:  11620236.04 ; live_policies_grosspremium:  11402078.0 ; new_policies_grosspremium:  240350.0  valid_policies_grosspremium:  458508.04000000004\n",
      "4 2020-11-01 00:00:00\n",
      "i =  4 ; month:  2020-11-01 00:00:00 ; active_policies_grosspremium:  11556439.79 ; live_policies_grosspremium:  11402078.0 ; new_policies_grosspremium:  180194.0  valid_policies_grosspremium:  334555.79000000004\n",
      "5 2020-12-01 00:00:00\n",
      "i =  5 ; month:  2020-12-01 00:00:00 ; active_policies_grosspremium:  11539745.8 ; live_policies_grosspremium:  11402078.0 ; new_policies_grosspremium:  113453.0  valid_policies_grosspremium:  251120.8\n",
      "6 2021-01-01 00:00:00\n",
      "i =  6 ; month:  2021-01-01 00:00:00 ; active_policies_grosspremium:  11577884.55 ; live_policies_grosspremium:  11402078.0 ; new_policies_grosspremium:  2278.0  valid_policies_grosspremium:  178084.55\n"
     ]
    }
   ],
   "source": [
    "live_policies_grosspremium_list=[]\n",
    "new_policies_grosspremium_list=[]\n",
    "active_grosspremium_list=[]\n",
    "valid_policies_grosspremium_list=[]\n",
    "for i in range(1,itermax):\n",
    "    print(i,iterate_months[i])\n",
    "    member_date_filter=owls_members_df['policy_inceptiondate']>iterate_months[i]\n",
    "#   ----------------------------------------------------------------------------------------------------------------------------\n",
    "    new_policies_df=owls_members_df[member_date_filter&members_product_filter]\n",
    "    new_policies_grosspremium=new_policies_df['policy_totalpremium'].sum()\n",
    "#   ----------------------------------------------------------------------------------------------------------------------------\n",
    "    terminations_policy_inceptiondate_filter=owls_terminations_df['policy_inceptiondate']<iterate_months[i+1]\n",
    "    terminations_policy_cancellationdate_filter=owls_terminations_df['policy_cancellationdate']>iterate_months[i-1]\n",
    "    valid_terminations_filter=(terminations_policy_inceptiondate_filter&terminations_policy_cancellationdate_filter&terminations_product_filter)\n",
    "    valid_terminations_df=owls_terminations_df[valid_terminations_filter]\n",
    "    valid_policies_grosspremium=valid_terminations_df['policy_totalpremium'].sum()\n",
    "#   ----------------------------------------------------------------------------------------------------------------------------\n",
    "    active_policies_grosspremium=live_policies_grosspremium-new_policies_grosspremium+valid_policies_grosspremium    \n",
    "    print('i = ',i,'; month: ', iterate_months[i],'; active_policies_grosspremium: ',active_policies_grosspremium,'; live_policies_grosspremium: ',live_policies_grosspremium,'; new_policies_grosspremium: ',new_policies_grosspremium, ' valid_policies_grosspremium: ',valid_policies_grosspremium)\n",
    "    live_policies_grosspremium_list.append(live_policies_grosspremium)\n",
    "    new_policies_grosspremium_list.append(new_policies_grosspremium)\n",
    "    valid_policies_grosspremium_list.append(valid_policies_grosspremium)\n",
    "    active_grosspremium_list.append(active_policies_grosspremium)"
   ]
  },
  {
   "cell_type": "markdown",
   "metadata": {},
   "source": [
    "### New policies"
   ]
  },
  {
   "cell_type": "code",
   "execution_count": 47,
   "metadata": {},
   "outputs": [],
   "source": [
    "# members_product_filter=(owls_members_df['productsetup_productsetupname']==product)\n",
    "# new_policy_filter=owls_members_df['policy_inceptiondate']==\n",
    "# owls_members_df[date_filter&product_filter].shape[0]"
   ]
  },
  {
   "cell_type": "markdown",
   "metadata": {},
   "source": [
    "Add back recent terminations falling in the window still to be deemed valid:\n",
    "- =COUNTIFS(Terminations_Raw!$AF:$AF,\"<\"&Summary!AD5,Terminations_Raw!$AG:$AG,\">\"&Summary!AB5,Active_Listing_Raw!$D:$D,Summary!$C$2)"
   ]
  },
  {
   "cell_type": "markdown",
   "metadata": {},
   "source": [
    " - =COUNTIFS(Active_Listing_Raw!$D:$D,Summary!$C$2,Active_Listing_Raw!$F:$F,Summary!AC5)"
   ]
  },
  {
   "cell_type": "markdown",
   "metadata": {},
   "source": [
    "pd.to_datetime(owls_terminations_df['policy_inceptiondate'], format='%Y/%m/%d', errors='ignore')"
   ]
  },
  {
   "cell_type": "code",
   "execution_count": 48,
   "metadata": {},
   "outputs": [
    {
     "name": "stdout",
     "output_type": "stream",
     "text": [
      "1 2020-08-01 00:00:00\n",
      "2 2020-09-01 00:00:00\n",
      "3 2020-10-01 00:00:00\n",
      "4 2020-11-01 00:00:00\n",
      "5 2020-12-01 00:00:00\n",
      "6 2021-01-01 00:00:00\n"
     ]
    }
   ],
   "source": [
    "# members_product_filter=(owls_members_df['productsetup_productsetupname']==product)\n",
    "new_policies_list=[]\n",
    "for i in range(1,itermax):\n",
    "    print(i,iterate_months[i])\n",
    "    new_policies_date_filter=owls_members_df['policy_inceptiondate']==iterate_months[i]\n",
    "#   ----------------------------------------------------------------------------------------------------------------------------\n",
    "    new_policies_df=owls_members_df[new_policies_date_filter&members_product_filter]\n",
    "    new_policies=new_policies_df['policy_totalpremium'].shape[0]\n",
    "    new_policies_list.append(new_policies)"
   ]
  },
  {
   "cell_type": "code",
   "execution_count": 49,
   "metadata": {},
   "outputs": [
    {
     "data": {
      "text/plain": [
       "[263, 550, 351, 231, 249, 415]"
      ]
     },
     "execution_count": 49,
     "metadata": {},
     "output_type": "execute_result"
    }
   ],
   "source": [
    "new_policies_list"
   ]
  },
  {
   "attachments": {},
   "cell_type": "markdown",
   "metadata": {},
   "source": [
    "### GWP of New Policies"
   ]
  },
  {
   "cell_type": "markdown",
   "metadata": {},
   "source": [
    "=SUMIFS(Active_Listing_Raw!$AC:$AC,Active_Listing_Raw!$D:$D,Summary!$C$2,Active_Listing_Raw!$F:$F,Summary!X5)"
   ]
  },
  {
   "cell_type": "code",
   "execution_count": 50,
   "metadata": {},
   "outputs": [],
   "source": [
    "# members_product_filter=(owls_members_df['productsetup_productsetupname']==product)\n",
    "# owls_members_df"
   ]
  },
  {
   "cell_type": "code",
   "execution_count": 51,
   "metadata": {},
   "outputs": [
    {
     "name": "stdout",
     "output_type": "stream",
     "text": [
      "1 2020-08-01 00:00:00 ;  72010.0\n",
      "2 2020-09-01 00:00:00 ;  75550.0\n",
      "3 2020-10-01 00:00:00 ;  95476.0\n",
      "4 2020-11-01 00:00:00 ;  60156.0\n",
      "5 2020-12-01 00:00:00 ;  66741.0\n",
      "6 2021-01-01 00:00:00 ;  111175.0\n"
     ]
    }
   ],
   "source": [
    "# members_product_filter=(owls_members_df['productsetup_productsetupname']==product)\n",
    "gwp_new_policies_list=[]\n",
    "for i in range(1,itermax):\n",
    "#     print(i,iterate_months[i])\n",
    "    new_policies_date_filter=owls_members_df['policy_inceptiondate']==iterate_months[i]\n",
    "#   ----------------------------------------------------------------------------------------------------------------------------\n",
    "    new_policies_df=owls_members_df[new_policies_date_filter&members_product_filter]\n",
    "    gwp_new_policies=new_policies_df['policy_grosspremium'].sum()\n",
    "    gwp_new_policies_list.append(gwp_new_policies)\n",
    "    print(i,iterate_months[i],'; ', gwp_new_policies)"
   ]
  },
  {
   "attachments": {},
   "cell_type": "markdown",
   "metadata": {},
   "source": [
    "### Average Premium"
   ]
  },
  {
   "cell_type": "code",
   "execution_count": 52,
   "metadata": {},
   "outputs": [
    {
     "name": "stdout",
     "output_type": "stream",
     "text": [
      "11673640.74 52637 221.77633109789693\n",
      "11651358.32 52791 220.70728571157963\n",
      "11620236.04 52451 221.54460429734416\n",
      "11556439.79 52168 221.52353530900166\n",
      "11539745.8 52064 221.64539413030118\n",
      "11577884.55 52188 221.8495544952863\n"
     ]
    }
   ],
   "source": [
    "\n",
    "average_premium_list=[]\n",
    "for f, b in zip(active_grosspremium_list, active_policies_list):\n",
    "    average_premium_list.append(f/b)\n",
    "    print(f,b,f/b)"
   ]
  },
  {
   "cell_type": "markdown",
   "metadata": {},
   "source": [
    "### NTU"
   ]
  },
  {
   "cell_type": "markdown",
   "metadata": {},
   "source": [
    "=COUNTIFS(Terminations_Raw!$AF:$AF,Summary!Y$5,Terminations_Raw!$H:$H,\"Not Taken Up\",Terminations_Raw!$D:$D,Summary!$C$2)"
   ]
  },
  {
   "cell_type": "code",
   "execution_count": 53,
   "metadata": {},
   "outputs": [
    {
     "name": "stdout",
     "output_type": "stream",
     "text": [
      "1 2020-08-01 00:00:00 ;  18\n",
      "2 2020-09-01 00:00:00 ;  137\n",
      "3 2020-10-01 00:00:00 ;  7\n",
      "4 2020-11-01 00:00:00 ;  11\n",
      "5 2020-12-01 00:00:00 ;  6\n",
      "6 2021-01-01 00:00:00 ;  7\n"
     ]
    }
   ],
   "source": [
    "# terminations_product_filter=owls_terminations_df['productsetup_productsetupname']==product\n",
    "ntu_list=[]\n",
    "for i in range(1,itermax):\n",
    "    terminations_policy_inceptiondate_filter=owls_terminations_df['policy_inceptiondate']==iterate_months[i]\n",
    "    f=terminations_product_filter&ntu_filter&terminations_policy_inceptiondate_filter\n",
    "    valid_terminations_df=owls_terminations_df[f]\n",
    "    ntu=valid_terminations_df.shape[0]\n",
    "    ntu_list.append(ntu)\n",
    "    print(i,iterate_months[i],'; ', ntu)"
   ]
  },
  {
   "cell_type": "markdown",
   "metadata": {},
   "source": [
    "### Gross premium for NTU"
   ]
  },
  {
   "cell_type": "markdown",
   "metadata": {},
   "source": [
    "=SUMIFS(Terminations_Raw!$AD:$AD,Terminations_Raw!$AF:$AF,Summary!X$5,Terminations_Raw!$H:$H,\"Not Taken Up\",Terminations_Raw!$D:$D,Summary!$C$2)"
   ]
  },
  {
   "cell_type": "code",
   "execution_count": 54,
   "metadata": {},
   "outputs": [],
   "source": [
    "# owls_terminations_df\n",
    "# terminations_product_filter\n",
    "# ntu_filter=owls_terminations_df['policy_status']=='Not Taken Up'\n",
    "# terminations_policy_inceptiondate_filter=owls_terminations_df['policy_inceptiondate']==iterate_months[i]\n",
    "# sum over policy_totalpremium\n",
    "# 'policy_inceptiondate'"
   ]
  },
  {
   "cell_type": "code",
   "execution_count": 55,
   "metadata": {},
   "outputs": [
    {
     "name": "stdout",
     "output_type": "stream",
     "text": [
      "1 2020-08-01 00:00:00 ;  2665.0 361\n",
      "2 2020-09-01 00:00:00 ;  6022.25 366\n",
      "3 2020-10-01 00:00:00 ;  2414.0 229\n",
      "4 2020-11-01 00:00:00 ;  3097.0 202\n",
      "5 2020-12-01 00:00:00 ;  1630.0 89\n",
      "6 2021-01-01 00:00:00 ;  2189.0 60\n"
     ]
    }
   ],
   "source": [
    "# ntu_filter=owls_terminations_df['policy_status']=='Not Taken Up'\n",
    "gp_ntu_list=[]\n",
    "for i in range(1,itermax):\n",
    "    terminations_policy_inceptiondate_filter=owls_terminations_df['policy_inceptiondate']==iterate_months[i]\n",
    "    f=terminations_product_filter&ntu_filter&terminations_policy_inceptiondate_filter\n",
    "    valid_terminations_df=owls_terminations_df[f]\n",
    "    gp_ntu=valid_terminations_df['policy_totalpremium'].sum()\n",
    "    gp_ntu_list.append(gp_ntu)\n",
    "    print(i,iterate_months[i],'; ', gp_ntu,owls_terminations_df[terminations_policy_inceptiondate_filter].shape[0])"
   ]
  },
  {
   "cell_type": "markdown",
   "metadata": {},
   "source": [
    "***"
   ]
  },
  {
   "cell_type": "markdown",
   "metadata": {},
   "source": [
    "### Cancellations"
   ]
  },
  {
   "cell_type": "markdown",
   "metadata": {},
   "source": [
    "=COUNTIFS(Terminations_Raw!$AG:$AG,Summary!X$4,Terminations_Raw!$H:$H,\"Cancelled\",Terminations_Raw!$D:$D,Summary!$C$2)  \n",
    "policy_cancellationdate,cancelations_filter,terminations_product_filter\n",
    "'policy_totalpremium'"
   ]
  },
  {
   "cell_type": "code",
   "execution_count": 56,
   "metadata": {},
   "outputs": [
    {
     "name": "stdout",
     "output_type": "stream",
     "text": [
      "1 2020-08-01 00:00:00 ;  568 124840.03\n",
      "2 2020-09-01 00:00:00 ;  524 126121.25\n",
      "3 2020-10-01 00:00:00 ;  353 84127.99\n",
      "4 2020-11-01 00:00:00 ;  293 73824.25\n",
      "5 2020-12-01 00:00:00 ;  638 175895.55\n",
      "6 2021-01-01 00:00:00 ;  0 0.0\n"
     ]
    }
   ],
   "source": [
    "cancelations_list=[]\n",
    "gp_cancelations_list=[]\n",
    "for i in range(1,itermax):\n",
    "    last_day_of_month=last_day_of_month_fn(iterate_months[i])\n",
    "    terminations_policy_cancellationdate_filter=owls_terminations_df['policy_cancellationdate']==last_day_of_month\n",
    "    f=terminations_product_filter&cancelations_filter&terminations_policy_cancellationdate_filter\n",
    "    valid_terminations_df=owls_terminations_df[f]\n",
    "    cancelations=valid_terminations_df.shape[0]\n",
    "    cancelations_list.append(cancelations)\n",
    "    gp_cancelations=valid_terminations_df['policy_totalpremium'].sum()\n",
    "    gp_cancelations_list.append(gp_cancelations)    \n",
    "    print(i,iterate_months[i],'; ',cancelations, gp_cancelations)"
   ]
  },
  {
   "cell_type": "markdown",
   "metadata": {},
   "source": [
    "*** "
   ]
  },
  {
   "cell_type": "markdown",
   "metadata": {},
   "source": [
    "### Number of Claims Received (Incl O/Docs Claims)"
   ]
  },
  {
   "cell_type": "markdown",
   "metadata": {},
   "source": [
    "=COUNTIFS(Received_Claims!$H:$H,Summary!$C$2,Received_Claims!$P:$P,Summary!X5)    \n",
    "Received_Claims! 𝑃: P,Summary!X5: Received Date, 'notification_date' compare notification date with period date  \n",
    "Received_Claims! 𝐻: H,Summary! 𝐶 2: product filter=received_claims_product_filter compare productsetupname with product \n"
   ]
  },
  {
   "cell_type": "code",
   "execution_count": 57,
   "metadata": {},
   "outputs": [
    {
     "name": "stdout",
     "output_type": "stream",
     "text": [
      "1 2020-08-01 00:00:00 ;  774 231081.76\n",
      "2 2020-09-01 00:00:00 ;  815 1268300.08\n",
      "3 2020-10-01 00:00:00 ;  662 4612121.4399999995\n",
      "4 2020-11-01 00:00:00 ;  801 6449138.68\n",
      "5 2020-12-01 00:00:00 ;  620 4384643.71\n",
      "6 2021-01-01 00:00:00 ;  0 0.0\n"
     ]
    }
   ],
   "source": [
    "claims_received_list=[]\n",
    "value_claims_received_list=[]\n",
    "# gp_cancelations_list=[]\n",
    "for i in range(1,itermax):\n",
    "#     last_day_of_month=last_day_of_month_fn(iterate_months[i])\n",
    "    claims_received_notification_date_filter=owls_received_claims_df['som_notification_date']==iterate_months[i]\n",
    "    f=claims_received_product_filter&claims_received_notification_date_filter\n",
    "    df=owls_received_claims_df[f].copy()\n",
    "    claims_received=df.shape[0]\n",
    "    claims_received_list.append(claims_received)\n",
    "    value_claims_received=df['Original Reserve'].sum()\n",
    "    value_claims_received_list.append(value_claims_received)    \n",
    "    print(i,iterate_months[i],'; ',claims_received, value_claims_received)"
   ]
  },
  {
   "cell_type": "markdown",
   "metadata": {},
   "source": [
    "***"
   ]
  },
  {
   "attachments": {},
   "cell_type": "markdown",
   "metadata": {},
   "source": [
    "### Highest Claim Paid"
   ]
  },
  {
   "cell_type": "markdown",
   "metadata": {},
   "source": [
    "=MAXIFS(Received_Claims!$L:$L,Received_Claims!$H:$H,Summary!$C$2,Received_Claims!$P:$P,Summary!X5)"
   ]
  },
  {
   "cell_type": "code",
   "execution_count": 58,
   "metadata": {},
   "outputs": [
    {
     "name": "stdout",
     "output_type": "stream",
     "text": [
      "1 2020-08-01 00:00:00 ;  72179.7\n",
      "2 2020-09-01 00:00:00 ;  98862.12\n",
      "3 2020-10-01 00:00:00 ;  69575.32\n",
      "4 2020-11-01 00:00:00 ;  58499.42\n",
      "5 2020-12-01 00:00:00 ;  63409.25\n",
      "6 2021-01-01 00:00:00 ;  nan\n"
     ]
    }
   ],
   "source": [
    "highest_claim_paid_list=[]\n",
    "# value_claims_received_list=[]\n",
    "# gp_cancelations_list=[]\n",
    "for i in range(1,itermax):\n",
    "#     last_day_of_month=last_day_of_month_fn(iterate_months[i])\n",
    "    claims_paid_date_filter=owls_received_claims_df['som_notification_date']==iterate_months[i]\n",
    "    f=claims_received_product_filter&claims_paid_date_filter    \n",
    "    df=owls_received_claims_df[f].copy()\n",
    "    highest_claim_paid=df['Total Payments'].max()\n",
    "    highest_claim_paid_list.append(highest_claim_paid)    \n",
    "    print(i,iterate_months[i],'; ',highest_claim_paid)\n",
    "highest_claim_paid_list=[0 if x != x else x for x in highest_claim_paid_list]"
   ]
  },
  {
   "cell_type": "code",
   "execution_count": 59,
   "metadata": {},
   "outputs": [
    {
     "data": {
      "text/plain": [
       "[72179.7, 98862.12, 69575.32, 58499.42, 63409.25, 0]"
      ]
     },
     "execution_count": 59,
     "metadata": {},
     "output_type": "execute_result"
    }
   ],
   "source": [
    "highest_claim_paid_list"
   ]
  },
  {
   "cell_type": "markdown",
   "metadata": {},
   "source": [
    "***"
   ]
  },
  {
   "attachments": {},
   "cell_type": "markdown",
   "metadata": {},
   "source": [
    "### Number, Value and Average Value of Claims Paid"
   ]
  },
  {
   "cell_type": "markdown",
   "metadata": {},
   "source": [
    "=COUNTIFS(Received_Claims!$H:$H,Summary!$C$2, : this is the product filter\n",
    "eceived_Claims!$P:$P,Summary!X5, : this is the date filter\n",
    "Received_Claims!$K:$K,\"Approve, Pay now\") : pay_now_filter"
   ]
  },
  {
   "cell_type": "code",
   "execution_count": 60,
   "metadata": {},
   "outputs": [
    {
     "name": "stdout",
     "output_type": "stream",
     "text": [
      "1 2020-08-01 00:00:00 ;  14899.078181818184 11 163889.86000000002\n",
      "2 2020-09-01 00:00:00 ;  9027.984574468084 94 848630.5499999999\n",
      "3 2020-10-01 00:00:00 ;  8680.206283185842 339 2942589.93\n",
      "4 2020-11-01 00:00:00 ;  11256.988628048779 328 3692292.2699999996\n",
      "5 2020-12-01 00:00:00 ;  9032.424252873563 174 1571641.8199999998\n",
      "6 2021-01-01 00:00:00 ;  0 0 0.0\n"
     ]
    }
   ],
   "source": [
    "number_of_claims_paid_list=[]\n",
    "value_of_claims_paid_list=[]\n",
    "average_value_of_claims_paid_list=[]\n",
    "# value_claims_received_list=[]\n",
    "# gp_cancelations_list=[]\n",
    "for i in range(1,itermax):\n",
    "#     last_day_of_month=last_day_of_month_fn(iterate_months[i])\n",
    "    average_value_of_claims_paid=0\n",
    "    claims_paid_date_filter=owls_received_claims_df['som_notification_date']==iterate_months[i]\n",
    "    f=claims_received_product_filter&claims_paid_date_filter&pay_now_filter\n",
    "    df=owls_received_claims_df[f].copy()\n",
    "    number_of_claims_paid=df.shape[0]\n",
    "    value_of_claims_paid=df['Original Reserve'].sum()\n",
    "    number_of_claims_paid_list.append(number_of_claims_paid)\n",
    "    value_of_claims_paid_list.append(value_of_claims_paid)\n",
    "    if number_of_claims_paid!=0:\n",
    "        average_value_of_claims_paid=value_of_claims_paid/number_of_claims_paid\n",
    "#         average_value_of_claims_paid_list.append(average_value_of_claims_paid)     \n",
    "    average_value_of_claims_paid_list.append(average_value_of_claims_paid)\n",
    "    print(i,iterate_months[i],'; ',average_value_of_claims_paid,number_of_claims_paid,value_of_claims_paid)\n",
    "# Average Cost Per Claim\n"
   ]
  },
  {
   "cell_type": "code",
   "execution_count": 61,
   "metadata": {},
   "outputs": [
    {
     "data": {
      "text/plain": [
       "6"
      ]
     },
     "execution_count": 61,
     "metadata": {},
     "output_type": "execute_result"
    }
   ],
   "source": [
    "len(number_of_claims_paid_list)"
   ]
  },
  {
   "cell_type": "markdown",
   "metadata": {},
   "source": [
    "***"
   ]
  },
  {
   "cell_type": "markdown",
   "metadata": {},
   "source": [
    "### Number, Value and Average Value of Repudiated Claims"
   ]
  },
  {
   "cell_type": "markdown",
   "metadata": {},
   "source": [
    "=COUNTIFS(Received_Claims!$H:$H,Summary!$C$2,Received_Claims!$P:$P,Summary!X5,Received_Claims!$K:$K,\"Reject\")"
   ]
  },
  {
   "cell_type": "code",
   "execution_count": 62,
   "metadata": {},
   "outputs": [
    {
     "name": "stdout",
     "output_type": "stream",
     "text": [
      "1 2020-08-01 00:00:00 ; average_value_of_reject_claims:  8946.183333333332 ; reject_claims:  6 ; value_of_reject_claims:  53677.1\n",
      "2 2020-09-01 00:00:00 ; average_value_of_reject_claims:  5342.670888888889 ; reject_claims:  45 ; value_of_reject_claims:  240420.19\n",
      "3 2020-10-01 00:00:00 ; average_value_of_reject_claims:  4762.721954022988 ; reject_claims:  174 ; value_of_reject_claims:  828713.62\n",
      "4 2020-11-01 00:00:00 ; average_value_of_reject_claims:  3357.86256 ; reject_claims:  125 ; value_of_reject_claims:  419732.82\n",
      "5 2020-12-01 00:00:00 ; average_value_of_reject_claims:  4607.448777777778 ; reject_claims:  90 ; value_of_reject_claims:  414670.38999999996\n",
      "6 2021-01-01 00:00:00 ; average_value_of_reject_claims:  0 ; reject_claims:  0 ; value_of_reject_claims:  0.0\n"
     ]
    }
   ],
   "source": [
    "# reject_claims_filter\n",
    "reject_claims_list=[]\n",
    "value_of_reject_claims_list=[]\n",
    "average_value_of_reject_claims_list=[]\n",
    "# average_value_of_claims_paid_list=[]\n",
    "# value_claims_received_list=[]\n",
    "# gp_cancelations_list=[]\n",
    "for i in range(1,itermax):\n",
    "#     last_day_of_month=last_day_of_month_fn(iterate_months[i])\n",
    "    average_value_of_reject_claims=0\n",
    "    claims_paid_date_filter=owls_received_claims_df['som_notification_date']==iterate_months[i]\n",
    "    f=claims_received_product_filter&claims_paid_date_filter&reject_claims_filter\n",
    "    df=owls_received_claims_df[f].copy()\n",
    "    reject_claims=df.shape[0]\n",
    "    value_of_reject_claims=df['Original Reserve'].sum()\n",
    "    reject_claims_list.append(reject_claims)\n",
    "    value_of_reject_claims_list.append(value_of_reject_claims)\n",
    "    if reject_claims!=0:\n",
    "        average_value_of_reject_claims=value_of_reject_claims/reject_claims\n",
    "#         average_value_of_reject_claims_list.append(average_value_of_reject_claims)     \n",
    "    average_value_of_reject_claims_list.append(average_value_of_reject_claims)\n",
    "    print(i,iterate_months[i],'; average_value_of_reject_claims: ',average_value_of_reject_claims,'; reject_claims: ',reject_claims,'; value_of_reject_claims: ',value_of_reject_claims)\n",
    "# Average Cost Per Claim\n"
   ]
  },
  {
   "cell_type": "markdown",
   "metadata": {},
   "source": [
    "***"
   ]
  },
  {
   "cell_type": "markdown",
   "metadata": {},
   "source": [
    "### Number, Value and Average Value of Outstanding Claims"
   ]
  },
  {
   "cell_type": "markdown",
   "metadata": {},
   "source": [
    "=COUNTIFS(Received_Claims!$H:$H,Summary!$C$2,Received_Claims!$P:$P,Summary!X5,Received_Claims!$K:$K,\"\")"
   ]
  },
  {
   "cell_type": "code",
   "execution_count": 63,
   "metadata": {},
   "outputs": [
    {
     "name": "stdout",
     "output_type": "stream",
     "text": [
      "73\n",
      "1 2020-08-01 00:00:00 ; value_of_outstanding_claims:  0.0 ; outstanding_claims:  0 ; value_of_reject_claims:  0.0\n",
      "73\n",
      "2 2020-09-01 00:00:00 ; value_of_outstanding_claims:  13229.9 ; outstanding_claims:  4 ; value_of_reject_claims:  0.0\n",
      "73\n",
      "3 2020-10-01 00:00:00 ; value_of_outstanding_claims:  96944.42 ; outstanding_claims:  15 ; value_of_reject_claims:  0.0\n",
      "73\n",
      "4 2020-11-01 00:00:00 ; value_of_outstanding_claims:  224358.76000000004 ; outstanding_claims:  31 ; value_of_reject_claims:  0.0\n",
      "73\n",
      "5 2020-12-01 00:00:00 ; value_of_outstanding_claims:  201032.72999999998 ; outstanding_claims:  23 ; value_of_reject_claims:  0.0\n",
      "73\n",
      "6 2021-01-01 00:00:00 ; value_of_outstanding_claims:  0.0 ; outstanding_claims:  0 ; value_of_reject_claims:  0.0\n"
     ]
    }
   ],
   "source": [
    "# reject_claims_filter\n",
    "outstanding_claims_list=[]\n",
    "value_of_outstanding_claims_list=[]\n",
    "average_value_of_outstanding_claims_list=[]\n",
    "# average_value_of_claims_paid_list=[]\n",
    "# value_claims_received_list=[]\n",
    "# gp_cancelations_list=[]\n",
    "for i in range(1,itermax):\n",
    "#     last_day_of_month=last_day_of_month_fn(iterate_months[i])\n",
    "    average_value_of_outstanding_claims=0\n",
    "    outstanding_claims_date_filter=owls_received_claims_df['som_notification_date']==iterate_months[i]\n",
    "    f=claims_received_product_filter&outstanding_claims_date_filter&outstanding_claims_filter\n",
    "    print(owls_received_claims_df[outstanding_claims_filter].shape[0])\n",
    "    df=owls_received_claims_df[f].copy()\n",
    "    outstanding_claims=df.shape[0]\n",
    "    value_of_outstanding_claims=df['Original Reserve'].sum()\n",
    "    outstanding_claims_list.append(outstanding_claims)\n",
    "    value_of_outstanding_claims_list.append(value_of_outstanding_claims)\n",
    "    if outstanding_claims!=0:\n",
    "        average_value_of_outstanding_claims=value_of_outstanding_claims/outstanding_claims\n",
    "#         average_value_of_outstanding_claims_list.append(average_value_of_outstanding_claims)   \n",
    "    average_value_of_outstanding_claims_list.append(average_value_of_outstanding_claims)\n",
    "    print(i,iterate_months[i],'; value_of_outstanding_claims: ',value_of_outstanding_claims,'; outstanding_claims: ',outstanding_claims,'; value_of_reject_claims: ',value_of_reject_claims)\n",
    "# Average Cost Per Claim\n"
   ]
  },
  {
   "cell_type": "markdown",
   "metadata": {},
   "source": [
    "***"
   ]
  },
  {
   "cell_type": "markdown",
   "metadata": {},
   "source": [
    "### Construct the report dataframe"
   ]
  },
  {
   "cell_type": "code",
   "execution_count": 64,
   "metadata": {},
   "outputs": [],
   "source": [
    "index_list=['Active Policies',\n",
    "            'Live Policies',\n",
    "            'New Inactive Policies',\n",
    "            'Active Terminated Policies',\n",
    "            'Gross Premium',\n",
    "            'Gross Premium from Live Policies',\n",
    "            'Gross Premium from New Inactive Policies',\n",
    "            'Gross Premium from Active Terminated Policies',\n",
    "            'New Policies',\n",
    "            'GWP of New Policies',\n",
    "            'Average Premium',\n",
    "            'NTU',\n",
    "            'Gross Premium for NTU',\n",
    "            'Cancellations',\n",
    "            'Gross Premium for Cancellations',\n",
    "            'Number of Claims Received (Incl O/Docs Claims)',\n",
    "            'Value of Claims Received',\n",
    "            'Highest Claim Paid',\n",
    "            'Number of Claims Paid',\n",
    "            'Value of Claims Paid',\n",
    "            'Average Cost Per Claim',\n",
    "            'Repudiated Claims',\n",
    "            'Value of Repudiated Claims',\n",
    "            'Average Cost per repudiated claim',\n",
    "            'Number of Oustanding Claims',\n",
    "            'Value of Outstanding Claims',\n",
    "           'Average Value of Outstanding Claims']\n"
   ]
  },
  {
   "cell_type": "code",
   "execution_count": 65,
   "metadata": {},
   "outputs": [],
   "source": [
    "data=[]\n",
    "data.append(active_policies_list)\n",
    "data.append(live_policies_list)\n",
    "data.append(new_inactive_policies_list)\n",
    "data.append(valid_terminations_list)\n",
    "data.append(active_grosspremium_list)\n",
    "data.append(live_policies_grosspremium_list)\n",
    "data.append(new_policies_grosspremium_list)\n",
    "data.append(valid_policies_grosspremium_list)\n",
    "\n",
    "data.append(new_policies_list)\n",
    "data.append(gwp_new_policies_list)\n",
    "data.append(average_premium_list)\n",
    "data.append(ntu_list)\n",
    "data.append(gp_ntu_list)\n",
    "data.append(cancelations_list)\n",
    "data.append(gp_cancelations_list)\n",
    "data.append(claims_received_list)\n",
    "data.append(value_claims_received_list)\n",
    "data.append(highest_claim_paid_list)\n",
    "data.append(number_of_claims_paid_list)\n",
    "data.append(value_of_claims_paid_list)\n",
    "\n",
    "data.append(average_value_of_claims_paid_list)\n",
    "data.append(reject_claims_list)\n",
    "data.append(value_of_reject_claims_list)\n",
    "data.append(average_value_of_reject_claims_list)\n",
    "data.append(outstanding_claims_list)\n",
    "data.append(value_of_outstanding_claims_list)\n",
    "data.append(average_value_of_outstanding_claims_list)\n"
   ]
  },
  {
   "cell_type": "code",
   "execution_count": 67,
   "metadata": {},
   "outputs": [],
   "source": [
    "df = pd.DataFrame(data,index=index_list, columns=iterate_months[1:-2])"
   ]
  },
  {
   "cell_type": "code",
   "execution_count": 68,
   "metadata": {},
   "outputs": [
    {
     "data": {
      "text/html": [
       "<div>\n",
       "<style scoped>\n",
       "    .dataframe tbody tr th:only-of-type {\n",
       "        vertical-align: middle;\n",
       "    }\n",
       "\n",
       "    .dataframe tbody tr th {\n",
       "        vertical-align: top;\n",
       "    }\n",
       "\n",
       "    .dataframe thead th {\n",
       "        text-align: right;\n",
       "    }\n",
       "</style>\n",
       "<table border=\"1\" class=\"dataframe\">\n",
       "  <thead>\n",
       "    <tr style=\"text-align: right;\">\n",
       "      <th></th>\n",
       "      <th>2020-08-01</th>\n",
       "      <th>2020-09-01</th>\n",
       "      <th>2020-10-01</th>\n",
       "      <th>2020-11-01</th>\n",
       "      <th>2020-12-01</th>\n",
       "      <th>2021-01-01</th>\n",
       "    </tr>\n",
       "  </thead>\n",
       "  <tbody>\n",
       "    <tr>\n",
       "      <th>Active Policies</th>\n",
       "      <td>5.263700e+04</td>\n",
       "      <td>5.279100e+04</td>\n",
       "      <td>5.245100e+04</td>\n",
       "      <td>5.216800e+04</td>\n",
       "      <td>5.206400e+04</td>\n",
       "      <td>5.218800e+04</td>\n",
       "    </tr>\n",
       "    <tr>\n",
       "      <th>Live Policies</th>\n",
       "      <td>5.154900e+04</td>\n",
       "      <td>5.154900e+04</td>\n",
       "      <td>5.154900e+04</td>\n",
       "      <td>5.154900e+04</td>\n",
       "      <td>5.154900e+04</td>\n",
       "      <td>5.154900e+04</td>\n",
       "    </tr>\n",
       "    <tr>\n",
       "      <th>New Inactive Policies</th>\n",
       "      <td>1.802000e+03</td>\n",
       "      <td>1.252000e+03</td>\n",
       "      <td>9.010000e+02</td>\n",
       "      <td>6.700000e+02</td>\n",
       "      <td>4.210000e+02</td>\n",
       "      <td>6.000000e+00</td>\n",
       "    </tr>\n",
       "    <tr>\n",
       "      <th>Active Terminated Policies</th>\n",
       "      <td>2.890000e+03</td>\n",
       "      <td>2.494000e+03</td>\n",
       "      <td>1.803000e+03</td>\n",
       "      <td>1.289000e+03</td>\n",
       "      <td>9.360000e+02</td>\n",
       "      <td>6.450000e+02</td>\n",
       "    </tr>\n",
       "    <tr>\n",
       "      <th>Gross Premium</th>\n",
       "      <td>1.167364e+07</td>\n",
       "      <td>1.165136e+07</td>\n",
       "      <td>1.162024e+07</td>\n",
       "      <td>1.155644e+07</td>\n",
       "      <td>1.153975e+07</td>\n",
       "      <td>1.157788e+07</td>\n",
       "    </tr>\n",
       "    <tr>\n",
       "      <th>Gross Premium from Live Policies</th>\n",
       "      <td>1.140208e+07</td>\n",
       "      <td>1.140208e+07</td>\n",
       "      <td>1.140208e+07</td>\n",
       "      <td>1.140208e+07</td>\n",
       "      <td>1.140208e+07</td>\n",
       "      <td>1.140208e+07</td>\n",
       "    </tr>\n",
       "    <tr>\n",
       "      <th>Gross Premium from New Inactive Policies</th>\n",
       "      <td>4.113760e+05</td>\n",
       "      <td>3.358260e+05</td>\n",
       "      <td>2.403500e+05</td>\n",
       "      <td>1.801940e+05</td>\n",
       "      <td>1.134530e+05</td>\n",
       "      <td>2.278000e+03</td>\n",
       "    </tr>\n",
       "    <tr>\n",
       "      <th>Gross Premium from Active Terminated Policies</th>\n",
       "      <td>6.829387e+05</td>\n",
       "      <td>5.851063e+05</td>\n",
       "      <td>4.585080e+05</td>\n",
       "      <td>3.345558e+05</td>\n",
       "      <td>2.511208e+05</td>\n",
       "      <td>1.780845e+05</td>\n",
       "    </tr>\n",
       "    <tr>\n",
       "      <th>New Policies</th>\n",
       "      <td>2.630000e+02</td>\n",
       "      <td>5.500000e+02</td>\n",
       "      <td>3.510000e+02</td>\n",
       "      <td>2.310000e+02</td>\n",
       "      <td>2.490000e+02</td>\n",
       "      <td>4.150000e+02</td>\n",
       "    </tr>\n",
       "    <tr>\n",
       "      <th>GWP of New Policies</th>\n",
       "      <td>7.201000e+04</td>\n",
       "      <td>7.555000e+04</td>\n",
       "      <td>9.547600e+04</td>\n",
       "      <td>6.015600e+04</td>\n",
       "      <td>6.674100e+04</td>\n",
       "      <td>1.111750e+05</td>\n",
       "    </tr>\n",
       "    <tr>\n",
       "      <th>Average Premium</th>\n",
       "      <td>2.217763e+02</td>\n",
       "      <td>2.207073e+02</td>\n",
       "      <td>2.215446e+02</td>\n",
       "      <td>2.215235e+02</td>\n",
       "      <td>2.216454e+02</td>\n",
       "      <td>2.218496e+02</td>\n",
       "    </tr>\n",
       "    <tr>\n",
       "      <th>NTU</th>\n",
       "      <td>1.800000e+01</td>\n",
       "      <td>1.370000e+02</td>\n",
       "      <td>7.000000e+00</td>\n",
       "      <td>1.100000e+01</td>\n",
       "      <td>6.000000e+00</td>\n",
       "      <td>7.000000e+00</td>\n",
       "    </tr>\n",
       "    <tr>\n",
       "      <th>Gross Premium for NTU</th>\n",
       "      <td>2.665000e+03</td>\n",
       "      <td>6.022250e+03</td>\n",
       "      <td>2.414000e+03</td>\n",
       "      <td>3.097000e+03</td>\n",
       "      <td>1.630000e+03</td>\n",
       "      <td>2.189000e+03</td>\n",
       "    </tr>\n",
       "    <tr>\n",
       "      <th>Cancellations</th>\n",
       "      <td>5.680000e+02</td>\n",
       "      <td>5.240000e+02</td>\n",
       "      <td>3.530000e+02</td>\n",
       "      <td>2.930000e+02</td>\n",
       "      <td>6.380000e+02</td>\n",
       "      <td>0.000000e+00</td>\n",
       "    </tr>\n",
       "    <tr>\n",
       "      <th>Gross Premium for Cancellations</th>\n",
       "      <td>1.248400e+05</td>\n",
       "      <td>1.261212e+05</td>\n",
       "      <td>8.412799e+04</td>\n",
       "      <td>7.382425e+04</td>\n",
       "      <td>1.758955e+05</td>\n",
       "      <td>0.000000e+00</td>\n",
       "    </tr>\n",
       "    <tr>\n",
       "      <th>Number of Claims Received (Incl O/Docs Claims)</th>\n",
       "      <td>7.740000e+02</td>\n",
       "      <td>8.150000e+02</td>\n",
       "      <td>6.620000e+02</td>\n",
       "      <td>8.010000e+02</td>\n",
       "      <td>6.200000e+02</td>\n",
       "      <td>0.000000e+00</td>\n",
       "    </tr>\n",
       "    <tr>\n",
       "      <th>Value of Claims Received</th>\n",
       "      <td>2.310818e+05</td>\n",
       "      <td>1.268300e+06</td>\n",
       "      <td>4.612121e+06</td>\n",
       "      <td>6.449139e+06</td>\n",
       "      <td>4.384644e+06</td>\n",
       "      <td>0.000000e+00</td>\n",
       "    </tr>\n",
       "    <tr>\n",
       "      <th>Highest Claim Paid</th>\n",
       "      <td>7.217970e+04</td>\n",
       "      <td>9.886212e+04</td>\n",
       "      <td>6.957532e+04</td>\n",
       "      <td>5.849942e+04</td>\n",
       "      <td>6.340925e+04</td>\n",
       "      <td>0.000000e+00</td>\n",
       "    </tr>\n",
       "    <tr>\n",
       "      <th>Number of Claims Paid</th>\n",
       "      <td>1.100000e+01</td>\n",
       "      <td>9.400000e+01</td>\n",
       "      <td>3.390000e+02</td>\n",
       "      <td>3.280000e+02</td>\n",
       "      <td>1.740000e+02</td>\n",
       "      <td>0.000000e+00</td>\n",
       "    </tr>\n",
       "    <tr>\n",
       "      <th>Value of Claims Paid</th>\n",
       "      <td>1.638899e+05</td>\n",
       "      <td>8.486305e+05</td>\n",
       "      <td>2.942590e+06</td>\n",
       "      <td>3.692292e+06</td>\n",
       "      <td>1.571642e+06</td>\n",
       "      <td>0.000000e+00</td>\n",
       "    </tr>\n",
       "    <tr>\n",
       "      <th>Average Cost Per Claim</th>\n",
       "      <td>1.489908e+04</td>\n",
       "      <td>9.027985e+03</td>\n",
       "      <td>8.680206e+03</td>\n",
       "      <td>1.125699e+04</td>\n",
       "      <td>9.032424e+03</td>\n",
       "      <td>0.000000e+00</td>\n",
       "    </tr>\n",
       "    <tr>\n",
       "      <th>Repudiated Claims</th>\n",
       "      <td>6.000000e+00</td>\n",
       "      <td>4.500000e+01</td>\n",
       "      <td>1.740000e+02</td>\n",
       "      <td>1.250000e+02</td>\n",
       "      <td>9.000000e+01</td>\n",
       "      <td>0.000000e+00</td>\n",
       "    </tr>\n",
       "    <tr>\n",
       "      <th>Value of Repudiated Claims</th>\n",
       "      <td>5.367710e+04</td>\n",
       "      <td>2.404202e+05</td>\n",
       "      <td>8.287136e+05</td>\n",
       "      <td>4.197328e+05</td>\n",
       "      <td>4.146704e+05</td>\n",
       "      <td>0.000000e+00</td>\n",
       "    </tr>\n",
       "    <tr>\n",
       "      <th>Average Cost per repudiated claim</th>\n",
       "      <td>8.946183e+03</td>\n",
       "      <td>5.342671e+03</td>\n",
       "      <td>4.762722e+03</td>\n",
       "      <td>3.357863e+03</td>\n",
       "      <td>4.607449e+03</td>\n",
       "      <td>0.000000e+00</td>\n",
       "    </tr>\n",
       "    <tr>\n",
       "      <th>Number of Oustanding Claims</th>\n",
       "      <td>0.000000e+00</td>\n",
       "      <td>4.000000e+00</td>\n",
       "      <td>1.500000e+01</td>\n",
       "      <td>3.100000e+01</td>\n",
       "      <td>2.300000e+01</td>\n",
       "      <td>0.000000e+00</td>\n",
       "    </tr>\n",
       "    <tr>\n",
       "      <th>Value of Outstanding Claims</th>\n",
       "      <td>0.000000e+00</td>\n",
       "      <td>1.322990e+04</td>\n",
       "      <td>9.694442e+04</td>\n",
       "      <td>2.243588e+05</td>\n",
       "      <td>2.010327e+05</td>\n",
       "      <td>0.000000e+00</td>\n",
       "    </tr>\n",
       "    <tr>\n",
       "      <th>Average Value of Outstanding Claims</th>\n",
       "      <td>0.000000e+00</td>\n",
       "      <td>3.307475e+03</td>\n",
       "      <td>6.462961e+03</td>\n",
       "      <td>7.237379e+03</td>\n",
       "      <td>8.740553e+03</td>\n",
       "      <td>0.000000e+00</td>\n",
       "    </tr>\n",
       "  </tbody>\n",
       "</table>\n",
       "</div>"
      ],
      "text/plain": [
       "                                                  2020-08-01    2020-09-01  \\\n",
       "Active Policies                                 5.263700e+04  5.279100e+04   \n",
       "Live Policies                                   5.154900e+04  5.154900e+04   \n",
       "New Inactive Policies                           1.802000e+03  1.252000e+03   \n",
       "Active Terminated Policies                      2.890000e+03  2.494000e+03   \n",
       "Gross Premium                                   1.167364e+07  1.165136e+07   \n",
       "Gross Premium from Live Policies                1.140208e+07  1.140208e+07   \n",
       "Gross Premium from New Inactive Policies        4.113760e+05  3.358260e+05   \n",
       "Gross Premium from Active Terminated Policies   6.829387e+05  5.851063e+05   \n",
       "New Policies                                    2.630000e+02  5.500000e+02   \n",
       "GWP of New Policies                             7.201000e+04  7.555000e+04   \n",
       "Average Premium                                 2.217763e+02  2.207073e+02   \n",
       "NTU                                             1.800000e+01  1.370000e+02   \n",
       "Gross Premium for NTU                           2.665000e+03  6.022250e+03   \n",
       "Cancellations                                   5.680000e+02  5.240000e+02   \n",
       "Gross Premium for Cancellations                 1.248400e+05  1.261212e+05   \n",
       "Number of Claims Received (Incl O/Docs Claims)  7.740000e+02  8.150000e+02   \n",
       "Value of Claims Received                        2.310818e+05  1.268300e+06   \n",
       "Highest Claim Paid                              7.217970e+04  9.886212e+04   \n",
       "Number of Claims Paid                           1.100000e+01  9.400000e+01   \n",
       "Value of Claims Paid                            1.638899e+05  8.486305e+05   \n",
       "Average Cost Per Claim                          1.489908e+04  9.027985e+03   \n",
       "Repudiated Claims                               6.000000e+00  4.500000e+01   \n",
       "Value of Repudiated Claims                      5.367710e+04  2.404202e+05   \n",
       "Average Cost per repudiated claim               8.946183e+03  5.342671e+03   \n",
       "Number of Oustanding Claims                     0.000000e+00  4.000000e+00   \n",
       "Value of Outstanding Claims                     0.000000e+00  1.322990e+04   \n",
       "Average Value of Outstanding Claims             0.000000e+00  3.307475e+03   \n",
       "\n",
       "                                                  2020-10-01    2020-11-01  \\\n",
       "Active Policies                                 5.245100e+04  5.216800e+04   \n",
       "Live Policies                                   5.154900e+04  5.154900e+04   \n",
       "New Inactive Policies                           9.010000e+02  6.700000e+02   \n",
       "Active Terminated Policies                      1.803000e+03  1.289000e+03   \n",
       "Gross Premium                                   1.162024e+07  1.155644e+07   \n",
       "Gross Premium from Live Policies                1.140208e+07  1.140208e+07   \n",
       "Gross Premium from New Inactive Policies        2.403500e+05  1.801940e+05   \n",
       "Gross Premium from Active Terminated Policies   4.585080e+05  3.345558e+05   \n",
       "New Policies                                    3.510000e+02  2.310000e+02   \n",
       "GWP of New Policies                             9.547600e+04  6.015600e+04   \n",
       "Average Premium                                 2.215446e+02  2.215235e+02   \n",
       "NTU                                             7.000000e+00  1.100000e+01   \n",
       "Gross Premium for NTU                           2.414000e+03  3.097000e+03   \n",
       "Cancellations                                   3.530000e+02  2.930000e+02   \n",
       "Gross Premium for Cancellations                 8.412799e+04  7.382425e+04   \n",
       "Number of Claims Received (Incl O/Docs Claims)  6.620000e+02  8.010000e+02   \n",
       "Value of Claims Received                        4.612121e+06  6.449139e+06   \n",
       "Highest Claim Paid                              6.957532e+04  5.849942e+04   \n",
       "Number of Claims Paid                           3.390000e+02  3.280000e+02   \n",
       "Value of Claims Paid                            2.942590e+06  3.692292e+06   \n",
       "Average Cost Per Claim                          8.680206e+03  1.125699e+04   \n",
       "Repudiated Claims                               1.740000e+02  1.250000e+02   \n",
       "Value of Repudiated Claims                      8.287136e+05  4.197328e+05   \n",
       "Average Cost per repudiated claim               4.762722e+03  3.357863e+03   \n",
       "Number of Oustanding Claims                     1.500000e+01  3.100000e+01   \n",
       "Value of Outstanding Claims                     9.694442e+04  2.243588e+05   \n",
       "Average Value of Outstanding Claims             6.462961e+03  7.237379e+03   \n",
       "\n",
       "                                                  2020-12-01    2021-01-01  \n",
       "Active Policies                                 5.206400e+04  5.218800e+04  \n",
       "Live Policies                                   5.154900e+04  5.154900e+04  \n",
       "New Inactive Policies                           4.210000e+02  6.000000e+00  \n",
       "Active Terminated Policies                      9.360000e+02  6.450000e+02  \n",
       "Gross Premium                                   1.153975e+07  1.157788e+07  \n",
       "Gross Premium from Live Policies                1.140208e+07  1.140208e+07  \n",
       "Gross Premium from New Inactive Policies        1.134530e+05  2.278000e+03  \n",
       "Gross Premium from Active Terminated Policies   2.511208e+05  1.780845e+05  \n",
       "New Policies                                    2.490000e+02  4.150000e+02  \n",
       "GWP of New Policies                             6.674100e+04  1.111750e+05  \n",
       "Average Premium                                 2.216454e+02  2.218496e+02  \n",
       "NTU                                             6.000000e+00  7.000000e+00  \n",
       "Gross Premium for NTU                           1.630000e+03  2.189000e+03  \n",
       "Cancellations                                   6.380000e+02  0.000000e+00  \n",
       "Gross Premium for Cancellations                 1.758955e+05  0.000000e+00  \n",
       "Number of Claims Received (Incl O/Docs Claims)  6.200000e+02  0.000000e+00  \n",
       "Value of Claims Received                        4.384644e+06  0.000000e+00  \n",
       "Highest Claim Paid                              6.340925e+04  0.000000e+00  \n",
       "Number of Claims Paid                           1.740000e+02  0.000000e+00  \n",
       "Value of Claims Paid                            1.571642e+06  0.000000e+00  \n",
       "Average Cost Per Claim                          9.032424e+03  0.000000e+00  \n",
       "Repudiated Claims                               9.000000e+01  0.000000e+00  \n",
       "Value of Repudiated Claims                      4.146704e+05  0.000000e+00  \n",
       "Average Cost per repudiated claim               4.607449e+03  0.000000e+00  \n",
       "Number of Oustanding Claims                     2.300000e+01  0.000000e+00  \n",
       "Value of Outstanding Claims                     2.010327e+05  0.000000e+00  \n",
       "Average Value of Outstanding Claims             8.740553e+03  0.000000e+00  "
      ]
     },
     "execution_count": 68,
     "metadata": {},
     "output_type": "execute_result"
    }
   ],
   "source": [
    "df"
   ]
  },
  {
   "cell_type": "code",
   "execution_count": null,
   "metadata": {},
   "outputs": [],
   "source": [
    "df.to_csv(path_or_buf=path+'automated_cbr.csv', sep=',', index=True)"
   ]
  },
  {
   "cell_type": "code",
   "execution_count": null,
   "metadata": {},
   "outputs": [],
   "source": [
    "# valid_filter=datelist[-2]\n",
    "\n",
    "f1=owls_terminations_df['policy_inceptiondate']<datelist[-2]\n",
    "f2=owls_terminations_df['policy_cancellationdate']>datelist[-4]\n",
    "p3=owls_terminations_df['productsetup_productsetupname']==product\n",
    "valid_terminations_filter=(f1&f2&p3)\n",
    "valid_terminations_df=owls_terminations_df[valid_terminations_filter]"
   ]
  },
  {
   "cell_type": "code",
   "execution_count": null,
   "metadata": {},
   "outputs": [],
   "source": [
    "valid_terminations_df.merge(live_df, left_on='policy_policynumber', right_on='policy_policynumber',how='inner')"
   ]
  },
  {
   "cell_type": "code",
   "execution_count": null,
   "metadata": {},
   "outputs": [],
   "source": [
    "pd.to_datetime(owls_members_df['policy_inceptiondate'], format='%Y/%m/%d', errors='ignore')"
   ]
  },
  {
   "cell_type": "code",
   "execution_count": null,
   "metadata": {},
   "outputs": [],
   "source": [
    "list(owls_members_df)"
   ]
  },
  {
   "cell_type": "code",
   "execution_count": null,
   "metadata": {},
   "outputs": [],
   "source": [
    "owls_claims_df.idnumber[0]"
   ]
  },
  {
   "cell_type": "code",
   "execution_count": null,
   "metadata": {},
   "outputs": [],
   "source": [
    "list(owls_claims_df)"
   ]
  },
  {
   "cell_type": "code",
   "execution_count": null,
   "metadata": {},
   "outputs": [],
   "source": [
    "mip_members_df=pd.read_csv(filepath_or_buffer=path+mip_members)"
   ]
  },
  {
   "cell_type": "code",
   "execution_count": null,
   "metadata": {},
   "outputs": [],
   "source": [
    "mip_members_df.to_csv(path_or_buf=path+\"mip_members.csv\",index=False)"
   ]
  },
  {
   "cell_type": "code",
   "execution_count": null,
   "metadata": {},
   "outputs": [],
   "source": [
    "# owls_claims_df.to_csv(path_or_buf=path+\"owls_claims.csv\",index=False)"
   ]
  },
  {
   "cell_type": "code",
   "execution_count": null,
   "metadata": {},
   "outputs": [],
   "source": [
    "# mip_claims1='MIP Claim_Details_with_Status_2019Dec_2020jun.csv'\n",
    "# mip_claims2='MIP Claim_Details_with_Status_2020Jun_2020Dec.csv'"
   ]
  },
  {
   "cell_type": "code",
   "execution_count": null,
   "metadata": {},
   "outputs": [],
   "source": [
    "# mip_claims1_df=pd.read_csv(filepath_or_buffer=path+mip_claims1)\n",
    "# mip_claims2_df=pd.read_csv(filepath_or_buffer=path+mip_claims1)"
   ]
  },
  {
   "cell_type": "code",
   "execution_count": null,
   "metadata": {},
   "outputs": [],
   "source": [
    "set(list(mip_claims1_df))-set(list(mip_claims2_df))"
   ]
  },
  {
   "cell_type": "code",
   "execution_count": null,
   "metadata": {},
   "outputs": [],
   "source": [
    "mip_claims_df=mip_claims1_df.append(mip_claims2_df, ignore_index=True)"
   ]
  },
  {
   "cell_type": "code",
   "execution_count": null,
   "metadata": {},
   "outputs": [],
   "source": [
    "mip_claims_df.to_csv(path_or_buf=path+\"mip_claims.csv\",index=False)"
   ]
  },
  {
   "cell_type": "code",
   "execution_count": null,
   "metadata": {},
   "outputs": [],
   "source": [
    "df_premiums=pd.read_excel(io=file_path+file_name,sheet_name='Premiums')"
   ]
  }
 ],
 "metadata": {
  "kernelspec": {
   "display_name": "Python 3",
   "language": "python",
   "name": "python3"
  },
  "language_info": {
   "codemirror_mode": {
    "name": "ipython",
    "version": 3
   },
   "file_extension": ".py",
   "mimetype": "text/x-python",
   "name": "python",
   "nbconvert_exporter": "python",
   "pygments_lexer": "ipython3",
   "version": "3.7.9"
  }
 },
 "nbformat": 4,
 "nbformat_minor": 4
}
